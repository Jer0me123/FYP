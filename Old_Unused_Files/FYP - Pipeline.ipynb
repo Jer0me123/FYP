{
 "cells": [
  {
   "cell_type": "markdown",
   "metadata": {},
   "source": [
    "# FYP - Pipeline\n",
    "\n",
    "This notebook contains the code required for the pipeline only excluding any code used for testing."
   ]
  },
  {
   "cell_type": "markdown",
   "metadata": {},
   "source": [
    "### Required Libraries"
   ]
  },
  {
   "cell_type": "code",
   "execution_count": 4,
   "metadata": {},
   "outputs": [],
   "source": [
    "# pip install ultralytics\n",
    "# pip install clip-retrieval img2dataset\n",
    "# pip install plotly"
   ]
  },
  {
   "cell_type": "code",
   "execution_count": 5,
   "metadata": {},
   "outputs": [],
   "source": [
    "import numpy as np\n",
    "import cv2\n",
    "import urllib.request\n",
    "import os\n",
    "import csv\n",
    "import tensorflow\n",
    "import tensorflow as tf\n",
    "# from clip_retrieval.clip_client import ClipClient, Modality\n",
    "from matplotlib import pyplot as plt\n",
    "from deepface import DeepFace\n",
    "from pathlib import Path\n",
    "from tqdm import tqdm\n",
    "import plotly.express as px\n",
    "from ultralytics import YOLO\n",
    "import torch\n",
    "import math\n",
    "import pandas as pd\n",
    "import statistics\n",
    "import ast"
   ]
  },
  {
   "cell_type": "code",
   "execution_count": 9,
   "metadata": {},
   "outputs": [],
   "source": [
    "def ImageInfoDisplay(imageDict):\n",
    "    \"\"\" \n",
    "    Description:\n",
    "    This function displays the images in the imageDict alongside the dominant information (age/gender/race/emotion) if said info is present.\n",
    "\n",
    "    Parameters:\n",
    "    imageDict (dictionary) - Dictionary containing a information of each stored image. The image info consists of a list composed of the image/dominant attributes/results from the deepFace detector.\n",
    "\n",
    "    Returns:\n",
    "    None\n",
    "    \"\"\"\n",
    "    \n",
    "    # Looping through all the images\n",
    "    for itemIndex in range(len(imageDict.items())):\n",
    "        \n",
    "        # Displaying the relevant image\n",
    "        plt.imshow(imageDict[itemIndex][0], interpolation='nearest', cmap=\"gray\")\n",
    "        plt.axis(\"Off\")\n",
    "        text = \"\"\n",
    "        \n",
    "        # Determining the data to display based on the API used \n",
    "        # since not all API's provide the same resultant metrics\n",
    "        if 'age' in imageDict[itemIndex][1]:\n",
    "            text += \"Age: \" + str(imageDict[itemIndex][1]['age'])\n",
    "        \n",
    "        if 'gender' in imageDict[itemIndex][1]:\n",
    "            text += \"\\nGender: \" + str(imageDict[itemIndex][1]['gender'])\n",
    "            \n",
    "        if 'race' in imageDict[itemIndex][1]:\n",
    "            text += \"\\nRace: \" + str(imageDict[itemIndex][1]['race'])\n",
    "            \n",
    "        if 'emotion' in imageDict[itemIndex][1]:\n",
    "            text += \"\\nEmotion:\" + str(imageDict[itemIndex][1]['emotion'])\n",
    "        \n",
    "        plt.text(0, imageDict[itemIndex][0].shape[0]-10, text, color='red')\n",
    "        plt.show()"
   ]
  },
  {
   "cell_type": "code",
   "execution_count": 10,
   "metadata": {},
   "outputs": [],
   "source": [
    "def CreateDirectories(directory_path):\n",
    "    \"\"\" \n",
    "    Description:\n",
    "    This function is used to create the required directories.\n",
    "\n",
    "    Parameters:\n",
    "    directory_path (str) - Text denoting the directory path.\n",
    "\n",
    "    Returns:\n",
    "    None\n",
    "    \"\"\"\n",
    "        \n",
    "    # Splitting the directory path into its components\n",
    "    path_components = []\n",
    "    while True:\n",
    "        directory_path, component = os.path.split(directory_path)\n",
    "        if component:\n",
    "            # Adding the directories to the list\n",
    "            path_components.insert(0, component)\n",
    "        else:\n",
    "            # Adding the first directory\n",
    "            path_components.insert(0, directory_path)\n",
    "            break\n",
    "    \n",
    "    tmp_path = \"\"\n",
    "    for component in path_components:\n",
    "        tmp_path = Path(os.path.join(tmp_path, component))\n",
    "        if not tmp_path.exists():\n",
    "            tmp_path.mkdir()"
   ]
  },
  {
   "cell_type": "code",
   "execution_count": 11,
   "metadata": {},
   "outputs": [],
   "source": [
    "def CamelCase(text):\n",
    "    \"\"\" \n",
    "    Description:\n",
    "    This function is used to convert text into camel case mainly used for determining file names.\n",
    "\n",
    "    Parameters:\n",
    "    text (str) - Text to be converted to camel case.\n",
    "\n",
    "    Returns:\n",
    "    camel_case_text (str) - The text converted to camel case.\n",
    "    \"\"\"\n",
    "    \n",
    "    # Splitting the text into words by space\n",
    "    words = text.split()\n",
    "\n",
    "    # Capitalising the first letter of each word\n",
    "    camel_case_words = (word.capitalize() for word in words)\n",
    "\n",
    "    # Joining the words together to form the CamelCase string\n",
    "    camel_case_text = ''.join(camel_case_words)\n",
    "\n",
    "    return camel_case_text"
   ]
  },
  {
   "cell_type": "code",
   "execution_count": 12,
   "metadata": {},
   "outputs": [],
   "source": [
    "def LoadImagesFromFolder(folder_path):\n",
    "    \"\"\" \n",
    "    Description:\n",
    "    This function is used to load images from the specified folder, mainly to avoid repeatedly going through the process of retrieving the same images. \n",
    "    However it can be used to load other images (GenerativeImages).\n",
    "\n",
    "    Parameters:\n",
    "    folder_path (str) - Path to the folder in which the images are stored.\n",
    "\n",
    "    Returns:\n",
    "    image_list (list) - List containing the loaded images.\n",
    "    \"\"\"\n",
    "\n",
    "    # Initialising an empty list to store the loaded images\n",
    "    image_list = []\n",
    "\n",
    "    # Retrieving the list of files in the folder\n",
    "    list_of_files = os.listdir(folder_path)\n",
    "    \n",
    "    # Filtering out non-image files (e.g., folders, etc.)\n",
    "    image_files = [file for file in list_of_files if file.lower().endswith(('.jpg', '.jpeg', '.png', '.gif', '.bmp'))]\n",
    "\n",
    "    # Sorting the image files in ascending order\n",
    "    list_of_files = sorted(image_files, key=lambda x: int(x.split('.')[0]))\n",
    "\n",
    "    # Looping through the files in the folder\n",
    "    for file_no in range(len(list_of_files)):\n",
    "        try:\n",
    "            filename = str(list_of_files[file_no])\n",
    "\n",
    "            if filename in list_of_files:\n",
    "                # Constructing the full path to the image file\n",
    "                image_path = os.path.join(folder_path, filename)\n",
    "\n",
    "                # Loading the image using cv2 in BGR format\n",
    "                image_bgr = cv2.imread(image_path)\n",
    "\n",
    "                if image_bgr is not None:\n",
    "                    # Converting BGR to RGB format\n",
    "                    image_rgb = cv2.cvtColor(image_bgr, cv2.COLOR_BGR2RGB)\n",
    "\n",
    "                    # Appending the RGB image to the list\n",
    "                    image_list.append(image_rgb)\n",
    "        except:\n",
    "            pass\n",
    "    \n",
    "    return image_list"
   ]
  },
  {
   "cell_type": "code",
   "execution_count": 1,
   "metadata": {},
   "outputs": [],
   "source": [
    "def LoadMetricCSVFromFolder(csv_file_path):\n",
    "    \"\"\" \n",
    "    Description:\n",
    "    This function is used to load the image metrics (if saved) from the FairFaceProcess/DeepFaceProcess/EnsambleProcess functions,\n",
    "    so as to avoid running them multiple times on the same images.\n",
    "\n",
    "    Parameters:\n",
    "    csv_file_path (str) - Path to the file containing the metrics.\n",
    "\n",
    "    Returns:\n",
    "    data_dict (dict) - Dictionary containing the image and its metrics.\n",
    "    \"\"\"\n",
    "\n",
    "    data_dict = {}\n",
    "\n",
    "    with open(csv_file_path+\"\\\\output_data.csv\", mode='r', newline='') as file:\n",
    "        reader = csv.DictReader(file)\n",
    "        header = reader.fieldnames\n",
    "\n",
    "        image_data = []\n",
    "        # Looping through the rows in the csv file\n",
    "        for index, row in enumerate(reader):\n",
    "            image_no = int(row['Image_No'])\n",
    "            \n",
    "            face_image = cv2.cvtColor(cv2.imread(csv_file_path+\"\\\\\"+str(image_no)+\".jpg\"), cv2.COLOR_BGR2RGB)\n",
    "\n",
    "            # tmp = {key: row[key] for key in header if row[key] != \"\"}\n",
    "\n",
    "            tmp = {key: float(row[key]) if row[key].replace('.', '', 1).isdigit() else row[key] for key in header if row[key] != \"\"}\n",
    "\n",
    "            # Removing the 'Image_No' key as we dont want it saved in the dictionary\n",
    "            tmp.pop('Image_No', None)\n",
    "            \n",
    "            # Adding the relevant data to the dictionary, this is done as the data is stored across two lines in the csv file\n",
    "            if index % 2 == 0:\n",
    "                image_data.append(face_image)\n",
    "                image_data.append(tmp)\n",
    "            else:\n",
    "                for key in tmp:\n",
    "                    # Checking if the entry is of the form of a dictionary if so converting the string to a dictionary using eval\n",
    "                    if isinstance(ast.literal_eval(str(tmp[key])), dict):\n",
    "                        tmp[key] = eval(tmp[key])\n",
    "                image_data.append(tmp)\n",
    "                data_dict[image_no] = image_data\n",
    "                image_data = []\n",
    "\n",
    "    return data_dict"
   ]
  },
  {
   "cell_type": "markdown",
   "metadata": {},
   "source": [
    "### LAION-400M Image Retrievel\n",
    "\n",
    "#### Loading LAION-400M parquet file\n",
    "\n",
    "1. Get parquet files from https://www.kaggle.com/datasets/romainbeaumont/laion400m?select=part-00031-5b54c5d5-bbcf-484d-a2ce-0d6f73df1a36-c000.snappy.parquet\n",
    "\n",
    "2. Load the image links containing a particular label\n",
    "\n",
    "3. Get the images\n",
    "\n",
    "4. Filter the images to remove those not-containing people\n",
    "\n",
    "5. Filter by hand to remove NSFW, children, blurry and so on images\n"
   ]
  },
  {
   "cell_type": "code",
   "execution_count": 14,
   "metadata": {},
   "outputs": [],
   "source": [
    "def LoadLAION_400MImages(parquet_file_paths, labels):\n",
    "    \"\"\" \n",
    "    Description:\n",
    "    This function is used to retrieve the image from the LAION-400M parquet files retrieved from Kaggle.\n",
    "    \n",
    "    Parameters:\n",
    "    parquet_file_paths (list) - List containing the parquet file paths.\n",
    "    labels (list) - List containing the labels to query the images.\n",
    "\n",
    "    Returns:\n",
    "    img_url_dict (dict) - Dict containing the text and urls of the relevant images.\n",
    "    \"\"\"\n",
    "    img_url_dict = {new_list: [] for new_list in labels}\n",
    "    \n",
    "    for parquet_file_path in parquet_file_paths:\n",
    "        # Reading the contents of the parquet file\n",
    "        df = pd.read_parquet(parquet_file_path)\n",
    "\n",
    "        # Looping through the dataframe\n",
    "        for index in range(len(df)):\n",
    "            # Removing any NSFW images\n",
    "            if df[\"NSFW\"][index] != \"NSFW\":\n",
    "                # Looping through the labels\n",
    "                for label in labels:\n",
    "                        # Checking if the label is in the text\n",
    "                        if df['TEXT'][index] != None and label.lower() in df['TEXT'][index].lower().split():   \n",
    "                            img_url_dict[label].append({\"text\": df[\"TEXT\"][index], \"url\":df['URL'][index]})\n",
    "            \n",
    "    return img_url_dict"
   ]
  },
  {
   "cell_type": "code",
   "execution_count": 15,
   "metadata": {},
   "outputs": [],
   "source": [
    "def RetrieveImagesFromLinks(listOfImageLinks):\n",
    "    \"\"\" \n",
    "    Description:\n",
    "    This function is used to retrieve images from the links.\n",
    "    \n",
    "    Parameters:\n",
    "    listOfImageLinks (list) - List containing the image links to retrieve.\n",
    "\n",
    "    Returns:\n",
    "    images (list) - List containing the retrieved images.\n",
    "    failedToGetImageCounter (int) - Counter keeping track of how many images were not retrieved.\n",
    "    \"\"\"\n",
    "\n",
    "    images = []\n",
    "    \n",
    "    # Progress bar used to keep track of process execution\n",
    "    progress_bar = tqdm(total=len(listOfImageLinks), desc=\"Processing\", unit=\"links\")\n",
    "    \n",
    "    # Counter used to keep track of how many images were not retrieved\n",
    "    failedToGetImageCounter = 0\n",
    "    \n",
    "    for img_url in listOfImageLinks:\n",
    "        try:\n",
    "            # timeout added in case image takes too long to retrive from link \n",
    "            image_data = urllib.request.urlopen(img_url['url'], timeout=10)\n",
    "            \n",
    "            # Converting the image to .jpg\n",
    "            img = plt.imread(image_data, format='jpg')\n",
    "            \n",
    "            # Checking that the image is of the correct type\n",
    "            if img.dtype != np.uint8:\n",
    "                # Fixing images of type float32\n",
    "                if img.dtype == np.float32:\n",
    "                    img = (img * 255).astype(np.uint8)\n",
    "            \n",
    "            # Adding the image to images list\n",
    "            images.append(img)\n",
    "        except Exception as error:\n",
    "            failedToGetImageCounter+=1\n",
    "        \n",
    "        # Updating the progress bar\n",
    "        progress_bar.update(1)\n",
    "    \n",
    "    return images, failedToGetImageCounter"
   ]
  },
  {
   "cell_type": "code",
   "execution_count": 16,
   "metadata": {},
   "outputs": [],
   "source": [
    "def RemoveImageNotContainingPeople(images, confidence_threshold=0.5):\n",
    "    \"\"\" \n",
    "    Description:\n",
    "    This function serves to remove images which don't contain people within them.\n",
    "    \n",
    "    Parameters:\n",
    "    model - YOLO model used to detect the person in the image.\n",
    "    images (list) - List containing the images to be processed.\n",
    "    confidence_threshold (float) - Confidence threshold to filter out predictions below the threshold.\n",
    "\n",
    "    Returns:\n",
    "    filtered_images (list) - List containing the filtered images.\n",
    "    \"\"\"\n",
    "    \n",
    "    filtered_images = []\n",
    "    model = YOLO('yolov8n.pt')\n",
    "\n",
    "    for input_image in images:\n",
    "        \n",
    "        try:\n",
    "            # Making predictions\n",
    "            predictions = model.predict(input_image, classes=0)\n",
    "            \n",
    "            for index, i in enumerate(predictions[0].boxes.cls):\n",
    "                # Checking if the image contains a person and if the confidence is above the threshold\n",
    "                if i == 0 and predictions[0].boxes.conf[index] > confidence_threshold: \n",
    "                    filtered_images.append(input_image)\n",
    "                    break\n",
    "        except:\n",
    "            continue\n",
    "\n",
    "    return filtered_images\n"
   ]
  },
  {
   "cell_type": "code",
   "execution_count": null,
   "metadata": {},
   "outputs": [],
   "source": [
    "# parquet_file_paths = [\"Datasets\\\\LAION-400M\\\\part-00006-5b54c5d5-bbcf-484d-a2ce-0d6f73df1a36-c000.snappy.parquet\"]\n",
    "# labels = [\"doctor\", \"nurse\"]\n",
    "\n",
    "# url_dict_1 = LoadLAION_400MImages(parquet_file_paths, labels)\n",
    "# docImages, docFailedToGetImageCounter = RetrieveImagesFromLinks(url_dict_1[\"doctor\"])\n",
    "\n",
    "# confidence_threshold = 0.75\n",
    "# filtered_images = RemoveImageNotContainingPeople(docImages, confidence_threshold)\n",
    "\n",
    "# directory_path = \"C:\\\\Users\\\\User\\\\FYP\\\\DownloadedImages\\\\LAION-400M\\\\doctorImageLAION400M-6\"\n",
    "# CreateDirectories(directory_path)\n",
    "# for index, image in enumerate(filtered_images):\n",
    "#     cv2.imwrite(os.path.join(directory_path, str(index)+\".jpg\"), cv2.cvtColor(image, cv2.COLOR_BGR2RGB))"
   ]
  },
  {
   "cell_type": "code",
   "execution_count": 17,
   "metadata": {},
   "outputs": [],
   "source": [
    "def SaveMetricsCSV(sub_folder_path, metric_dict):\n",
    "    \"\"\" \n",
    "    Description:\n",
    "    This function serves to save the resultant metrics from the FairFaceProcess/DeepFaceProcess/EnsambleProcess functions. \n",
    "    \n",
    "    Parameters:\n",
    "    sub_folder_path (str) - Path to the folder in which the images are stored.\n",
    "    metric_dict (dict) - Dictionary containing the dominant values per image resultant from the functions.\n",
    "\n",
    "    Returns:\n",
    "    None.\n",
    "    \"\"\"\n",
    "    # Specifying the CSV file path\n",
    "    csv_file_path = Path(os.path.join(sub_folder_path, 'output_data.csv'))\n",
    "\n",
    "    # Open the CSV file in write mode\n",
    "    with open(csv_file_path, 'w', newline='') as csv_file:\n",
    "        fieldNames = [\"Image_No\"]\n",
    "\n",
    "        # Getting the additional fields from the dictionary and adding them to the fieldnames list\n",
    "        additionalFields = list(metric_dict[0][1].keys())\n",
    "        fieldNames.extend(additionalFields)\n",
    "        writer = csv.DictWriter(csv_file, fieldnames=fieldNames)\n",
    "\n",
    "        # Writing the header row\n",
    "        writer.writeheader()\n",
    "\n",
    "        # Write each row for the given structure\n",
    "        for image_name, (_, dict1, dict2) in metric_dict.items():\n",
    "            # This list contains the image labels\n",
    "            label_row = {'Image_No': image_name}\n",
    "            # This list containst the confidence scores associated with the labels\n",
    "            confidence_score_row = {'Image_No': image_name}\n",
    "\n",
    "            # Writing the image properties for each row\n",
    "            for key in additionalFields:\n",
    "                # Adding the value where it is present otherwise adding an empty string\n",
    "                if key in dict1:\n",
    "                    label_row.update({key:dict1[key]})\n",
    "                else:\n",
    "                    label_row.update({key:\"\"})\n",
    "\n",
    "                if key in dict2:\n",
    "                    confidence_score_row.update({key:dict2[key]})\n",
    "                else:\n",
    "                    confidence_score_row.update({key:\"\"})\n",
    "\n",
    "            writer.writerow(label_row)\n",
    "            writer.writerow(confidence_score_row)"
   ]
  },
  {
   "cell_type": "code",
   "execution_count": 18,
   "metadata": {},
   "outputs": [],
   "source": [
    "def FindObjWithLargestArea(objs):\n",
    "    \"\"\" \n",
    "    Description:\n",
    "    This function serves to detect the object (face) with the largest area in the image. (Usable only with the DeepFace function)\n",
    "    \n",
    "    Parameters:\n",
    "    objs (dict) - Dictionary containing the information from the DeepFace.analyze function relevant to the image.\n",
    "\n",
    "    Returns:\n",
    "    objectIndex (int) - Index of the object taking up the largest area.\n",
    "    \"\"\"\n",
    "    largestArea = 0\n",
    "    objectIndex = 0\n",
    "\n",
    "    for index, obj in enumerate(objs):\n",
    "        if obj['region']['w'] * obj['region']['h'] > largestArea:\n",
    "            largestArea = obj['region']['w'] * obj['region']['h']\n",
    "            objectIndex = index\n",
    "    return objectIndex"
   ]
  },
  {
   "cell_type": "code",
   "execution_count": 19,
   "metadata": {},
   "outputs": [],
   "source": [
    "def YOLODetectPerson(images, confidence_threshold=0.5):\n",
    "    \"\"\" \n",
    "    Description:\n",
    "    This function serves to detect an entire person in an image.\n",
    "    \n",
    "    Parameters:\n",
    "    model - YOLO model used to detect the person in the image.\n",
    "    images (list) - List containing the images to be processed.\n",
    "    confidence_threshold (float) - Confidence threshold to filter out predictions below the threshold.\n",
    "\n",
    "    Returns:\n",
    "    cropped_images (list) - List containing the cropped images.\n",
    "    dist_between_centers (list) - List containing the distance between the centers of the image and the center of the bounding box in each image.\n",
    "    space_takenup (list) - List containing the percentage of the image taken up by the bounding box in each image.\n",
    "    \"\"\"\n",
    "    \n",
    "    cropped_images = []\n",
    "    dist_between_centers = []\n",
    "    space_takenup = []\n",
    "\n",
    "    # Loading the YOLO model. This is downloaded automatically when run for the first time.\n",
    "    model = YOLO('yolov8n.pt')\n",
    "\n",
    "    for input_image in images:\n",
    "        # Making predictions\n",
    "        predictions = model.predict(input_image, classes=0)\n",
    "\n",
    "        # Extracting the bounding box coordinates, prediction confidance, prediction class\n",
    "        boxes = predictions[0].boxes.xyxy  \n",
    "        scores = predictions[0].boxes.conf\n",
    "        classes = predictions[0].boxes.cls\n",
    "\n",
    "        # Filtering out predictions below the confidence threshold\n",
    "        filtered_indices = torch.where(scores > confidence_threshold)[0]\n",
    "        filtered_boxes = boxes[filtered_indices]\n",
    "        filtered_classes = classes[filtered_indices]\n",
    "\n",
    "        # Finding the area of the image and its center\n",
    "        area_of_image = input_image.shape[0] * input_image.shape[1]\n",
    "        image_center_x = input_image.shape[1] // 2\n",
    "        image_center_y = input_image.shape[0] // 2\n",
    "\n",
    "\n",
    "        for box, class_id in zip(filtered_boxes, filtered_classes):\n",
    "            box = box.cpu().numpy().astype(int)\n",
    "            class_id = int(class_id.cpu().numpy())\n",
    "\n",
    "            # Crop the image based on the bounding box\n",
    "            cropped_image = input_image[box[1]:box[3], box[0]:box[2]]\n",
    "            cropped_images.append(cropped_image)\n",
    "\n",
    "            area_of_cropped_image = cropped_image.shape[0] * cropped_image.shape[1]\n",
    "            space_takenup.append(area_of_cropped_image/area_of_image * 100)\n",
    "\n",
    "            # Determining the center of the bounding box\n",
    "            center_x = (box[0] + box[2]) // 2\n",
    "            center_y = (box[1] + box[3]) // 2\n",
    "\n",
    "            distance_between_centers = math.dist([center_x, center_y], [image_center_x, image_center_y])\n",
    "            dist_between_centers.append(distance_between_centers)\n",
    "\n",
    "    return cropped_images, dist_between_centers, space_takenup"
   ]
  },
  {
   "cell_type": "markdown",
   "metadata": {},
   "source": [
    "### DeepFace Model"
   ]
  },
  {
   "cell_type": "code",
   "execution_count": 20,
   "metadata": {},
   "outputs": [],
   "source": [
    "def DeepFaceProcess(listOfImages):\n",
    "    \"\"\" \n",
    "    Description:\n",
    "    This function serves to determine the properties of the primary detected face in an image. \n",
    "    For each image passed it will only consider the most prominent face, this is done as each \n",
    "    image is initially being processed by YOLOv8 to detect/crop individual people and then said images are fed to this function.\n",
    "    \n",
    "    Parameters:\n",
    "    listOfImages (list) - List containing the images to be processed. \n",
    "\n",
    "    Returns:\n",
    "    DeepFaceDict (dict) - Dictionary containing the information relevant to each image.\n",
    "    \"\"\"\n",
    "        \n",
    "    tensorflow.keras.utils.disable_interactive_logging()\n",
    "    DeepFaceDict = {}\n",
    "    counter = 0\n",
    "    \n",
    "    # Create a tqdm progress bar\n",
    "    progress_bar = tqdm(total=len(listOfImages), desc=\"Processing\", unit=\"images\")\n",
    "    \n",
    "    for image in listOfImages:\n",
    "        try:\n",
    "            # Retrieving the age/gender/race/emotion of the image\n",
    "            # Note: enforce_detection=False used so that images where the face isn't fully visible are still considered\n",
    "            # Note: silent=True used to remove in built progress bar\n",
    "            image =  image[:,:,:3]\n",
    "\n",
    "            objs = DeepFace.analyze(image, actions = ['age', 'gender', 'race', 'emotion'], enforce_detection=False,  detector_backend=\"mtcnn\", silent=True)\n",
    "            \n",
    "            # Using the index of the primary face (takes up most area) in the image\n",
    "            index =  FindObjWithLargestArea(objs)\n",
    "            \n",
    "            # Replacing the dictionary keys to keep in line with the rest of the naming conventions (Man -> male/Woman-> female)\n",
    "            objs[index][\"gender\"][\"male\"] = objs[index][\"gender\"][\"Man\"]\n",
    "            del objs[index][\"gender\"][\"Man\"]\n",
    "\n",
    "            objs[index][\"gender\"][\"female\"] = objs[index][\"gender\"][\"Woman\"]\n",
    "            del objs[index][\"gender\"][\"Woman\"]\n",
    "\n",
    "            # Replacing the labels to keep in line with the rest of the naming conventions\n",
    "            if objs[index]['dominant_gender'] == \"Man\":\n",
    "                objs[index]['dominant_gender'] = \"male\"\n",
    "            elif objs[index]['dominant_gender'] == \"Woman\":\n",
    "                objs[index]['dominant_gender'] = \"female\"\n",
    "            \n",
    "            ImageInfo = {'age':objs[index]['age'], 'gender':objs[index]['dominant_gender'], 'race':objs[index]['dominant_race'], 'emotion':objs[index]['dominant_emotion']}\n",
    "\n",
    "            # Cropping the image to only include the face\n",
    "            objs[index]['region']\n",
    "            x = objs[index]['region']['x']\n",
    "            y = objs[index]['region']['y']\n",
    "            width = objs[index]['region']['x'] + objs[index]['region']['w']\n",
    "            height = objs[index]['region']['y'] + objs[index]['region']['h']\n",
    "            croppedImg = image[y:height, x:width]\n",
    "            \n",
    "            # Storing the images in a dictionary, ImageInfo contains the general info, objs contains the full detailed info (percentages of each class)\n",
    "            DeepFaceDict[counter] = [croppedImg, ImageInfo, objs[index]]\n",
    "            counter+=1\n",
    "        except Exception as error:\n",
    "            counter-=1\n",
    "            plt.imshow(image[:,:,:3])\n",
    "            plt.show()\n",
    "            print(\"Error: \",error)\n",
    "            \n",
    "        # Update the progress bar\n",
    "        progress_bar.update(1)\n",
    "    return DeepFaceDict"
   ]
  },
  {
   "cell_type": "markdown",
   "metadata": {},
   "source": [
    "# DeepFace Pipeline"
   ]
  },
  {
   "cell_type": "code",
   "execution_count": 21,
   "metadata": {},
   "outputs": [
    {
     "name": "stdout",
     "output_type": "stream",
     "text": [
      "\n",
      "0: 640x480 1 person, 85.0ms\n",
      "Speed: 2.0ms preprocess, 85.0ms inference, 1.0ms postprocess per image at shape (1, 3, 640, 480)\n",
      "\n",
      "0: 384x640 1 person, 63.0ms\n",
      "Speed: 2.0ms preprocess, 63.0ms inference, 1.0ms postprocess per image at shape (1, 3, 384, 640)\n",
      "\n",
      "0: 640x448 1 person, 76.0ms\n",
      "Speed: 1.0ms preprocess, 76.0ms inference, 1.0ms postprocess per image at shape (1, 3, 640, 448)\n",
      "\n",
      "0: 640x448 1 person, 68.0ms\n",
      "Speed: 2.0ms preprocess, 68.0ms inference, 1.0ms postprocess per image at shape (1, 3, 640, 448)\n",
      "\n",
      "0: 640x448 1 person, 73.0ms\n",
      "Speed: 3.0ms preprocess, 73.0ms inference, 1.0ms postprocess per image at shape (1, 3, 640, 448)\n",
      "\n",
      "0: 640x448 1 person, 69.0ms\n",
      "Speed: 2.0ms preprocess, 69.0ms inference, 0.0ms postprocess per image at shape (1, 3, 640, 448)\n",
      "\n",
      "0: 640x480 1 person, 71.0ms\n",
      "Speed: 2.0ms preprocess, 71.0ms inference, 1.0ms postprocess per image at shape (1, 3, 640, 480)\n",
      "\n",
      "0: 448x640 1 person, 75.0ms\n",
      "Speed: 3.0ms preprocess, 75.0ms inference, 1.0ms postprocess per image at shape (1, 3, 448, 640)\n",
      "\n",
      "0: 576x640 2 persons, 100.0ms\n",
      "Speed: 3.0ms preprocess, 100.0ms inference, 0.0ms postprocess per image at shape (1, 3, 576, 640)\n",
      "\n",
      "0: 448x640 1 person, 68.0ms\n",
      "Speed: 4.0ms preprocess, 68.0ms inference, 0.0ms postprocess per image at shape (1, 3, 448, 640)\n",
      "\n",
      "0: 640x448 1 person, 74.0ms\n",
      "Speed: 2.0ms preprocess, 74.0ms inference, 1.0ms postprocess per image at shape (1, 3, 640, 448)\n",
      "\n",
      "0: 640x640 1 person, 104.0ms\n",
      "Speed: 3.0ms preprocess, 104.0ms inference, 0.0ms postprocess per image at shape (1, 3, 640, 640)\n",
      "\n",
      "0: 640x608 1 person, 111.0ms\n",
      "Speed: 4.0ms preprocess, 111.0ms inference, 1.0ms postprocess per image at shape (1, 3, 640, 608)\n",
      "\n",
      "0: 448x640 1 person, 72.0ms\n",
      "Speed: 2.0ms preprocess, 72.0ms inference, 1.0ms postprocess per image at shape (1, 3, 448, 640)\n",
      "\n",
      "0: 640x480 1 person, 75.0ms\n",
      "Speed: 2.0ms preprocess, 75.0ms inference, 1.0ms postprocess per image at shape (1, 3, 640, 480)\n",
      "\n",
      "0: 352x640 1 person, 60.0ms\n",
      "Speed: 2.0ms preprocess, 60.0ms inference, 1.0ms postprocess per image at shape (1, 3, 352, 640)\n",
      "\n",
      "0: 576x640 1 person, 134.0ms\n",
      "Speed: 3.0ms preprocess, 134.0ms inference, 1.0ms postprocess per image at shape (1, 3, 576, 640)\n",
      "\n",
      "0: 640x480 1 person, 80.0ms\n",
      "Speed: 2.0ms preprocess, 80.0ms inference, 0.0ms postprocess per image at shape (1, 3, 640, 480)\n",
      "\n",
      "0: 640x480 1 person, 69.0ms\n",
      "Speed: 2.0ms preprocess, 69.0ms inference, 1.0ms postprocess per image at shape (1, 3, 640, 480)\n",
      "\n",
      "0: 640x448 1 person, 66.0ms\n",
      "Speed: 1.0ms preprocess, 66.0ms inference, 1.0ms postprocess per image at shape (1, 3, 640, 448)\n",
      "\n",
      "0: 544x640 1 person, 88.0ms\n",
      "Speed: 3.0ms preprocess, 88.0ms inference, 0.0ms postprocess per image at shape (1, 3, 544, 640)\n",
      "\n",
      "0: 640x448 1 person, 66.0ms\n",
      "Speed: 2.0ms preprocess, 66.0ms inference, 0.0ms postprocess per image at shape (1, 3, 640, 448)\n",
      "\n",
      "0: 640x640 1 person, 92.0ms\n",
      "Speed: 4.0ms preprocess, 92.0ms inference, 1.0ms postprocess per image at shape (1, 3, 640, 640)\n",
      "\n",
      "0: 640x448 1 person, 71.0ms\n",
      "Speed: 2.0ms preprocess, 71.0ms inference, 1.0ms postprocess per image at shape (1, 3, 640, 448)\n",
      "\n",
      "0: 640x448 1 person, 72.0ms\n",
      "Speed: 2.0ms preprocess, 72.0ms inference, 0.0ms postprocess per image at shape (1, 3, 640, 448)\n",
      "\n",
      "0: 640x448 1 person, 71.0ms\n",
      "Speed: 2.0ms preprocess, 71.0ms inference, 1.0ms postprocess per image at shape (1, 3, 640, 448)\n",
      "\n",
      "0: 640x512 1 person, 85.0ms\n",
      "Speed: 3.0ms preprocess, 85.0ms inference, 1.0ms postprocess per image at shape (1, 3, 640, 512)\n",
      "\n",
      "0: 640x480 1 person, 72.0ms\n",
      "Speed: 3.0ms preprocess, 72.0ms inference, 1.0ms postprocess per image at shape (1, 3, 640, 480)\n",
      "\n",
      "0: 480x640 1 person, 77.0ms\n",
      "Speed: 2.0ms preprocess, 77.0ms inference, 1.0ms postprocess per image at shape (1, 3, 480, 640)\n",
      "\n",
      "0: 512x640 1 person, 84.0ms\n",
      "Speed: 3.0ms preprocess, 84.0ms inference, 0.0ms postprocess per image at shape (1, 3, 512, 640)\n",
      "\n",
      "0: 640x544 1 person, 87.0ms\n",
      "Speed: 3.0ms preprocess, 87.0ms inference, 1.0ms postprocess per image at shape (1, 3, 640, 544)\n",
      "\n",
      "0: 640x480 1 person, 73.0ms\n",
      "Speed: 2.0ms preprocess, 73.0ms inference, 1.0ms postprocess per image at shape (1, 3, 640, 480)\n",
      "\n",
      "0: 448x640 1 person, 69.0ms\n",
      "Speed: 3.0ms preprocess, 69.0ms inference, 1.0ms postprocess per image at shape (1, 3, 448, 640)\n",
      "\n",
      "0: 640x448 1 person, 69.0ms\n",
      "Speed: 2.0ms preprocess, 69.0ms inference, 0.0ms postprocess per image at shape (1, 3, 640, 448)\n",
      "\n",
      "0: 640x416 1 person, 74.0ms\n",
      "Speed: 2.0ms preprocess, 74.0ms inference, 1.0ms postprocess per image at shape (1, 3, 640, 416)\n",
      "\n",
      "0: 448x640 1 person, 70.0ms\n",
      "Speed: 3.0ms preprocess, 70.0ms inference, 1.0ms postprocess per image at shape (1, 3, 448, 640)\n",
      "\n",
      "0: 640x448 1 person, 72.0ms\n",
      "Speed: 3.0ms preprocess, 72.0ms inference, 0.0ms postprocess per image at shape (1, 3, 640, 448)\n",
      "\n",
      "0: 608x640 1 person, 104.0ms\n",
      "Speed: 3.0ms preprocess, 104.0ms inference, 1.0ms postprocess per image at shape (1, 3, 608, 640)\n",
      "\n",
      "0: 640x416 1 person, 64.0ms\n",
      "Speed: 2.0ms preprocess, 64.0ms inference, 1.0ms postprocess per image at shape (1, 3, 640, 416)\n",
      "\n",
      "0: 480x640 1 person, 71.0ms\n",
      "Speed: 3.0ms preprocess, 71.0ms inference, 1.0ms postprocess per image at shape (1, 3, 480, 640)\n",
      "\n",
      "0: 448x640 1 person, 67.0ms\n",
      "Speed: 1.0ms preprocess, 67.0ms inference, 1.0ms postprocess per image at shape (1, 3, 448, 640)\n",
      "\n",
      "0: 384x640 1 person, 62.0ms\n",
      "Speed: 2.0ms preprocess, 62.0ms inference, 0.0ms postprocess per image at shape (1, 3, 384, 640)\n",
      "\n",
      "0: 640x352 1 person, 60.0ms\n",
      "Speed: 2.0ms preprocess, 60.0ms inference, 1.0ms postprocess per image at shape (1, 3, 640, 352)\n",
      "\n",
      "0: 640x448 1 person, 67.0ms\n",
      "Speed: 2.0ms preprocess, 67.0ms inference, 1.0ms postprocess per image at shape (1, 3, 640, 448)\n",
      "\n",
      "0: 480x640 1 person, 69.0ms\n",
      "Speed: 2.0ms preprocess, 69.0ms inference, 0.0ms postprocess per image at shape (1, 3, 480, 640)\n",
      "\n",
      "0: 608x640 1 person, 135.0ms\n",
      "Speed: 3.0ms preprocess, 135.0ms inference, 1.0ms postprocess per image at shape (1, 3, 608, 640)\n",
      "\n",
      "0: 448x640 1 person, 76.0ms\n",
      "Speed: 2.0ms preprocess, 76.0ms inference, 1.0ms postprocess per image at shape (1, 3, 448, 640)\n",
      "\n",
      "0: 640x416 1 person, 67.0ms\n",
      "Speed: 1.0ms preprocess, 67.0ms inference, 1.0ms postprocess per image at shape (1, 3, 640, 416)\n",
      "\n",
      "0: 640x448 1 person, 72.0ms\n",
      "Speed: 2.0ms preprocess, 72.0ms inference, 1.0ms postprocess per image at shape (1, 3, 640, 448)\n",
      "\n",
      "0: 448x640 1 person, 74.0ms\n",
      "Speed: 2.0ms preprocess, 74.0ms inference, 1.0ms postprocess per image at shape (1, 3, 448, 640)\n",
      "\n",
      "0: 448x640 1 person, 66.0ms\n",
      "Speed: 2.0ms preprocess, 66.0ms inference, 0.0ms postprocess per image at shape (1, 3, 448, 640)\n",
      "\n",
      "0: 640x448 1 person, 66.0ms\n",
      "Speed: 2.0ms preprocess, 66.0ms inference, 0.0ms postprocess per image at shape (1, 3, 640, 448)\n",
      "\n",
      "0: 480x640 1 person, 70.0ms\n",
      "Speed: 3.0ms preprocess, 70.0ms inference, 0.0ms postprocess per image at shape (1, 3, 480, 640)\n",
      "\n",
      "0: 640x480 1 person, 68.0ms\n",
      "Speed: 2.0ms preprocess, 68.0ms inference, 1.0ms postprocess per image at shape (1, 3, 640, 480)\n",
      "\n",
      "0: 640x448 1 person, 68.0ms\n",
      "Speed: 2.0ms preprocess, 68.0ms inference, 1.0ms postprocess per image at shape (1, 3, 640, 448)\n",
      "\n",
      "0: 480x640 1 person, 73.0ms\n",
      "Speed: 2.0ms preprocess, 73.0ms inference, 1.0ms postprocess per image at shape (1, 3, 480, 640)\n",
      "\n",
      "0: 640x480 1 person, 73.0ms\n",
      "Speed: 2.0ms preprocess, 73.0ms inference, 1.0ms postprocess per image at shape (1, 3, 640, 480)\n",
      "\n",
      "0: 640x448 1 person, 66.0ms\n",
      "Speed: 2.0ms preprocess, 66.0ms inference, 0.0ms postprocess per image at shape (1, 3, 640, 448)\n",
      "\n",
      "0: 416x640 1 person, 76.0ms\n",
      "Speed: 2.0ms preprocess, 76.0ms inference, 1.0ms postprocess per image at shape (1, 3, 416, 640)\n",
      "\n",
      "0: 640x448 1 person, 71.0ms\n",
      "Speed: 2.0ms preprocess, 71.0ms inference, 1.0ms postprocess per image at shape (1, 3, 640, 448)\n",
      "\n",
      "0: 640x640 1 person, 92.0ms\n",
      "Speed: 3.0ms preprocess, 92.0ms inference, 1.0ms postprocess per image at shape (1, 3, 640, 640)\n",
      "\n",
      "0: 640x640 1 person, 96.0ms\n",
      "Speed: 4.0ms preprocess, 96.0ms inference, 1.0ms postprocess per image at shape (1, 3, 640, 640)\n",
      "\n",
      "0: 576x640 1 person, 107.0ms\n",
      "Speed: 3.0ms preprocess, 107.0ms inference, 1.0ms postprocess per image at shape (1, 3, 576, 640)\n",
      "\n",
      "0: 640x448 1 person, 67.0ms\n",
      "Speed: 2.0ms preprocess, 67.0ms inference, 1.0ms postprocess per image at shape (1, 3, 640, 448)\n",
      "\n",
      "0: 608x640 1 person, 88.0ms\n",
      "Speed: 3.0ms preprocess, 88.0ms inference, 0.0ms postprocess per image at shape (1, 3, 608, 640)\n",
      "\n",
      "0: 448x640 1 person, 69.0ms\n",
      "Speed: 2.0ms preprocess, 69.0ms inference, 1.0ms postprocess per image at shape (1, 3, 448, 640)\n",
      "\n",
      "0: 640x448 1 person, 66.0ms\n",
      "Speed: 2.0ms preprocess, 66.0ms inference, 1.0ms postprocess per image at shape (1, 3, 640, 448)\n",
      "\n",
      "0: 640x480 1 person, 70.0ms\n",
      "Speed: 2.0ms preprocess, 70.0ms inference, 0.0ms postprocess per image at shape (1, 3, 640, 480)\n",
      "\n",
      "0: 448x640 1 person, 65.0ms\n",
      "Speed: 2.0ms preprocess, 65.0ms inference, 1.0ms postprocess per image at shape (1, 3, 448, 640)\n",
      "\n",
      "0: 640x448 1 person, 69.0ms\n",
      "Speed: 2.0ms preprocess, 69.0ms inference, 0.0ms postprocess per image at shape (1, 3, 640, 448)\n",
      "\n",
      "0: 640x448 1 person, 64.0ms\n",
      "Speed: 1.0ms preprocess, 64.0ms inference, 1.0ms postprocess per image at shape (1, 3, 640, 448)\n",
      "\n",
      "0: 640x576 1 person, 98.0ms\n",
      "Speed: 3.0ms preprocess, 98.0ms inference, 1.0ms postprocess per image at shape (1, 3, 640, 576)\n",
      "\n",
      "0: 448x640 1 person, 69.0ms\n",
      "Speed: 2.0ms preprocess, 69.0ms inference, 0.0ms postprocess per image at shape (1, 3, 448, 640)\n",
      "\n",
      "0: 640x640 1 person, 93.0ms\n",
      "Speed: 3.0ms preprocess, 93.0ms inference, 1.0ms postprocess per image at shape (1, 3, 640, 640)\n",
      "\n",
      "0: 640x640 1 person, 97.0ms\n",
      "Speed: 3.0ms preprocess, 97.0ms inference, 0.0ms postprocess per image at shape (1, 3, 640, 640)\n",
      "\n",
      "0: 448x640 1 person, 118.0ms\n",
      "Speed: 2.0ms preprocess, 118.0ms inference, 1.0ms postprocess per image at shape (1, 3, 448, 640)\n",
      "\n",
      "0: 480x640 1 person, 80.0ms\n",
      "Speed: 2.0ms preprocess, 80.0ms inference, 1.0ms postprocess per image at shape (1, 3, 480, 640)\n",
      "\n",
      "0: 512x640 1 person, 95.0ms\n",
      "Speed: 2.0ms preprocess, 95.0ms inference, 0.0ms postprocess per image at shape (1, 3, 512, 640)\n",
      "\n",
      "0: 448x640 1 person, 70.0ms\n",
      "Speed: 2.0ms preprocess, 70.0ms inference, 1.0ms postprocess per image at shape (1, 3, 448, 640)\n",
      "\n",
      "0: 640x448 1 person, 71.0ms\n",
      "Speed: 2.0ms preprocess, 71.0ms inference, 1.0ms postprocess per image at shape (1, 3, 640, 448)\n",
      "\n",
      "0: 640x448 1 person, 71.0ms\n",
      "Speed: 2.0ms preprocess, 71.0ms inference, 1.0ms postprocess per image at shape (1, 3, 640, 448)\n",
      "\n",
      "0: 416x640 1 person, 66.0ms\n",
      "Speed: 2.0ms preprocess, 66.0ms inference, 1.0ms postprocess per image at shape (1, 3, 416, 640)\n",
      "\n",
      "0: 640x512 1 person, 100.0ms\n",
      "Speed: 2.0ms preprocess, 100.0ms inference, 1.0ms postprocess per image at shape (1, 3, 640, 512)\n",
      "\n",
      "0: 448x640 1 person, 73.0ms\n",
      "Speed: 2.0ms preprocess, 73.0ms inference, 1.0ms postprocess per image at shape (1, 3, 448, 640)\n",
      "\n",
      "0: 640x448 1 person, 68.0ms\n",
      "Speed: 2.0ms preprocess, 68.0ms inference, 1.0ms postprocess per image at shape (1, 3, 640, 448)\n",
      "\n",
      "0: 640x448 1 person, 72.0ms\n",
      "Speed: 2.0ms preprocess, 72.0ms inference, 0.0ms postprocess per image at shape (1, 3, 640, 448)\n",
      "\n",
      "0: 640x640 1 person, 95.0ms\n",
      "Speed: 3.0ms preprocess, 95.0ms inference, 1.0ms postprocess per image at shape (1, 3, 640, 640)\n",
      "\n",
      "0: 640x448 1 person, 69.0ms\n",
      "Speed: 2.0ms preprocess, 69.0ms inference, 1.0ms postprocess per image at shape (1, 3, 640, 448)\n",
      "\n",
      "0: 544x640 1 person, 97.0ms\n",
      "Speed: 2.0ms preprocess, 97.0ms inference, 1.0ms postprocess per image at shape (1, 3, 544, 640)\n",
      "\n",
      "0: 480x640 1 person, 74.0ms\n",
      "Speed: 1.0ms preprocess, 74.0ms inference, 1.0ms postprocess per image at shape (1, 3, 480, 640)\n",
      "\n",
      "0: 448x640 1 person, 69.0ms\n",
      "Speed: 2.0ms preprocess, 69.0ms inference, 1.0ms postprocess per image at shape (1, 3, 448, 640)\n",
      "\n",
      "0: 448x640 1 person, 66.0ms\n",
      "Speed: 2.0ms preprocess, 66.0ms inference, 1.0ms postprocess per image at shape (1, 3, 448, 640)\n",
      "\n",
      "0: 448x640 1 person, 82.0ms\n",
      "Speed: 2.0ms preprocess, 82.0ms inference, 1.0ms postprocess per image at shape (1, 3, 448, 640)\n",
      "\n",
      "0: 640x448 1 person, 72.0ms\n",
      "Speed: 2.0ms preprocess, 72.0ms inference, 1.0ms postprocess per image at shape (1, 3, 640, 448)\n",
      "\n",
      "0: 448x640 1 person, 74.0ms\n",
      "Speed: 2.0ms preprocess, 74.0ms inference, 1.0ms postprocess per image at shape (1, 3, 448, 640)\n",
      "\n",
      "0: 384x640 1 person, 65.0ms\n",
      "Speed: 2.0ms preprocess, 65.0ms inference, 1.0ms postprocess per image at shape (1, 3, 384, 640)\n",
      "\n",
      "0: 640x448 1 person, 76.0ms\n",
      "Speed: 2.0ms preprocess, 76.0ms inference, 1.0ms postprocess per image at shape (1, 3, 640, 448)\n"
     ]
    },
    {
     "name": "stderr",
     "output_type": "stream",
     "text": [
      "Processing: 100%|██████████| 97/97 [01:38<00:00,  1.01s/images]\n"
     ]
    }
   ],
   "source": [
    "# Loading the images to be processed\n",
    "list_of_images = LoadImagesFromFolder(\"C:\\\\Users\\\\User\\\\FYP\\\\DownloadedImages\\\\LAION-400M-GoogleForm-Images\\\\Doctor-97\")\n",
    "# Setting the human detection confidence threshold\n",
    "confidence_threshold = 0.5\n",
    "# Retrieving the images of people detected in the images, the distance between the person and image center and the space taken up by the person\n",
    "people_images, dist_bet_centers, space_taken_up = YOLODetectPerson(list_of_images, confidence_threshold)\n",
    "\n",
    "# Processing the images using the DeepFace model\n",
    "DeepFaceDict = DeepFaceProcess(people_images)\n",
    "# Adding the distance between centers and space taken up by the bounding box to the dictionary\n",
    "for index in DeepFaceDict.keys():\n",
    "    tmp = {\"center_dist\":dist_bet_centers[index], \"space\": space_taken_up[index]}\n",
    "    DeepFaceDict[index][1].update(tmp)\n",
    "\n",
    "# Saving the metrics to disk\n",
    "directory_path = \"C:\\\\Users\\\\User\\\\FYP\\\\DownloadedImages\\\\TESTING\"#LAION-400M-GoogleForm-Images\\\\Doctor-97\\\\FairFaceImagesMetrics\"\n",
    "save_metrics = False\n",
    "if save_metrics == True:\n",
    "    CreateDirectories(directory_path)\n",
    "\n",
    "    # Saving the general info metrics to csv file\n",
    "    SaveMetricsCSV(directory_path, DeepFaceDict)\n",
    "\n",
    "    # Saving the cropped images used by the DeepFace API to disk\n",
    "    for imgIndex in range(len(DeepFaceDict.items())):\n",
    "        save_path = os.path.join(directory_path,str(imgIndex)+\".jpg\")\n",
    "        cv2.imwrite(save_path, cv2.cvtColor(DeepFaceDict[imgIndex][0], cv2.COLOR_BGR2RGB))\n"
   ]
  },
  {
   "cell_type": "markdown",
   "metadata": {},
   "source": [
    "# Metric Display"
   ]
  },
  {
   "cell_type": "code",
   "execution_count": 63,
   "metadata": {},
   "outputs": [],
   "source": [
    "def MetricGenderDisplay(data, specific_race=None, specific_emotion=None, specific_age=None):\n",
    "    \"\"\" \n",
    "    Description:\n",
    "    This function serves to display a bargraph regarding the gender metrics in relation to the DeepFace data passed. \n",
    "    \n",
    "    Parameters:\n",
    "    data (dict) - Dictionary containing the information relevant to each image. \n",
    "    specific_race (str) - Specific race to be considered, if any. Valid values [\"asian\", \"white\", \"middle eastern\", \"indian\", \"latino\", \"black\", \"latino hispanic\"]\n",
    "    specific_emotion (str) - Specific emotion to be considered, if any. Valid values [\"angry\", \"fear\", \"neutral\", \"sad\", \"disgust\", \"happy\", \"surprise\"]\n",
    "    specific_age (int) - Specific age to be considered, if any.\n",
    "\n",
    "    Returns:\n",
    "    None.\n",
    "    \"\"\"\n",
    "    \n",
    "    # Gender labels - assumes only two genders\n",
    "    genders = ['Male', 'Female']\n",
    "    count = [0, 0]\n",
    "    \n",
    "    # Looping through the instances in the data\n",
    "    for instance in data:\n",
    "        \n",
    "        # Enforcing race constraints \n",
    "        if specific_race != None:\n",
    "            if data[instance][1][\"race\"].lower() != specific_race.lower():\n",
    "                continue\n",
    "          \n",
    "         # Enforcing emotion constraints \n",
    "        if specific_emotion != None:\n",
    "            if data[instance][1][\"emotion\"].lower() != specific_emotion.lower():\n",
    "                continue\n",
    "        \n",
    "        # Enforcing age constraints \n",
    "        if specific_age != None:\n",
    "            if data[instance][1][\"age\"] != specific_age:\n",
    "                continue\n",
    "        \n",
    "        # Retrieving instance gender\n",
    "        mGender = data[instance][1][\"gender\"].lower()\n",
    "        \n",
    "        # Incrementing counters\n",
    "        if mGender == \"male\" or mGender == \"man\":\n",
    "            count[0]+=1\n",
    "        elif mGender == \"female\" or mGender == \"woman\":\n",
    "            count[1]+=1\n",
    "        else:\n",
    "            print(\"Invalid Gender Detected: \",mGender)\n",
    "    \n",
    "    # Creating bar chart\n",
    "    plt.bar(genders, count)\n",
    "\n",
    "    # Adding labels and title\n",
    "    plt.xlabel('Gender')\n",
    "    plt.ylabel('Count')\n",
    "    plt.title('Male vs. Female Distribution')\n",
    "\n",
    "    # Adding annotations with values above each bar\n",
    "    for i, value in enumerate(count):\n",
    "        # Add text label at calculated position\n",
    "        plt.text(i, value, str(value), ha='center', va='bottom')\n",
    "\n",
    "    # Showing the plot\n",
    "    plt.show()"
   ]
  },
  {
   "cell_type": "code",
   "execution_count": 65,
   "metadata": {},
   "outputs": [],
   "source": [
    "def MetricRaceDisplay(data, specific_gender=None, specific_emotion=None, specific_age=None):\n",
    "    \"\"\" \n",
    "    Description:\n",
    "    This function serves to display a bargraph regarding the race metrics in relation to the DeepFace data passed. \n",
    "    \n",
    "    Parameters:\n",
    "    data (dict) - Dictionary containing the information relevant to each image.\n",
    "    specific_gender (str) - Specific gender to be considered, if any. Valid values [\"male\", \"female\"]\n",
    "    specific_emotion (str) - Specific emotion to be considered, if any. Valid values [\"angry\", \"fear\", \"neutral\", \"sad\", \"disgust\", \"happy\", \"surprise\"]\n",
    "    specific_age (int) - Specific age to be considered, if any.\n",
    "\n",
    "    Returns:\n",
    "    None.\n",
    "    \"\"\"\n",
    "    \n",
    "    # Race labels - assumes races detected by DeepFace\n",
    "    races = [\"asian\", \"white\", \"middle eastern\", \"indian\", \"latino\", \"black\", \"latino hispanic\"]\n",
    "    count = [0,0,0,0,0,0,0] \n",
    "\n",
    "    # Looping through the instances in the data\n",
    "    for instance in data:\n",
    "        \n",
    "        # Enforcing gender constraints \n",
    "        if specific_gender != None:\n",
    "            if data[instance][1][\"gender\"].lower() != specific_gender.lower():\n",
    "                continue\n",
    "                \n",
    "        # Enforcing emotion constraints \n",
    "        if specific_emotion != None:\n",
    "            if data[instance][1][\"emotion\"].lower() != specific_emotion.lower():\n",
    "                continue\n",
    "                \n",
    "        # Enforcing age constraints         \n",
    "        if specific_age != None:\n",
    "            if data[instance][1][\"age\"] != specific_age:\n",
    "                continue\n",
    "        \n",
    "        # Retrieving instance race\n",
    "        mRace = data[instance][1][\"race\"].lower()\n",
    "        \n",
    "        # Incrementing counters\n",
    "        if mRace == \"asian\":\n",
    "            count[0]+=1\n",
    "        elif mRace == \"white\":\n",
    "            count[1]+=1\n",
    "        elif mRace == \"middle eastern\":\n",
    "            count[2]+=1\n",
    "        elif mRace == \"indian\":\n",
    "            count[3]+=1\n",
    "        elif mRace == \"latino\":\n",
    "            count[4]+=1\n",
    "        elif mRace == \"black\":\n",
    "            count[5]+=1\n",
    "        elif mRace == \"latino hispanic\":\n",
    "            count[6]+=1    \n",
    "        else:\n",
    "            print(\"Invalid Race Detected: \", mRace)\n",
    "\n",
    "    # Creating bar chart\n",
    "    plt.bar(races, count)\n",
    "\n",
    "    # Adding labels and title\n",
    "    plt.xlabel('Races')\n",
    "    plt.ylabel('Count')\n",
    "    plt.title('Race Distribution')\n",
    "\n",
    "    # Adding annotations with values above each bar\n",
    "    for i, value in enumerate(count):\n",
    "        # Add text label at calculated position\n",
    "        plt.text(i, value, str(value), ha='center', va='bottom')\n",
    "\n",
    "    # Showing the plot\n",
    "    plt.show()"
   ]
  },
  {
   "cell_type": "code",
   "execution_count": 66,
   "metadata": {},
   "outputs": [],
   "source": [
    "def MetricEmotionDisplay(data, specific_gender=None, specific_race=None, specific_age=None):\n",
    "    \"\"\" \n",
    "    Description:\n",
    "    This function serves to display a bargraph regarding the emotion metrics in relation to the DeepFace data passed. \n",
    "    \n",
    "    Parameters:\n",
    "    data (dict) - Dictionary containing the information relevant to each image.\n",
    "    specific_gender (str) - Specific gender to be considered, if any.\n",
    "    specific_race (str) - Specific race to be considered, if any. Valid values [\"asian\", \"white\", \"middle eastern\", \"indian\", \"latino\", \"black\", \"latino hispanic\"]\n",
    "    specific_age (int) - Specific age to be considered, if any.\n",
    "\n",
    "    Returns:\n",
    "    None.\n",
    "    \"\"\"\n",
    "    \n",
    "    # Emotion labels - assumes emotions detected by DeepFace\n",
    "    emotions = [\"angry\", \"fear\", \"neutral\", \"sad\", \"disgust\", \"happy\", \"surprise\"]\n",
    "    count = [0,0,0,0,0,0,0]\n",
    "\n",
    "    # Looping through the instances in the data\n",
    "    for instance in data:\n",
    "        \n",
    "        # Enforcing gender constraints \n",
    "        if specific_gender != None:\n",
    "            if data[instance][1][\"gender\"].lower() != specific_gender.lower():\n",
    "                continue\n",
    "                \n",
    "        # Enforcing race constraints \n",
    "        if specific_race != None:\n",
    "            if data[instance][1][\"race\"].lower() != specific_race.lower():\n",
    "                continue\n",
    "                \n",
    "        # Enforcing age constraints \n",
    "        if specific_age != None:\n",
    "            if data[instance][1][\"age\"] != specific_age:\n",
    "                continue\n",
    "    \n",
    "        # Retrieving instance emotion\n",
    "        mEmotion = data[instance][1][\"emotion\"].lower()\n",
    "        \n",
    "        # Incrementing counters\n",
    "        if mEmotion == \"angry\":\n",
    "            count[0]+=1\n",
    "        elif mEmotion == \"fear\":\n",
    "            count[1]+=1\n",
    "        elif mEmotion == \"neutral\":\n",
    "            count[2]+=1\n",
    "        elif mEmotion == \"sad\":\n",
    "            count[3]+=1\n",
    "        elif mEmotion == \"disgust\":\n",
    "            count[4]+=1\n",
    "        elif mEmotion == \"happy\":\n",
    "            count[5]+=1\n",
    "        elif mEmotion == \"surprise\":\n",
    "            count[6]+=1\n",
    "        else:\n",
    "            print(\"Invalid Emotion Detected: \", mEmotion)\n",
    "\n",
    "    # Creating bar chart\n",
    "    plt.bar(emotions, count)\n",
    "\n",
    "    # Adding labels and title\n",
    "    plt.xlabel('Emotions')\n",
    "    plt.ylabel('Count')\n",
    "    plt.title('Emotion Distribution')\n",
    "\n",
    "    # Adding annotations with values above each bar\n",
    "    for i, value in enumerate(count):\n",
    "        # Add text label at calculated position\n",
    "        plt.text(i, value, str(value), ha='center', va='bottom')\n",
    "\n",
    "    # Showing the plot\n",
    "    plt.show()"
   ]
  },
  {
   "cell_type": "code",
   "execution_count": 64,
   "metadata": {},
   "outputs": [],
   "source": [
    "def MetricAgeDisplay(data, specific_gender=None, specific_race=None, specific_emotion=None):\n",
    "    \"\"\" \n",
    "    Description:\n",
    "    This function serves to display a bargraph regarding the age metrics in relation to the DeepFace data passed. \n",
    "    \n",
    "    Parameters:\n",
    "    data (dict) - Dictionary containing the information relevant to each image.\n",
    "    specific_gender (str) - Specific gender to be considered, if any. Valid values [\"male\", \"female\"]\n",
    "    specific_race (str) - Specific race to be considered, if any. Valid values [\"asian\", \"white\", \"middle eastern\", \"indian\", \"latino\", \"black\", \"latino hispanic\"]\n",
    "    specific_emotion (str) - Specific emotion to be considered, if any. Valid values [\"angry\", \"fear\", \"neutral\", \"sad\", \"disgust\", \"happy\", \"surprise\"]\n",
    "\n",
    "    Returns:\n",
    "    None.\n",
    "    \"\"\"\n",
    "    \n",
    "    # Age group labels seperated in intervals of ten\n",
    "    age_groups = [\"0-2\", \"3-9\", \"10-19\", \"20-29\", \"30-39\", \"40-49\", \"50-59\", \"60-69\", \"70+\"]\n",
    "    count = [0,0,0,0,0,0,0,0,0] \n",
    "    \n",
    "    # Looping through the instances in the data\n",
    "    for instance in data:\n",
    "        \n",
    "        # Enforcing gender constraints \n",
    "        if specific_gender != None:\n",
    "            if data[instance][1][\"gender\"].lower() != specific_gender.lower():\n",
    "                continue\n",
    "                \n",
    "        # Enforcing race constraints          \n",
    "        if specific_race != None:\n",
    "            if data[instance][1][\"race\"].lower() != specific_race.lower():\n",
    "                continue\n",
    "                \n",
    "        # Enforcing emotion constraints         \n",
    "        if specific_emotion != None:\n",
    "            if data[instance][1][\"emotion\"].lower() != specific_emotion.lower():\n",
    "                continue\n",
    "    \n",
    "        # Retrieving instance age\n",
    "        mAge = int(data[instance][1][\"age\"])\n",
    "        \n",
    "        # Incrementing counters\n",
    "        if mAge >= 1 and mAge <= 2:\n",
    "            count[0]+=1\n",
    "        elif mAge >= 3 and mAge <= 9:\n",
    "            count[1]+=1\n",
    "        elif mAge >= 10 and mAge <= 19:\n",
    "            count[2]+=1\n",
    "        elif mAge >= 20 and mAge <= 29:\n",
    "            count[3]+=1\n",
    "        elif mAge >= 30 and mAge <= 39:\n",
    "            count[4]+=1\n",
    "        elif mAge >= 40 and mAge <= 49:\n",
    "            count[5]+=1\n",
    "        elif mAge >= 50 and mAge <= 51:\n",
    "            count[6]+=1\n",
    "        elif mAge >= 60 and mAge <= 61:\n",
    "            count[7]+=1\n",
    "        elif mAge >= 70:\n",
    "            count[8]+=1\n",
    "        else:\n",
    "            print(\"Invalid Age Detected: \", mAge)\n",
    "\n",
    "    # Creating bar chart\n",
    "    plt.bar(age_groups, count)\n",
    "    \n",
    "    # Adding labels and title\n",
    "    plt.xlabel('Age Group')\n",
    "    plt.ylabel('Count')\n",
    "    plt.title('Age Group Distribution')\n",
    "    \n",
    "    # Adding annotations with values above each bar\n",
    "    for i, value in enumerate(count):\n",
    "        # Add text label at calculated position\n",
    "        plt.text(i, value, str(value), ha='center', va='bottom')\n",
    "\n",
    "    # Showing the plot\n",
    "    plt.show()"
   ]
  },
  {
   "cell_type": "code",
   "execution_count": 34,
   "metadata": {},
   "outputs": [],
   "source": [
    "def ScatterPlotDisplay2D(data, x_axis_label, y_axis_label, specific_gender=None, specific_race=None, specific_emotion=None):\n",
    "    \"\"\" \n",
    "    Description:\n",
    "    This function serves to display a 2D scatter plot in relation to the DeepFace data passed.\n",
    "    x_axis_label/y_axis_label = \"age\"/\"race\"/\"emotion\"/\"gender\"\n",
    "    specific_age is not included as each data point only has a singular age \n",
    "    \n",
    "    Parameters:\n",
    "    data (dict) - Dictionary containing the information relevant to each image.\n",
    "    x_axis_label (str) - Specific parameter to plot along the x-axis. Valid values [\"age\", \"gender\", \"race\", \"emotion\"]\n",
    "    y_axis_label (str) - Specific parameter to plot along the y-axis. Valid values [\"age\", \"gender\", \"race\", \"emotion\"]\n",
    "    specific_gender (str) - Specific gender to be considered, if any.  Valid values [\"male\", \"female\"]\n",
    "    specific_race (str) - Specific race to be considered, if any. Valid values [\"asian\", \"white\", \"middle eastern\", \"indian\", \"latino\", \"black\", \"latino hispanic\"]\n",
    "    specific_age (int) - Specific age to be considered, if any.\n",
    "\n",
    "    Returns:\n",
    "    None.\n",
    "    \"\"\"\n",
    "    \n",
    "    x_values = []\n",
    "    y_values = []\n",
    "    colors = []\n",
    "\n",
    "    for instance in data:\n",
    "        if x_axis_label.lower() == \"age\":\n",
    "            x_values.append(data[instance][2][x_axis_label])\n",
    "        elif x_axis_label.lower() == \"gender\":\n",
    "            x_values.append(data[instance][2][x_axis_label][specific_gender.lower()])\n",
    "        elif x_axis_label.lower() == \"race\":\n",
    "            x_values.append(data[instance][2][x_axis_label][specific_race.lower()])\n",
    "        elif x_axis_label.lower() == \"emotion\":\n",
    "            x_values.append(data[instance][2][x_axis_label][specific_emotion.lower()])\n",
    "\n",
    "        if y_axis_label.lower() == \"age\":\n",
    "            y_values.append(data[instance][2][y_axis_label])\n",
    "        elif y_axis_label.lower() == \"gender\":\n",
    "            y_values.append(data[instance][2][y_axis_label][specific_gender.lower()])\n",
    "        elif y_axis_label.lower() == \"race\":\n",
    "            y_values.append(data[instance][2][y_axis_label][specific_race.lower()])\n",
    "        elif y_axis_label.lower() == \"emotion\":\n",
    "            y_values.append(data[instance][2][y_axis_label][specific_emotion.lower()])\n",
    "\n",
    "        colors.append(\"blue\")\n",
    "\n",
    "    plt.scatter(x_values, y_values, c=colors, s=8)\n",
    "    \n",
    "    # Add labels and title\n",
    "    x_axis_text = x_axis_label.capitalize()\n",
    "    if x_axis_label.lower() == \"gender\":\n",
    "        x_axis_text += \" (\"+ specific_gender +\") confidence score\"\n",
    "    elif x_axis_label.lower() == \"race\":\n",
    "        x_axis_text += \" (\"+ specific_race +\") confidence score\"\n",
    "    elif x_axis_label.lower() == \"emotion\":\n",
    "        x_axis_text += \" (\"+ specific_emotion +\") confidence score\"\n",
    "    \n",
    "    y_axis_text = y_axis_label.capitalize()\n",
    "    if y_axis_label.lower() == \"gender\":\n",
    "        y_axis_text += \" (\"+ specific_gender +\") confidence score\"\n",
    "    elif y_axis_label.lower() == \"race\":\n",
    "        y_axis_text += \" (\"+ specific_race +\") confidence score\"\n",
    "    elif y_axis_label.lower() == \"emotion\":\n",
    "        y_axis_text += \" (\"+ specific_emotion +\") confidence score\"\n",
    "\n",
    "    plt.xlabel(x_axis_text)\n",
    "    plt.ylabel(y_axis_text)\n",
    "    plt.title('Scatter Plot of Demographics')\n",
    "\n",
    "    # Show the plot\n",
    "    plt.show()"
   ]
  },
  {
   "cell_type": "code",
   "execution_count": 35,
   "metadata": {},
   "outputs": [],
   "source": [
    "def ScatterPlotDisplay3D(data, specific_gender=None, specific_race=None):\n",
    "    \"\"\" \n",
    "    Description:\n",
    "    This function serves to display a 3D scatter plot in relation to the DeepFace data passed. The x-axis (gender), y-axis (race), z-axis (age)\n",
    "    \n",
    "    Parameters:\n",
    "    data (dict) - Dictionary containing the information relevant to each image.\n",
    "    specific_gender (str) - Specific gender to be considered, if any. Valid values [\"male\", \"female\"]\n",
    "    specific_race (str) - Specific race to be considered, if any. Valid values [\"asian\", \"white\", \"middle eastern\", \"indian\", \"latino\", \"black\", \"latino hispanic\"]\n",
    "\n",
    "    Returns:\n",
    "    None.\n",
    "    \"\"\"\n",
    "\n",
    "    x_values = []\n",
    "    y_values = []\n",
    "    z_values = []\n",
    "    colors = []\n",
    "\n",
    "    for instance in data:\n",
    "        x_values.append(data[instance][2][\"gender\"][specific_gender.lower()])\n",
    "        y_values.append(data[instance][2][\"race\"][specific_race.lower()])\n",
    "        z_values.append(data[instance][2][\"age\"])\n",
    "        colors.append(\"blue\")\n",
    "\n",
    "    # Create the 3D scatter plot with interactivity\n",
    "    fig = px.scatter_3d(x=x_values, y=y_values, z=z_values)  \n",
    "    \n",
    "    # Add labels and title\n",
    "    x_axis_text = \"Gender (\"+specific_gender+\") confidence score\"\n",
    "    y_axis_text = \"Race (\"+specific_race+\") confidence score\"\n",
    "    z_axis_text = \"Age\"\n",
    "\n",
    "    fig.update_layout(scene = {\n",
    "                    \"xaxis_title\":x_axis_text,\n",
    "                    \"yaxis_title\":y_axis_text,\n",
    "                    \"zaxis_title\":z_axis_text},\n",
    "                    margin={\"r\":20, \"b\":10, \"l\":10, \"t\":10})\n",
    "\n",
    "    # Show the interactive plot\n",
    "    fig.show()"
   ]
  },
  {
   "cell_type": "code",
   "execution_count": 36,
   "metadata": {},
   "outputs": [],
   "source": [
    "def MetricCenterDistanceDisplay(data,  category, type):\n",
    "    \"\"\" \n",
    "    Description:\n",
    "    This function serves to plot a graph showcasing the area taken up by the person in the image or their distance from the center.\n",
    "    \n",
    "    Parameters:\n",
    "    data (dict) - Dictionary containing the information relevant to each image.\n",
    "    distance_val_list (list) - List containing the distance between the centers of the image and the center of the bounding box in each image.\n",
    "    area_val_list (list) - List containing the percentage of the image taken up by the bounding box in each image.\n",
    "    category (str) - Specific parameter to plot along the x-axis. Valid values [\"age\", \"gender\", \"race\", \"emotion\"]\n",
    "    type (str) - Specific parameter to plot along the y-axis. Valid values [\"distance\", \"area\"]\n",
    "\n",
    "    Returns:\n",
    "    None.\n",
    "    \"\"\"\n",
    "\n",
    "    # Checking if the category is valid\n",
    "    if category not in ['age', 'gender', 'race', 'emotion']:\n",
    "        raise ValueError(\"Invalid value for category. It should be 'age', 'gender', 'race' or 'emotion'.\")\n",
    "    \n",
    "    # Checking if the type is valid\n",
    "    if type not in ['distance', 'area']:\n",
    "        raise ValueError(\"Invalid value for category. It should be 'distance', 'area'.\")\n",
    "    \n",
    "    # Assigning the correct list based on the type\n",
    "    if type == 'distance':\n",
    "        cat_value = \"center_dist\"  \n",
    "        yLabel = 'Distance From Center'\n",
    "    else:\n",
    "        cat_value = \"space\"  \n",
    "        yLabel = 'Person Area'\n",
    "\n",
    "    tmp = {}\n",
    "    for index in data:\n",
    "        if data[index][1][category] in tmp:\n",
    "            tmp[data[index][1][category]].append(float(data[index][1][cat_value]))\n",
    "        else:\n",
    "            tmp[data[index][1][category]] = [float(data[index][1][cat_value])]\n",
    "\n",
    "    # Iterating through key-value pairs\n",
    "    for key, values in tmp.items():\n",
    "        tmp[key] = statistics.median(values)\n",
    "    \n",
    "    tmp = dict(sorted(tmp.items()))\n",
    "\n",
    "    # Plotting the line\n",
    "    plt.plot(list(tmp.keys()),list(tmp.values()), color='red', marker='o', linestyle='solid')\n",
    "\n",
    "    # Adding labels and title\n",
    "    plt.ylabel(yLabel)\n",
    "    plt.xlabel(category.capitalize())\n",
    "    plt.title('Median '+yLabel+' - '+category.capitalize())\n",
    "\n",
    "    # Show the plot\n",
    "    plt.show()"
   ]
  },
  {
   "cell_type": "code",
   "execution_count": 89,
   "metadata": {},
   "outputs": [
    {
     "data": {
      "image/png": "[encoded data removed]",
      "text/plain": [
       "<Figure size 640x480 with 1 Axes>"
      ]
     },
     "metadata": {},
     "output_type": "display_data"
    },
    {
     "data": {
      "image/png": "[encoded data removed]",
      "text/plain": [
       "<Figure size 640x480 with 1 Axes>"
      ]
     },
     "metadata": {},
     "output_type": "display_data"
    },
    {
     "data": {
      "image/png": "[encoded data removed]",
      "text/plain": [
       "<Figure size 640x480 with 1 Axes>"
      ]
     },
     "metadata": {},
     "output_type": "display_data"
    },
    {
     "data": {
      "image/png": "[encoded data removed]",
      "text/plain": [
       "<Figure size 640x480 with 1 Axes>"
      ]
     },
     "metadata": {},
     "output_type": "display_data"
    },
    {
     "data": {
      "image/png": "[encoded data removed]",
      "text/plain": [
       "<Figure size 640x480 with 1 Axes>"
      ]
     },
     "metadata": {},
     "output_type": "display_data"
    },
    {
     "data": {
      "image/png": "[encoded data removed]",
      "text/plain": [
       "<Figure size 640x480 with 1 Axes>"
      ]
     },
     "metadata": {},
     "output_type": "display_data"
    },
    {
     "data": {
      "application/vnd.plotly.v1+json": {
       "config": {
        "plotlyServerURL": "https://plot.ly"
       },
       "data": [
        {
         "hovertemplate": "x=%{x}<br>y=%{y}<br>z=%{z}<extra></extra>",
         "legendgroup": "",
         "marker": {
          "color": "#636efa",
          "symbol": "circle"
         },
         "mode": "markers",
         "name": "",
         "scene": "scene",
         "showlegend": false,
         "type": "scatter3d",
         "x": [
          1.1948413215577602,
          99.9975323677063,
          0.0330351700540632,
          0.0017189227946801111,
          99.99301433563232,
          61.49234175682068,
          0.00001660078225995676,
          97.70837426185608,
          0.05409478908404708,
          0.24844689760357141,
          98.21720719337463,
          99.72946047782898,
          99.992835521698,
          99.79642629623413,
          0.021004605514463037,
          94.3596601486206,
          3.5385020077228546,
          5.773078459725411e-7,
          99.73796606063843,
          90.49274921417236,
          0.000019912123150334082,
          98.69410395622253,
          0.00008804373123894038,
          99.92607235908508,
          99.99644756317139,
          0.0024484848836436868,
          90.25151133537292,
          99.9982237815857,
          97.41753935813904,
          25.74767768383026,
          99.98732805252075,
          0.5984220188111067,
          0.03124215581919998,
          99.65701103210449,
          2.459332160651684,
          99.46510195732117,
          0.00003946214803818293,
          0.0216376269236207,
          92.0953094959259,
          94.25031542778015,
          99.41893815994263,
          98.6774206161499,
          0.006511771061923355,
          99.99666213989258,
          99.99414682388306,
          95.98047137260437,
          99.99399185180664,
          99.9798834323883,
          89.10381197929382,
          99.97697472572327,
          99.99825954437256,
          84.93711948394775,
          0.13373290421441197,
          0.000032348498280043714,
          98.52163791656494,
          0.06378316320478916,
          94.65243220329285,
          0.0003532772780090454,
          10.598255693912506,
          95.67106366157532,
          0.0006752042281732429,
          99.97667670249939,
          43.747156858444214,
          0.05802108789794147,
          0.0016631454855087213,
          99.85439777374268,
          85.48429608345032,
          0.00009588788998371456,
          99.86692667007446,
          98.25619459152222,
          92.58795976638794,
          0.0007767085662635509,
          90.79598188400269,
          23.42979609966278,
          83.94062519073486,
          0.006676291377516463,
          0.05266895750537515,
          1.3845146633684635,
          0.06685564294457436,
          0.00002997798844717181,
          99.98548030853271,
          99.99995231628418,
          0.0000069026498294988414,
          0.017109500186052173,
          91.0490870475769,
          0.012072397657902911,
          0.015051328227855265,
          65.63224792480469,
          2.421855181455612,
          82.71284699440002,
          99.99909400939941,
          80.37126064300537,
          0.08843901450745761,
          38.78542184829712,
          94.63087916374207,
          99.81324076652527,
          99.83079433441162
         ],
         "y": [
          2.345911133776768,
          24.00408238172531,
          0.99099983754756,
          98.96332037886138,
          53.80831956863403,
          18.14397234582736,
          29.69639357285423,
          19.191652536392212,
          96.33038640022278,
          23.77040698881066,
          0.000001318068409972284,
          83.62954659814199,
          48.456308245658875,
          99.58757758140564,
          92.49754637509031,
          47.230678631703775,
          46.37204749917418,
          73.79321172318319,
          53.2046377658844,
          43.79163384437561,
          99.99908804888058,
          0.21764307482325138,
          63.66678476333618,
          38.219478024213196,
          48.2396274805069,
          99.99988079071045,
          99.05754918203051,
          64.85589146614075,
          99.4548082026725,
          1.7146283760666847,
          29.454654986221193,
          66.48919385800434,
          67.14614629745483,
          10.976800231742873,
          0.12203563237562776,
          18.39022715208207,
          0.023073989723343402,
          16.24874621629715,
          96.43738865852356,
          45.607250928878784,
          79.50485944747925,
          13.401359104786133,
          99.94812607765198,
          59.88851903540123,
          20.26021182537079,
          97.87154197692871,
          99.29251670837402,
          66.44871034912529,
          87.77962327003479,
          8.122768819937704e-32,
          66.07223749160767,
          27.46948003768921,
          99.02308583259583,
          31.241828203201294,
          99.99884366989136,
          97.07074165344238,
          94.90437507629395,
          99.88147021752951,
          8.139710128307343,
          87.11090683937073,
          72.30941653251648,
          14.780894802862097,
          99.29234381272458,
          97.58811564303824,
          70.4231167343994,
          99.52685830157151,
          53.60914425740906,
          63.5419487953186,
          0.0006653144679167317,
          35.47833859920502,
          98.72684471171169,
          99.63997606754589,
          84.61982791187431,
          50.867271423339844,
          56.07888436787631,
          99.99562501907349,
          2.846972830593586,
          99.24554224285735,
          72.41198420524597,
          73.57358178934942,
          79.87730859247549,
          23.63600879907608,
          55.45426607131958,
          99.89297389346206,
          99.9402642250061,
          0.0008952732059697155,
          93.36883425712585,
          60.63870191574097,
          55.78125715255737,
          73.90527725219727,
          96.85859661451558,
          92.72635535754891,
          61.80415153503418,
          73.99693441427536,
          92.36971230867954,
          35.0092351436615,
          2.8478486463427544
         ],
         "z": [
          27,
          34,
          31,
          37,
          33,
          37,
          29,
          32,
          42,
          26,
          36,
          39,
          33,
          23,
          28,
          38,
          30,
          31,
          25,
          27,
          31,
          28,
          31,
          26,
          31,
          33,
          31,
          32,
          45,
          32,
          30,
          30,
          36,
          26,
          29,
          33,
          35,
          36,
          31,
          33,
          62,
          39,
          39,
          29,
          33,
          33,
          23,
          34,
          34,
          33,
          28,
          34,
          34,
          33,
          36,
          36,
          33,
          27,
          28,
          30,
          35,
          29,
          39,
          32,
          39,
          42,
          33,
          32,
          22,
          25,
          32,
          26,
          40,
          34,
          33,
          27,
          29,
          36,
          32,
          31,
          22,
          32,
          32,
          33,
          27,
          31,
          34,
          32,
          33,
          32,
          33,
          41,
          33,
          32,
          38,
          31,
          37
         ]
        }
       ],
       "layout": {
        "legend": {
         "tracegroupgap": 0
        },
        "margin": {
         "b": 10,
         "l": 10,
         "r": 20,
         "t": 10
        },
        "scene": {
         "domain": {
          "x": [
           0,
           1
          ],
          "y": [
           0,
           1
          ]
         },
         "xaxis": {
          "title": {
           "text": "Gender (male) confidence score"
          }
         },
         "yaxis": {
          "title": {
           "text": "Race (white) confidence score"
          }
         },
         "zaxis": {
          "title": {
           "text": "Age"
          }
         }
        },
        "template": {
         "data": {
          "bar": [
           {
            "error_x": {
             "color": "#2a3f5f"
            },
            "error_y": {
             "color": "#2a3f5f"
            },
            "marker": {
             "line": {
              "color": "#E5ECF6",
              "width": 0.5
             },
             "pattern": {
              "fillmode": "overlay",
              "size": 10,
              "solidity": 0.2
             }
            },
            "type": "bar"
           }
          ],
          "barpolar": [
           {
            "marker": {
             "line": {
              "color": "#E5ECF6",
              "width": 0.5
             },
             "pattern": {
              "fillmode": "overlay",
              "size": 10,
              "solidity": 0.2
             }
            },
            "type": "barpolar"
           }
          ],
          "carpet": [
           {
            "aaxis": {
             "endlinecolor": "#2a3f5f",
             "gridcolor": "white",
             "linecolor": "white",
             "minorgridcolor": "white",
             "startlinecolor": "#2a3f5f"
            },
            "baxis": {
             "endlinecolor": "#2a3f5f",
             "gridcolor": "white",
             "linecolor": "white",
             "minorgridcolor": "white",
             "startlinecolor": "#2a3f5f"
            },
            "type": "carpet"
           }
          ],
          "choropleth": [
           {
            "colorbar": {
             "outlinewidth": 0,
             "ticks": ""
            },
            "type": "choropleth"
           }
          ],
          "contour": [
           {
            "colorbar": {
             "outlinewidth": 0,
             "ticks": ""
            },
            "colorscale": [
             [
              0,
              "#0d0887"
             ],
             [
              0.1111111111111111,
              "#46039f"
             ],
             [
              0.2222222222222222,
              "#7201a8"
             ],
             [
              0.3333333333333333,
              "#9c179e"
             ],
             [
              0.4444444444444444,
              "#bd3786"
             ],
             [
              0.5555555555555556,
              "#d8576b"
             ],
             [
              0.6666666666666666,
              "#ed7953"
             ],
             [
              0.7777777777777778,
              "#fb9f3a"
             ],
             [
              0.8888888888888888,
              "#fdca26"
             ],
             [
              1,
              "#f0f921"
             ]
            ],
            "type": "contour"
           }
          ],
          "contourcarpet": [
           {
            "colorbar": {
             "outlinewidth": 0,
             "ticks": ""
            },
            "type": "contourcarpet"
           }
          ],
          "heatmap": [
           {
            "colorbar": {
             "outlinewidth": 0,
             "ticks": ""
            },
            "colorscale": [
             [
              0,
              "#0d0887"
             ],
             [
              0.1111111111111111,
              "#46039f"
             ],
             [
              0.2222222222222222,
              "#7201a8"
             ],
             [
              0.3333333333333333,
              "#9c179e"
             ],
             [
              0.4444444444444444,
              "#bd3786"
             ],
             [
              0.5555555555555556,
              "#d8576b"
             ],
             [
              0.6666666666666666,
              "#ed7953"
             ],
             [
              0.7777777777777778,
              "#fb9f3a"
             ],
             [
              0.8888888888888888,
              "#fdca26"
             ],
             [
              1,
              "#f0f921"
             ]
            ],
            "type": "heatmap"
           }
          ],
          "heatmapgl": [
           {
            "colorbar": {
             "outlinewidth": 0,
             "ticks": ""
            },
            "colorscale": [
             [
              0,
              "#0d0887"
             ],
             [
              0.1111111111111111,
              "#46039f"
             ],
             [
              0.2222222222222222,
              "#7201a8"
             ],
             [
              0.3333333333333333,
              "#9c179e"
             ],
             [
              0.4444444444444444,
              "#bd3786"
             ],
             [
              0.5555555555555556,
              "#d8576b"
             ],
             [
              0.6666666666666666,
              "#ed7953"
             ],
             [
              0.7777777777777778,
              "#fb9f3a"
             ],
             [
              0.8888888888888888,
              "#fdca26"
             ],
             [
              1,
              "#f0f921"
             ]
            ],
            "type": "heatmapgl"
           }
          ],
          "histogram": [
           {
            "marker": {
             "pattern": {
              "fillmode": "overlay",
              "size": 10,
              "solidity": 0.2
             }
            },
            "type": "histogram"
           }
          ],
          "histogram2d": [
           {
            "colorbar": {
             "outlinewidth": 0,
             "ticks": ""
            },
            "colorscale": [
             [
              0,
              "#0d0887"
             ],
             [
              0.1111111111111111,
              "#46039f"
             ],
             [
              0.2222222222222222,
              "#7201a8"
             ],
             [
              0.3333333333333333,
              "#9c179e"
             ],
             [
              0.4444444444444444,
              "#bd3786"
             ],
             [
              0.5555555555555556,
              "#d8576b"
             ],
             [
              0.6666666666666666,
              "#ed7953"
             ],
             [
              0.7777777777777778,
              "#fb9f3a"
             ],
             [
              0.8888888888888888,
              "#fdca26"
             ],
             [
              1,
              "#f0f921"
             ]
            ],
            "type": "histogram2d"
           }
          ],
          "histogram2dcontour": [
           {
            "colorbar": {
             "outlinewidth": 0,
             "ticks": ""
            },
            "colorscale": [
             [
              0,
              "#0d0887"
             ],
             [
              0.1111111111111111,
              "#46039f"
             ],
             [
              0.2222222222222222,
              "#7201a8"
             ],
             [
              0.3333333333333333,
              "#9c179e"
             ],
             [
              0.4444444444444444,
              "#bd3786"
             ],
             [
              0.5555555555555556,
              "#d8576b"
             ],
             [
              0.6666666666666666,
              "#ed7953"
             ],
             [
              0.7777777777777778,
              "#fb9f3a"
             ],
             [
              0.8888888888888888,
              "#fdca26"
             ],
             [
              1,
              "#f0f921"
             ]
            ],
            "type": "histogram2dcontour"
           }
          ],
          "mesh3d": [
           {
            "colorbar": {
             "outlinewidth": 0,
             "ticks": ""
            },
            "type": "mesh3d"
           }
          ],
          "parcoords": [
           {
            "line": {
             "colorbar": {
              "outlinewidth": 0,
              "ticks": ""
             }
            },
            "type": "parcoords"
           }
          ],
          "pie": [
           {
            "automargin": true,
            "type": "pie"
           }
          ],
          "scatter": [
           {
            "fillpattern": {
             "fillmode": "overlay",
             "size": 10,
             "solidity": 0.2
            },
            "type": "scatter"
           }
          ],
          "scatter3d": [
           {
            "line": {
             "colorbar": {
              "outlinewidth": 0,
              "ticks": ""
             }
            },
            "marker": {
             "colorbar": {
              "outlinewidth": 0,
              "ticks": ""
             }
            },
            "type": "scatter3d"
           }
          ],
          "scattercarpet": [
           {
            "marker": {
             "colorbar": {
              "outlinewidth": 0,
              "ticks": ""
             }
            },
            "type": "scattercarpet"
           }
          ],
          "scattergeo": [
           {
            "marker": {
             "colorbar": {
              "outlinewidth": 0,
              "ticks": ""
             }
            },
            "type": "scattergeo"
           }
          ],
          "scattergl": [
           {
            "marker": {
             "colorbar": {
              "outlinewidth": 0,
              "ticks": ""
             }
            },
            "type": "scattergl"
           }
          ],
          "scattermapbox": [
           {
            "marker": {
             "colorbar": {
              "outlinewidth": 0,
              "ticks": ""
             }
            },
            "type": "scattermapbox"
           }
          ],
          "scatterpolar": [
           {
            "marker": {
             "colorbar": {
              "outlinewidth": 0,
              "ticks": ""
             }
            },
            "type": "scatterpolar"
           }
          ],
          "scatterpolargl": [
           {
            "marker": {
             "colorbar": {
              "outlinewidth": 0,
              "ticks": ""
             }
            },
            "type": "scatterpolargl"
           }
          ],
          "scatterternary": [
           {
            "marker": {
             "colorbar": {
              "outlinewidth": 0,
              "ticks": ""
             }
            },
            "type": "scatterternary"
           }
          ],
          "surface": [
           {
            "colorbar": {
             "outlinewidth": 0,
             "ticks": ""
            },
            "colorscale": [
             [
              0,
              "#0d0887"
             ],
             [
              0.1111111111111111,
              "#46039f"
             ],
             [
              0.2222222222222222,
              "#7201a8"
             ],
             [
              0.3333333333333333,
              "#9c179e"
             ],
             [
              0.4444444444444444,
              "#bd3786"
             ],
             [
              0.5555555555555556,
              "#d8576b"
             ],
             [
              0.6666666666666666,
              "#ed7953"
             ],
             [
              0.7777777777777778,
              "#fb9f3a"
             ],
             [
              0.8888888888888888,
              "#fdca26"
             ],
             [
              1,
              "#f0f921"
             ]
            ],
            "type": "surface"
           }
          ],
          "table": [
           {
            "cells": {
             "fill": {
              "color": "#EBF0F8"
             },
             "line": {
              "color": "white"
             }
            },
            "header": {
             "fill": {
              "color": "#C8D4E3"
             },
             "line": {
              "color": "white"
             }
            },
            "type": "table"
           }
          ]
         },
         "layout": {
          "annotationdefaults": {
           "arrowcolor": "#2a3f5f",
           "arrowhead": 0,
           "arrowwidth": 1
          },
          "autotypenumbers": "strict",
          "coloraxis": {
           "colorbar": {
            "outlinewidth": 0,
            "ticks": ""
           }
          },
          "colorscale": {
           "diverging": [
            [
             0,
             "#8e0152"
            ],
            [
             0.1,
             "#c51b7d"
            ],
            [
             0.2,
             "#de77ae"
            ],
            [
             0.3,
             "#f1b6da"
            ],
            [
             0.4,
             "#fde0ef"
            ],
            [
             0.5,
             "#f7f7f7"
            ],
            [
             0.6,
             "#e6f5d0"
            ],
            [
             0.7,
             "#b8e186"
            ],
            [
             0.8,
             "#7fbc41"
            ],
            [
             0.9,
             "#4d9221"
            ],
            [
             1,
             "#276419"
            ]
           ],
           "sequential": [
            [
             0,
             "#0d0887"
            ],
            [
             0.1111111111111111,
             "#46039f"
            ],
            [
             0.2222222222222222,
             "#7201a8"
            ],
            [
             0.3333333333333333,
             "#9c179e"
            ],
            [
             0.4444444444444444,
             "#bd3786"
            ],
            [
             0.5555555555555556,
             "#d8576b"
            ],
            [
             0.6666666666666666,
             "#ed7953"
            ],
            [
             0.7777777777777778,
             "#fb9f3a"
            ],
            [
             0.8888888888888888,
             "#fdca26"
            ],
            [
             1,
             "#f0f921"
            ]
           ],
           "sequentialminus": [
            [
             0,
             "#0d0887"
            ],
            [
             0.1111111111111111,
             "#46039f"
            ],
            [
             0.2222222222222222,
             "#7201a8"
            ],
            [
             0.3333333333333333,
             "#9c179e"
            ],
            [
             0.4444444444444444,
             "#bd3786"
            ],
            [
             0.5555555555555556,
             "#d8576b"
            ],
            [
             0.6666666666666666,
             "#ed7953"
            ],
            [
             0.7777777777777778,
             "#fb9f3a"
            ],
            [
             0.8888888888888888,
             "#fdca26"
            ],
            [
             1,
             "#f0f921"
            ]
           ]
          },
          "colorway": [
           "#636efa",
           "#EF553B",
           "#00cc96",
           "#ab63fa",
           "#FFA15A",
           "#19d3f3",
           "#FF6692",
           "#B6E880",
           "#FF97FF",
           "#FECB52"
          ],
          "font": {
           "color": "#2a3f5f"
          },
          "geo": {
           "bgcolor": "white",
           "lakecolor": "white",
           "landcolor": "#E5ECF6",
           "showlakes": true,
           "showland": true,
           "subunitcolor": "white"
          },
          "hoverlabel": {
           "align": "left"
          },
          "hovermode": "closest",
          "mapbox": {
           "style": "light"
          },
          "paper_bgcolor": "white",
          "plot_bgcolor": "#E5ECF6",
          "polar": {
           "angularaxis": {
            "gridcolor": "white",
            "linecolor": "white",
            "ticks": ""
           },
           "bgcolor": "#E5ECF6",
           "radialaxis": {
            "gridcolor": "white",
            "linecolor": "white",
            "ticks": ""
           }
          },
          "scene": {
           "xaxis": {
            "backgroundcolor": "#E5ECF6",
            "gridcolor": "white",
            "gridwidth": 2,
            "linecolor": "white",
            "showbackground": true,
            "ticks": "",
            "zerolinecolor": "white"
           },
           "yaxis": {
            "backgroundcolor": "#E5ECF6",
            "gridcolor": "white",
            "gridwidth": 2,
            "linecolor": "white",
            "showbackground": true,
            "ticks": "",
            "zerolinecolor": "white"
           },
           "zaxis": {
            "backgroundcolor": "#E5ECF6",
            "gridcolor": "white",
            "gridwidth": 2,
            "linecolor": "white",
            "showbackground": true,
            "ticks": "",
            "zerolinecolor": "white"
           }
          },
          "shapedefaults": {
           "line": {
            "color": "#2a3f5f"
           }
          },
          "ternary": {
           "aaxis": {
            "gridcolor": "white",
            "linecolor": "white",
            "ticks": ""
           },
           "baxis": {
            "gridcolor": "white",
            "linecolor": "white",
            "ticks": ""
           },
           "bgcolor": "#E5ECF6",
           "caxis": {
            "gridcolor": "white",
            "linecolor": "white",
            "ticks": ""
           }
          },
          "title": {
           "x": 0.05
          },
          "xaxis": {
           "automargin": true,
           "gridcolor": "white",
           "linecolor": "white",
           "ticks": "",
           "title": {
            "standoff": 15
           },
           "zerolinecolor": "white",
           "zerolinewidth": 2
          },
          "yaxis": {
           "automargin": true,
           "gridcolor": "white",
           "linecolor": "white",
           "ticks": "",
           "title": {
            "standoff": 15
           },
           "zerolinecolor": "white",
           "zerolinewidth": 2
          }
         }
        }
       }
      }
     },
     "metadata": {},
     "output_type": "display_data"
    }
   ],
   "source": [
    "MetricCenterDistanceDisplay(DeepFaceDict, category='gender', type='distance')\n",
    "MetricGenderDisplay(DeepFaceDict, specific_race=None, specific_emotion=None, specific_age=None)\n",
    "MetricRaceDisplay(DeepFaceDict, specific_gender=None, specific_emotion=None, specific_age=None)\n",
    "MetricEmotionDisplay(DeepFaceDict,  specific_gender=None, specific_race=None, specific_age=None)\n",
    "MetricAgeDisplay(DeepFaceDict, specific_gender=None, specific_race=None, specific_emotion=None)\n",
    "ScatterPlotDisplay2D(DeepFaceDict, x_axis_label=\"race\", y_axis_label=\"gender\", specific_gender=\"male\", specific_race=\"white\", specific_emotion=None)\n",
    "ScatterPlotDisplay3D(DeepFaceDict, specific_gender=\"male\", specific_race=\"white\")\n",
    "# ImageInfoDisplay(DeepFaceDict)"
   ]
  },
  {
   "cell_type": "markdown",
   "metadata": {},
   "source": [
    "# Merler et al. Bias Metric\n",
    "\n",
    "$ShannonEntropy(X) = -\\sum_{i=1}^{n}P(X=x_{i})\\cdot ln(P(X=x_{i}))$\n",
    "\n",
    "$SimpsonIndex(X) = \\frac{1}{\\sum_{i=1}^{n}P(X=x_{i})^2}$\n",
    "\n",
    "$Evenness_{Shannon} = \\frac{H(X)}{ln(n)}$\n",
    "\n",
    "$Evenness_{Simpson} = \\frac{D(X)}{n}$"
   ]
  },
  {
   "cell_type": "code",
   "execution_count": 8,
   "metadata": {},
   "outputs": [],
   "source": [
    "def ShannonSimpsonMetrics(data):\n",
    "    \"\"\" \n",
    "    Description:\n",
    "    This function is used to work out the ShannonEntropy, SimpsonIndex, ShannonEvenness and SimpsonEvenness for the passed data.\n",
    "\n",
    "    Parameters:\n",
    "    data (dict) - Dictionary containing the information relevant to each image.\n",
    "\n",
    "    Returns:\n",
    "    n/a (dict) - Dictionary containing the the ShannonEntropy, SimpsonIndex, ShannonEvenness and SimpsonEvenness.\n",
    "    \"\"\"\n",
    "        \n",
    "    prob_gender = {\"male\": 0, \"female\": 0}\n",
    "    prob_race = {\"asian\": 0, \"white\": 0, \"middle eastern\": 0, \"indian\": 0, \"latino hispanic\": 0, \"black\": 0}\n",
    "    prob_emotion = {\"angry\": 0, \"fear\": 0, \"neutral\": 0, \"sad\": 0, \"disgust\": 0, \"happy\": 0, \"surprise\": 0}\n",
    "    prob_age = {\"0-2\":0,\"3-9\":0,\"10-19\":0,\"20-29\":0,\"30-39\":0,\"40-49\":0,\"50-59\":0,\"60-69\":0,\"70+\":0}\n",
    "    dict_list = [prob_gender, prob_race, prob_emotion, prob_age]\n",
    "\n",
    "    # Working out the number of each metric present across the set of images\n",
    "    for index in range(len(data)):\n",
    "        prob_gender[data[index][1][\"gender\"]] += 1\n",
    "\n",
    "        prob_race[data[index][1][\"race\"]] += 1\n",
    "\n",
    "        prob_emotion[data[index][1][\"emotion\"]] += 1\n",
    "\n",
    "        age = int(data[index][1][\"age\"])\n",
    "\n",
    "        if age >= 0 and age <= 2: \n",
    "            prob_age[\"0-2\"] += 1\n",
    "        elif age >= 3 and age <= 9:\n",
    "            prob_age[\"3-9\"] += 1\n",
    "        elif age >= 10 and age <= 19:\n",
    "            prob_age[\"10-19\"] += 1\n",
    "        elif age >= 20 and age <= 29:\n",
    "            prob_age[\"20-29\"] += 1\n",
    "        elif age >= 30 and age <= 39:\n",
    "            prob_age[\"30-39\"] += 1\n",
    "        elif age >= 40 and age <= 49:\n",
    "            prob_age[\"40-49\"] += 1\n",
    "        elif age >= 50 and age <= 59:\n",
    "            prob_age[\"50-59\"] += 1\n",
    "        elif age >= 60 and age <= 69:\n",
    "            prob_age[\"60-69\"] += 1\n",
    "        elif age >= 70:\n",
    "            prob_age[\"70+\"] += 1\n",
    "\n",
    "    # Working out the probability that each metric is present across the set of images\n",
    "    for dict in dict_list:\n",
    "        for item in dict:\n",
    "            dict[item] /= len(data)\n",
    "\n",
    "    # Working out the shannon entropy for each metric\n",
    "    shannonEntropy = {\"gender\":0, \"race\":0, \"emotion\":0, \"age\":0}\n",
    "    for index, dict in enumerate(dict_list):\n",
    "        shannon_val = 0\n",
    "        for item in dict:\n",
    "            # Ignoring 0 values as ln(0) is undefined \n",
    "            if dict[item] != 0:\n",
    "                shannon_val += dict[item]*math.log(dict[item])\n",
    "        shannon_val = -shannon_val\n",
    "        shannonEntropy[list(shannonEntropy.keys())[index]] = shannon_val\n",
    "\n",
    "    simpsonIndex = {\"gender\":0, \"race\":0, \"emotion\":0, \"age\":0}\n",
    "    for index, dict in enumerate(dict_list):\n",
    "        simpson_val = 0\n",
    "        for item in dict:\n",
    "            simpson_val += dict[item]**2\n",
    "        simpson_val = 1/simpson_val\n",
    "        simpsonIndex[list(simpsonIndex.keys())[index]] = simpson_val\n",
    "\n",
    "    shannonEvenness = shannonEntropy.copy()\n",
    "    gender_count = sum(1 for value in prob_gender.values() if value > 0)\n",
    "    race_count = sum(1 for value in prob_race.values() if value > 0)\n",
    "    emotion_count = sum(1 for value in prob_emotion.values() if value > 0)\n",
    "    age_count = sum(1 for value in prob_age.values() if value > 0)\n",
    "\n",
    "    if shannonEvenness[\"gender\"] != 0:\n",
    "        shannonEvenness[\"gender\"] /= math.log(gender_count)\n",
    "\n",
    "    if shannonEvenness[\"race\"] != 0:\n",
    "        shannonEvenness[\"race\"] /= math.log(race_count)\n",
    "\n",
    "    if shannonEvenness[\"emotion\"] != 0:\n",
    "        shannonEvenness[\"emotion\"] /= math.log(emotion_count)\n",
    "\n",
    "    if shannonEvenness[\"age\"] != 0:\n",
    "        shannonEvenness[\"age\"] /= math.log(age_count)\n",
    "\n",
    "    simposonEvenness = simpsonIndex.copy()\n",
    "    simposonEvenness[\"gender\"] /= gender_count\n",
    "    simposonEvenness[\"race\"] /= race_count\n",
    "    simposonEvenness[\"emotion\"] /= emotion_count\n",
    "    simposonEvenness[\"age\"] /= age_count\n",
    "\n",
    "    return {\"ShannonEntropy\":shannonEntropy, \"SimpsonIndex\":simpsonIndex, \"ShannonEvenness\":shannonEvenness, \"SimpsonEvenness\":simposonEvenness}\n"
   ]
  },
  {
   "cell_type": "code",
   "execution_count": 90,
   "metadata": {},
   "outputs": [
    {
     "name": "stdout",
     "output_type": "stream",
     "text": [
      "ShannonEntropy:  {'gender': 0.6867033136653002, 'race': 0.9297903202046744, 'emotion': 1.3145259334016304, 'age': 0.8011554425269299}\n",
      "SimpsonIndex:  {'gender': 1.9746065057712487, 'race': 1.8627994456543255, 'emotion': 2.5395411605937923, 'age': 1.8481634256531134}\n",
      "ShannonEvenness:  {'gender': 0.9907034651869471, 'race': 0.5777112077585319, 'emotion': 0.6755326981771471, 'age': 0.5779114919574024}\n",
      "SimpsonEvenness:  {'gender': 0.9873032528856244, 'race': 0.37255988913086513, 'emotion': 0.36279159437054176, 'age': 0.46204085641327836}\n"
     ]
    },
    {
     "data": {
      "text/plain": [
       "{'ShannonEntropy': {'gender': 0.6867033136653002,\n",
       "  'race': 0.9297903202046744,\n",
       "  'emotion': 1.3145259334016304,\n",
       "  'age': 0.8011554425269299},\n",
       " 'SimpsonIndex': {'gender': 1.9746065057712487,\n",
       "  'race': 1.8627994456543255,\n",
       "  'emotion': 2.5395411605937923,\n",
       "  'age': 1.8481634256531134},\n",
       " 'ShannonEvenness': {'gender': 0.9907034651869471,\n",
       "  'race': 0.5777112077585319,\n",
       "  'emotion': 0.6755326981771471,\n",
       "  'age': 0.5779114919574024},\n",
       " 'SimpsonEvenness': {'gender': 0.9873032528856244,\n",
       "  'race': 0.37255988913086513,\n",
       "  'emotion': 0.36279159437054176,\n",
       "  'age': 0.46204085641327836}}"
      ]
     },
     "execution_count": 90,
     "metadata": {},
     "output_type": "execute_result"
    }
   ],
   "source": [
    "ShannonSimpsonMetrics(DeepFaceDict)"
   ]
  },
  {
   "cell_type": "markdown",
   "metadata": {},
   "source": [
    "# Zhao et al. Bias Metric \n",
    "$b(o,g) =  \\frac{c(o,g)}{\\sum_{x \\in \\{g_1...g_n\\}}c(o,x)}$"
   ]
  },
  {
   "cell_type": "code",
   "execution_count": 3,
   "metadata": {},
   "outputs": [],
   "source": [
    "# How To Use\n",
    "# 1. Load Images of a particular type (e.g. doctor)\n",
    "# 2. Run the code below to get the correlation between o (e.g. doctor) and the metrics G (e.g. male/female), \n",
    "#    the correlation is the  number of occurrences of o and g in a corpus.\n",
    "# 3. Finally, check if the correlations is greater than 1/G, if yes than o is positively correlated with g and may exhibit bias\n",
    "\n",
    "def CorrelationMetric(data):\n",
    "    \"\"\" \n",
    "    Description:\n",
    "    This function is used to work out the correlation between the images and labels.\n",
    "\n",
    "    Parameters:\n",
    "    data (dict) - Dictionary containing the information relevant to each image.\n",
    "\n",
    "    Returns:\n",
    "    None\n",
    "    \"\"\"\n",
    "        \n",
    "    correlation_gender = {\"male\": 0, \"female\": 0}\n",
    "    correlation_race = {\"asian\": 0, \"white\": 0, \"middle eastern\": 0, \"indian\": 0, \"latino hispanic\": 0, \"black\": 0}\n",
    "    correlation_emotion = {\"angry\": 0, \"fear\": 0, \"neutral\": 0, \"sad\": 0, \"disgust\": 0, \"happy\": 0, \"surprise\": 0}\n",
    "    correlation_age = {\"0-2\":0,\"3-9\":0,\"10-19\":0,\"20-29\":0,\"30-39\":0,\"40-49\":0,\"50-59\":0,\"60-69\":0,\"70+\":0}\n",
    "    dict_list = [correlation_gender, correlation_race, correlation_emotion, correlation_age]\n",
    "    count = len(data)\n",
    "\n",
    "    # Working out the number of each metric present across the set of images\n",
    "    for index in range(len(data)):\n",
    "        correlation_gender[data[index][1][\"gender\"]] += 1\n",
    "\n",
    "        correlation_race[data[index][1][\"race\"]] += 1\n",
    "\n",
    "        correlation_emotion[data[index][1][\"emotion\"]] += 1\n",
    "\n",
    "        age = int(data[index][1][\"age\"])\n",
    "\n",
    "        if age >= 0 and age <= 2: \n",
    "            correlation_age[\"0-2\"] += 1\n",
    "        elif age >= 3 and age <= 9:\n",
    "            correlation_age[\"3-9\"] += 1\n",
    "        elif age >= 10 and age <= 19:\n",
    "            correlation_age[\"10-19\"] += 1\n",
    "        elif age >= 20 and age <= 29:\n",
    "            correlation_age[\"20-29\"] += 1\n",
    "        elif age >= 30 and age <= 39:\n",
    "            correlation_age[\"30-39\"] += 1\n",
    "        elif age >= 40 and age <= 49:\n",
    "            correlation_age[\"40-49\"] += 1\n",
    "        elif age >= 50 and age <= 59:\n",
    "            correlation_age[\"50-59\"] += 1\n",
    "        elif age >= 60 and age <= 69:\n",
    "            correlation_age[\"60-69\"] += 1\n",
    "        elif age >= 70:\n",
    "            correlation_age[\"70+\"] += 1\n",
    "\n",
    "    for dict in dict_list:\n",
    "        for item in dict:\n",
    "            # Divide all values in the dictionary by count\n",
    "            dict[item] /= count\n",
    "            if dict[item] > 1/len(dict):\n",
    "                print(item, \"is positively correlated with the image type. \",dict[item], \" > \", 1/len(dict))"
   ]
  },
  {
   "cell_type": "code",
   "execution_count": 91,
   "metadata": {},
   "outputs": [
    {
     "name": "stdout",
     "output_type": "stream",
     "text": [
      "male is positively correlated with the image type.  0.5567010309278351  >  0.5\n",
      "white is positively correlated with the image type.  0.711340206185567  >  0.16666666666666666\n",
      "happy is positively correlated with the image type.  0.5979381443298969  >  0.14285714285714285\n",
      "20-29 is positively correlated with the image type.  0.24742268041237114  >  0.1111111111111111\n",
      "30-39 is positively correlated with the image type.  0.6907216494845361  >  0.1111111111111111\n"
     ]
    }
   ],
   "source": [
    "CorrelationMetric(DeepFaceDict)"
   ]
  },
  {
   "cell_type": "markdown",
   "metadata": {},
   "source": [
    "# No Longer Used Functions"
   ]
  },
  {
   "cell_type": "code",
   "execution_count": null,
   "metadata": {},
   "outputs": [],
   "source": [
    "# # Function used to measure the similarity between two images utilising the MSE\n",
    "# def ImageSimilarity(img1, img2, threshold=1000):\n",
    "\n",
    "#     # Checking if the images have the same dimensions\n",
    "#     # if img1.shape != img2.shape:\n",
    "#     img1 = cv2.resize(img1, [256,256])\n",
    "#     img2 = cv2.resize(img2, [256,256])\n",
    "#         # return False\n",
    "\n",
    "#     # Calculate the Mean Squared Error (MSE)\n",
    "#     mse = ((img1 - img2) ** 2).mean()\n",
    "    \n",
    "#     print(mse)\n",
    "\n",
    "#     # Compare MSE with threshold\n",
    "#     return mse < threshold"
   ]
  },
  {
   "cell_type": "code",
   "execution_count": null,
   "metadata": {},
   "outputs": [],
   "source": [
    "# # Function used to remove duplicate images from list\n",
    "# def return_non_duplicate_image_indexes(list_images, threshhold=1000):\n",
    "#     no_duplicate_indexes = []\n",
    "\n",
    "#     for index in range(len(list_images)):\n",
    "#         unique = True\n",
    "#         for index_2 in range(index, len(list_images)):\n",
    "#             if index != index_2:\n",
    "#                 if ImageSimilarity(list_images[index], list_images[index_2], threshhold):\n",
    "#                     unique = False\n",
    "#                     break\n",
    "\n",
    "#         if unique:\n",
    "#             no_duplicate_indexes.append(index)\n",
    "\n",
    "#     return no_duplicate_indexes"
   ]
  },
  {
   "cell_type": "code",
   "execution_count": null,
   "metadata": {},
   "outputs": [],
   "source": [
    "# Code-Link: https://colab.research.google.com/github/rom1504/clip-retrieval/blob/master/notebook/clip-client-query-api.ipynb#scrollTo=LtInBZF-vTuE\n",
    "# https://github.com/rom1504/clip-retrieval\n",
    "\n",
    "# Function used to retrive image links from the LAION-5B dataset\n",
    "# def RetrieveLaion5BImageLinks(text, aes_score, aes_weight, num_of_images):\n",
    "#     \"\"\" \n",
    "#     Description:\n",
    "#     This function is used to retrieve the image links from the LAION-5B dataset, which coencide with the passed parameters.\n",
    "    \n",
    "#     Parameters:\n",
    "#     text (str) - Text to query the dataset.\n",
    "#     aes_score (float) - Aesthetic score of the images to retrieve.\n",
    "#     aes_weight (float) - Aesthetic weight of the images to retrieve.\n",
    "#     num_of_images (int) - Number of images to retrieve.\n",
    "\n",
    "#     Returns:\n",
    "#     img_result (list) - List containing the resultant image links.\n",
    "#     \"\"\"\n",
    "\n",
    "#     # Connecting to the Clip client\n",
    "#     client = ClipClient(\n",
    "#         url=\"https://knn.laion.ai/knn-service\",\n",
    "#         indice_name=\"laion5B-H-14\",\n",
    "#         aesthetic_score=aes_score,\n",
    "#         aesthetic_weight=aes_weight,\n",
    "#         modality=Modality.IMAGE,\n",
    "#         num_images=num_of_images,\n",
    "#         deduplicate=True,\n",
    "#     )\n",
    "    \n",
    "#     # Retrieving the image links based on the text query\n",
    "#     img_result = client.query(text)\n",
    "        \n",
    "#     return img_result"
   ]
  },
  {
   "cell_type": "code",
   "execution_count": null,
   "metadata": {},
   "outputs": [],
   "source": [
    "# # Function used to combine the functionality of the RetrieveImages & RetrieveImagesFromLinks functions\n",
    "# # Note: This function ensures that the requested number of images are retrieved irrelevant of any errors \n",
    "# # and provides the added functionality of saving the images retrieved to disk\n",
    "# # Note: Requesting too many images will result in errors, if the specified numebr of images doesn't exist\n",
    "# def RetrieveImagesLAION(text, aes_score, aes_weight, num_of_images, save_images):\n",
    "#     \"\"\" \n",
    "#     Description:\n",
    "#     This function serves to combine the RetrieveImageLinks and RetrieveImagesFromLinks functions for ease of use. \n",
    "#     Unlike the independet function this function ensures that the requested number of images are retrieved irrelevant of any errors.\n",
    "    \n",
    "#     Parameters:\n",
    "#     text (str) - Text to query the dataset.\n",
    "#     aes_score (float) - Aesthetic score of the images to retrieve.\n",
    "#     aes_weight (float) - Aesthetic weight of the images to retrieve.\n",
    "#     num_of_images (int) - Number of images to retrieve.\n",
    "#     save_images (bool) - Boolean value to determine if the images should be saved to disk.\n",
    "\n",
    "#     Returns:\n",
    "#     images (list) - List containing the retrieved images.\n",
    "#     \"\"\"\n",
    "\n",
    "#     images = []\n",
    "    \n",
    "#     # Increasing the number of images required in case some images were failed to be retrieved\n",
    "#     noImages = num_of_images*2 \n",
    "    \n",
    "#     while len(images) < num_of_images:\n",
    "#         # Retrieving the image urls from LAION-5B dataset\n",
    "#         image_links = RetrieveLaion5BImageLinks(text, aes_score, aes_weight, noImages)\n",
    "\n",
    "#         # Retrieving the images from their respective urls\n",
    "#         images, failedImages = RetrieveImagesFromLinks(image_links)\n",
    "        \n",
    "#         # Increasing the number of images required in case some images were failed to be retrieved\n",
    "#         noImages = noImages*2\n",
    "    \n",
    "#     # Removing any extra images \n",
    "#     images = images[:num_of_images]\n",
    "#     print(\"Out of the \",len(image_links),\" image links retrieved \",failedImages,\" failed to result in an image.\")\n",
    "    \n",
    "#     if save_images:\n",
    "#         # Checking if the folder exists, and if not, creating it\n",
    "#         folder_path = Path(\"DownloadedImages\")\n",
    "#         if not folder_path.exists():\n",
    "#             folder_path.mkdir()\n",
    "    \n",
    "#         # Checking if the folder exists, and if not, creating it\n",
    "#         sub_folder_path = Path(os.path.join(\"DownloadedImages\",CamelCase(text)))\n",
    "#         if not sub_folder_path.exists():\n",
    "#             sub_folder_path.mkdir()\n",
    "        \n",
    "#         # Saving the images to disk\n",
    "#         for imgIndex in range(len(images)):\n",
    "#             save_path = os.path.join(sub_folder_path,str(imgIndex)+\".jpg\")\n",
    "#             cv2.imwrite(save_path, cv2.cvtColor(images[imgIndex], cv2.COLOR_BGR2RGB))\n",
    "#     return images"
   ]
  },
  {
   "cell_type": "code",
   "execution_count": null,
   "metadata": {},
   "outputs": [],
   "source": [
    "# # Function used to combine the the functionality of the RetrieveImagesLAION, DeepFaceProcess & ImageInfoDisplay functions\n",
    "# def SearchQueryFunc(text, aes_score, aes_weight, num_of_images):\n",
    "#     \"\"\" \n",
    "#     Description:\n",
    "#     This function serves to to combine the the functionality of the RetrieveImagesLAION, DeepFaceProcess & ImageInfoDisplay functions for ease of use.\n",
    "    \n",
    "#     Parameters:\n",
    "#     text (str) - Text to query the dataset.\n",
    "#     aes_score (float) - Aesthetic score of the images to retrieve.\n",
    "#     aes_weight (float) - Aesthetic weight of the images to retrieve.\n",
    "#     num_of_images (int) - Number of images to retrieve.\n",
    "\n",
    "#     Returns:\n",
    "#     None.\n",
    "#     \"\"\"\n",
    "  \n",
    "#     list_of_images = RetrieveImagesLAION(text, aes_score, aes_weight, num_of_images, False)  \n",
    "        \n",
    "#     # Processign the images via DeepFace API\n",
    "#     DeepFaceDict = DeepFaceProcess(list_of_images,text,False)\n",
    "    \n",
    "#     # Displaying the image & their information\n",
    "#     ImageInfoDisplay(DeepFaceDict)"
   ]
  }
 ],
 "metadata": {
  "kernelspec": {
   "display_name": "Python 3 (ipykernel)",
   "language": "python",
   "name": "python3"
  },
  "language_info": {
   "codemirror_mode": {
    "name": "ipython",
    "version": 3
   },
   "file_extension": ".py",
   "mimetype": "text/x-python",
   "name": "python",
   "nbconvert_exporter": "python",
   "pygments_lexer": "ipython3",
   "version": "3.9.16"
  }
 },
 "nbformat": 4,
 "nbformat_minor": 2
}
