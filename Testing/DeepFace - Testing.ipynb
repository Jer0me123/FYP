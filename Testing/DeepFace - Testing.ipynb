{
 "cells": [
  {
   "cell_type": "markdown",
   "metadata": {},
   "source": [
    "# FairFace - Pipeline"
   ]
  },
  {
   "cell_type": "markdown",
   "metadata": {},
   "source": [
    "### Required Libraries"
   ]
  },
  {
   "cell_type": "code",
   "execution_count": 1,
   "metadata": {},
   "outputs": [],
   "source": [
    "# pip install dlib"
   ]
  },
  {
   "cell_type": "code",
   "execution_count": 2,
   "metadata": {},
   "outputs": [],
   "source": [
    "import numpy as np\n",
    "import cv2\n",
    "import urllib.request\n",
    "import os\n",
    "import csv\n",
    "import tensorflow\n",
    "import urllib.request\n",
    "\n",
    "from clip_retrieval.clip_client import ClipClient, Modality\n",
    "from matplotlib import pyplot as plt\n",
    "from deepface import DeepFace\n",
    "from pathlib import Path\n",
    "from tqdm import tqdm\n",
    "\n",
    "from matplotlib import pyplot as plt\n",
    "import plotly.express as px\n",
    "import cv2\n",
    "import numpy as np\n",
    "from ultralytics import YOLO\n",
    "import tensorflow as tf\n",
    "import torch\n",
    "import math\n",
    "import pandas\n",
    "\n",
    "import torchvision\n",
    "from torchvision import datasets, models, transforms\n",
    "import torch\n",
    "import torch.nn as nn\n",
    "import dlib\n",
    "import pandas as pd\n",
    "import random\n",
    "import statistics"
   ]
  },
  {
   "cell_type": "code",
   "execution_count": 3,
   "metadata": {},
   "outputs": [],
   "source": [
    "def CamelCase(text):\n",
    "    \"\"\" \n",
    "    Description:\n",
    "    This function is used to convert text into camel case mainly used for determining file names.\n",
    "\n",
    "    Parameters:\n",
    "    text (str) - Text to be converted to camel case.\n",
    "\n",
    "    Returns:\n",
    "    camel_case_text (str) - The text converted to camel case.\n",
    "    \"\"\"\n",
    "    \n",
    "    # Splitting the text into words by space\n",
    "    words = text.split()\n",
    "\n",
    "    # Capitalising the first letter of each word\n",
    "    camel_case_words = (word.capitalize() for word in words)\n",
    "\n",
    "    # Joining the words together to form the CamelCase string\n",
    "    camel_case_text = ''.join(camel_case_words)\n",
    "\n",
    "    return camel_case_text"
   ]
  },
  {
   "cell_type": "code",
   "execution_count": 4,
   "metadata": {},
   "outputs": [],
   "source": [
    "def LoadImagesFromFolder(folder_path):\n",
    "    \"\"\" \n",
    "    Description:\n",
    "    This function is used to load images from the specified folder, mainly to avoid repeatedly going through the process of retrieving the same images. \n",
    "    However it can be used to load other images (GenerativeImages).\n",
    "\n",
    "    Parameters:\n",
    "    folder_path (str) - Path to the folder in which the images are stored.\n",
    "\n",
    "    Returns:\n",
    "    image_list (list) - List containing the loaded images.\n",
    "    \"\"\"\n",
    "\n",
    "    # Initialize an empty list to store the loaded images\n",
    "    image_list = []\n",
    "\n",
    "    list_of_files = os.listdir(folder_path)\n",
    "\n",
    "    # Loop through the files in the folder\n",
    "    for file_no in range(len(list_of_files)):\n",
    "        try:\n",
    "            filename = str(list_of_files[file_no])\n",
    "\n",
    "            if filename in list_of_files:\n",
    "                # Construct the full path to the image file\n",
    "                image_path = os.path.join(folder_path, filename)\n",
    "\n",
    "                # Load the image using cv2 in BGR format\n",
    "                image_bgr = cv2.imread(image_path)\n",
    "\n",
    "                if image_bgr is not None:\n",
    "                    # Convert BGR to RGB format\n",
    "                    image_rgb = cv2.cvtColor(image_bgr, cv2.COLOR_BGR2RGB)\n",
    "\n",
    "                    # Append the RGB image to the list\n",
    "                    image_list.append(image_rgb)\n",
    "        except:\n",
    "            pass\n",
    "    \n",
    "    return image_list"
   ]
  },
  {
   "cell_type": "code",
   "execution_count": 5,
   "metadata": {},
   "outputs": [],
   "source": [
    "def LoadMetricCSVFromFolder(csv_file_path):\n",
    "    \"\"\" \n",
    "    Description:\n",
    "    This function is used to load the image metrics (if saved) from the DeepFaceProcess function, so as to avoid running it multiple times for the same images.\n",
    "\n",
    "    Parameters:\n",
    "    csv_file_path (str) - Path to the file containing the metrics.\n",
    "\n",
    "    Returns:\n",
    "    data_dict (dict) - Dictionary containing the image and its metrics.\n",
    "    \"\"\"\n",
    "\n",
    "    data_dict = {}\n",
    "\n",
    "    with open(csv_file_path+\"\\\\output_data.csv\", mode='r', newline='') as file:\n",
    "        reader = csv.DictReader(file)\n",
    "        header = reader.fieldnames\n",
    "\n",
    "        image_data = []\n",
    "        for index, row in enumerate(reader):\n",
    "            image_no = int(row['Image_No'])\n",
    "            \n",
    "            image = cv2.cvtColor(cv2.imread(csv_file_path+\"\\\\\"+str(image_no)+\".jpg\"), cv2.COLOR_BGR2RGB)\n",
    "\n",
    "            tmp = {key: row[key] for key in header if row[key] != \"\"}\n",
    "            \n",
    "            # Removing the 'Image_No' key as we dont want it saved in the dictionary\n",
    "            tmp.pop('Image_No', None)\n",
    "            \n",
    "            if index % 2 == 0:\n",
    "                image_data.append(image)\n",
    "                image_data.append(tmp)\n",
    "            else:\n",
    "                image_data.append(tmp)\n",
    "                data_dict[image_no] = image_data\n",
    "                image_data = []\n",
    "\n",
    "    return data_dict"
   ]
  },
  {
   "cell_type": "code",
   "execution_count": 6,
   "metadata": {},
   "outputs": [],
   "source": [
    "def SaveMetricsCSV(sub_folder_path, metric_dict):\n",
    "    \"\"\" \n",
    "    Description:\n",
    "    This function serves to save the dominant values per image resultant from the DeepFaceProcess function to a CSV file. (Used only in DeepFaceProcess function)\n",
    "    \n",
    "    Parameters:\n",
    "    sub_folder_path (str) - Path to the folder in which the images are stored.\n",
    "    metric_dict (dict) - Dictionary containing the dominant values per image resultant from the DeepFaceProcess fucntion.\n",
    "\n",
    "    Returns:\n",
    "    None.\n",
    "    \"\"\"\n",
    "    # Specifying the CSV file path\n",
    "    csv_file_path = Path(os.path.join(sub_folder_path, 'output_data.csv'))\n",
    "\n",
    "    # Open the CSV file in write mode\n",
    "    with open(csv_file_path, 'w', newline='') as csv_file:\n",
    "        fieldNames = [\"Image_No\"]\n",
    "\n",
    "        # Getting the additional fields from the dictionary and adding them to the fieldnames list\n",
    "        additionalFields = list(metric_dict[0][1].keys())\n",
    "        fieldNames.extend(additionalFields)\n",
    "        writer = csv.DictWriter(csv_file, fieldnames=fieldNames)\n",
    "\n",
    "        # Writing the header row\n",
    "        writer.writeheader()\n",
    "\n",
    "        # Write each row for the given structure\n",
    "        for image_name, (_, dict1, dict2) in metric_dict.items():\n",
    "            # This list contains the image labels\n",
    "            label_row = {'Image_No': image_name}\n",
    "            # This list containst the confidence scores associated with the labels\n",
    "            confidence_score_row = {'Image_No': image_name}\n",
    "\n",
    "            # Writing the image properties for each row\n",
    "            for key in additionalFields:\n",
    "                # Adding the value where it is present otherwise adding an empty string\n",
    "                if key in dict1:\n",
    "                    label_row.update({key:dict1[key]})\n",
    "                else:\n",
    "                    label_row.update({key:\"\"})\n",
    "\n",
    "                if key in dict2:\n",
    "                    confidence_score_row.update({key:dict2[key]})\n",
    "                else:\n",
    "                    confidence_score_row.update({key:\"\"})\n",
    "\n",
    "            writer.writerow(label_row)\n",
    "            writer.writerow(confidence_score_row)"
   ]
  },
  {
   "cell_type": "code",
   "execution_count": 7,
   "metadata": {},
   "outputs": [],
   "source": [
    "def FindObjWithLargestArea(objs):\n",
    "    \"\"\" \n",
    "    Description:\n",
    "    This function serves to detect the object (face) with the largest area in the image. (Used only in DeepFaceProcess function)\n",
    "    \n",
    "    Parameters:\n",
    "    objs (dict) - Dictionary containing the information from the DeepFace.analyze function relevant to the image.\n",
    "\n",
    "    Returns:\n",
    "    objectIndex (int) - Index of the object taking up the largest area.\n",
    "    \"\"\"\n",
    "    largestArea = 0\n",
    "    objectIndex = 0\n",
    "\n",
    "    for index, obj in enumerate(objs):\n",
    "        if obj['region']['w'] * obj['region']['h'] > largestArea:\n",
    "            largestArea = obj['region']['w'] * obj['region']['h']\n",
    "            objectIndex = index\n",
    "    return objectIndex"
   ]
  },
  {
   "cell_type": "code",
   "execution_count": 8,
   "metadata": {},
   "outputs": [],
   "source": [
    "def YOLODetectPerson(model, images, confidence_threshold=0.5):\n",
    "    \"\"\" \n",
    "    Description:\n",
    "    This function serves to detect an entire person in an image.\n",
    "    \n",
    "    Parameters:\n",
    "    model - YOLO model used to detect the person in the image.\n",
    "    images (list) - List containing the images to be processed.\n",
    "    confidence_threshold (float) - Confidence threshold to filter out predictions below the threshold.\n",
    "\n",
    "    Returns:\n",
    "    cropped_images (list) - List containing the cropped images.\n",
    "    dist_between_centers (list) - List containing the distance between the centers of the image and the center of the bounding box in each image.\n",
    "    space_takenup (list) - List containing the percentage of the image taken up by the bounding box in each image.\n",
    "    \"\"\"\n",
    "    \n",
    "    cropped_images = []\n",
    "    dist_between_centers = []\n",
    "    space_takenup = []\n",
    "\n",
    "    for input_image in images:\n",
    "        # Making predictions\n",
    "        predictions = model.predict(input_image, classes=0)\n",
    "\n",
    "        # Extracting the bounding box coordinates, prediction confidance, prediction class\n",
    "        boxes = predictions[0].boxes.xyxy  \n",
    "        scores = predictions[0].boxes.conf\n",
    "        classes = predictions[0].boxes.cls\n",
    "\n",
    "        # Filtering out predictions below the confidence threshold\n",
    "        filtered_indices = torch.where(scores > confidence_threshold)[0]\n",
    "        filtered_boxes = boxes[filtered_indices]\n",
    "        filtered_classes = classes[filtered_indices]\n",
    "\n",
    "        # Finding the area of the image\n",
    "        area_of_image = input_image.shape[0] * input_image.shape[1]\n",
    "        image_center_x = input_image.shape[1] // 2\n",
    "        image_center_y = input_image.shape[0] // 2\n",
    "\n",
    "\n",
    "        for box, class_id in zip(filtered_boxes, filtered_classes):\n",
    "            box = box.cpu().numpy().astype(int)\n",
    "            class_id = int(class_id.cpu().numpy())\n",
    "\n",
    "            # Crop the image based on the bounding box\n",
    "            cropped_image = input_image[box[1]:box[3], box[0]:box[2]]\n",
    "            cropped_images.append(cropped_image)\n",
    "\n",
    "            area_of_cropped_image = cropped_image.shape[0] * cropped_image.shape[1]\n",
    "            space_takenup.append(area_of_cropped_image/area_of_image * 100)\n",
    "\n",
    "            # Add a dot at the center\n",
    "            center_x = (box[0] + box[2]) // 2\n",
    "            center_y = (box[1] + box[3]) // 2\n",
    "\n",
    "            distance_between_centers = math.dist([center_x, center_y], [image_center_x, image_center_y])\n",
    "            dist_between_centers.append(distance_between_centers)\n",
    "\n",
    "    return cropped_images, dist_between_centers, space_takenup"
   ]
  },
  {
   "cell_type": "markdown",
   "metadata": {},
   "source": [
    "### FairFace Model\n",
    "\n",
    "link: https://github.com/dchen236/FairFace"
   ]
  },
  {
   "cell_type": "code",
   "execution_count": 9,
   "metadata": {},
   "outputs": [],
   "source": [
    "# This function expectes the images to contain the face only and not the entire image\n",
    "def FairFaceProcess(listOfImages, fairFaceModel):\n",
    "    \"\"\" \n",
    "    Description:\n",
    "    This function serves to determine the properties of the primary detected face in an image. \n",
    "    For each image passed it will only consider the most prominent face, this is done as each \n",
    "    image is initially being processed by YOLOv8 to detect/crop individual people and then said images are fed to this function.\n",
    "    \n",
    "    Parameters:\n",
    "    listOfImages (list) - List containing the images to be processed. \n",
    "    fairFaceModel - FairFace model used to determine the properties of the face in the image.\n",
    "\n",
    "    Returns:\n",
    "    FairFaceDict (dict) - Dictionary containing the information relevant to each image.\n",
    "    \"\"\"\n",
    "    tensorflow.keras.utils.disable_interactive_logging()\n",
    "    FairFaceDict = {}\n",
    "\n",
    "    # Create a tqdm progress bar\n",
    "    progress_bar = tqdm(total=len(listOfImages), desc=\"Processing\", unit=\"images\")\n",
    "\n",
    "    # Transformation process used to convert images to the expected input format of the fairface model.\n",
    "    trans = transforms.Compose([\n",
    "    transforms.ToPILImage(),\n",
    "    transforms.Resize((224, 224)),\n",
    "    transforms.ToTensor(),\n",
    "    transforms.Normalize(mean=[0.485, 0.456, 0.406], std=[0.229, 0.224, 0.225])\n",
    "    ])\n",
    "\n",
    "    for image_index, image in enumerate(listOfImages):\n",
    "        # These mappings hold the index associated with each label, e.g., man confidence value is stored at index 1 of the gender array.\n",
    "        # The same applies to the other mappings. These values are then replaced with the confidence associated with each label.\n",
    "        # The model distinguishes betwen east and southest asian, but these were combined together for the sake of consistency.\n",
    "        gender_mapping = {\"man\":0,\"woman\":1}\n",
    "        race_mapping = {\"white\":0,\"black\":1,\"latino hispanic\":2,\"asian\":3,\"indian\":4,\"middle eastern\":5}\n",
    "        age_mapping = {\"0-2\":0,\"3-9\":1,\"10-19\":2,\"20-29\":3,\"30-39\":4,\"40-49\":5,\"50-59\":6,\"60-69\":7,\"70+\":8}\n",
    "\n",
    "        # Using the mtcnn detector to detect faces in the image\n",
    "        objs = DeepFace.analyze(image, enforce_detection=False,  detector_backend=\"mtcnn\", silent=True)\n",
    "            \n",
    "        # Using the index of the primary face (takes up most area) in the image\n",
    "        index =  FindObjWithLargestArea(objs)\n",
    "\n",
    "        # Cropping the image to only include the face\n",
    "        img_area = objs[index]['region']\n",
    "        x = img_area['x']\n",
    "        y = img_area['y']\n",
    "        width = img_area['x'] + img_area['w']\n",
    "        height = img_area['y'] + img_area['h']\n",
    "        faceImg = image[y:height, x:width]\n",
    "\n",
    "        transformed_image = trans(faceImg)\n",
    "        transformed_image = transformed_image.view(1, 3, 224, 224) \n",
    "        transformed_image = transformed_image.to(\"cpu\")\n",
    "\n",
    "        outputs = fairFaceModel(transformed_image)\n",
    "        outputs = outputs.cpu().detach().numpy()\n",
    "        outputs = np.squeeze(outputs)\n",
    "\n",
    "        # Retrieving the confidence values for each label\n",
    "        gender_outputs = outputs[7:9]\n",
    "        age_outputs = outputs[9:18]\n",
    "\n",
    "        # This array has probabilities for east asian and southeast asian, so we need to combine them\n",
    "        race_outputs = outputs[:7]\n",
    "        # Their values are stored in index 3 and 4, so we will take the average of these two values and store at index 3\n",
    "        race_outputs[3] = np.mean(race_outputs[3:5])\n",
    "        # Now we remove the extra value at index 4\n",
    "        race_outputs = np.delete(race_outputs, 4)\n",
    "\n",
    "        # Calculating the confidence values for each label\n",
    "        race_score = np.exp(race_outputs) / np.sum(np.exp(race_outputs))\n",
    "        gender_score = np.exp(gender_outputs) / np.sum(np.exp(gender_outputs))\n",
    "        age_score = np.exp(age_outputs) / np.sum(np.exp(age_outputs))\n",
    "\n",
    "        # Setting the appropriate scores for each category\n",
    "        for gender in [\"man\", \"woman\"]:\n",
    "            gender_mapping[gender] = gender_score[gender_mapping[gender]]*100\n",
    "\n",
    "        for race in [\"white\", \"black\", \"latino hispanic\", \"asian\", \"indian\", \"middle eastern\"]:\n",
    "            race_mapping[race] = race_score[race_mapping[race]]*100\n",
    "\n",
    "        for age_range in [\"0-2\",\"3-9\",\"10-19\",\"20-29\",\"30-39\",\"40-49\",\"50-59\",\"60-69\",\"70+\"]:\n",
    "            age_mapping[age_range] = age_score[age_mapping[age_range]]*100\n",
    "\n",
    "        # Determing the label with the highest confidence value\n",
    "        gender_label = max(gender_mapping, key=gender_mapping.get)\n",
    "        race_label = max(race_mapping, key=race_mapping.get)\n",
    "        age_label = max(age_mapping, key=age_mapping.get)\n",
    "\n",
    "        ImageInfo = {\"age\":age_label, \"gender\":gender_label, \"race\":race_label}\n",
    "        imageConfidenceData = {\"race\":race_mapping, \"gender\":gender_mapping, \"age\":age_mapping}\n",
    "        FairFaceDict[image_index] = [faceImg, ImageInfo, imageConfidenceData]\n",
    "\n",
    "        # Update the progress bar\n",
    "        progress_bar.update(1)\n",
    "    return FairFaceDict\n"
   ]
  },
  {
   "cell_type": "markdown",
   "metadata": {},
   "source": [
    "# Testing Pipeline with FairFace Model"
   ]
  },
  {
   "cell_type": "code",
   "execution_count": 13,
   "metadata": {},
   "outputs": [
    {
     "name": "stdout",
     "output_type": "stream",
     "text": [
      "\n",
      "0: 480x640 1 person, 79.0ms\n",
      "Speed: 3.0ms preprocess, 79.0ms inference, 1.0ms postprocess per image at shape (1, 3, 480, 640)\n",
      "\n",
      "0: 640x640 1 person, 96.0ms\n",
      "Speed: 3.0ms preprocess, 96.0ms inference, 1.0ms postprocess per image at shape (1, 3, 640, 640)\n",
      "\n",
      "0: 640x448 1 person, 68.0ms\n",
      "Speed: 2.0ms preprocess, 68.0ms inference, 0.0ms postprocess per image at shape (1, 3, 640, 448)\n",
      "\n",
      "0: 640x480 1 person, 75.0ms\n",
      "Speed: 2.0ms preprocess, 75.0ms inference, 1.0ms postprocess per image at shape (1, 3, 640, 480)\n",
      "\n",
      "0: 640x640 1 person, 95.0ms\n",
      "Speed: 4.0ms preprocess, 95.0ms inference, 1.0ms postprocess per image at shape (1, 3, 640, 640)\n",
      "\n",
      "0: 640x448 1 person, 70.0ms\n",
      "Speed: 1.0ms preprocess, 70.0ms inference, 1.0ms postprocess per image at shape (1, 3, 640, 448)\n",
      "\n",
      "0: 640x448 1 person, 69.0ms\n",
      "Speed: 2.0ms preprocess, 69.0ms inference, 1.0ms postprocess per image at shape (1, 3, 640, 448)\n",
      "\n",
      "0: 480x640 1 person, 77.0ms\n",
      "Speed: 2.0ms preprocess, 77.0ms inference, 1.0ms postprocess per image at shape (1, 3, 480, 640)\n",
      "\n",
      "0: 448x640 1 person, 74.0ms\n",
      "Speed: 3.0ms preprocess, 74.0ms inference, 1.0ms postprocess per image at shape (1, 3, 448, 640)\n",
      "\n",
      "0: 448x640 1 person, 75.0ms\n",
      "Speed: 2.0ms preprocess, 75.0ms inference, 0.0ms postprocess per image at shape (1, 3, 448, 640)\n",
      "\n",
      "0: 640x448 1 person, 74.0ms\n",
      "Speed: 2.0ms preprocess, 74.0ms inference, 1.0ms postprocess per image at shape (1, 3, 640, 448)\n",
      "\n",
      "0: 640x480 1 person, 81.0ms\n",
      "Speed: 2.0ms preprocess, 81.0ms inference, 1.0ms postprocess per image at shape (1, 3, 640, 480)\n",
      "\n",
      "0: 480x640 1 person, 78.0ms\n",
      "Speed: 2.0ms preprocess, 78.0ms inference, 1.0ms postprocess per image at shape (1, 3, 480, 640)\n",
      "\n",
      "0: 640x544 1 person, 95.0ms\n",
      "Speed: 3.0ms preprocess, 95.0ms inference, 1.0ms postprocess per image at shape (1, 3, 640, 544)\n",
      "\n",
      "0: 640x640 1 person, 98.0ms\n",
      "Speed: 4.0ms preprocess, 98.0ms inference, 1.0ms postprocess per image at shape (1, 3, 640, 640)\n",
      "\n",
      "0: 384x640 1 person, 56.0ms\n",
      "Speed: 4.0ms preprocess, 56.0ms inference, 1.0ms postprocess per image at shape (1, 3, 384, 640)\n",
      "\n",
      "0: 640x448 1 person, 72.0ms\n",
      "Speed: 2.0ms preprocess, 72.0ms inference, 1.0ms postprocess per image at shape (1, 3, 640, 448)\n",
      "\n",
      "0: 640x640 1 person, 94.0ms\n",
      "Speed: 4.0ms preprocess, 94.0ms inference, 1.0ms postprocess per image at shape (1, 3, 640, 640)\n",
      "\n",
      "0: 640x640 1 person, 100.0ms\n",
      "Speed: 4.0ms preprocess, 100.0ms inference, 1.0ms postprocess per image at shape (1, 3, 640, 640)\n",
      "\n",
      "0: 640x480 1 person, 75.0ms\n",
      "Speed: 3.0ms preprocess, 75.0ms inference, 1.0ms postprocess per image at shape (1, 3, 640, 480)\n",
      "\n",
      "0: 640x448 1 person, 72.0ms\n",
      "Speed: 1.0ms preprocess, 72.0ms inference, 1.0ms postprocess per image at shape (1, 3, 640, 448)\n",
      "\n",
      "0: 640x640 1 person, 145.0ms\n",
      "Speed: 4.0ms preprocess, 145.0ms inference, 1.0ms postprocess per image at shape (1, 3, 640, 640)\n",
      "\n",
      "0: 640x480 1 person, 73.0ms\n",
      "Speed: 2.0ms preprocess, 73.0ms inference, 1.0ms postprocess per image at shape (1, 3, 640, 480)\n",
      "\n",
      "0: 640x448 1 person, 67.0ms\n",
      "Speed: 2.0ms preprocess, 67.0ms inference, 1.0ms postprocess per image at shape (1, 3, 640, 448)\n",
      "\n",
      "0: 640x448 1 person, 66.0ms\n",
      "Speed: 2.0ms preprocess, 66.0ms inference, 1.0ms postprocess per image at shape (1, 3, 640, 448)\n",
      "\n",
      "0: 480x640 1 person, 75.0ms\n",
      "Speed: 2.0ms preprocess, 75.0ms inference, 1.0ms postprocess per image at shape (1, 3, 480, 640)\n",
      "\n",
      "0: 640x448 1 person, 71.0ms\n",
      "Speed: 2.0ms preprocess, 71.0ms inference, 1.0ms postprocess per image at shape (1, 3, 640, 448)\n",
      "\n",
      "0: 640x448 1 person, 71.0ms\n",
      "Speed: 1.0ms preprocess, 71.0ms inference, 1.0ms postprocess per image at shape (1, 3, 640, 448)\n",
      "\n",
      "0: 640x448 1 person, 70.0ms\n",
      "Speed: 2.0ms preprocess, 70.0ms inference, 0.0ms postprocess per image at shape (1, 3, 640, 448)\n",
      "\n",
      "0: 640x416 1 person, 75.0ms\n",
      "Speed: 3.0ms preprocess, 75.0ms inference, 1.0ms postprocess per image at shape (1, 3, 640, 416)\n",
      "\n",
      "0: 640x448 1 person, 68.0ms\n",
      "Speed: 2.0ms preprocess, 68.0ms inference, 0.0ms postprocess per image at shape (1, 3, 640, 448)\n",
      "\n",
      "0: 448x640 1 person, 69.0ms\n",
      "Speed: 2.0ms preprocess, 69.0ms inference, 1.0ms postprocess per image at shape (1, 3, 448, 640)\n",
      "\n",
      "0: 640x416 1 person, 65.0ms\n",
      "Speed: 2.0ms preprocess, 65.0ms inference, 1.0ms postprocess per image at shape (1, 3, 640, 416)\n",
      "\n",
      "0: 640x640 1 person, 94.0ms\n",
      "Speed: 4.0ms preprocess, 94.0ms inference, 1.0ms postprocess per image at shape (1, 3, 640, 640)\n",
      "\n",
      "0: 448x640 1 person, 71.0ms\n",
      "Speed: 2.0ms preprocess, 71.0ms inference, 1.0ms postprocess per image at shape (1, 3, 448, 640)\n",
      "\n",
      "0: 640x448 1 person, 69.0ms\n",
      "Speed: 2.0ms preprocess, 69.0ms inference, 1.0ms postprocess per image at shape (1, 3, 640, 448)\n",
      "\n",
      "0: 640x448 1 person, 69.0ms\n",
      "Speed: 3.0ms preprocess, 69.0ms inference, 0.0ms postprocess per image at shape (1, 3, 640, 448)\n",
      "\n",
      "0: 640x512 1 person, 78.0ms\n",
      "Speed: 2.0ms preprocess, 78.0ms inference, 1.0ms postprocess per image at shape (1, 3, 640, 512)\n",
      "\n",
      "0: 384x640 1 person, 60.0ms\n",
      "Speed: 2.0ms preprocess, 60.0ms inference, 1.0ms postprocess per image at shape (1, 3, 384, 640)\n",
      "\n",
      "0: 640x448 1 person, 69.0ms\n",
      "Speed: 2.0ms preprocess, 69.0ms inference, 0.0ms postprocess per image at shape (1, 3, 640, 448)\n",
      "\n",
      "0: 640x512 1 person, 81.0ms\n",
      "Speed: 2.0ms preprocess, 81.0ms inference, 0.0ms postprocess per image at shape (1, 3, 640, 512)\n",
      "\n",
      "0: 640x640 1 person, 95.0ms\n",
      "Speed: 4.0ms preprocess, 95.0ms inference, 1.0ms postprocess per image at shape (1, 3, 640, 640)\n",
      "\n",
      "0: 448x640 1 person, 73.0ms\n",
      "Speed: 2.0ms preprocess, 73.0ms inference, 0.0ms postprocess per image at shape (1, 3, 448, 640)\n",
      "\n",
      "0: 640x640 1 person, 105.0ms\n",
      "Speed: 4.0ms preprocess, 105.0ms inference, 1.0ms postprocess per image at shape (1, 3, 640, 640)\n",
      "\n",
      "0: 480x640 1 person, 75.0ms\n",
      "Speed: 2.0ms preprocess, 75.0ms inference, 1.0ms postprocess per image at shape (1, 3, 480, 640)\n",
      "\n",
      "0: 448x640 1 person, 68.0ms\n",
      "Speed: 2.0ms preprocess, 68.0ms inference, 1.0ms postprocess per image at shape (1, 3, 448, 640)\n",
      "\n",
      "0: 640x640 1 person, 93.0ms\n",
      "Speed: 4.0ms preprocess, 93.0ms inference, 1.0ms postprocess per image at shape (1, 3, 640, 640)\n",
      "\n",
      "0: 640x640 1 person, 95.0ms\n",
      "Speed: 4.0ms preprocess, 95.0ms inference, 1.0ms postprocess per image at shape (1, 3, 640, 640)\n",
      "\n",
      "0: 448x640 1 person, 69.0ms\n",
      "Speed: 3.0ms preprocess, 69.0ms inference, 1.0ms postprocess per image at shape (1, 3, 448, 640)\n",
      "\n",
      "0: 448x640 1 person, 71.0ms\n",
      "Speed: 2.0ms preprocess, 71.0ms inference, 1.0ms postprocess per image at shape (1, 3, 448, 640)\n",
      "\n",
      "0: 640x448 1 person, 72.0ms\n",
      "Speed: 3.0ms preprocess, 72.0ms inference, 0.0ms postprocess per image at shape (1, 3, 640, 448)\n",
      "\n",
      "0: 640x416 1 person, 66.0ms\n",
      "Speed: 3.0ms preprocess, 66.0ms inference, 1.0ms postprocess per image at shape (1, 3, 640, 416)\n",
      "\n",
      "0: 640x448 1 person, 70.0ms\n",
      "Speed: 2.0ms preprocess, 70.0ms inference, 1.0ms postprocess per image at shape (1, 3, 640, 448)\n",
      "\n",
      "0: 384x640 1 person, 57.0ms\n",
      "Speed: 2.0ms preprocess, 57.0ms inference, 0.0ms postprocess per image at shape (1, 3, 384, 640)\n",
      "\n",
      "0: 576x640 1 person, 86.0ms\n",
      "Speed: 3.0ms preprocess, 86.0ms inference, 1.0ms postprocess per image at shape (1, 3, 576, 640)\n",
      "\n",
      "0: 640x544 1 person, 86.0ms\n",
      "Speed: 3.0ms preprocess, 86.0ms inference, 1.0ms postprocess per image at shape (1, 3, 640, 544)\n",
      "\n",
      "0: 640x480 1 person, 114.0ms\n",
      "Speed: 3.0ms preprocess, 114.0ms inference, 1.0ms postprocess per image at shape (1, 3, 640, 480)\n",
      "\n",
      "0: 640x544 1 person, 85.0ms\n",
      "Speed: 3.0ms preprocess, 85.0ms inference, 1.0ms postprocess per image at shape (1, 3, 640, 544)\n",
      "\n",
      "0: 512x640 1 person, 85.0ms\n",
      "Speed: 2.0ms preprocess, 85.0ms inference, 1.0ms postprocess per image at shape (1, 3, 512, 640)\n",
      "\n",
      "0: 448x640 1 person, 72.0ms\n",
      "Speed: 2.0ms preprocess, 72.0ms inference, 1.0ms postprocess per image at shape (1, 3, 448, 640)\n",
      "\n",
      "0: 640x448 1 person, 69.0ms\n",
      "Speed: 2.0ms preprocess, 69.0ms inference, 1.0ms postprocess per image at shape (1, 3, 640, 448)\n",
      "\n",
      "0: 640x448 1 person, 69.0ms\n",
      "Speed: 2.0ms preprocess, 69.0ms inference, 1.0ms postprocess per image at shape (1, 3, 640, 448)\n",
      "\n",
      "0: 640x576 1 person, 97.0ms\n",
      "Speed: 3.0ms preprocess, 97.0ms inference, 1.0ms postprocess per image at shape (1, 3, 640, 576)\n",
      "\n",
      "0: 640x448 1 person, 70.0ms\n",
      "Speed: 2.0ms preprocess, 70.0ms inference, 1.0ms postprocess per image at shape (1, 3, 640, 448)\n",
      "\n",
      "0: 640x640 1 person, 90.0ms\n",
      "Speed: 5.0ms preprocess, 90.0ms inference, 1.0ms postprocess per image at shape (1, 3, 640, 640)\n",
      "\n",
      "0: 448x640 1 person, 72.0ms\n",
      "Speed: 3.0ms preprocess, 72.0ms inference, 1.0ms postprocess per image at shape (1, 3, 448, 640)\n",
      "\n",
      "0: 640x448 1 person, 71.0ms\n",
      "Speed: 2.0ms preprocess, 71.0ms inference, 1.0ms postprocess per image at shape (1, 3, 640, 448)\n",
      "\n",
      "0: 640x480 1 person, 76.0ms\n",
      "Speed: 2.0ms preprocess, 76.0ms inference, 0.0ms postprocess per image at shape (1, 3, 640, 480)\n",
      "\n",
      "0: 640x320 1 person, 60.0ms\n",
      "Speed: 1.0ms preprocess, 60.0ms inference, 1.0ms postprocess per image at shape (1, 3, 640, 320)\n",
      "\n",
      "0: 608x640 1 person, 101.0ms\n",
      "Speed: 4.0ms preprocess, 101.0ms inference, 1.0ms postprocess per image at shape (1, 3, 608, 640)\n",
      "\n",
      "0: 640x448 1 person, 67.0ms\n",
      "Speed: 2.0ms preprocess, 67.0ms inference, 1.0ms postprocess per image at shape (1, 3, 640, 448)\n",
      "\n",
      "0: 640x448 1 person, 71.0ms\n",
      "Speed: 2.0ms preprocess, 71.0ms inference, 0.0ms postprocess per image at shape (1, 3, 640, 448)\n",
      "\n",
      "0: 448x640 1 person, 70.0ms\n",
      "Speed: 2.0ms preprocess, 70.0ms inference, 1.0ms postprocess per image at shape (1, 3, 448, 640)\n",
      "\n",
      "0: 448x640 1 person, 73.0ms\n",
      "Speed: 2.0ms preprocess, 73.0ms inference, 1.0ms postprocess per image at shape (1, 3, 448, 640)\n",
      "\n",
      "0: 448x640 1 person, 67.0ms\n",
      "Speed: 2.0ms preprocess, 67.0ms inference, 0.0ms postprocess per image at shape (1, 3, 448, 640)\n",
      "\n",
      "0: 640x640 1 person, 93.0ms\n",
      "Speed: 3.0ms preprocess, 93.0ms inference, 1.0ms postprocess per image at shape (1, 3, 640, 640)\n",
      "\n",
      "0: 640x448 1 person, 72.0ms\n",
      "Speed: 2.0ms preprocess, 72.0ms inference, 0.0ms postprocess per image at shape (1, 3, 640, 448)\n",
      "\n",
      "0: 480x640 1 person, 75.0ms\n",
      "Speed: 2.0ms preprocess, 75.0ms inference, 1.0ms postprocess per image at shape (1, 3, 480, 640)\n",
      "\n",
      "0: 448x640 1 person, 69.0ms\n",
      "Speed: 2.0ms preprocess, 69.0ms inference, 1.0ms postprocess per image at shape (1, 3, 448, 640)\n",
      "\n",
      "0: 512x640 1 person, 78.0ms\n",
      "Speed: 2.0ms preprocess, 78.0ms inference, 1.0ms postprocess per image at shape (1, 3, 512, 640)\n",
      "\n",
      "0: 640x384 1 person, 69.0ms\n",
      "Speed: 2.0ms preprocess, 69.0ms inference, 1.0ms postprocess per image at shape (1, 3, 640, 384)\n",
      "\n",
      "0: 640x512 1 person, 94.0ms\n",
      "Speed: 2.0ms preprocess, 94.0ms inference, 0.0ms postprocess per image at shape (1, 3, 640, 512)\n",
      "\n",
      "0: 640x640 1 person, 94.0ms\n",
      "Speed: 4.0ms preprocess, 94.0ms inference, 1.0ms postprocess per image at shape (1, 3, 640, 640)\n",
      "\n",
      "0: 448x640 1 person, 68.0ms\n",
      "Speed: 2.0ms preprocess, 68.0ms inference, 0.0ms postprocess per image at shape (1, 3, 448, 640)\n",
      "\n",
      "0: 640x640 1 person, 94.0ms\n",
      "Speed: 4.0ms preprocess, 94.0ms inference, 1.0ms postprocess per image at shape (1, 3, 640, 640)\n",
      "\n",
      "0: 640x544 1 person, 82.0ms\n",
      "Speed: 3.0ms preprocess, 82.0ms inference, 1.0ms postprocess per image at shape (1, 3, 640, 544)\n",
      "\n",
      "0: 640x480 1 person, 75.0ms\n",
      "Speed: 2.0ms preprocess, 75.0ms inference, 1.0ms postprocess per image at shape (1, 3, 640, 480)\n",
      "\n",
      "0: 448x640 1 person, 68.0ms\n",
      "Speed: 1.0ms preprocess, 68.0ms inference, 0.0ms postprocess per image at shape (1, 3, 448, 640)\n",
      "\n",
      "0: 640x640 1 person, 95.0ms\n",
      "Speed: 3.0ms preprocess, 95.0ms inference, 1.0ms postprocess per image at shape (1, 3, 640, 640)\n",
      "\n",
      "0: 640x480 1 person, 74.0ms\n",
      "Speed: 2.0ms preprocess, 74.0ms inference, 1.0ms postprocess per image at shape (1, 3, 640, 480)\n",
      "\n",
      "0: 640x416 1 person, 74.0ms\n",
      "Speed: 2.0ms preprocess, 74.0ms inference, 1.0ms postprocess per image at shape (1, 3, 640, 416)\n",
      "\n",
      "0: 288x640 1 person, 53.0ms\n",
      "Speed: 1.0ms preprocess, 53.0ms inference, 0.0ms postprocess per image at shape (1, 3, 288, 640)\n",
      "\n",
      "0: 640x640 1 person, 136.0ms\n",
      "Speed: 4.0ms preprocess, 136.0ms inference, 1.0ms postprocess per image at shape (1, 3, 640, 640)\n",
      "\n",
      "0: 640x448 1 person, 67.0ms\n",
      "Speed: 2.0ms preprocess, 67.0ms inference, 0.0ms postprocess per image at shape (1, 3, 640, 448)\n",
      "\n",
      "0: 640x640 1 person, 95.0ms\n",
      "Speed: 5.0ms preprocess, 95.0ms inference, 1.0ms postprocess per image at shape (1, 3, 640, 640)\n",
      "\n",
      "0: 512x640 1 person, 81.0ms\n",
      "Speed: 2.0ms preprocess, 81.0ms inference, 1.0ms postprocess per image at shape (1, 3, 512, 640)\n",
      "\n",
      "0: 544x640 1 person, 93.0ms\n",
      "Speed: 2.0ms preprocess, 93.0ms inference, 1.0ms postprocess per image at shape (1, 3, 544, 640)\n"
     ]
    },
    {
     "name": "stderr",
     "output_type": "stream",
     "text": [
      "\n",
      "Processing:   0%|          | 0/97 [00:00<?, ?images/s]\n",
      "Processing:   1%|          | 1/97 [00:01<01:55,  1.20s/images]\n",
      "Processing:   2%|▏         | 2/97 [00:02<01:52,  1.18s/images]\n",
      "Processing:   3%|▎         | 3/97 [00:03<01:54,  1.21s/images]\n",
      "Processing:   4%|▍         | 4/97 [00:04<01:46,  1.14s/images]\n",
      "Processing:   5%|▌         | 5/97 [00:05<01:40,  1.09s/images]\n",
      "Processing:   6%|▌         | 6/97 [00:06<01:31,  1.00s/images]\n",
      "Processing:   7%|▋         | 7/97 [00:07<01:28,  1.01images/s]\n",
      "Processing:   8%|▊         | 8/97 [00:08<01:30,  1.01s/images]\n",
      "Processing:   9%|▉         | 9/97 [00:09<01:22,  1.07images/s]\n",
      "Processing:  10%|█         | 10/97 [00:10<01:20,  1.08images/s]\n",
      "Processing:  11%|█▏        | 11/97 [00:11<01:17,  1.11images/s]\n",
      "Processing:  12%|█▏        | 12/97 [00:11<01:16,  1.11images/s]\n",
      "Processing:  13%|█▎        | 13/97 [00:12<01:16,  1.10images/s]\n",
      "Processing:  14%|█▍        | 14/97 [00:13<01:19,  1.05images/s]\n",
      "Processing:  15%|█▌        | 15/97 [00:15<01:24,  1.03s/images]\n",
      "Processing:  16%|█▋        | 16/97 [00:16<01:29,  1.10s/images]\n",
      "Processing:  18%|█▊        | 17/97 [00:17<01:28,  1.11s/images]\n",
      "Processing:  19%|█▊        | 18/97 [00:18<01:25,  1.08s/images]\n",
      "Processing:  20%|█▉        | 19/97 [00:19<01:27,  1.12s/images]\n",
      "Processing:  21%|██        | 20/97 [00:20<01:23,  1.09s/images]\n",
      "Processing:  22%|██▏       | 21/97 [00:21<01:19,  1.05s/images]\n",
      "Processing:  23%|██▎       | 22/97 [00:22<01:16,  1.01s/images]\n",
      "Processing:  24%|██▎       | 23/97 [00:23<01:15,  1.02s/images]\n",
      "Processing:  25%|██▍       | 24/97 [00:25<01:24,  1.16s/images]\n",
      "Processing:  26%|██▌       | 25/97 [00:26<01:19,  1.10s/images]\n",
      "Processing:  27%|██▋       | 26/97 [00:26<01:13,  1.04s/images]\n",
      "Processing:  28%|██▊       | 27/97 [00:27<01:09,  1.01images/s]\n",
      "Processing:  29%|██▉       | 28/97 [00:28<01:06,  1.04images/s]\n",
      "Processing:  30%|██▉       | 29/97 [00:29<01:06,  1.02images/s]\n",
      "Processing:  31%|███       | 30/97 [00:30<01:09,  1.04s/images]\n",
      "Processing:  32%|███▏      | 31/97 [00:31<01:06,  1.01s/images]\n",
      "Processing:  33%|███▎      | 32/97 [00:32<01:05,  1.00s/images]\n",
      "Processing:  34%|███▍      | 33/97 [00:33<01:04,  1.01s/images]\n",
      "Processing:  35%|███▌      | 34/97 [00:34<01:03,  1.01s/images]\n",
      "Processing:  36%|███▌      | 35/97 [00:35<01:03,  1.02s/images]\n",
      "Processing:  37%|███▋      | 36/97 [00:36<01:00,  1.01images/s]\n",
      "Processing:  38%|███▊      | 37/97 [00:37<01:00,  1.00s/images]\n",
      "Processing:  39%|███▉      | 38/97 [00:38<00:58,  1.00images/s]\n",
      "Processing:  40%|████      | 39/97 [00:39<00:53,  1.07images/s]\n",
      "Processing:  41%|████      | 40/97 [00:40<00:55,  1.03images/s]\n",
      "Processing:  42%|████▏     | 41/97 [00:41<00:55,  1.01images/s]\n",
      "Processing:  43%|████▎     | 42/97 [00:42<00:54,  1.02images/s]\n",
      "Processing:  44%|████▍     | 43/97 [00:43<00:51,  1.05images/s]\n",
      "Processing:  45%|████▌     | 44/97 [00:44<00:51,  1.03images/s]\n",
      "Processing:  46%|████▋     | 45/97 [00:45<00:52,  1.01s/images]\n",
      "Processing:  47%|████▋     | 46/97 [00:46<00:50,  1.02images/s]\n",
      "Processing:  48%|████▊     | 47/97 [00:47<00:48,  1.04images/s]\n",
      "Processing:  49%|████▉     | 48/97 [00:48<00:47,  1.04images/s]\n",
      "Processing:  51%|█████     | 49/97 [00:49<00:47,  1.02images/s]\n",
      "Processing:  52%|█████▏    | 50/97 [00:50<00:45,  1.03images/s]\n",
      "Processing:  53%|█████▎    | 51/97 [00:51<00:46,  1.01s/images]\n",
      "Processing:  54%|█████▎    | 52/97 [00:52<00:47,  1.05s/images]\n",
      "Processing:  55%|█████▍    | 53/97 [00:53<00:45,  1.04s/images]\n",
      "Processing:  56%|█████▌    | 54/97 [00:54<00:42,  1.02images/s]\n",
      "Processing:  57%|█████▋    | 55/97 [00:55<00:41,  1.00images/s]\n",
      "Processing:  58%|█████▊    | 56/97 [00:56<00:40,  1.02images/s]\n",
      "Processing:  59%|█████▉    | 57/97 [00:57<00:37,  1.06images/s]\n",
      "Processing:  60%|█████▉    | 58/97 [00:58<00:37,  1.05images/s]\n",
      "Processing:  61%|██████    | 59/97 [00:59<00:36,  1.03images/s]\n",
      "Processing:  62%|██████▏   | 60/97 [01:00<00:39,  1.08s/images]\n",
      "Processing:  63%|██████▎   | 61/97 [01:01<00:37,  1.05s/images]\n",
      "Processing:  64%|██████▍   | 62/97 [01:02<00:37,  1.07s/images]\n",
      "Processing:  65%|██████▍   | 63/97 [01:03<00:35,  1.03s/images]\n",
      "Processing:  66%|██████▌   | 64/97 [01:04<00:32,  1.00images/s]\n",
      "Processing:  67%|██████▋   | 65/97 [01:05<00:31,  1.03images/s]\n",
      "Processing:  68%|██████▊   | 66/97 [01:06<00:30,  1.01images/s]\n",
      "Processing:  69%|██████▉   | 67/97 [01:07<00:28,  1.04images/s]\n",
      "Processing:  70%|███████   | 68/97 [01:08<00:28,  1.00images/s]\n",
      "Processing:  71%|███████   | 69/97 [01:09<00:30,  1.08s/images]\n",
      "Processing:  72%|███████▏  | 70/97 [01:11<00:29,  1.09s/images]\n",
      "Processing:  73%|███████▎  | 71/97 [01:11<00:27,  1.04s/images]\n",
      "Processing:  74%|███████▍  | 72/97 [01:12<00:25,  1.01s/images]\n",
      "Processing:  75%|███████▌  | 73/97 [01:13<00:24,  1.01s/images]\n",
      "Processing:  76%|███████▋  | 74/97 [01:14<00:22,  1.03images/s]\n",
      "Processing:  77%|███████▋  | 75/97 [01:15<00:21,  1.02images/s]\n",
      "Processing:  78%|███████▊  | 76/97 [01:16<00:20,  1.01images/s]\n",
      "Processing:  79%|███████▉  | 77/97 [01:17<00:19,  1.03images/s]\n",
      "Processing:  80%|████████  | 78/97 [01:18<00:19,  1.02s/images]\n",
      "Processing:  81%|████████▏ | 79/97 [01:19<00:18,  1.01s/images]\n",
      "Processing:  82%|████████▏ | 80/97 [01:20<00:16,  1.03images/s]\n",
      "Processing:  84%|████████▎ | 81/97 [01:21<00:16,  1.03s/images]\n",
      "Processing:  85%|████████▍ | 82/97 [01:22<00:15,  1.03s/images]\n",
      "Processing:  86%|████████▌ | 83/97 [01:24<00:14,  1.05s/images]\n",
      "Processing:  87%|████████▋ | 84/97 [01:24<00:13,  1.02s/images]\n",
      "Processing:  88%|████████▊ | 85/97 [01:25<00:12,  1.01s/images]\n",
      "Processing:  89%|████████▊ | 86/97 [01:27<00:11,  1.02s/images]\n",
      "Processing:  90%|████████▉ | 87/97 [01:28<00:10,  1.04s/images]\n",
      "Processing:  91%|█████████ | 88/97 [01:29<00:09,  1.06s/images]\n",
      "Processing:  92%|█████████▏| 89/97 [01:30<00:08,  1.04s/images]\n",
      "Processing:  93%|█████████▎| 90/97 [01:30<00:06,  1.04images/s]\n",
      "Processing:  94%|█████████▍| 91/97 [01:31<00:05,  1.06images/s]\n",
      "Processing:  95%|█████████▍| 92/97 [01:32<00:04,  1.00images/s]\n",
      "Processing:  96%|█████████▌| 93/97 [01:34<00:04,  1.05s/images]\n",
      "Processing:  97%|█████████▋| 94/97 [01:35<00:03,  1.02s/images]\n",
      "Processing:  98%|█████████▊| 95/97 [01:36<00:02,  1.07s/images]\n",
      "Processing:  99%|█████████▉| 96/97 [01:37<00:01,  1.10s/images]\n",
      "Processing: 100%|██████████| 97/97 [01:38<00:00,  1.02s/images]\n"
     ]
    }
   ],
   "source": [
    "# Loading the images to be processed\n",
    "list_of_images = LoadImagesFromFolder(\"C:\\\\Users\\\\User\\\\FYP\\\\DownloadedImages\\\\LAION-400M\\\\GoogleFormImages\\\\Nurse-97\")\n",
    "# Setting the human detection confidence threshold\n",
    "confidence_threshold = 0.5\n",
    "# Loading the YOLO model. This is downloaded automatically when run for the first time.\n",
    "model = YOLO('yolov8n.pt')\n",
    "# Retrieving the images of people detected in the images, the distance between the person and image center and the space taken up by the person\n",
    "people_images, dist_bet_centers, space_taken_up = YOLODetectPerson(model, list_of_images, confidence_threshold)\n",
    "\n",
    "# Loading the FairFace model, the res34_fair_align_multi_7_20190809.pt is used as it detects 7 distinct races as opposed to the other model.\n",
    "model_fair_7 = torchvision.models.resnet34(pretrained=True)\n",
    "model_fair_7.fc = nn.Linear(model_fair_7.fc.in_features, 18)\n",
    "model_fair_7.load_state_dict(torch.load('C:\\\\Users\\\\User\\\\FYP\\\\Testing\\\\res34_fair_align_multi_7_20190809.pt', map_location=torch.device('cpu')))\n",
    "model_fair_7 = model_fair_7.to(\"cpu\")\n",
    "model_fair_7.eval()\n",
    "# Processing the images using the FairFace model\n",
    "FairFaceDict = FairFaceProcess(people_images, model_fair_7)\n",
    "# Adding the distance between centers and space taken up by the person to the dictionary so that it contains all relevant information.\n",
    "for index in FairFaceDict.keys():\n",
    "    tmp = {\"center_dist\":dist_bet_centers[index], \"space\": space_taken_up[index]}\n",
    "    FairFaceDict[index][1].update(tmp)\n",
    "\n",
    "# Saving the metrics to disk\n",
    "metric_save_directoy = \"(FairFace)LAION-400M-Nurse-97\"#\"Doctor(DPM++ 2M Karras)\"\n",
    "save_metrics = True\n",
    "if save_metrics == True:\n",
    "    # Checking if the folder exists, and if not, creating it\n",
    "    sub_folder_path = Path(\"..\\\\DownloadedImages\\\\\"+CamelCase(metric_save_directoy))\n",
    "    if not sub_folder_path.exists():\n",
    "        sub_folder_path.mkdir()\n",
    "\n",
    "    # Checking if the folder exists, and if not, creating it\n",
    "    sub_folder_path = Path(\"..\\\\DownloadedImages\\\\\"+CamelCase(metric_save_directoy)+\"\\\\FairFaceImagesMetrics\")\n",
    "    if not sub_folder_path.exists():\n",
    "        sub_folder_path.mkdir()\n",
    "\n",
    "    # Saving the general info metrics to csv file\n",
    "    SaveMetricsCSV(sub_folder_path, FairFaceDict)\n",
    "\n",
    "    # Saving the cropped images used by the DeepFace API to disk\n",
    "    for imgIndex in range(len(FairFaceDict.items())):\n",
    "        save_path = os.path.join(sub_folder_path,str(imgIndex)+\".jpg\")\n",
    "        cv2.imwrite(save_path, cv2.cvtColor(FairFaceDict[imgIndex][0], cv2.COLOR_BGR2RGB))"
   ]
  },
  {
   "cell_type": "markdown",
   "metadata": {},
   "source": [
    "# Metric Display"
   ]
  },
  {
   "cell_type": "code",
   "execution_count": 12,
   "metadata": {},
   "outputs": [],
   "source": [
    "def MetricGenderDisplay(data, specific_race=None, specific_emotion=None, specific_age=None):\n",
    "    \"\"\" \n",
    "    Description:\n",
    "    This function serves to display a bargraph regarding the gender metrics in relation to the DeepFace data passed. \n",
    "    \n",
    "    Parameters:\n",
    "    data (dict) - Dictionary containing the information relevant to each image. \n",
    "    specific_race (str) - Specific race to be considered, if any. Valid values [\"asian\", \"white\", \"middle eastern\", \"indian\", \"latino\", \"black\", \"latino hispanic\"]\n",
    "    specific_emotion (str) - Specific emotion to be considered, if any. Valid values [\"angry\", \"fear\", \"neutral\", \"sad\", \"disgust\", \"happy\", \"surprise\"]\n",
    "    specific_age (int) - Specific age to be considered, if any.\n",
    "\n",
    "    Returns:\n",
    "    None.\n",
    "    \"\"\"\n",
    "    \n",
    "    # Gender labels - assumes only two genders\n",
    "    genders = ['Male', 'Female']\n",
    "    count = [0, 0]\n",
    "    \n",
    "    # Looping through the instances in the data\n",
    "    for instance in data:\n",
    "        \n",
    "        # Enforcing race constraints \n",
    "        if specific_race != None:\n",
    "            if data[instance][1][\"race\"].lower() != specific_race.lower():\n",
    "                continue\n",
    "          \n",
    "         # Enforcing emotion constraints \n",
    "        if specific_emotion != None:\n",
    "            if data[instance][1][\"emotion\"].lower() != specific_emotion.lower():\n",
    "                continue\n",
    "        \n",
    "        # Enforcing age constraints \n",
    "        if specific_age != None:\n",
    "            if data[instance][1][\"age\"] != specific_age:\n",
    "                continue\n",
    "        \n",
    "        # Retrieving instance gender\n",
    "        mGender = data[instance][1][\"gender\"].lower()\n",
    "        \n",
    "        # Incrementing counters\n",
    "        if mGender == \"male\" or mGender == \"man\":\n",
    "            count[0]+=1\n",
    "        elif mGender == \"female\"  or mGender == \"woman\":\n",
    "            count[1]+=1\n",
    "        else:\n",
    "            print(\"Invalid Gender Detected: \",mGender)\n",
    "    \n",
    "    # Creating bar chart\n",
    "    plt.bar(genders, count)\n",
    "\n",
    "    # Adding labels and title\n",
    "    plt.xlabel('Gender')\n",
    "    plt.ylabel('Count')\n",
    "    plt.title('Male vs. Female Distribution')\n",
    "\n",
    "    # Adding annotations with values above each bar\n",
    "    for i, value in enumerate(count):\n",
    "        # Calculate y-coordinate slightly above the bar\n",
    "        y_pos = value + 0.1\n",
    "\n",
    "        # Add text label at calculated position\n",
    "        plt.text(i, y_pos, str(value), ha='center', va='bottom')\n",
    "\n",
    "    # Showing the plot\n",
    "    plt.show()"
   ]
  },
  {
   "cell_type": "code",
   "execution_count": 13,
   "metadata": {},
   "outputs": [],
   "source": [
    "def MetricRaceDisplay(data, specific_gender=None, specific_emotion=None, specific_age=None):\n",
    "    \"\"\" \n",
    "    Description:\n",
    "    This function serves to display a bargraph regarding the race metrics in relation to the DeepFace data passed. \n",
    "    \n",
    "    Parameters:\n",
    "    data (dict) - Dictionary containing the information relevant to each image.\n",
    "    specific_gender (str) - Specific gender to be considered, if any. Valid values [\"male\", \"female\"]\n",
    "    specific_emotion (str) - Specific emotion to be considered, if any. Valid values [\"angry\", \"fear\", \"neutral\", \"sad\", \"disgust\", \"happy\", \"surprise\"]\n",
    "    specific_age (int) - Specific age to be considered, if any.\n",
    "\n",
    "    Returns:\n",
    "    None.\n",
    "    \"\"\"\n",
    "    \n",
    "    # Race labels - assumes races detected by DeepFace\n",
    "    races = [\"asian\", \"white\", \"middle eastern\", \"indian\", \"latino\", \"black\", \"latino hispanic\"]\n",
    "    count = [0,0,0,0,0,0,0] \n",
    "\n",
    "    # Looping through the instances in the data\n",
    "    for instance in data:\n",
    "        \n",
    "        # Enforcing gender constraints \n",
    "        if specific_gender != None:\n",
    "            if data[instance][1][\"gender\"].lower() != specific_gender.lower():\n",
    "                continue\n",
    "                \n",
    "        # Enforcing emotion constraints \n",
    "        if specific_emotion != None:\n",
    "            if data[instance][1][\"emotion\"].lower() != specific_emotion.lower():\n",
    "                continue\n",
    "                \n",
    "        # Enforcing age constraints         \n",
    "        if specific_age != None:\n",
    "            if data[instance][1][\"age\"] != specific_age:\n",
    "                continue\n",
    "        \n",
    "        # Retrieving instance race\n",
    "        mRace = data[instance][1][\"race\"].lower()\n",
    "        \n",
    "        # Incrementing counters\n",
    "        if mRace == \"asian\":\n",
    "            count[0]+=1\n",
    "        elif mRace == \"white\":\n",
    "            count[1]+=1\n",
    "        elif mRace == \"middle eastern\":\n",
    "            count[2]+=1\n",
    "        elif mRace == \"indian\":\n",
    "            count[3]+=1\n",
    "        elif mRace == \"latino\":\n",
    "            count[4]+=1\n",
    "        elif mRace == \"black\":\n",
    "            count[5]+=1\n",
    "        elif mRace == \"latino hispanic\":\n",
    "            count[6]+=1    \n",
    "        else:\n",
    "            print(\"Invalid Race Detected: \", mRace)\n",
    "\n",
    "    # Creating bar chart\n",
    "    plt.bar(races, count)\n",
    "\n",
    "    # Adding labels and title\n",
    "    plt.xlabel('Races')\n",
    "    plt.ylabel('Count')\n",
    "    plt.title('Race Distribution')\n",
    "\n",
    "    # Adding annotations with values above each bar\n",
    "    for i, value in enumerate(count):\n",
    "        # Calculate y-coordinate slightly above the bar\n",
    "        y_pos = value + 0.1\n",
    "\n",
    "        # Add text label at calculated position\n",
    "        plt.text(i, y_pos, str(value), ha='center', va='bottom')\n",
    "\n",
    "    # Showing the plot\n",
    "    plt.show()"
   ]
  },
  {
   "cell_type": "code",
   "execution_count": 14,
   "metadata": {},
   "outputs": [],
   "source": [
    "def MetricAgeDisplay(data, specific_gender=None, specific_race=None, specific_emotion=None):\n",
    "    \"\"\" \n",
    "    Description:\n",
    "    This function serves to display a bargraph regarding the age metrics in relation to the DeepFace data passed. \n",
    "    \n",
    "    Parameters:\n",
    "    data (dict) - Dictionary containing the information relevant to each image.\n",
    "    specific_gender (str) - Specific gender to be considered, if any. Valid values [\"male\", \"female\"]\n",
    "    specific_race (str) - Specific race to be considered, if any. Valid values [\"asian\", \"white\", \"middle eastern\", \"indian\", \"latino\", \"black\", \"latino hispanic\"]\n",
    "    specific_emotion (str) - Specific emotion to be considered, if any. Valid values [\"angry\", \"fear\", \"neutral\", \"sad\", \"disgust\", \"happy\", \"surprise\"]\n",
    "\n",
    "    Returns:\n",
    "    None.\n",
    "    \"\"\"\n",
    "    \n",
    "    # Age group labels seperated in intervals of ten\n",
    "    age_groups = [\"0-2\",\"3-9\",\"10-19\",\"20-29\",\"30-39\",\"40-49\",\"50-59\",\"60-69\",\"70+\"]\n",
    "    count = [0,0,0,0,0,0,0,0,0] \n",
    "    \n",
    "    # Looping through the instances in the data\n",
    "    for instance in data:\n",
    "        \n",
    "        # Enforcing gender constraints \n",
    "        if specific_gender != None:\n",
    "            if data[instance][1][\"gender\"].lower() != specific_gender.lower():\n",
    "                continue\n",
    "                \n",
    "        # Enforcing race constraints          \n",
    "        if specific_race != None:\n",
    "            if data[instance][1][\"race\"].lower() != specific_race.lower():\n",
    "                continue\n",
    "                \n",
    "        # Enforcing emotion constraints         \n",
    "        if specific_emotion != None:\n",
    "            if data[instance][1][\"emotion\"].lower() != specific_emotion.lower():\n",
    "                continue\n",
    "    \n",
    "        # Retrieving instance age\n",
    "        mAge = data[instance][1][\"age\"]\n",
    "        \n",
    "        # Incrementing counters\n",
    "        for index, age_range in enumerate(age_groups):\n",
    "            if mAge == age_range:\n",
    "                count[index]+=1\n",
    "                break\n",
    "\n",
    "    # Creating bar chart\n",
    "    plt.bar(age_groups, count)\n",
    "    \n",
    "    # Adding labels and title\n",
    "    plt.xlabel('Age Group')\n",
    "    plt.ylabel('Count')\n",
    "    plt.title('Age Group Distribution')\n",
    "    \n",
    "    # Adding annotations with values above each bar\n",
    "    for i, value in enumerate(count):\n",
    "        # Calculate y-coordinate slightly above the bar\n",
    "        y_pos = value + 0.1\n",
    "\n",
    "        # Add text label at calculated position\n",
    "        plt.text(i, y_pos, str(value), ha='center', va='bottom')\n",
    "\n",
    "    # Showing the plot\n",
    "    plt.show()"
   ]
  },
  {
   "cell_type": "code",
   "execution_count": 156,
   "metadata": {},
   "outputs": [],
   "source": [
    "def ScatterPlotDisplay2D(data, x_axis_label, y_axis_label, specific_gender=None, specific_race=None, specific_emotion=None):\n",
    "    \"\"\" \n",
    "    Description:\n",
    "    This function serves to display a 2D scatter plot in relation to the DeepFace data passed.\n",
    "    x_axis_label/y_axis_label = \"age\"/\"race\"/\"emotion\"/\"gender\"\n",
    "    specific_age is not included as each data point only has a singular age \n",
    "    \n",
    "    Parameters:\n",
    "    data (dict) - Dictionary containing the information relevant to each image.\n",
    "    x_axis_label (str) - Specific parameter to plot along the x-axis. Valid values [\"age\", \"gender\", \"race\", \"emotion\"]\n",
    "    y_axis_label (str) - Specific parameter to plot along the y-axis. Valid values [\"age\", \"gender\", \"race\", \"emotion\"]\n",
    "    specific_gender (str) - Specific gender to be considered, if any.  Valid values [\"male\", \"female\"]\n",
    "    specific_race (str) - Specific race to be considered, if any. Valid values [\"asian\", \"white\", \"middle eastern\", \"indian\", \"latino\", \"black\", \"latino hispanic\"]\n",
    "    specific_age (int) - Specific age to be considered, if any.\n",
    "\n",
    "    Returns:\n",
    "    None.\n",
    "    \"\"\"\n",
    "    \n",
    "    x_values = []\n",
    "    y_values = []\n",
    "    colors = []\n",
    "\n",
    "    for instance in data:\n",
    "        if x_axis_label.lower() == \"age\":\n",
    "            x_values.append(data[instance][2][x_axis_label])\n",
    "        elif x_axis_label.lower() == \"gender\":\n",
    "            x_values.append(data[instance][2][x_axis_label][specific_gender.lower()])\n",
    "        elif x_axis_label.lower() == \"race\":\n",
    "            x_values.append(data[instance][2][x_axis_label][specific_race.lower()])\n",
    "        elif x_axis_label.lower() == \"emotion\":\n",
    "            x_values.append(data[instance][2][x_axis_label][specific_emotion.lower()])\n",
    "\n",
    "        if y_axis_label.lower() == \"age\":\n",
    "            y_values.append(data[instance][2][y_axis_label])\n",
    "        elif y_axis_label.lower() == \"gender\":\n",
    "            y_values.append(data[instance][2][y_axis_label][specific_gender.lower()])\n",
    "        elif y_axis_label.lower() == \"race\":\n",
    "            y_values.append(data[instance][2][y_axis_label][specific_race.lower()])\n",
    "        elif y_axis_label.lower() == \"emotion\":\n",
    "            y_values.append(data[instance][2][y_axis_label][specific_emotion.lower()])\n",
    "\n",
    "        colors.append(\"blue\")\n",
    "\n",
    "    plt.scatter(x_values, y_values, c=colors, s=8)\n",
    "    \n",
    "    # Add labels and title\n",
    "    x_axis_text = x_axis_label.capitalize()\n",
    "    if x_axis_label.lower() == \"gender\":\n",
    "        x_axis_text += \" (\"+ specific_gender +\") confidence score\"\n",
    "    elif x_axis_label.lower() == \"race\":\n",
    "        x_axis_text += \" (\"+ specific_race +\") confidence score\"\n",
    "    elif x_axis_label.lower() == \"emotion\":\n",
    "        x_axis_text += \" (\"+ specific_emotion +\") confidence score\"\n",
    "    \n",
    "    y_axis_text = y_axis_label.capitalize()\n",
    "    if y_axis_label.lower() == \"gender\":\n",
    "        y_axis_text += \" (\"+ specific_gender +\") confidence score\"\n",
    "    elif y_axis_label.lower() == \"race\":\n",
    "        y_axis_text += \" (\"+ specific_race +\") confidence score\"\n",
    "    elif y_axis_label.lower() == \"emotion\":\n",
    "        y_axis_text += \" (\"+ specific_emotion +\") confidence score\"\n",
    "\n",
    "    plt.xlabel(x_axis_text)\n",
    "    plt.ylabel(y_axis_text)\n",
    "    plt.title('Scatter Plot of Demographics')\n",
    "\n",
    "    # Show the plot\n",
    "    plt.show()"
   ]
  },
  {
   "cell_type": "code",
   "execution_count": 16,
   "metadata": {},
   "outputs": [],
   "source": [
    "def ScatterPlotDisplay3D(data, specific_gender=None, specific_race=None, specific_age=None):\n",
    "    \"\"\" \n",
    "    Description:\n",
    "    This function serves to display a 3D scatter plot in relation to the DeepFace data passed. The x-axis (gender), y-axis (race), z-axis (age)\n",
    "    \n",
    "    Parameters:\n",
    "    data (dict) - Dictionary containing the information relevant to each image.\n",
    "    specific_gender (str) - Specific gender to be considered, if any. Valid values [\"male\", \"female\"]\n",
    "    specific_race (str) - Specific race to be considered, if any. Valid values [\"asian\", \"white\", \"middle eastern\", \"indian\", \"latino\", \"black\", \"latino hispanic\"]\n",
    "\n",
    "    Returns:\n",
    "    None.\n",
    "    \"\"\"\n",
    "\n",
    "    x_values = []\n",
    "    y_values = []\n",
    "    z_values = []\n",
    "    colors = []\n",
    "\n",
    "    for instance in data:\n",
    "        x_values.append(data[instance][2][\"gender\"][specific_gender.lower()])\n",
    "        y_values.append(data[instance][2][\"race\"][specific_race.lower()])\n",
    "        z_values.append(data[instance][2][\"age\"][specific_age.lower()])\n",
    "        colors.append(\"blue\")\n",
    "\n",
    "    # Create the 3D scatter plot with interactivity\n",
    "    fig = px.scatter_3d(x=x_values, y=y_values, z=z_values)  \n",
    "    \n",
    "    # Add labels and title\n",
    "    x_axis_text = \"Gender (\"+specific_gender+\") confidence score\"\n",
    "    y_axis_text = \"Race (\"+specific_race+\") confidence score\"\n",
    "    z_axis_text = \"Age (\"+specific_age+\") confidence score\"\n",
    "\n",
    "    fig.update_layout(scene = {\n",
    "                    \"xaxis_title\":x_axis_text,\n",
    "                    \"yaxis_title\":y_axis_text,\n",
    "                    \"zaxis_title\":z_axis_text},\n",
    "                    margin={\"r\":20, \"b\":10, \"l\":10, \"t\":10})\n",
    "\n",
    "    # Show the interactive plot\n",
    "    fig.show()"
   ]
  },
  {
   "cell_type": "code",
   "execution_count": 17,
   "metadata": {},
   "outputs": [],
   "source": [
    "def MetricCenterDistanceDisplay(data,distance_val_list,area_val_list,  category, type):\n",
    "    \"\"\" \n",
    "    Description:\n",
    "    This function serves to plot a graph showcasing the area taken up by the person in the image or their distance from the center.\n",
    "    \n",
    "    Parameters:\n",
    "    data (dict) - Dictionary containing the information relevant to each image.\n",
    "    distance_val_list (list) - List containing the distance between the centers of the image and the center of the bounding box in each image.\n",
    "    area_val_list (list) - List containing the percentage of the image taken up by the bounding box in each image.\n",
    "    category (str) - Specific parameter to plot along the x-axis. Valid values [\"age\", \"gender\", \"race\", \"emotion\"]\n",
    "    type (str) - Specific parameter to plot along the y-axis. Valid values [\"distance\", \"area\"]\n",
    "\n",
    "    Returns:\n",
    "    None.\n",
    "    \"\"\"\n",
    "\n",
    "    # Checking if the category is valid\n",
    "    if category not in ['age', 'gender', 'race']:\n",
    "        raise ValueError(\"Invalid value for category. It should be 'age', 'gender' or 'race'.\")\n",
    "    \n",
    "    # Checking if the type is valid\n",
    "    if type not in ['distance', 'area']:\n",
    "        raise ValueError(\"Invalid value for category. It should be 'distance', 'area'.\")\n",
    "    \n",
    "    # Assigning the correct list based on the type\n",
    "    if type == 'distance':\n",
    "        cat_value = \"center_dist\"  \n",
    "        yLabel = 'Distance From Center'\n",
    "    else:\n",
    "        cat_value = \"space\"  \n",
    "        yLabel = 'Person Area'\n",
    "\n",
    "    tmp = {}\n",
    "    for index in data:\n",
    "        if data[index][1][category] in tmp:\n",
    "            tmp[data[index][1][category]].append(data[index][1][cat_value])\n",
    "        else:\n",
    "            tmp[data[index][1][category]] = [data[index][1][cat_value]]\n",
    "\n",
    "    # Iterating through key-value pairs\n",
    "    for key, values in tmp.items():\n",
    "        tmp[key] = statistics.median(values)\n",
    "\n",
    "    # Plotting the line\n",
    "    plt.plot(list(tmp.keys()),list(tmp.values()), color='red', marker='o', linestyle='solid')\n",
    "\n",
    "    # Adding labels and title\n",
    "    plt.ylabel(yLabel)\n",
    "    plt.xlabel(category.capitalize())\n",
    "    plt.title('Median '+yLabel+' - '+category.capitalize())\n",
    "\n",
    "    # Show the plot\n",
    "    plt.show()"
   ]
  },
  {
   "cell_type": "code",
   "execution_count": 158,
   "metadata": {},
   "outputs": [
    {
     "data": {
      "image/png": "[encoded data removed]",
      "text/plain": [
       "<Figure size 640x480 with 1 Axes>"
      ]
     },
     "metadata": {},
     "output_type": "display_data"
    },
    {
     "data": {
      "image/png": "[encoded data removed]",
      "text/plain": [
       "<Figure size 640x480 with 1 Axes>"
      ]
     },
     "metadata": {},
     "output_type": "display_data"
    },
    {
     "data": {
      "image/png": "[encoded data removed]",
      "text/plain": [
       "<Figure size 640x480 with 1 Axes>"
      ]
     },
     "metadata": {},
     "output_type": "display_data"
    },
    {
     "data": {
      "image/png": "[encoded data removed]",
      "text/plain": [
       "<Figure size 640x480 with 1 Axes>"
      ]
     },
     "metadata": {},
     "output_type": "display_data"
    },
    {
     "data": {
      "application/vnd.plotly.v1+json": {
       "config": {
        "plotlyServerURL": "https://plot.ly"
       },
       "data": [
        {
         "hovertemplate": "x=%{x}<br>y=%{y}<br>z=%{z}<extra></extra>",
         "legendgroup": "",
         "marker": {
          "color": "#636efa",
          "symbol": "circle"
         },
         "mode": "markers",
         "name": "",
         "scene": "scene",
         "showlegend": false,
         "type": "scatter3d",
         "x": [
          0.01147425573435612,
          99.99971985816956
         ],
         "y": [
          81.17226362228394,
          99.99489784240723
         ],
         "z": [
          1.0245642624795437,
          0.06405391613952816
         ]
        }
       ],
       "layout": {
        "legend": {
         "tracegroupgap": 0
        },
        "margin": {
         "b": 10,
         "l": 10,
         "r": 20,
         "t": 10
        },
        "scene": {
         "domain": {
          "x": [
           0,
           1
          ],
          "y": [
           0,
           1
          ]
         },
         "xaxis": {
          "title": {
           "text": "Gender (man) confidence score"
          }
         },
         "yaxis": {
          "title": {
           "text": "Race (white) confidence score"
          }
         },
         "zaxis": {
          "title": {
           "text": "Age (10-19) confidence score"
          }
         }
        },
        "template": {
         "data": {
          "bar": [
           {
            "error_x": {
             "color": "#2a3f5f"
            },
            "error_y": {
             "color": "#2a3f5f"
            },
            "marker": {
             "line": {
              "color": "#E5ECF6",
              "width": 0.5
             },
             "pattern": {
              "fillmode": "overlay",
              "size": 10,
              "solidity": 0.2
             }
            },
            "type": "bar"
           }
          ],
          "barpolar": [
           {
            "marker": {
             "line": {
              "color": "#E5ECF6",
              "width": 0.5
             },
             "pattern": {
              "fillmode": "overlay",
              "size": 10,
              "solidity": 0.2
             }
            },
            "type": "barpolar"
           }
          ],
          "carpet": [
           {
            "aaxis": {
             "endlinecolor": "#2a3f5f",
             "gridcolor": "white",
             "linecolor": "white",
             "minorgridcolor": "white",
             "startlinecolor": "#2a3f5f"
            },
            "baxis": {
             "endlinecolor": "#2a3f5f",
             "gridcolor": "white",
             "linecolor": "white",
             "minorgridcolor": "white",
             "startlinecolor": "#2a3f5f"
            },
            "type": "carpet"
           }
          ],
          "choropleth": [
           {
            "colorbar": {
             "outlinewidth": 0,
             "ticks": ""
            },
            "type": "choropleth"
           }
          ],
          "contour": [
           {
            "colorbar": {
             "outlinewidth": 0,
             "ticks": ""
            },
            "colorscale": [
             [
              0,
              "#0d0887"
             ],
             [
              0.1111111111111111,
              "#46039f"
             ],
             [
              0.2222222222222222,
              "#7201a8"
             ],
             [
              0.3333333333333333,
              "#9c179e"
             ],
             [
              0.4444444444444444,
              "#bd3786"
             ],
             [
              0.5555555555555556,
              "#d8576b"
             ],
             [
              0.6666666666666666,
              "#ed7953"
             ],
             [
              0.7777777777777778,
              "#fb9f3a"
             ],
             [
              0.8888888888888888,
              "#fdca26"
             ],
             [
              1,
              "#f0f921"
             ]
            ],
            "type": "contour"
           }
          ],
          "contourcarpet": [
           {
            "colorbar": {
             "outlinewidth": 0,
             "ticks": ""
            },
            "type": "contourcarpet"
           }
          ],
          "heatmap": [
           {
            "colorbar": {
             "outlinewidth": 0,
             "ticks": ""
            },
            "colorscale": [
             [
              0,
              "#0d0887"
             ],
             [
              0.1111111111111111,
              "#46039f"
             ],
             [
              0.2222222222222222,
              "#7201a8"
             ],
             [
              0.3333333333333333,
              "#9c179e"
             ],
             [
              0.4444444444444444,
              "#bd3786"
             ],
             [
              0.5555555555555556,
              "#d8576b"
             ],
             [
              0.6666666666666666,
              "#ed7953"
             ],
             [
              0.7777777777777778,
              "#fb9f3a"
             ],
             [
              0.8888888888888888,
              "#fdca26"
             ],
             [
              1,
              "#f0f921"
             ]
            ],
            "type": "heatmap"
           }
          ],
          "heatmapgl": [
           {
            "colorbar": {
             "outlinewidth": 0,
             "ticks": ""
            },
            "colorscale": [
             [
              0,
              "#0d0887"
             ],
             [
              0.1111111111111111,
              "#46039f"
             ],
             [
              0.2222222222222222,
              "#7201a8"
             ],
             [
              0.3333333333333333,
              "#9c179e"
             ],
             [
              0.4444444444444444,
              "#bd3786"
             ],
             [
              0.5555555555555556,
              "#d8576b"
             ],
             [
              0.6666666666666666,
              "#ed7953"
             ],
             [
              0.7777777777777778,
              "#fb9f3a"
             ],
             [
              0.8888888888888888,
              "#fdca26"
             ],
             [
              1,
              "#f0f921"
             ]
            ],
            "type": "heatmapgl"
           }
          ],
          "histogram": [
           {
            "marker": {
             "pattern": {
              "fillmode": "overlay",
              "size": 10,
              "solidity": 0.2
             }
            },
            "type": "histogram"
           }
          ],
          "histogram2d": [
           {
            "colorbar": {
             "outlinewidth": 0,
             "ticks": ""
            },
            "colorscale": [
             [
              0,
              "#0d0887"
             ],
             [
              0.1111111111111111,
              "#46039f"
             ],
             [
              0.2222222222222222,
              "#7201a8"
             ],
             [
              0.3333333333333333,
              "#9c179e"
             ],
             [
              0.4444444444444444,
              "#bd3786"
             ],
             [
              0.5555555555555556,
              "#d8576b"
             ],
             [
              0.6666666666666666,
              "#ed7953"
             ],
             [
              0.7777777777777778,
              "#fb9f3a"
             ],
             [
              0.8888888888888888,
              "#fdca26"
             ],
             [
              1,
              "#f0f921"
             ]
            ],
            "type": "histogram2d"
           }
          ],
          "histogram2dcontour": [
           {
            "colorbar": {
             "outlinewidth": 0,
             "ticks": ""
            },
            "colorscale": [
             [
              0,
              "#0d0887"
             ],
             [
              0.1111111111111111,
              "#46039f"
             ],
             [
              0.2222222222222222,
              "#7201a8"
             ],
             [
              0.3333333333333333,
              "#9c179e"
             ],
             [
              0.4444444444444444,
              "#bd3786"
             ],
             [
              0.5555555555555556,
              "#d8576b"
             ],
             [
              0.6666666666666666,
              "#ed7953"
             ],
             [
              0.7777777777777778,
              "#fb9f3a"
             ],
             [
              0.8888888888888888,
              "#fdca26"
             ],
             [
              1,
              "#f0f921"
             ]
            ],
            "type": "histogram2dcontour"
           }
          ],
          "mesh3d": [
           {
            "colorbar": {
             "outlinewidth": 0,
             "ticks": ""
            },
            "type": "mesh3d"
           }
          ],
          "parcoords": [
           {
            "line": {
             "colorbar": {
              "outlinewidth": 0,
              "ticks": ""
             }
            },
            "type": "parcoords"
           }
          ],
          "pie": [
           {
            "automargin": true,
            "type": "pie"
           }
          ],
          "scatter": [
           {
            "fillpattern": {
             "fillmode": "overlay",
             "size": 10,
             "solidity": 0.2
            },
            "type": "scatter"
           }
          ],
          "scatter3d": [
           {
            "line": {
             "colorbar": {
              "outlinewidth": 0,
              "ticks": ""
             }
            },
            "marker": {
             "colorbar": {
              "outlinewidth": 0,
              "ticks": ""
             }
            },
            "type": "scatter3d"
           }
          ],
          "scattercarpet": [
           {
            "marker": {
             "colorbar": {
              "outlinewidth": 0,
              "ticks": ""
             }
            },
            "type": "scattercarpet"
           }
          ],
          "scattergeo": [
           {
            "marker": {
             "colorbar": {
              "outlinewidth": 0,
              "ticks": ""
             }
            },
            "type": "scattergeo"
           }
          ],
          "scattergl": [
           {
            "marker": {
             "colorbar": {
              "outlinewidth": 0,
              "ticks": ""
             }
            },
            "type": "scattergl"
           }
          ],
          "scattermapbox": [
           {
            "marker": {
             "colorbar": {
              "outlinewidth": 0,
              "ticks": ""
             }
            },
            "type": "scattermapbox"
           }
          ],
          "scatterpolar": [
           {
            "marker": {
             "colorbar": {
              "outlinewidth": 0,
              "ticks": ""
             }
            },
            "type": "scatterpolar"
           }
          ],
          "scatterpolargl": [
           {
            "marker": {
             "colorbar": {
              "outlinewidth": 0,
              "ticks": ""
             }
            },
            "type": "scatterpolargl"
           }
          ],
          "scatterternary": [
           {
            "marker": {
             "colorbar": {
              "outlinewidth": 0,
              "ticks": ""
             }
            },
            "type": "scatterternary"
           }
          ],
          "surface": [
           {
            "colorbar": {
             "outlinewidth": 0,
             "ticks": ""
            },
            "colorscale": [
             [
              0,
              "#0d0887"
             ],
             [
              0.1111111111111111,
              "#46039f"
             ],
             [
              0.2222222222222222,
              "#7201a8"
             ],
             [
              0.3333333333333333,
              "#9c179e"
             ],
             [
              0.4444444444444444,
              "#bd3786"
             ],
             [
              0.5555555555555556,
              "#d8576b"
             ],
             [
              0.6666666666666666,
              "#ed7953"
             ],
             [
              0.7777777777777778,
              "#fb9f3a"
             ],
             [
              0.8888888888888888,
              "#fdca26"
             ],
             [
              1,
              "#f0f921"
             ]
            ],
            "type": "surface"
           }
          ],
          "table": [
           {
            "cells": {
             "fill": {
              "color": "#EBF0F8"
             },
             "line": {
              "color": "white"
             }
            },
            "header": {
             "fill": {
              "color": "#C8D4E3"
             },
             "line": {
              "color": "white"
             }
            },
            "type": "table"
           }
          ]
         },
         "layout": {
          "annotationdefaults": {
           "arrowcolor": "#2a3f5f",
           "arrowhead": 0,
           "arrowwidth": 1
          },
          "autotypenumbers": "strict",
          "coloraxis": {
           "colorbar": {
            "outlinewidth": 0,
            "ticks": ""
           }
          },
          "colorscale": {
           "diverging": [
            [
             0,
             "#8e0152"
            ],
            [
             0.1,
             "#c51b7d"
            ],
            [
             0.2,
             "#de77ae"
            ],
            [
             0.3,
             "#f1b6da"
            ],
            [
             0.4,
             "#fde0ef"
            ],
            [
             0.5,
             "#f7f7f7"
            ],
            [
             0.6,
             "#e6f5d0"
            ],
            [
             0.7,
             "#b8e186"
            ],
            [
             0.8,
             "#7fbc41"
            ],
            [
             0.9,
             "#4d9221"
            ],
            [
             1,
             "#276419"
            ]
           ],
           "sequential": [
            [
             0,
             "#0d0887"
            ],
            [
             0.1111111111111111,
             "#46039f"
            ],
            [
             0.2222222222222222,
             "#7201a8"
            ],
            [
             0.3333333333333333,
             "#9c179e"
            ],
            [
             0.4444444444444444,
             "#bd3786"
            ],
            [
             0.5555555555555556,
             "#d8576b"
            ],
            [
             0.6666666666666666,
             "#ed7953"
            ],
            [
             0.7777777777777778,
             "#fb9f3a"
            ],
            [
             0.8888888888888888,
             "#fdca26"
            ],
            [
             1,
             "#f0f921"
            ]
           ],
           "sequentialminus": [
            [
             0,
             "#0d0887"
            ],
            [
             0.1111111111111111,
             "#46039f"
            ],
            [
             0.2222222222222222,
             "#7201a8"
            ],
            [
             0.3333333333333333,
             "#9c179e"
            ],
            [
             0.4444444444444444,
             "#bd3786"
            ],
            [
             0.5555555555555556,
             "#d8576b"
            ],
            [
             0.6666666666666666,
             "#ed7953"
            ],
            [
             0.7777777777777778,
             "#fb9f3a"
            ],
            [
             0.8888888888888888,
             "#fdca26"
            ],
            [
             1,
             "#f0f921"
            ]
           ]
          },
          "colorway": [
           "#636efa",
           "#EF553B",
           "#00cc96",
           "#ab63fa",
           "#FFA15A",
           "#19d3f3",
           "#FF6692",
           "#B6E880",
           "#FF97FF",
           "#FECB52"
          ],
          "font": {
           "color": "#2a3f5f"
          },
          "geo": {
           "bgcolor": "white",
           "lakecolor": "white",
           "landcolor": "#E5ECF6",
           "showlakes": true,
           "showland": true,
           "subunitcolor": "white"
          },
          "hoverlabel": {
           "align": "left"
          },
          "hovermode": "closest",
          "mapbox": {
           "style": "light"
          },
          "paper_bgcolor": "white",
          "plot_bgcolor": "#E5ECF6",
          "polar": {
           "angularaxis": {
            "gridcolor": "white",
            "linecolor": "white",
            "ticks": ""
           },
           "bgcolor": "#E5ECF6",
           "radialaxis": {
            "gridcolor": "white",
            "linecolor": "white",
            "ticks": ""
           }
          },
          "scene": {
           "xaxis": {
            "backgroundcolor": "#E5ECF6",
            "gridcolor": "white",
            "gridwidth": 2,
            "linecolor": "white",
            "showbackground": true,
            "ticks": "",
            "zerolinecolor": "white"
           },
           "yaxis": {
            "backgroundcolor": "#E5ECF6",
            "gridcolor": "white",
            "gridwidth": 2,
            "linecolor": "white",
            "showbackground": true,
            "ticks": "",
            "zerolinecolor": "white"
           },
           "zaxis": {
            "backgroundcolor": "#E5ECF6",
            "gridcolor": "white",
            "gridwidth": 2,
            "linecolor": "white",
            "showbackground": true,
            "ticks": "",
            "zerolinecolor": "white"
           }
          },
          "shapedefaults": {
           "line": {
            "color": "#2a3f5f"
           }
          },
          "ternary": {
           "aaxis": {
            "gridcolor": "white",
            "linecolor": "white",
            "ticks": ""
           },
           "baxis": {
            "gridcolor": "white",
            "linecolor": "white",
            "ticks": ""
           },
           "bgcolor": "#E5ECF6",
           "caxis": {
            "gridcolor": "white",
            "linecolor": "white",
            "ticks": ""
           }
          },
          "title": {
           "x": 0.05
          },
          "xaxis": {
           "automargin": true,
           "gridcolor": "white",
           "linecolor": "white",
           "ticks": "",
           "title": {
            "standoff": 15
           },
           "zerolinecolor": "white",
           "zerolinewidth": 2
          },
          "yaxis": {
           "automargin": true,
           "gridcolor": "white",
           "linecolor": "white",
           "ticks": "",
           "title": {
            "standoff": 15
           },
           "zerolinecolor": "white",
           "zerolinewidth": 2
          }
         }
        }
       }
      }
     },
     "metadata": {},
     "output_type": "display_data"
    },
    {
     "data": {
      "image/png": "[encoded data removed]",
      "text/plain": [
       "<Figure size 640x480 with 1 Axes>"
      ]
     },
     "metadata": {},
     "output_type": "display_data"
    }
   ],
   "source": [
    "MetricGenderDisplay(FairFaceDict, specific_race=None, specific_age=None)\n",
    "MetricRaceDisplay(FairFaceDict, specific_gender=None, specific_age=None)\n",
    "MetricAgeDisplay(FairFaceDict, specific_gender=None, specific_race=None)\n",
    "ScatterPlotDisplay2D(FairFaceDict, x_axis_label=\"race\", y_axis_label=\"gender\", specific_gender=\"man\", specific_race=\"white\")\n",
    "ScatterPlotDisplay3D(FairFaceDict, specific_gender=\"man\", specific_race=\"white\", specific_age=\"10-19\")\n",
    "MetricCenterDistanceDisplay(FairFaceDict, distance_val_list=dist_bet_centers, area_val_list=space_taken_up, category='race', type='distance') "
   ]
  },
  {
   "cell_type": "code",
   "execution_count": 16,
   "metadata": {},
   "outputs": [],
   "source": [
    "def ShannonSimpsonMetrics(data):\n",
    "    prob_gender = {\"man\": 0, \"woman\": 0}\n",
    "    prob_race = {\"asian\": 0, \"white\": 0, \"middle eastern\": 0, \"indian\": 0, \"latino hispanic\": 0, \"black\": 0}\n",
    "    prob_age = {\"0-2\":0,\"3-9\":0,\"10-19\":0,\"20-29\":0,\"30-39\":0,\"40-49\":0,\"50-59\":0,\"60-69\":0,\"70+\":0}\n",
    "    dict_list = [prob_gender, prob_race, prob_age]\n",
    "\n",
    "    # Working out the number of each metric present across the set of images\n",
    "    for index in range(len(data)):\n",
    "        prob_gender[data[index][1][\"gender\"]] += 1\n",
    "\n",
    "        prob_race[data[index][1][\"race\"]] += 1\n",
    "\n",
    "        prob_age[data[index][1][\"age\"]] += 1\n",
    "\n",
    "    # Working out the probability that each metric is present across the set of images\n",
    "    for dict in dict_list:\n",
    "        for item in dict:\n",
    "            dict[item] /= len(data)\n",
    "\n",
    "    # Working out the shannon entropy for each metric\n",
    "    shannonEntropy = {\"gender\":0, \"race\":0, \"age\":0}\n",
    "    for index, dict in enumerate(dict_list):\n",
    "        shannon_val = 0\n",
    "        for item in dict:\n",
    "            # Ignoring 0 values as ln(0) is undefined \n",
    "            if dict[item] != 0:\n",
    "                shannon_val += dict[item]*math.log(dict[item])\n",
    "        shannon_val = -shannon_val\n",
    "        shannonEntropy[list(shannonEntropy.keys())[index]] = shannon_val\n",
    "\n",
    "    simpsonIndex = {\"gender\":0, \"race\":0, \"age\":0}\n",
    "    for index, dict in enumerate(dict_list):\n",
    "        simpson_val = 0\n",
    "        for item in dict:\n",
    "            simpson_val += dict[item]**2\n",
    "        simpson_val = 1/simpson_val\n",
    "        simpsonIndex[list(simpsonIndex.keys())[index]] = simpson_val\n",
    "\n",
    "    shannonEvenness = shannonEntropy.copy()\n",
    "    gender_count = sum(1 for value in prob_gender.values() if value > 0)\n",
    "    race_count = sum(1 for value in prob_race.values() if value > 0)\n",
    "    age_count = sum(1 for value in prob_age.values() if value > 0)\n",
    "\n",
    "    if shannonEvenness[\"gender\"] != 0:\n",
    "        shannonEvenness[\"gender\"] /= math.log(gender_count)\n",
    "\n",
    "    if shannonEvenness[\"race\"] != 0:\n",
    "        shannonEvenness[\"race\"] /= math.log(race_count)\n",
    "\n",
    "    if shannonEvenness[\"age\"] != 0:\n",
    "        shannonEvenness[\"age\"] /= math.log(age_count)\n",
    "\n",
    "    simposonEvenness = simpsonIndex.copy()\n",
    "    simposonEvenness[\"gender\"] /= gender_count\n",
    "    simposonEvenness[\"race\"] /= race_count\n",
    "    simposonEvenness[\"age\"] /= age_count\n",
    "\n",
    "    return {\"ShannonEntropy\":shannonEntropy, \"SimpsonIndex\":simpsonIndex, \"ShannonEvenness\":shannonEvenness, \"SimpsonEvenness\":simposonEvenness}\n"
   ]
  },
  {
   "cell_type": "code",
   "execution_count": 21,
   "metadata": {},
   "outputs": [
    {
     "data": {
      "text/plain": [
       "{'ShannonEntropy': {'gender': 0.33678521072283274,\n",
       "  'race': 0.9434197471064367,\n",
       "  'age': 1.1296779481531973},\n",
       " 'SimpsonIndex': {'gender': 1.2324062385470538,\n",
       "  'race': 1.785098326039,\n",
       "  'age': 2.576158940397351},\n",
       " 'ShannonEvenness': {'gender': 0.48587835335457535,\n",
       "  'race': 0.5265325861583926,\n",
       "  'age': 0.7019083739892035},\n",
       " 'SimpsonEvenness': {'gender': 0.6162031192735269,\n",
       "  'race': 0.2975163876731667,\n",
       "  'age': 0.5152317880794702}}"
      ]
     },
     "execution_count": 21,
     "metadata": {},
     "output_type": "execute_result"
    }
   ],
   "source": [
    "ShannonSimpsonMetrics(FairFaceDict)"
   ]
  },
  {
   "cell_type": "code",
   "execution_count": 160,
   "metadata": {},
   "outputs": [],
   "source": [
    "def CorrelationMetric(data):\n",
    "    correlation_gender = {\"man\": 0, \"woman\": 0}\n",
    "    correlation_race = {\"asian\": 0, \"white\": 0, \"middle eastern\": 0, \"indian\": 0, \"latino hispanic\": 0, \"black\": 0}\n",
    "    correlation_age = {\"0-2\":0,\"3-9\":0,\"10-19\":0,\"20-29\":0,\"30-39\":0,\"40-49\":0,\"50-59\":0,\"60-69\":0,\"70+\":0}\n",
    "    count = len(data)\n",
    "    dict_list = [correlation_gender, correlation_race, correlation_age]\n",
    "\n",
    "    # Working out the number of each metric present across the set of images\n",
    "    for index in range(len(data)):\n",
    "        correlation_gender[data[index][1][\"gender\"]] += 1\n",
    "\n",
    "        correlation_race[data[index][1][\"race\"]] += 1\n",
    "\n",
    "        correlation_age[data[index][1][\"age\"]] += 1\n",
    "\n",
    "    for dict in dict_list:\n",
    "        for item in dict:\n",
    "            # Divide all values in the dictionary by count\n",
    "            dict[item] /= count\n",
    "            if dict[item] > 1/len(dict):\n",
    "                print(item, \"is positively correlated with the image type. \",dict[item], \" > \", 1/len(dict))"
   ]
  },
  {
   "cell_type": "code",
   "execution_count": 161,
   "metadata": {},
   "outputs": [
    {
     "name": "stdout",
     "output_type": "stream",
     "text": [
      "white is positively correlated with the image type.  1.0  >  0.16666666666666666\n",
      "20-29 is positively correlated with the image type.  0.5  >  0.1111111111111111\n",
      "40-49 is positively correlated with the image type.  0.5  >  0.1111111111111111\n"
     ]
    }
   ],
   "source": [
    "CorrelationMetric(FairFaceDict)"
   ]
  },
  {
   "cell_type": "markdown",
   "metadata": {},
   "source": [
    "### DeepFace Model"
   ]
  },
  {
   "cell_type": "code",
   "execution_count": 14,
   "metadata": {},
   "outputs": [],
   "source": [
    "# Function copied from FYP - Pipeline.ipynb\n",
    "def DeepFaceProcess(listOfImages):\n",
    "    \"\"\" \n",
    "    Description:\n",
    "    This function serves to determine the properties of the primary detected face in an image. \n",
    "    For each image passed it will only consider the most prominent face, this is done as each \n",
    "    image is initially being processed by YOLOv8 to detect/crop individual people and then said images are fed to this function.\n",
    "    \n",
    "    Parameters:\n",
    "    listOfImages (list) - List containing the images to be processed. \n",
    "\n",
    "    Returns:\n",
    "    DeepFaceDict (dict) - Dictionary containing the information relevant to each image.\n",
    "    \"\"\"\n",
    "        \n",
    "    tensorflow.keras.utils.disable_interactive_logging()\n",
    "    DeepFaceDict = {}\n",
    "    counter = 0\n",
    "    \n",
    "    # Create a tqdm progress bar\n",
    "    progress_bar = tqdm(total=len(listOfImages), desc=\"Processing\", unit=\"images\")\n",
    "    \n",
    "    for image in listOfImages:\n",
    "        try:\n",
    "            # Retrieving the age/gender/race/emotion of the image\n",
    "            # Note: enforce_detection=False used so that images where the face isn't fully visible are still considered\n",
    "            # Note: silent=True used to remove in built progress bar\n",
    "            image =  image[:,:,:3]\n",
    "\n",
    "            objs = DeepFace.analyze(image, actions = ['age', 'gender', 'race', 'emotion'], enforce_detection=False,  detector_backend=\"mtcnn\", silent=True)\n",
    "            \n",
    "            # Using the index of the primary face (takes up most area) in the image\n",
    "            index =  FindObjWithLargestArea(objs)\n",
    "            \n",
    "            # Replacing the dictionary keys to keep in line with the rest of the naming conventions (Man -> male/Woman-> female)\n",
    "            objs[index][\"gender\"][\"male\"] = objs[index][\"gender\"][\"Man\"]\n",
    "            del objs[index][\"gender\"][\"Man\"]\n",
    "\n",
    "            objs[index][\"gender\"][\"female\"] = objs[index][\"gender\"][\"Woman\"]\n",
    "            del objs[index][\"gender\"][\"Woman\"]\n",
    "\n",
    "            # Replacing the labels to keep in line with the rest of the naming conventions\n",
    "            if objs[index]['dominant_gender'] == \"Man\":\n",
    "                objs[index]['dominant_gender'] = \"male\"\n",
    "            elif objs[index]['dominant_gender'] == \"Woman\":\n",
    "                objs[index]['dominant_gender'] = \"female\"\n",
    "            \n",
    "            ImageInfo = {'age':objs[index]['age'], 'gender':objs[index]['dominant_gender'], 'race':objs[index]['dominant_race'], 'emotion':objs[index]['dominant_emotion']}\n",
    "\n",
    "            # Cropping the image to only include the face\n",
    "            objs[index]['region']\n",
    "            x = objs[index]['region']['x']\n",
    "            y = objs[index]['region']['y']\n",
    "            width = objs[index]['region']['x'] + objs[index]['region']['w']\n",
    "            height = objs[index]['region']['y'] + objs[index]['region']['h']\n",
    "            croppedImg = image[y:height, x:width]\n",
    "            \n",
    "            # Storing the images in a dictionary, ImageInfo contains the general info, objs contains the full detailed info (percentages of each class)\n",
    "            DeepFaceDict[counter] = [croppedImg, ImageInfo, objs[index]]\n",
    "            counter+=1\n",
    "        except Exception as error:\n",
    "            counter-=1\n",
    "            plt.imshow(image[:,:,:3])\n",
    "            plt.show()\n",
    "            print(\"Error: \",error)\n",
    "            \n",
    "        # Update the progress bar\n",
    "        progress_bar.update(1)\n",
    "    return DeepFaceDict"
   ]
  },
  {
   "cell_type": "markdown",
   "metadata": {},
   "source": [
    "### Ensamble Model"
   ]
  },
  {
   "cell_type": "code",
   "execution_count": 11,
   "metadata": {},
   "outputs": [],
   "source": [
    "# This function expectes the images to contain the face only and not the entire image\n",
    "def ensmableProcess(listOfImages, fairFaceModel):\n",
    "    tensorflow.keras.utils.disable_interactive_logging()\n",
    "    EnsambleDict = {}\n",
    "    no_of_models = 2\n",
    "    \n",
    "    # Create a tqdm progress bar\n",
    "    progress_bar = tqdm(total=len(listOfImages), desc=\"Processing\", unit=\"images\")\n",
    "\n",
    "    # Transformation process used to convert images to the expected input format of the fairface model.\n",
    "    trans = transforms.Compose([\n",
    "    transforms.ToPILImage(),\n",
    "    transforms.Resize((224, 224)),\n",
    "    transforms.ToTensor(),\n",
    "    transforms.Normalize(mean=[0.485, 0.456, 0.406], std=[0.229, 0.224, 0.225])\n",
    "    ])\n",
    "\n",
    "    for image_index, image in enumerate(listOfImages):\n",
    "\n",
    "        final_gender_mapping = {}\n",
    "        final_race_mapping = {}\n",
    "        # final_age_mapping = {}\n",
    "\n",
    "        # ResNet mappings\n",
    "        gender_mapping = {\"man\":0,\"woman\":1}\n",
    "        race_mapping = {\"white\":0,\"black\":1,\"latino hispanic\":2,\"asian\":3,\"indian\":4,\"middle eastern\":5}\n",
    "        age_mapping = {\"0-2\":0,\"3-9\":1,\"10-19\":2,\"20-29\":3,\"30-39\":4,\"40-49\":5,\"50-59\":6,\"60-69\":7,\"70+\":8}\n",
    "\n",
    "        # processing the image and getting the cropped version generated via mtcnn\n",
    "        objs = DeepFace.analyze(image, actions = ['age', 'gender', 'race'], enforce_detection=False,  detector_backend=\"mtcnn\", silent=True)\n",
    "\n",
    "        # Using the index of the primary face (takes up most area) in the image\n",
    "        index =  FindObjWithLargestArea(objs)\n",
    "\n",
    "        # Cropping the image to only include the face\n",
    "        img_area = objs[index]['region']\n",
    "        x = img_area['x']\n",
    "        y = img_area['y']\n",
    "        width = img_area['x'] + img_area['w']\n",
    "        height = img_area['y'] + img_area['h']\n",
    "        faceImg = image[y:height, x:width]\n",
    "\n",
    "        # Converting the cropped image to tensor and reshaping it to match the ResNet model input\n",
    "        transformed_image = trans(faceImg)\n",
    "        transformed_image = transformed_image.view(1, 3, 224, 224) \n",
    "        transformed_image = transformed_image.to(\"cpu\")\n",
    "\n",
    "        outputs = fairFaceModel(transformed_image)\n",
    "        outputs = outputs.cpu().detach().numpy()\n",
    "        outputs = np.squeeze(outputs)\n",
    "\n",
    "        gender_outputs = outputs[7:9]\n",
    "        age_outputs = outputs[9:18]\n",
    "\n",
    "        # This array has probabilities for east asian and southeast asian, so we need to combine them\n",
    "        race_outputs = outputs[:7]\n",
    "        # Their values are stored in index 3 and 4, so we will take the average of these two values and store at index 3\n",
    "        race_outputs[3] = np.mean(race_outputs[3:5])\n",
    "        # Now we remove the extra value at index 4\n",
    "        race_outputs = np.delete(race_outputs, 4)\n",
    "\n",
    "        gender_score = np.exp(gender_outputs) / np.sum(np.exp(gender_outputs))\n",
    "        age_score = np.exp(age_outputs) / np.sum(np.exp(age_outputs))\n",
    "        race_score = np.exp(race_outputs) / np.sum(np.exp(race_outputs))\n",
    "\n",
    "        # Setting the appropriate scores for each category\n",
    "        for gender in [\"man\", \"woman\"]:\n",
    "            # * 100 to convert the score to a percentage to match DeepFace model output\n",
    "            gender_mapping[gender] = gender_score[gender_mapping[gender]]*100\n",
    "\n",
    "        for race in [\"white\", \"black\", \"latino hispanic\", \"asian\", \"indian\", \"middle eastern\"]:\n",
    "            race_mapping[race] = race_score[race_mapping[race]]*100\n",
    "\n",
    "        for age_range in [\"0-2\",\"3-9\",\"10-19\",\"20-29\",\"30-39\",\"40-49\",\"50-59\",\"60-69\",\"70+\"]:\n",
    "            age_mapping[age_range] = age_score[age_mapping[age_range]]*100\n",
    "\n",
    "        # Ensabling the results from the ResNet model and the DeepFace model\n",
    "        final_gender_mapping[\"man\"] = (objs[0][\"gender\"][\"Man\"] + gender_mapping[\"man\"])/no_of_models\n",
    "        final_gender_mapping[\"woman\"] = (objs[0][\"gender\"][\"Woman\"] + gender_mapping[\"woman\"])/no_of_models\n",
    "\n",
    "        for race in [\"white\", \"black\", \"latino hispanic\", \"asian\", \"indian\", \"middle eastern\"]:\n",
    "            final_race_mapping[race] = (objs[0][\"race\"][race] + race_mapping[race])/no_of_models\n",
    "\n",
    "        # Determing the final results from the ensamble techniuqe\n",
    "        final_gender = max(final_gender_mapping, key=final_gender_mapping.get)\n",
    "        final_race = max(final_race_mapping, key=final_race_mapping.get)\n",
    "        final_age = max(age_mapping, key=age_mapping.get)\n",
    "\n",
    "        # Converting the age to a sufficient range (Assuming 100 is the max age)\n",
    "        if final_age == \"70+\":\n",
    "            final_age = \"70-100\"\n",
    "\n",
    "        # Calculating the mean of the age range\n",
    "        age_mean = np.mean([int(value) for value in final_age.split(\"-\")])\n",
    "\n",
    "        # Calculating the mean of the model ages\n",
    "        ensamble_age = np.mean([age_mean, objs[0][\"age\"]])\n",
    "\n",
    "        age_ranges = [(0, 2), (3, 9), (10, 19), (20, 29), (30, 39), (40, 49), (50, 59), (60, 69), (70, 100)]\n",
    "\n",
    "        # Determining the final age range based on the mean of the model ages\n",
    "        for range_start, range_end in age_ranges:\n",
    "            if ensamble_age in range(range_start, range_end + 1):\n",
    "                if range_start == 70:\n",
    "                    final_age = \"70+\"\n",
    "                else:\n",
    "                    final_age = f\"{range_start}-{range_end}\"\n",
    "                break\n",
    "        \n",
    "        ImageInfo = {\"age\":final_age, \"gender\":final_gender, \"race\":final_race}\n",
    "        imageConfidenceData = {\"race\":final_race_mapping, \"gender\":final_gender_mapping, \"age\":age_mapping}\n",
    "        EnsambleDict[image_index] = [faceImg, ImageInfo, imageConfidenceData]\n",
    "\n",
    "        # Update the progress bar\n",
    "        progress_bar.update(1)\n",
    "\n",
    "    return EnsambleDict"
   ]
  },
  {
   "cell_type": "code",
   "execution_count": 16,
   "metadata": {},
   "outputs": [
    {
     "name": "stdout",
     "output_type": "stream",
     "text": [
      "\n",
      "0: 640x480 1 person, 90.6ms\n",
      "Speed: 3.0ms preprocess, 90.6ms inference, 0.5ms postprocess per image at shape (1, 3, 640, 480)\n",
      "\n",
      "0: 384x640 1 person, 78.5ms\n",
      "Speed: 3.0ms preprocess, 78.5ms inference, 1.0ms postprocess per image at shape (1, 3, 384, 640)\n",
      "\n",
      "0: 640x448 1 person, 86.3ms\n",
      "Speed: 2.0ms preprocess, 86.3ms inference, 1.0ms postprocess per image at shape (1, 3, 640, 448)\n",
      "\n",
      "0: 640x640 1 person, 110.2ms\n",
      "Speed: 3.0ms preprocess, 110.2ms inference, 1.0ms postprocess per image at shape (1, 3, 640, 640)\n",
      "\n",
      "0: 640x608 1 person, 132.0ms\n",
      "Speed: 3.0ms preprocess, 132.0ms inference, 1.0ms postprocess per image at shape (1, 3, 640, 608)\n",
      "\n",
      "0: 448x640 1 person, 84.0ms\n",
      "Speed: 3.0ms preprocess, 84.0ms inference, 0.0ms postprocess per image at shape (1, 3, 448, 640)\n",
      "\n",
      "0: 640x480 1 person, 87.0ms\n",
      "Speed: 3.0ms preprocess, 87.0ms inference, 1.0ms postprocess per image at shape (1, 3, 640, 480)\n",
      "\n",
      "0: 352x640 1 person, 78.0ms\n",
      "Speed: 2.0ms preprocess, 78.0ms inference, 1.0ms postprocess per image at shape (1, 3, 352, 640)\n",
      "\n",
      "0: 576x640 1 person, 112.0ms\n",
      "Speed: 4.0ms preprocess, 112.0ms inference, 0.0ms postprocess per image at shape (1, 3, 576, 640)\n",
      "\n",
      "0: 640x480 1 person, 84.0ms\n",
      "Speed: 2.0ms preprocess, 84.0ms inference, 1.0ms postprocess per image at shape (1, 3, 640, 480)\n",
      "\n",
      "0: 640x480 1 person, 85.0ms\n",
      "Speed: 3.0ms preprocess, 85.0ms inference, 1.0ms postprocess per image at shape (1, 3, 640, 480)\n",
      "\n",
      "0: 640x448 1 person, 76.0ms\n",
      "Speed: 2.0ms preprocess, 76.0ms inference, 1.0ms postprocess per image at shape (1, 3, 640, 448)\n",
      "\n",
      "0: 640x448 1 person, 78.0ms\n",
      "Speed: 3.0ms preprocess, 78.0ms inference, 1.0ms postprocess per image at shape (1, 3, 640, 448)\n",
      "\n",
      "0: 544x640 1 person, 91.0ms\n",
      "Speed: 4.0ms preprocess, 91.0ms inference, 1.0ms postprocess per image at shape (1, 3, 544, 640)\n",
      "\n",
      "0: 640x448 1 person, 82.0ms\n",
      "Speed: 3.0ms preprocess, 82.0ms inference, 1.0ms postprocess per image at shape (1, 3, 640, 448)\n",
      "\n",
      "0: 640x640 1 person, 123.0ms\n",
      "Speed: 4.0ms preprocess, 123.0ms inference, 1.0ms postprocess per image at shape (1, 3, 640, 640)\n",
      "\n",
      "0: 640x448 1 person, 86.0ms\n",
      "Speed: 2.0ms preprocess, 86.0ms inference, 1.0ms postprocess per image at shape (1, 3, 640, 448)\n",
      "\n",
      "0: 640x448 1 person, 79.0ms\n",
      "Speed: 3.0ms preprocess, 79.0ms inference, 1.0ms postprocess per image at shape (1, 3, 640, 448)\n",
      "\n",
      "0: 640x448 1 person, 76.0ms\n",
      "Speed: 2.0ms preprocess, 76.0ms inference, 1.0ms postprocess per image at shape (1, 3, 640, 448)\n",
      "\n",
      "0: 640x512 1 person, 103.0ms\n",
      "Speed: 3.0ms preprocess, 103.0ms inference, 1.0ms postprocess per image at shape (1, 3, 640, 512)\n",
      "\n",
      "0: 640x480 1 person, 84.0ms\n",
      "Speed: 3.0ms preprocess, 84.0ms inference, 1.0ms postprocess per image at shape (1, 3, 640, 480)\n",
      "\n",
      "0: 480x640 1 person, 96.0ms\n",
      "Speed: 2.0ms preprocess, 96.0ms inference, 1.0ms postprocess per image at shape (1, 3, 480, 640)\n",
      "\n",
      "0: 512x640 1 person, 90.0ms\n",
      "Speed: 3.0ms preprocess, 90.0ms inference, 1.0ms postprocess per image at shape (1, 3, 512, 640)\n",
      "\n",
      "0: 640x448 1 person, 80.8ms\n",
      "Speed: 3.0ms preprocess, 80.8ms inference, 1.0ms postprocess per image at shape (1, 3, 640, 448)\n",
      "\n",
      "0: 640x544 1 person, 104.0ms\n",
      "Speed: 2.0ms preprocess, 104.0ms inference, 1.0ms postprocess per image at shape (1, 3, 640, 544)\n",
      "\n",
      "0: 640x480 1 person, 92.0ms\n",
      "Speed: 4.0ms preprocess, 92.0ms inference, 1.0ms postprocess per image at shape (1, 3, 640, 480)\n",
      "\n",
      "0: 448x640 1 person, 79.0ms\n",
      "Speed: 2.0ms preprocess, 79.0ms inference, 1.0ms postprocess per image at shape (1, 3, 448, 640)\n",
      "\n",
      "0: 640x448 1 person, 77.0ms\n",
      "Speed: 3.0ms preprocess, 77.0ms inference, 1.0ms postprocess per image at shape (1, 3, 640, 448)\n",
      "\n",
      "0: 640x416 1 person, 89.0ms\n",
      "Speed: 3.0ms preprocess, 89.0ms inference, 1.0ms postprocess per image at shape (1, 3, 640, 416)\n",
      "\n",
      "0: 448x640 1 person, 79.0ms\n",
      "Speed: 3.0ms preprocess, 79.0ms inference, 0.0ms postprocess per image at shape (1, 3, 448, 640)\n",
      "\n",
      "0: 640x448 1 person, 76.0ms\n",
      "Speed: 3.0ms preprocess, 76.0ms inference, 1.0ms postprocess per image at shape (1, 3, 640, 448)\n",
      "\n",
      "0: 608x640 1 person, 117.0ms\n",
      "Speed: 3.0ms preprocess, 117.0ms inference, 1.0ms postprocess per image at shape (1, 3, 608, 640)\n",
      "\n",
      "0: 640x416 1 person, 134.0ms\n",
      "Speed: 3.0ms preprocess, 134.0ms inference, 1.0ms postprocess per image at shape (1, 3, 640, 416)\n",
      "\n",
      "0: 480x640 1 person, 86.0ms\n",
      "Speed: 2.0ms preprocess, 86.0ms inference, 1.0ms postprocess per image at shape (1, 3, 480, 640)\n",
      "\n",
      "0: 640x448 1 person, 81.0ms\n",
      "Speed: 3.0ms preprocess, 81.0ms inference, 1.0ms postprocess per image at shape (1, 3, 640, 448)\n",
      "\n",
      "0: 448x640 1 person, 78.0ms\n",
      "Speed: 2.0ms preprocess, 78.0ms inference, 0.0ms postprocess per image at shape (1, 3, 448, 640)\n",
      "\n",
      "0: 384x640 1 person, 79.0ms\n",
      "Speed: 2.0ms preprocess, 79.0ms inference, 1.0ms postprocess per image at shape (1, 3, 384, 640)\n",
      "\n",
      "0: 640x352 1 person, 78.0ms\n",
      "Speed: 2.0ms preprocess, 78.0ms inference, 1.0ms postprocess per image at shape (1, 3, 640, 352)\n",
      "\n",
      "0: 640x448 1 person, 82.0ms\n",
      "Speed: 3.0ms preprocess, 82.0ms inference, 1.0ms postprocess per image at shape (1, 3, 640, 448)\n",
      "\n",
      "0: 480x640 1 person, 84.0ms\n",
      "Speed: 3.0ms preprocess, 84.0ms inference, 1.0ms postprocess per image at shape (1, 3, 480, 640)\n",
      "\n",
      "0: 608x640 1 person, 104.0ms\n",
      "Speed: 4.0ms preprocess, 104.0ms inference, 1.0ms postprocess per image at shape (1, 3, 608, 640)\n",
      "\n",
      "0: 448x640 1 person, 88.0ms\n",
      "Speed: 3.0ms preprocess, 88.0ms inference, 1.0ms postprocess per image at shape (1, 3, 448, 640)\n",
      "\n",
      "0: 640x416 1 person, 79.0ms\n",
      "Speed: 2.0ms preprocess, 79.0ms inference, 1.0ms postprocess per image at shape (1, 3, 640, 416)\n",
      "\n",
      "0: 640x448 1 person, 91.0ms\n",
      "Speed: 4.0ms preprocess, 91.0ms inference, 1.0ms postprocess per image at shape (1, 3, 640, 448)\n",
      "\n",
      "0: 448x640 1 person, 78.5ms\n",
      "Speed: 2.0ms preprocess, 78.5ms inference, 0.0ms postprocess per image at shape (1, 3, 448, 640)\n",
      "\n",
      "0: 640x448 1 person, 76.0ms\n",
      "Speed: 3.0ms preprocess, 76.0ms inference, 1.0ms postprocess per image at shape (1, 3, 640, 448)\n",
      "\n",
      "0: 448x640 1 person, 73.0ms\n",
      "Speed: 3.0ms preprocess, 73.0ms inference, 1.0ms postprocess per image at shape (1, 3, 448, 640)\n",
      "\n",
      "0: 640x448 1 person, 80.5ms\n",
      "Speed: 2.0ms preprocess, 80.5ms inference, 0.0ms postprocess per image at shape (1, 3, 640, 448)\n",
      "\n",
      "0: 480x640 1 person, 90.5ms\n",
      "Speed: 3.0ms preprocess, 90.5ms inference, 1.0ms postprocess per image at shape (1, 3, 480, 640)\n",
      "\n",
      "0: 640x480 1 person, 99.2ms\n",
      "Speed: 3.0ms preprocess, 99.2ms inference, 1.0ms postprocess per image at shape (1, 3, 640, 480)\n",
      "\n",
      "0: 640x448 1 person, 81.0ms\n",
      "Speed: 2.0ms preprocess, 81.0ms inference, 1.0ms postprocess per image at shape (1, 3, 640, 448)\n",
      "\n",
      "0: 480x640 1 person, 83.0ms\n",
      "Speed: 2.0ms preprocess, 83.0ms inference, 1.0ms postprocess per image at shape (1, 3, 480, 640)\n",
      "\n",
      "0: 640x480 1 person, 80.0ms\n",
      "Speed: 3.0ms preprocess, 80.0ms inference, 1.0ms postprocess per image at shape (1, 3, 640, 480)\n",
      "\n",
      "0: 640x448 1 person, 75.0ms\n",
      "Speed: 3.0ms preprocess, 75.0ms inference, 1.0ms postprocess per image at shape (1, 3, 640, 448)\n",
      "\n",
      "0: 416x640 1 person, 86.0ms\n",
      "Speed: 2.0ms preprocess, 86.0ms inference, 0.0ms postprocess per image at shape (1, 3, 416, 640)\n",
      "\n",
      "0: 640x448 1 person, 74.0ms\n",
      "Speed: 3.0ms preprocess, 74.0ms inference, 1.0ms postprocess per image at shape (1, 3, 640, 448)\n",
      "\n",
      "0: 640x480 1 person, 83.0ms\n",
      "Speed: 3.0ms preprocess, 83.0ms inference, 1.0ms postprocess per image at shape (1, 3, 640, 480)\n",
      "\n",
      "0: 640x640 1 person, 99.0ms\n",
      "Speed: 4.0ms preprocess, 99.0ms inference, 1.0ms postprocess per image at shape (1, 3, 640, 640)\n",
      "\n",
      "0: 640x640 1 person, 99.0ms\n",
      "Speed: 4.0ms preprocess, 99.0ms inference, 1.0ms postprocess per image at shape (1, 3, 640, 640)\n",
      "\n",
      "0: 576x640 1 person, 104.0ms\n",
      "Speed: 3.0ms preprocess, 104.0ms inference, 1.0ms postprocess per image at shape (1, 3, 576, 640)\n",
      "\n",
      "0: 640x448 1 person, 76.0ms\n",
      "Speed: 2.0ms preprocess, 76.0ms inference, 1.0ms postprocess per image at shape (1, 3, 640, 448)\n",
      "\n",
      "0: 608x640 1 person, 98.0ms\n",
      "Speed: 4.0ms preprocess, 98.0ms inference, 1.0ms postprocess per image at shape (1, 3, 608, 640)\n",
      "\n",
      "0: 448x640 1 person, 78.0ms\n",
      "Speed: 2.0ms preprocess, 78.0ms inference, 1.0ms postprocess per image at shape (1, 3, 448, 640)\n",
      "\n",
      "0: 640x448 1 person, 76.0ms\n",
      "Speed: 3.0ms preprocess, 76.0ms inference, 1.0ms postprocess per image at shape (1, 3, 640, 448)\n",
      "\n",
      "0: 640x480 1 person, 83.0ms\n",
      "Speed: 2.0ms preprocess, 83.0ms inference, 1.0ms postprocess per image at shape (1, 3, 640, 480)\n",
      "\n",
      "0: 448x640 1 person, 120.0ms\n",
      "Speed: 2.0ms preprocess, 120.0ms inference, 0.0ms postprocess per image at shape (1, 3, 448, 640)\n",
      "\n",
      "0: 640x448 1 person, 77.0ms\n",
      "Speed: 3.0ms preprocess, 77.0ms inference, 1.0ms postprocess per image at shape (1, 3, 640, 448)\n",
      "\n",
      "0: 448x640 1 person, 79.0ms\n",
      "Speed: 3.0ms preprocess, 79.0ms inference, 0.0ms postprocess per image at shape (1, 3, 448, 640)\n",
      "\n",
      "0: 640x448 1 person, 77.0ms\n",
      "Speed: 3.0ms preprocess, 77.0ms inference, 0.0ms postprocess per image at shape (1, 3, 640, 448)\n",
      "\n",
      "0: 640x576 1 person, 103.0ms\n",
      "Speed: 2.0ms preprocess, 103.0ms inference, 1.0ms postprocess per image at shape (1, 3, 640, 576)\n",
      "\n",
      "0: 448x640 1 person, 79.0ms\n",
      "Speed: 2.0ms preprocess, 79.0ms inference, 1.0ms postprocess per image at shape (1, 3, 448, 640)\n",
      "\n",
      "0: 640x640 1 person, 103.0ms\n",
      "Speed: 3.0ms preprocess, 103.0ms inference, 1.0ms postprocess per image at shape (1, 3, 640, 640)\n",
      "\n",
      "0: 640x640 1 person, 102.0ms\n",
      "Speed: 3.0ms preprocess, 102.0ms inference, 1.0ms postprocess per image at shape (1, 3, 640, 640)\n",
      "\n",
      "0: 448x640 1 person, 77.0ms\n",
      "Speed: 2.0ms preprocess, 77.0ms inference, 1.0ms postprocess per image at shape (1, 3, 448, 640)\n",
      "\n",
      "0: 480x640 1 person, 81.0ms\n",
      "Speed: 2.0ms preprocess, 81.0ms inference, 1.0ms postprocess per image at shape (1, 3, 480, 640)\n",
      "\n",
      "0: 512x640 1 person, 101.0ms\n",
      "Speed: 2.0ms preprocess, 101.0ms inference, 1.0ms postprocess per image at shape (1, 3, 512, 640)\n",
      "\n",
      "0: 448x640 1 person, 81.0ms\n",
      "Speed: 2.0ms preprocess, 81.0ms inference, 0.0ms postprocess per image at shape (1, 3, 448, 640)\n",
      "\n",
      "0: 640x448 1 person, 79.0ms\n",
      "Speed: 3.0ms preprocess, 79.0ms inference, 1.0ms postprocess per image at shape (1, 3, 640, 448)\n",
      "\n",
      "0: 576x640 2 persons, 94.0ms\n",
      "Speed: 4.0ms preprocess, 94.0ms inference, 1.0ms postprocess per image at shape (1, 3, 576, 640)\n",
      "\n",
      "0: 640x448 1 person, 77.0ms\n",
      "Speed: 6.0ms preprocess, 77.0ms inference, 1.0ms postprocess per image at shape (1, 3, 640, 448)\n",
      "\n",
      "0: 416x640 1 person, 70.0ms\n",
      "Speed: 2.0ms preprocess, 70.0ms inference, 1.0ms postprocess per image at shape (1, 3, 416, 640)\n",
      "\n",
      "0: 640x512 1 person, 97.0ms\n",
      "Speed: 2.0ms preprocess, 97.0ms inference, 1.0ms postprocess per image at shape (1, 3, 640, 512)\n",
      "\n",
      "0: 448x640 1 person, 77.0ms\n",
      "Speed: 2.0ms preprocess, 77.0ms inference, 1.0ms postprocess per image at shape (1, 3, 448, 640)\n",
      "\n",
      "0: 640x448 1 person, 76.0ms\n",
      "Speed: 2.0ms preprocess, 76.0ms inference, 1.0ms postprocess per image at shape (1, 3, 640, 448)\n",
      "\n",
      "0: 640x448 1 person, 75.0ms\n",
      "Speed: 3.0ms preprocess, 75.0ms inference, 1.0ms postprocess per image at shape (1, 3, 640, 448)\n",
      "\n",
      "0: 640x640 1 person, 102.0ms\n",
      "Speed: 4.0ms preprocess, 102.0ms inference, 1.0ms postprocess per image at shape (1, 3, 640, 640)\n",
      "\n",
      "0: 640x448 1 person, 76.0ms\n",
      "Speed: 3.0ms preprocess, 76.0ms inference, 1.0ms postprocess per image at shape (1, 3, 640, 448)\n",
      "\n",
      "0: 544x640 1 person, 99.0ms\n",
      "Speed: 3.0ms preprocess, 99.0ms inference, 0.0ms postprocess per image at shape (1, 3, 544, 640)\n",
      "\n",
      "0: 480x640 1 person, 81.0ms\n",
      "Speed: 2.0ms preprocess, 81.0ms inference, 0.0ms postprocess per image at shape (1, 3, 480, 640)\n",
      "\n",
      "0: 448x640 1 person, 74.0ms\n",
      "Speed: 3.0ms preprocess, 74.0ms inference, 0.0ms postprocess per image at shape (1, 3, 448, 640)\n",
      "\n",
      "0: 448x640 1 person, 81.0ms\n",
      "Speed: 2.0ms preprocess, 81.0ms inference, 1.0ms postprocess per image at shape (1, 3, 448, 640)\n",
      "\n",
      "0: 448x640 1 person, 78.0ms\n",
      "Speed: 2.0ms preprocess, 78.0ms inference, 1.0ms postprocess per image at shape (1, 3, 448, 640)\n",
      "\n",
      "0: 448x640 1 person, 72.0ms\n",
      "Speed: 3.0ms preprocess, 72.0ms inference, 1.0ms postprocess per image at shape (1, 3, 448, 640)\n",
      "\n",
      "0: 640x448 1 person, 77.0ms\n",
      "Speed: 3.0ms preprocess, 77.0ms inference, 0.0ms postprocess per image at shape (1, 3, 640, 448)\n",
      "\n",
      "0: 448x640 1 person, 76.0ms\n",
      "Speed: 3.0ms preprocess, 76.0ms inference, 1.0ms postprocess per image at shape (1, 3, 448, 640)\n",
      "\n",
      "0: 384x640 1 person, 76.0ms\n",
      "Speed: 2.0ms preprocess, 76.0ms inference, 1.0ms postprocess per image at shape (1, 3, 384, 640)\n",
      "\n",
      "0: 640x448 1 person, 78.0ms\n",
      "Speed: 2.0ms preprocess, 78.0ms inference, 0.0ms postprocess per image at shape (1, 3, 640, 448)\n"
     ]
    },
    {
     "name": "stderr",
     "output_type": "stream",
     "text": [
      "\n",
      "Processing:   0%|          | 0/97 [00:00<?, ?images/s]\n",
      "Processing:   1%|          | 1/97 [00:01<01:37,  1.02s/images]\n",
      "Processing:   2%|▏         | 2/97 [00:01<01:34,  1.01images/s]\n",
      "Processing:   3%|▎         | 3/97 [00:03<01:34,  1.01s/images]\n",
      "Processing:   4%|▍         | 4/97 [00:03<01:32,  1.00images/s]\n",
      "Processing:   5%|▌         | 5/97 [00:04<01:31,  1.01images/s]\n",
      "Processing:   6%|▌         | 6/97 [00:06<01:31,  1.01s/images]\n",
      "Processing:   7%|▋         | 7/97 [00:07<01:37,  1.08s/images]\n",
      "Processing:   8%|▊         | 8/97 [00:08<01:30,  1.02s/images]\n",
      "Processing:   9%|▉         | 9/97 [00:09<01:29,  1.02s/images]\n",
      "Processing:  10%|█         | 10/97 [00:10<01:34,  1.09s/images]\n",
      "Processing:  11%|█▏        | 11/97 [00:11<01:32,  1.07s/images]\n",
      "Processing:  12%|█▏        | 12/97 [00:12<01:27,  1.03s/images]\n",
      "Processing:  13%|█▎        | 13/97 [00:13<01:22,  1.02images/s]\n",
      "Processing:  14%|█▍        | 14/97 [00:14<01:22,  1.01images/s]\n",
      "Processing:  15%|█▌        | 15/97 [00:15<01:22,  1.01s/images]\n",
      "Processing:  16%|█▋        | 16/97 [00:16<01:18,  1.03images/s]\n",
      "Processing:  18%|█▊        | 17/97 [00:17<01:15,  1.06images/s]\n",
      "Processing:  19%|█▊        | 18/97 [00:18<01:14,  1.06images/s]\n",
      "Processing:  20%|█▉        | 19/97 [00:19<01:17,  1.01images/s]\n",
      "Processing:  21%|██        | 20/97 [00:20<01:23,  1.08s/images]\n",
      "Processing:  22%|██▏       | 21/97 [00:22<01:38,  1.30s/images]\n",
      "Processing:  23%|██▎       | 22/97 [00:23<01:28,  1.18s/images]\n",
      "Processing:  24%|██▎       | 23/97 [00:24<01:23,  1.13s/images]\n",
      "Processing:  25%|██▍       | 24/97 [00:25<01:22,  1.13s/images]\n",
      "Processing:  26%|██▌       | 25/97 [00:26<01:17,  1.07s/images]\n",
      "Processing:  27%|██▋       | 26/97 [00:27<01:15,  1.07s/images]\n",
      "Processing:  28%|██▊       | 27/97 [00:28<01:11,  1.02s/images]\n",
      "Processing:  29%|██▉       | 28/97 [00:29<01:07,  1.02images/s]\n",
      "Processing:  30%|██▉       | 29/97 [00:30<01:07,  1.01images/s]\n",
      "Processing:  31%|███       | 30/97 [00:30<01:04,  1.04images/s]\n",
      "Processing:  32%|███▏      | 31/97 [00:32<01:07,  1.02s/images]\n",
      "Processing:  33%|███▎      | 32/97 [00:32<01:03,  1.02images/s]\n",
      "Processing:  34%|███▍      | 33/97 [00:33<01:03,  1.01images/s]\n",
      "Processing:  35%|███▌      | 34/97 [00:34<01:01,  1.02images/s]\n",
      "Processing:  36%|███▌      | 35/97 [00:35<01:01,  1.01images/s]\n",
      "Processing:  37%|███▋      | 36/97 [00:36<00:57,  1.07images/s]\n",
      "Processing:  38%|███▊      | 37/97 [00:37<00:56,  1.05images/s]\n",
      "Processing:  39%|███▉      | 38/97 [00:38<00:56,  1.05images/s]\n",
      "Processing:  40%|████      | 39/97 [00:39<00:54,  1.07images/s]\n",
      "Processing:  41%|████      | 40/97 [00:40<00:52,  1.09images/s]\n",
      "Processing:  42%|████▏     | 41/97 [00:41<00:49,  1.13images/s]\n",
      "Processing:  43%|████▎     | 42/97 [00:42<00:49,  1.11images/s]\n",
      "Processing:  44%|████▍     | 43/97 [00:43<00:50,  1.07images/s]\n",
      "Processing:  45%|████▌     | 44/97 [00:44<00:52,  1.01images/s]\n",
      "Processing:  46%|████▋     | 45/97 [00:45<00:50,  1.03images/s]\n",
      "Processing:  47%|████▋     | 46/97 [00:46<00:48,  1.06images/s]\n",
      "Processing:  48%|████▊     | 47/97 [00:47<00:48,  1.04images/s]\n",
      "Processing:  49%|████▉     | 48/97 [00:48<00:47,  1.04images/s]\n",
      "Processing:  51%|█████     | 49/97 [00:49<00:45,  1.05images/s]\n",
      "Processing:  52%|█████▏    | 50/97 [00:50<00:46,  1.02images/s]\n",
      "Processing:  53%|█████▎    | 51/97 [00:51<00:46,  1.01s/images]\n",
      "Processing:  54%|█████▎    | 52/97 [00:52<00:45,  1.00s/images]\n",
      "Processing:  55%|█████▍    | 53/97 [00:53<00:42,  1.03images/s]\n",
      "Processing:  56%|█████▌    | 54/97 [00:54<00:42,  1.01images/s]\n",
      "Processing:  57%|█████▋    | 55/97 [00:55<00:41,  1.01images/s]\n",
      "Processing:  58%|█████▊    | 56/97 [00:56<00:40,  1.02images/s]\n",
      "Processing:  59%|█████▉    | 57/97 [00:57<00:40,  1.00s/images]\n",
      "Processing:  60%|█████▉    | 58/97 [00:58<00:38,  1.02images/s]\n",
      "Processing:  61%|██████    | 59/97 [00:58<00:36,  1.04images/s]\n",
      "Processing:  62%|██████▏   | 60/97 [01:00<00:36,  1.01images/s]\n",
      "Processing:  63%|██████▎   | 61/97 [01:00<00:35,  1.02images/s]\n",
      "Processing:  64%|██████▍   | 62/97 [01:02<00:35,  1.02s/images]\n",
      "Processing:  65%|██████▍   | 63/97 [01:02<00:32,  1.03images/s]\n",
      "Processing:  66%|██████▌   | 64/97 [01:04<00:33,  1.00s/images]\n",
      "Processing:  67%|██████▋   | 65/97 [01:05<00:31,  1.00images/s]\n",
      "Processing:  68%|██████▊   | 66/97 [01:05<00:30,  1.02images/s]\n",
      "Processing:  69%|██████▉   | 67/97 [01:06<00:28,  1.07images/s]\n",
      "Processing:  70%|███████   | 68/97 [01:07<00:27,  1.07images/s]\n",
      "Processing:  71%|███████   | 69/97 [01:08<00:24,  1.12images/s]\n",
      "Processing:  72%|███████▏  | 70/97 [01:09<00:24,  1.10images/s]\n",
      "Processing:  73%|███████▎  | 71/97 [01:10<00:24,  1.08images/s]\n",
      "Processing:  74%|███████▍  | 72/97 [01:11<00:22,  1.12images/s]\n",
      "Processing:  75%|███████▌  | 73/97 [01:12<00:21,  1.12images/s]\n",
      "Processing:  76%|███████▋  | 74/97 [01:13<00:21,  1.05images/s]\n",
      "Processing:  77%|███████▋  | 75/97 [01:14<00:21,  1.03images/s]\n",
      "Processing:  78%|███████▊  | 76/97 [01:15<00:20,  1.03images/s]\n",
      "Processing:  79%|███████▉  | 77/97 [01:16<00:19,  1.01images/s]\n",
      "Processing:  80%|████████  | 78/97 [01:17<00:19,  1.03s/images]\n",
      "Processing:  81%|████████▏ | 79/97 [01:18<00:17,  1.00images/s]\n",
      "Processing:  82%|████████▏ | 80/97 [01:19<00:17,  1.04s/images]\n",
      "Processing:  84%|████████▎ | 81/97 [01:20<00:16,  1.03s/images]\n",
      "Processing:  85%|████████▍ | 82/97 [01:21<00:15,  1.00s/images]\n",
      "Processing:  86%|████████▌ | 83/97 [01:22<00:13,  1.00images/s]\n",
      "Processing:  87%|████████▋ | 84/97 [01:23<00:12,  1.05images/s]\n",
      "Processing:  88%|████████▊ | 85/97 [01:24<00:11,  1.05images/s]\n",
      "Processing:  89%|████████▊ | 86/97 [01:25<00:10,  1.05images/s]\n",
      "Processing:  90%|████████▉ | 87/97 [01:26<00:09,  1.07images/s]\n",
      "Processing:  91%|█████████ | 88/97 [01:26<00:08,  1.07images/s]\n",
      "Processing:  92%|█████████▏| 89/97 [01:27<00:07,  1.08images/s]\n",
      "Processing:  93%|█████████▎| 90/97 [01:28<00:06,  1.05images/s]\n",
      "Processing:  94%|█████████▍| 91/97 [01:29<00:05,  1.03images/s]\n",
      "Processing:  95%|█████████▍| 92/97 [01:30<00:04,  1.01images/s]\n",
      "Processing:  96%|█████████▌| 93/97 [01:31<00:04,  1.00s/images]\n",
      "Processing:  97%|█████████▋| 94/97 [01:33<00:03,  1.04s/images]\n",
      "Processing:  98%|█████████▊| 95/97 [01:34<00:02,  1.22s/images]\n",
      "Processing:  99%|█████████▉| 96/97 [01:35<00:01,  1.16s/images]\n",
      "Processing: 100%|██████████| 97/97 [01:36<00:00,  1.00images/s]\n"
     ]
    }
   ],
   "source": [
    "# Loading the images to be processed\n",
    "list_of_images = LoadImagesFromFolder(\"C:\\\\Users\\\\User\\\\FYP\\\\DownloadedImages\\\\LAION-400M-GoogleForm-Images\\\\Doctor-97\")\n",
    "# Setting the human detection confidence threshold\n",
    "confidence_threshold = 0.5\n",
    "# Loading the YOLO model. This is downloaded automatically when run for the first time.\n",
    "model = YOLO('yolov8n.pt')\n",
    "# Retrieving the images of people detected in the images, the distance between the person and image center and the space taken up by the person\n",
    "people_images, dist_bet_centers, space_taken_up = YOLODetectPerson(model, list_of_images, confidence_threshold)\n",
    "\n",
    "# Loading the FairFace model, the res34_fair_align_multi_7_20190809.pt is used as it detects 7 distinct races as opposed to the other model.\n",
    "model_fair_7 = torchvision.models.resnet34(pretrained=True)\n",
    "model_fair_7.fc = nn.Linear(model_fair_7.fc.in_features, 18)\n",
    "model_fair_7.load_state_dict(torch.load('C:\\\\Users\\\\User\\\\FYP\\\\Testing\\\\res34_fair_align_multi_7_20190809.pt', map_location=torch.device('cpu')))\n",
    "model_fair_7 = model_fair_7.to(\"cpu\")\n",
    "model_fair_7.eval()\n",
    "# Processing the images using the ensamble model\n",
    "EnsambleDict = ensmableProcess(people_images, model_fair_7)\n",
    "\n",
    "# Adding the distance between centers and space taken up by the person to the dictionary so that it contains all relevant information.\n",
    "for index in EnsambleDict.keys():\n",
    "    tmp = {\"center_dist\":dist_bet_centers[index], \"space\": space_taken_up[index]}\n",
    "    EnsambleDict[index][1].update(tmp)\n",
    "\n",
    "# Saving the metrics to disk\n",
    "metric_save_directoy = \"Doctor(DeepFace)\"\n",
    "save_metrics = True\n",
    "if save_metrics == True:\n",
    "    # Checking if the folder exists, and if not, creating it\n",
    "    sub_folder_path = Path(\"..\\\\DownloadedImages\\\\\"+CamelCase(metric_save_directoy))\n",
    "    if not sub_folder_path.exists():\n",
    "        sub_folder_path.mkdir()\n",
    "\n",
    "    # Checking if the folder exists, and if not, creating it\n",
    "    sub_folder_path = Path(\"..\\\\DownloadedImages\\\\\"+CamelCase(metric_save_directoy)+\"\\\\ImagesMetrics\")\n",
    "    if not sub_folder_path.exists():\n",
    "        sub_folder_path.mkdir()\n",
    "\n",
    "    # Saving the general info metrics to csv file\n",
    "    SaveMetricsCSV(sub_folder_path, EnsambleDict)\n",
    "\n",
    "    # Saving the cropped images used by the DeepFace API to disk\n",
    "    for imgIndex in range(len(EnsambleDict.items())):\n",
    "        save_path = os.path.join(sub_folder_path,str(imgIndex)+\".jpg\")\n",
    "        cv2.imwrite(save_path, cv2.cvtColor(EnsambleDict[imgIndex][0], cv2.COLOR_BGR2RGB))"
   ]
  },
  {
   "cell_type": "code",
   "execution_count": 37,
   "metadata": {},
   "outputs": [
    {
     "data": {
      "image/png": "[encoded data removed]",
      "text/plain": [
       "<Figure size 640x480 with 1 Axes>"
      ]
     },
     "metadata": {},
     "output_type": "display_data"
    },
    {
     "data": {
      "image/png": "[encoded data removed]",
      "text/plain": [
       "<Figure size 640x480 with 1 Axes>"
      ]
     },
     "metadata": {},
     "output_type": "display_data"
    },
    {
     "data": {
      "image/png": "[encoded data removed]",
      "text/plain": [
       "<Figure size 640x480 with 1 Axes>"
      ]
     },
     "metadata": {},
     "output_type": "display_data"
    },
    {
     "data": {
      "image/png": "[encoded data removed]",
      "text/plain": [
       "<Figure size 640x480 with 1 Axes>"
      ]
     },
     "metadata": {},
     "output_type": "display_data"
    },
    {
     "data": {
      "application/vnd.plotly.v1+json": {
       "config": {
        "plotlyServerURL": "https://plot.ly"
       },
       "data": [
        {
         "hovertemplate": "x=%{x}<br>y=%{y}<br>z=%{z}<extra></extra>",
         "legendgroup": "",
         "marker": {
          "color": "#636efa",
          "symbol": "circle"
         },
         "mode": "markers",
         "name": "",
         "scene": "scene",
         "showlegend": false,
         "type": "scatter3d",
         "x": [
          0.5125671570567647,
          99.98725652694702,
          99.9940574169159,
          99.99977648258209,
          99.99971687793732,
          0.36465907796809915,
          99.99960958957672,
          37.65203524380922,
          99.99884068965912,
          99.99984800815582,
          99.97936189174652,
          99.96806681156158,
          99.99918043613434,
          99.98694062232971,
          99.99640882015228,
          99.99982714653015,
          99.88142848014832,
          99.99998807907104,
          0.019761171279242262,
          99.97144043445587,
          99.99547898769379,
          78.45506370067596,
          99.9960333108902,
          99.98871386051178,
          99.99910891056061,
          99.91412460803986,
          99.99568164348602,
          99.98940229415894,
          99.96609091758728,
          99.97772872447968,
          99.99955296516418,
          99.99904036521912,
          99.99715387821198,
          99.99975562095642,
          99.94099736213684,
          99.98763799667358,
          0.008274276342490339,
          0.00014565487660433973,
          99.97793734073639,
          99.99978840351105,
          99.99854266643524,
          99.99831914901733,
          99.99979734420776,
          0.0001492988928930572,
          99.96845424175262,
          99.9990850687027,
          99.9943345785141,
          91.44563674926758,
          99.99988675117493,
          99.99948740005493,
          99.94933009147644,
          0.034517461517680204,
          99.99106824398041,
          0.006749435306119267,
          99.99992549419403,
          0.05540539614230511,
          99.99939203262329,
          65.42513966560364,
          99.99820291996002,
          99.98619854450226,
          0.010230786210740916,
          99.99715983867645,
          99.9995082616806,
          99.99443292617798,
          99.99979436397552,
          99.99825656414032,
          99.99026656150818,
          99.99953210353851,
          86.41535639762878,
          99.99561309814453,
          99.99909400939941,
          99.9993085861206,
          99.99943673610687,
          99.99753832817078,
          99.9977558851242,
          95.81595957279205,
          99.98259842395782,
          99.9969333410263,
          99.99482929706573,
          99.99642968177795,
          99.9967098236084,
          99.99983608722687,
          99.99985992908478,
          99.99968707561493,
          0.002716699873417383,
          99.99908208847046,
          99.99012053012848,
          79.14109528064728,
          99.9995082616806,
          99.9995231628418,
          99.99222159385681,
          0.011526943762873998,
          99.9993234872818,
          99.90105032920837,
          94.88826394081116,
          99.99959170818329,
          99.98577535152435,
          99.99995827674866,
          0.02498993562767282,
          99.99997317790985,
          99.998539686203,
          99.99593198299408,
          99.96528923511505,
          99.99882578849792,
          0.11210746897631907,
          99.99891221523285,
          99.99735951423645,
          99.99103546142578,
          0.0023438450554635892,
          99.99733567237854,
          99.99913573265076,
          99.99452233314514,
          99.99960362911224,
          99.99504089355469,
          99.99751150608063,
          99.99918639659882,
          87.55556046962738,
          82.84926116466522,
          99.98363554477692,
          99.98834729194641,
          99.9766081571579,
          99.97079074382782,
          99.99951124191284,
          99.99992251396179,
          0.00019744982608926875,
          99.99987781047821,
          99.9997615814209,
          99.99936819076538,
          99.99772310256958,
          99.99952912330627,
          99.99521970748901,
          0.0030779646294831764,
          99.9994158744812,
          99.99962151050568,
          99.99901950359344,
          99.99958872795105,
          99.99973177909851,
          99.99997913837433,
          99.99708831310272,
          99.99838471412659,
          99.99975562095642,
          99.998739361763,
          99.9988317489624,
          99.99994337558746,
          90.91638028621674,
          99.99544322490692,
          99.99313354492188,
          80.60460686683655,
          99.99730288982391,
          99.99987483024597,
          99.99611675739288,
          0.00011395989290008401,
          99.97594058513641,
          99.99988079071045,
          83.83930325508118,
          99.99264180660248,
          99.99968409538269,
          99.88150000572205,
          99.99996423721313,
          99.9998927116394,
          99.9943882226944,
          99.98801946640015,
          99.99854862689972,
          99.99983012676239,
          99.99985694885254,
          99.98664855957031,
          99.99974370002747,
          99.9872088432312,
          99.99991953372955,
          99.99992251396179,
          0.002291786233854509,
          0.0020330243046373653,
          99.99957382678986,
          99.99958574771881,
          99.99943971633911,
          99.9978631734848,
          99.99993741512299,
          99.99994933605194,
          99.99303221702576,
          99.99959468841553,
          99.99794960021973,
          99.99098777770996,
          96.81071043014526,
          99.99745488166809,
          99.99982118606567,
          90.01740515232086,
          91.92059934139252,
          99.99664425849915,
          99.99884068965912,
          99.77060258388519,
          99.99268651008606,
          0.002194330022575741,
          99.99907314777374,
          99.99975264072418,
          99.99889433383942,
          99.98624324798584,
          99.9969094991684,
          88.2314682006836,
          99.99932944774628,
          99.95425045490265,
          99.99762773513794,
          99.99993741512299,
          76.61778032779694,
          99.99346435070038,
          1.5371262081316672,
          99.9992698431015,
          99.82679784297943,
          99.89951550960541,
          99.99964535236359,
          0.006707051565513211,
          99.99960660934448,
          99.99929666519165,
          0.029782041383441538,
          99.99972879886627,
          99.99774098396301,
          99.99963343143463,
          99.9880850315094,
          99.99549984931946,
          99.96640682220459,
          99.98870491981506,
          99.99962747097015,
          99.99966323375702,
          99.99942183494568,
          99.95605051517487,
          99.93892014026642,
          99.99899864196777,
          99.96684789657593,
          96.13117575645447,
          84.93960797786713,
          99.99805390834808,
          99.99985694885254,
          99.99058544635773,
          99.99972879886627,
          99.99424517154694,
          99.99812543392181,
          0.006398574032573379,
          99.99995231628418,
          99.99905526638031,
          0.005183007488085423,
          91.42643511295319,
          99.99858736991882,
          0.008181102020898834,
          99.9983161687851,
          99.99600052833557,
          99.99615848064423,
          99.9976247549057,
          99.58090484142303,
          99.9992698431015,
          99.99578297138214,
          99.9868631362915,
          99.99890625476837,
          99.99483227729797,
          99.99071657657623,
          99.97803568840027,
          99.9936431646347,
          99.99551475048065,
          99.99991655349731,
          94.42943334579468,
          99.99625980854034,
          99.9992847442627,
          99.97687935829163,
          99.99943673610687,
          54.959189891815186,
          99.99967813491821,
          99.99992847442627,
          99.99975860118866,
          99.99971389770508,
          0.08652727701701224,
          96.11050486564636,
          99.96289908885956,
          99.99906420707703,
          0.0012617149877769407,
          99.99937415122986,
          99.99959766864777,
          99.99522268772125,
          99.98140931129456,
          99.99510049819946,
          99.99920427799225,
          99.99993741512299,
          99.99759495258331,
          99.98672902584076,
          84.60214138031006,
          99.98993575572968,
          99.99997913837433,
          99.99963939189911,
          79.78332042694092,
          99.80921745300293,
          99.99532103538513,
          0.0020582972865668125,
          99.97909367084503,
          99.99992847442627,
          99.99759197235107,
          99.9998927116394,
          0.027799334202427417,
          49.184117528784554,
          99.99330043792725,
          99.97592270374298,
          99.70766305923462,
          99.9993234872818,
          99.99943971633911,
          99.99160766601562,
          99.99991655349731,
          99.90691840648651,
          99.99488294124603,
          99.99637305736542,
          99.99714493751526,
          99.99790489673615,
          99.99969899654388,
          99.99477863311768,
          99.99938011169434,
          99.99953210353851,
          99.99988675117493,
          88.02852928638458,
          99.93241727352142,
          88.55133354663849,
          99.99940693378448,
          99.99970495700836,
          0.8627655653981492,
          99.99975264072418,
          99.99980926513672,
          99.99438524246216,
          99.7845321893692,
          78.29689681529999,
          99.99026656150818,
          99.84630644321442,
          99.99751150608063,
          99.99988377094269,
          99.9991625547409,
          99.99939501285553,
          99.99818801879883,
          94.03250217437744,
          99.99885857105255,
          99.99030828475952,
          99.99995529651642,
          99.98800456523895,
          99.99885261058807,
          99.99788105487823,
          99.99240338802338,
          87.8174364566803,
          99.03408288955688,
          0.0015026225810288452,
          99.93577301502228,
          99.99975264072418,
          84.19552743434906,
          96.245476603508,
          97.9927808046341,
          99.98277425765991,
          99.99592900276184,
          99.99976754188538,
          99.99859929084778,
          99.99889135360718,
          99.9987006187439,
          99.99173879623413,
          99.80516135692596,
          0.016642285117995925,
          99.96517598628998,
          99.99600648880005,
          99.81204569339752,
          99.99887943267822,
          99.98840093612671,
          99.99959766864777,
          99.99982118606567,
          99.99873638153076,
          99.99321103096008,
          99.99905526638031,
          65.13484865427017,
          99.99835789203644,
          0.000628294401394669,
          99.94867146015167,
          99.99994933605194,
          99.99917149543762,
          0.6417439280994586,
          99.91452097892761,
          99.99991655349731,
          99.99787509441376,
          0.11856335709925503,
          99.99776780605316,
          99.9996691942215,
          0.2622520085424185,
          99.99103248119354,
          99.85880851745605,
          99.9897301197052,
          99.99974370002747,
          99.98579323291779,
          99.92520809173584,
          99.99918341636658,
          99.99490678310394,
          99.99945163726807,
          99.9999850988388
         ],
         "y": [
          88.18222014950652,
          99.31505616412207,
          85.30949056131459,
          0.000993552112049656,
          99.60129256680972,
          98.53344857692719,
          69.78152990341187,
          8.44448315910995,
          99.94661211967468,
          93.24590859549993,
          99.42304494028846,
          51.49239972233772,
          58.37390407143025,
          81.92278742790222,
          80.75926190318665,
          98.11478842133798,
          99.7934341430664,
          0.0002711723254833487,
          60.1482629776001,
          82.89152383804321,
          0.00010600068663376859,
          0.21083535143075954,
          61.08434498310089,
          5.71601094561629,
          99.96494948863983,
          53.601274196009925,
          99.36054646968842,
          79.08727526664734,
          98.91574382094745,
          67.82462596538022,
          99.70872700214386,
          81.5232127904892,
          99.70245361328125,
          99.97063875198364,
          68.44536773178143,
          99.51079785823822,
          15.091551403907246,
          87.69372999668121,
          95.03912628064555,
          99.99877512454987,
          87.70597875118256,
          0.0318640741170384,
          98.70702624286648,
          31.294084800437396,
          99.9742448322877,
          95.79630484390691,
          0.003199420447771907,
          73.73512409361854,
          99.3397533828361,
          84.68348085879765,
          99.223542241306,
          68.02247672989927,
          99.998939037323,
          0.24894041707739234,
          94.67751979235163,
          40.65587967634201,
          73.67995083332062,
          53.336650133132935,
          61.6385992814767,
          99.14046227931976,
          84.08167875381548,
          82.08982348442078,
          96.56818211078644,
          92.546633372423,
          0.000317577907451366,
          99.9796867361388,
          64.14531320333481,
          97.30529189109802,
          1.2741681650437209,
          99.69178735618289,
          99.98212158679962,
          95.95838487148285,
          0.0000740312672597291,
          0.000032694663332224654,
          99.99881982803345,
          98.93783032894135,
          5.243549682199955,
          99.06826019287092,
          57.14240050087652,
          68.63194108009338,
          99.89344179622802,
          99.14857745170593,
          97.67493589894192,
          0.0023974445610974726,
          99.68087375164032,
          94.60856081550084,
          99.20794060380408,
          17.77819251806573,
          99.89576637744904,
          99.89453554153442,
          0.06119063881245785,
          66.14596027707753,
          99.90620314709346,
          77.57805588788607,
          38.79037424894909,
          0.48477795207872987,
          99.75211024284363,
          83.40292190699876,
          42.03007370233536,
          99.93317127227783,
          0.000010628475877183927,
          99.95394349097975,
          99.9991774559021,
          99.99688863754255,
          1.4403077381695935,
          91.48406935278624,
          87.10653037887556,
          99.8002141714096,
          54.43042318064203,
          99.31324422359467,
          0.3333638946060091,
          91.71819686889648,
          69.24147605895996,
          64.92909938097,
          68.91986131668091,
          99.2366760969162,
          36.942421776825284,
          5.756810866296291,
          99.99826848506927,
          99.99637603759766,
          99.75582061831841,
          99.92994368076324,
          99.05156791210175,
          99.51296150684357,
          22.665653750300407,
          98.02310444955464,
          15.618514506444706,
          69.21908557415009,
          95.50747030606524,
          87.26681398644227,
          80.90762794017792,
          72.1938818693161,
          9.25816036760807,
          39.2152389503955,
          99.9946653842926,
          56.28271698951721,
          99.8238712549009,
          11.678405295637333,
          61.632646908842155,
          99.99788701534271,
          99.82792734977117,
          94.26852762699127,
          99.58196580410004,
          0.00046094115830896953,
          20.374480343798346,
          89.66008126735687,
          89.8646354675293,
          29.43015928490852,
          99.7620701789856,
          99.50497150421143,
          90.25039052510591,
          55.35002276301384,
          94.79622842255786,
          69.93073225021362,
          35.476867854595184,
          0.0004877730123901957,
          99.44011867046356,
          95.60537040233612,
          0.0034743713168694512,
          85.47242879867554,
          99.9611645936966,
          98.41432571411133,
          99.76815282559457,
          0.004450751964360865,
          99.68526961952477,
          38.78587159384003,
          98.87523055076599,
          99.97158944606781,
          99.96517896649931,
          55.21078631281853,
          10.029879584908485,
          0.32488201109126635,
          99.03133511519667,
          99.88538324832916,
          80.05871958608861,
          99.92256760583072,
          22.706640977412462,
          3.314634213597902,
          99.91787374019623,
          96.83650434017181,
          81.52177631854886,
          99.98344779153392,
          61.77703645156599,
          73.47614169120789,
          93.78658367585228,
          21.39076068997383,
          78.04003059864044,
          99.07884895801544,
          91.12527668476105,
          92.94319748878479,
          99.37302470207214,
          98.29782245486598,
          98.41526448726654,
          9.881371259689331,
          63.62300415652123,
          99.88884329795181,
          38.10733688538627,
          29.791995882987976,
          99.29232296496266,
          99.87764953949335,
          85.98391181594593,
          60.208260949000085,
          41.64808392524719,
          99.74111914635131,
          56.66425934940364,
          99.6827095746994,
          35.29703365638852,
          61.165851354599,
          94.71328854560852,
          93.85812578433352,
          62.94952034950256,
          25.78052133321762,
          98.93045425415039,
          95.69109081992283,
          99.9825656414032,
          66.79445058107376,
          99.98565912239084,
          99.96308386325836,
          72.35100418329239,
          99.98606443405151,
          26.898839324712753,
          43.307748845303465,
          99.96086060992565,
          80.31132519245148,
          99.99979734420776,
          82.87091194374409,
          23.913187440484762,
          47.056129985887665,
          48.879258613367824,
          54.92113033402554,
          78.70757281780243,
          96.8761682510376,
          98.89139235019684,
          99.27332103252411,
          32.558344304561615,
          99.84979928969473,
          90.5679937694536,
          3.609017237982881,
          89.90040718770302,
          31.815968453884125,
          99.95865523815155,
          0.7646450093519217,
          99.87900853157043,
          91.80418550266438,
          0.005511274300252754,
          84.35494899749756,
          95.42650580406189,
          99.99327063560486,
          99.60950314998627,
          81.59273624886325,
          60.82961708307266,
          0.03917018693755381,
          99.90192949771881,
          88.9576537443512,
          94.17117764678827,
          98.41359257698059,
          30.964110069214268,
          39.92967179727026,
          99.76554214954376,
          0.031680719257565215,
          98.84483814239502,
          99.42558109760284,
          79.02430593967438,
          99.30226504041303,
          66.76656603813171,
          99.98542070388794,
          99.4006097316742,
          30.45250177383423,
          14.628848806023598,
          89.06147116909185,
          99.58659410476685,
          0.11643127880150336,
          84.57970023155212,
          99.97638165950775,
          99.75897371768951,
          99.45213496685028,
          99.3865966796875,
          96.56385463588464,
          99.81297552585602,
          85.76480879117108,
          99.94837641716003,
          24.35426152822292,
          83.25655162334442,
          98.49578440189362,
          93.32951883152346,
          30.694249272346497,
          98.5294343792109,
          0.00011102464441288377,
          78.53520512580872,
          92.00759008432043,
          0.02523481459852336,
          98.17040264606476,
          99.01506304702056,
          0.27331268647685647,
          0.019524340793797133,
          92.66613716098924,
          62.55505234003067,
          1.5372410183772445,
          60.46017482876778,
          99.98963475227356,
          84.66715191372191,
          90.8897340297699,
          99.53318533757098,
          99.99952614307404,
          98.08671769759734,
          47.02164828777313,
          44.32508870959282,
          4.374299738448667,
          96.3941305044619,
          99.63262975215912,
          17.65574961900711,
          99.92407858371735,
          54.91147031480937,
          99.84076917171478,
          33.10202466057201,
          7.594996551051736,
          3.463725333522887,
          15.514211915433407,
          97.83572255563672,
          98.67465496063232,
          99.99774992465973,
          99.95731711361825,
          85.70813238620758,
          99.99791979789734,
          99.90957975387573,
          83.04468214921478,
          63.6775404214859,
          98.25632274150848,
          83.64262878894806,
          99.99797642230988,
          58.18506851782388,
          95.5758661031723,
          95.33375479167495,
          45.71693369236256,
          96.75732282188565,
          99.77887868881226,
          30.51961027085781,
          79.85970675945282,
          48.833527710294135,
          62.44837939739227,
          9.600089490413666,
          99.93188083171844,
          4.799957676005314,
          18.108165170500246,
          58.78730118274689,
          94.42800879478455,
          96.90448668622938,
          99.7467875407466,
          99.99814927577972,
          97.85712659235308,
          99.91775751113892,
          99.78968204361287,
          99.99651312828064,
          1.1816958314739168,
          0.48882762202993035,
          78.03528010845184,
          99.4494467944227,
          86.355809557543,
          96.39209805636835,
          94.22655086924328,
          99.9742716550827,
          97.33154787677945,
          95.93607760378208,
          99.85572397708893,
          92.72941633740643,
          19.412504114876405,
          48.37145731232235,
          4.0686358805704135,
          99.81027244801464,
          0.000013237426908598535,
          95.58575431209809,
          5.325883700023429,
          97.99812436103821,
          79.52174816976124,
          90.79866112350388,
          79.770651233971,
          96.7273622751236,
          74.28187131881714,
          0.0017681855752016418,
          97.29212522506714,
          14.201176643837243,
          99.9996155500412,
          0.00006492135790960657,
          71.50692926516021,
          36.759400367736816,
          99.92365837097523,
          86.94446980953217,
          99.842768907547,
          99.6210515499115
         ],
         "z": [
          1.0245642624795437,
          0.06405391613952816,
          0.06922854227013886,
          0.13049679109826684,
          0.006318056693999097,
          14.546781778335571,
          0.001085815983969951,
          52.65755653381348,
          0.002452526859997306,
          0.009004474122775719,
          0.014151414507068694,
          0.2808202290907502,
          0.014440804079640657,
          0.03879182622767985,
          0.07127580465748906,
          0.0008404990694543812,
          0.2169567858800292,
          0.02025879075517878,
          12.952810525894165,
          0.07759041618555784,
          0.21502252202481031,
          76.0344922542572,
          0.4077755846083164,
          0.5586649291217327,
          0.006173155270516872,
          0.17091503832489252,
          0.13260672567412257,
          0.06410654750652611,
          0.613876199349761,
          0.06889696815051138,
          0.010535378532949835,
          0.03278839576523751,
          0.00333710850100033,
          0.08090168703347445,
          0.5424906965345144,
          0.0016525174942216836,
          1.618674024939537,
          1.1869409121572971,
          0.0037216443161014467,
          0.007458856998709962,
          0.012387360038701445,
          0.16316340770572424,
          0.0037365352909546345,
          3.023795038461685,
          0.12036415282636881,
          0.009543408668832853,
          0.161804654635489,
          1.6407839953899384,
          0.013591237075161189,
          0.02821417001541704,
          0.35638820845633745,
          5.766693875193596,
          0.001001930741040269,
          4.496658593416214,
          0.004445786544238217,
          8.241133391857147,
          0.04491608124226332,
          19.1146582365036,
          0.016140543448273093,
          0.08289150428026915,
          4.676669463515282,
          0.3024117089807987,
          0.014893502520862967,
          0.022528959379997104,
          0.09192375000566244,
          0.018230677233077586,
          0.10360786691308022,
          0.0038659745769109577,
          8.502630144357681,
          0.06697551580145955,
          0.11107447789981961,
          0.12890032958239317,
          0.03606350510381162,
          3.5523243248462677,
          0.0371877831639722,
          1.1304386891424656,
          0.676747364923358,
          0.029506799182854593,
          0.37192683666944504,
          0.10047043906524777,
          0.024601526092737913,
          0.017534622747916728,
          0.019131481531076133,
          0.016011485422495753,
          0.35464251413941383,
          0.11174440151080489,
          0.24653682485222816,
          5.658962577581406,
          0.0032995594665408134,
          0.0036188877857057378,
          0.6097626872360706,
          0.39328052662312984,
          0.01465622044634074,
          0.12128102825954556,
          17.30520725250244,
          0.25575156323611736,
          0.041770044481381774,
          0.003906489655491896,
          3.2658513635396957,
          0.0031121344363782555,
          0.1761461840942502,
          0.21266844123601913,
          0.5759967025369406,
          0.042951476643793285,
          12.985502183437347,
          0.1152890850789845,
          0.4033052362501621,
          0.02531654026824981,
          4.489951208233833,
          0.0841548724565655,
          0.024430095800198615,
          0.005523792788153514,
          0.022218935191631317,
          0.025859809829853475,
          0.04213793727103621,
          0.005859497468918562,
          17.72129088640213,
          26.659467816352844,
          0.03257239004597068,
          0.00825451425043866,
          0.13372942339628935,
          0.11008273577317595,
          0.02041227708104998,
          0.019568816060200334,
          3.8380812853574753,
          0.009478494757786393,
          0.06248812424018979,
          0.053541804663836956,
          0.365778966806829,
          0.11067666346207261,
          0.0027253809093963355,
          3.1984563916921616,
          0.10968454880639911,
          0.08465772843919694,
          0.025853380793705583,
          0.030535590485669672,
          0.003540139368851669,
          0.027925640461035073,
          0.1448995666578412,
          0.011432814062573016,
          0.010155062773264945,
          0.07144893752411008,
          0.012492308451328427,
          0.25256124790757895,
          19.868043065071106,
          0.02341313229408115,
          0.41061220690608025,
          28.49893569946289,
          0.05809465656057,
          0.01596460642758757,
          0.009985028009396046,
          1.1864054948091507,
          0.06996014271862805,
          0.004096460543223657,
          30.540266633033752,
          0.4895592574030161,
          0.06142211495898664,
          0.3848794149234891,
          0.035830168053507805,
          0.009590727859176695,
          0.10655373334884644,
          0.014903060218784958,
          0.00806466705398634,
          0.37704771384596825,
          0.04895722959190607,
          3.160252422094345,
          0.006155902519822121,
          0.1992007251828909,
          0.01654219813644886,
          0.04767588106915355,
          4.636164009571075,
          3.77282053232193,
          0.07737494306638837,
          0.010874751023948193,
          0.1098914653994143,
          0.011161805014126003,
          0.020369923731777817,
          0.6133506074547768,
          0.00035249720440333476,
          0.0018152370103052817,
          0.017858688079286367,
          0.02583774912636727,
          18.902112543582916,
          2.2416194900870323,
          0.0060755122831324115,
          32.11697041988373,
          11.251232028007507,
          0.05282178753986955,
          0.6000250112265348,
          3.8472559303045273,
          0.01707701158011332,
          0.3108510049059987,
          0.013483679504133761,
          0.04468168190214783,
          0.024069531355053186,
          0.005605023034149781,
          0.01738195860525593,
          21.010340750217438,
          0.01244882878381759,
          0.049898691941052675,
          0.027979016886092722,
          0.013241212582215667,
          17.223180830478668,
          0.03812283102888614,
          2.5398962199687958,
          0.011953353532589972,
          0.9135485626757145,
          2.568323537707329,
          0.01636740780668333,
          19.508028030395508,
          0.058300193632021546,
          0.03170328855048865,
          2.011578157544136,
          0.025497243041172624,
          0.1301847631111741,
          0.007736297993687913,
          0.09518931619822979,
          0.2621392020955682,
          0.386600149795413,
          0.10214101057499647,
          0.052927545038983226,
          0.016292552754748613,
          0.012606069503817707,
          0.23083083797246218,
          0.12799948453903198,
          0.013486130046658218,
          0.6747030653059483,
          18.06178390979767,
          20.273375511169434,
          0.11646675411611795,
          0.011221758177271113,
          0.981779582798481,
          0.01146111244452186,
          0.02340445207664743,
          0.2625429071485996,
          2.373884618282318,
          0.009082142787519842,
          0.0411335175158456,
          4.447048902511597,
          26.351067423820496,
          0.0409762462368235,
          5.718528479337692,
          0.02798614150378853,
          0.3853707807138562,
          0.9065027348697186,
          0.27383510023355484,
          0.29196692630648613,
          0.016780915029812604,
          0.011397637717891484,
          0.028599973302334547,
          0.004024799636681564,
          4.852443560957909,
          0.5763406399637461,
          0.018941902089864016,
          0.013303101877681911,
          0.1401536399498582,
          0.004425742008606903,
          12.928314507007599,
          0.0642945698928088,
          0.26381134521216154,
          0.403141463175416,
          0.04556778585538268,
          6.175237149000168,
          0.014500402903649956,
          0.024934037355706096,
          0.006579777254955843,
          0.024081510491669178,
          7.246480882167816,
          22.37015813589096,
          0.0379170902306214,
          0.0977013842202723,
          3.6985639482736588,
          0.006061070234864019,
          0.013573073374573141,
          0.06268977303989232,
          0.02235176943941042,
          0.06872577941976488,
          0.004027475733892061,
          0.003621375799411908,
          0.009797438542591408,
          0.06297664367593825,
          7.079070806503296,
          0.14758649049326777,
          0.10456584859639406,
          0.021923112217336893,
          19.84313577413559,
          0.05997623084113002,
          0.3515813034027815,
          2.5686142966151237,
          0.060479657258838415,
          0.05041906260885298,
          0.048743802472017705,
          0.02026182337431237,
          3.2123975455760956,
          2.005334571003914,
          1.524064689874649,
          3.83174866437912,
          0.8253251202404499,
          0.14808668056502938,
          0.0475506269140169,
          0.015096596325747669,
          0.003507819928927347,
          0.811005849391222,
          0.0829285359941423,
          0.021257098705973476,
          0.011653225374175236,
          0.009848552872426808,
          0.0650051049888134,
          0.03219314676243812,
          0.01750104856910184,
          0.03751214826479554,
          0.0032986336009344086,
          17.03590601682663,
          0.6362911779433489,
          34.90360081195831,
          0.5907625891268253,
          0.049507489893585443,
          43.46076846122742,
          0.01819509780034423,
          0.04542079987004399,
          0.0022074713342590258,
          1.368623599410057,
          4.17017824947834,
          0.5355558823794127,
          0.7970526814460754,
          0.05495345685631037,
          0.04164196434430778,
          0.016083598893601447,
          0.10556373745203018,
          0.14055008068680763,
          40.15767574310303,
          0.06635033059865236,
          0.555402273312211,
          0.01116609200835228,
          0.10242490097880363,
          0.01780793973011896,
          0.035279555595479906,
          0.07111813174560666,
          10.742020606994629,
          5.215464532375336,
          13.923928141593933,
          0.00515502761118114,
          0.0229711746214889,
          25.88496208190918,
          43.22778284549713,
          35.713642835617065,
          1.8212506547570229,
          0.007007749081822112,
          0.004841700865654275,
          0.031148368725553155,
          0.11272481642663479,
          0.0198785521206446,
          0.148039311170578,
          0.3958313260227442,
          12.202424556016922,
          0.10403564665466547,
          0.014803055091761053,
          0.603347597643733,
          0.004131974856136367,
          0.08967170142568648,
          0.0037779136619064957,
          0.04552916216198355,
          0.01750452647684142,
          0.0223925948375836,
          0.04640176484826952,
          14.46681022644043,
          0.16616187058389187,
          2.7230577543377876,
          0.695634912699461,
          0.07095311884768307,
          0.02513209474273026,
          1.846752129495144,
          0.09066821075975895,
          0.03907441860064864,
          0.03503509215079248,
          47.27471172809601,
          0.30324317049235106,
          0.027315557235851884,
          20.079846680164337,
          0.29830734711140394,
          64.93110060691833,
          0.04467687394935638,
          0.17231705132871866,
          0.31177212949842215,
          0.17087397864088416,
          0.07141124224290252,
          0.16873213462531567,
          0.03060903982259333,
          0.0022102976799942553
         ]
        }
       ],
       "layout": {
        "legend": {
         "tracegroupgap": 0
        },
        "margin": {
         "b": 10,
         "l": 10,
         "r": 20,
         "t": 10
        },
        "scene": {
         "domain": {
          "x": [
           0,
           1
          ],
          "y": [
           0,
           1
          ]
         },
         "xaxis": {
          "title": {
           "text": "Gender (man) confidence score"
          }
         },
         "yaxis": {
          "title": {
           "text": "Race (white) confidence score"
          }
         },
         "zaxis": {
          "title": {
           "text": "Age (10-19) confidence score"
          }
         }
        },
        "template": {
         "data": {
          "bar": [
           {
            "error_x": {
             "color": "#2a3f5f"
            },
            "error_y": {
             "color": "#2a3f5f"
            },
            "marker": {
             "line": {
              "color": "#E5ECF6",
              "width": 0.5
             },
             "pattern": {
              "fillmode": "overlay",
              "size": 10,
              "solidity": 0.2
             }
            },
            "type": "bar"
           }
          ],
          "barpolar": [
           {
            "marker": {
             "line": {
              "color": "#E5ECF6",
              "width": 0.5
             },
             "pattern": {
              "fillmode": "overlay",
              "size": 10,
              "solidity": 0.2
             }
            },
            "type": "barpolar"
           }
          ],
          "carpet": [
           {
            "aaxis": {
             "endlinecolor": "#2a3f5f",
             "gridcolor": "white",
             "linecolor": "white",
             "minorgridcolor": "white",
             "startlinecolor": "#2a3f5f"
            },
            "baxis": {
             "endlinecolor": "#2a3f5f",
             "gridcolor": "white",
             "linecolor": "white",
             "minorgridcolor": "white",
             "startlinecolor": "#2a3f5f"
            },
            "type": "carpet"
           }
          ],
          "choropleth": [
           {
            "colorbar": {
             "outlinewidth": 0,
             "ticks": ""
            },
            "type": "choropleth"
           }
          ],
          "contour": [
           {
            "colorbar": {
             "outlinewidth": 0,
             "ticks": ""
            },
            "colorscale": [
             [
              0,
              "#0d0887"
             ],
             [
              0.1111111111111111,
              "#46039f"
             ],
             [
              0.2222222222222222,
              "#7201a8"
             ],
             [
              0.3333333333333333,
              "#9c179e"
             ],
             [
              0.4444444444444444,
              "#bd3786"
             ],
             [
              0.5555555555555556,
              "#d8576b"
             ],
             [
              0.6666666666666666,
              "#ed7953"
             ],
             [
              0.7777777777777778,
              "#fb9f3a"
             ],
             [
              0.8888888888888888,
              "#fdca26"
             ],
             [
              1,
              "#f0f921"
             ]
            ],
            "type": "contour"
           }
          ],
          "contourcarpet": [
           {
            "colorbar": {
             "outlinewidth": 0,
             "ticks": ""
            },
            "type": "contourcarpet"
           }
          ],
          "heatmap": [
           {
            "colorbar": {
             "outlinewidth": 0,
             "ticks": ""
            },
            "colorscale": [
             [
              0,
              "#0d0887"
             ],
             [
              0.1111111111111111,
              "#46039f"
             ],
             [
              0.2222222222222222,
              "#7201a8"
             ],
             [
              0.3333333333333333,
              "#9c179e"
             ],
             [
              0.4444444444444444,
              "#bd3786"
             ],
             [
              0.5555555555555556,
              "#d8576b"
             ],
             [
              0.6666666666666666,
              "#ed7953"
             ],
             [
              0.7777777777777778,
              "#fb9f3a"
             ],
             [
              0.8888888888888888,
              "#fdca26"
             ],
             [
              1,
              "#f0f921"
             ]
            ],
            "type": "heatmap"
           }
          ],
          "heatmapgl": [
           {
            "colorbar": {
             "outlinewidth": 0,
             "ticks": ""
            },
            "colorscale": [
             [
              0,
              "#0d0887"
             ],
             [
              0.1111111111111111,
              "#46039f"
             ],
             [
              0.2222222222222222,
              "#7201a8"
             ],
             [
              0.3333333333333333,
              "#9c179e"
             ],
             [
              0.4444444444444444,
              "#bd3786"
             ],
             [
              0.5555555555555556,
              "#d8576b"
             ],
             [
              0.6666666666666666,
              "#ed7953"
             ],
             [
              0.7777777777777778,
              "#fb9f3a"
             ],
             [
              0.8888888888888888,
              "#fdca26"
             ],
             [
              1,
              "#f0f921"
             ]
            ],
            "type": "heatmapgl"
           }
          ],
          "histogram": [
           {
            "marker": {
             "pattern": {
              "fillmode": "overlay",
              "size": 10,
              "solidity": 0.2
             }
            },
            "type": "histogram"
           }
          ],
          "histogram2d": [
           {
            "colorbar": {
             "outlinewidth": 0,
             "ticks": ""
            },
            "colorscale": [
             [
              0,
              "#0d0887"
             ],
             [
              0.1111111111111111,
              "#46039f"
             ],
             [
              0.2222222222222222,
              "#7201a8"
             ],
             [
              0.3333333333333333,
              "#9c179e"
             ],
             [
              0.4444444444444444,
              "#bd3786"
             ],
             [
              0.5555555555555556,
              "#d8576b"
             ],
             [
              0.6666666666666666,
              "#ed7953"
             ],
             [
              0.7777777777777778,
              "#fb9f3a"
             ],
             [
              0.8888888888888888,
              "#fdca26"
             ],
             [
              1,
              "#f0f921"
             ]
            ],
            "type": "histogram2d"
           }
          ],
          "histogram2dcontour": [
           {
            "colorbar": {
             "outlinewidth": 0,
             "ticks": ""
            },
            "colorscale": [
             [
              0,
              "#0d0887"
             ],
             [
              0.1111111111111111,
              "#46039f"
             ],
             [
              0.2222222222222222,
              "#7201a8"
             ],
             [
              0.3333333333333333,
              "#9c179e"
             ],
             [
              0.4444444444444444,
              "#bd3786"
             ],
             [
              0.5555555555555556,
              "#d8576b"
             ],
             [
              0.6666666666666666,
              "#ed7953"
             ],
             [
              0.7777777777777778,
              "#fb9f3a"
             ],
             [
              0.8888888888888888,
              "#fdca26"
             ],
             [
              1,
              "#f0f921"
             ]
            ],
            "type": "histogram2dcontour"
           }
          ],
          "mesh3d": [
           {
            "colorbar": {
             "outlinewidth": 0,
             "ticks": ""
            },
            "type": "mesh3d"
           }
          ],
          "parcoords": [
           {
            "line": {
             "colorbar": {
              "outlinewidth": 0,
              "ticks": ""
             }
            },
            "type": "parcoords"
           }
          ],
          "pie": [
           {
            "automargin": true,
            "type": "pie"
           }
          ],
          "scatter": [
           {
            "fillpattern": {
             "fillmode": "overlay",
             "size": 10,
             "solidity": 0.2
            },
            "type": "scatter"
           }
          ],
          "scatter3d": [
           {
            "line": {
             "colorbar": {
              "outlinewidth": 0,
              "ticks": ""
             }
            },
            "marker": {
             "colorbar": {
              "outlinewidth": 0,
              "ticks": ""
             }
            },
            "type": "scatter3d"
           }
          ],
          "scattercarpet": [
           {
            "marker": {
             "colorbar": {
              "outlinewidth": 0,
              "ticks": ""
             }
            },
            "type": "scattercarpet"
           }
          ],
          "scattergeo": [
           {
            "marker": {
             "colorbar": {
              "outlinewidth": 0,
              "ticks": ""
             }
            },
            "type": "scattergeo"
           }
          ],
          "scattergl": [
           {
            "marker": {
             "colorbar": {
              "outlinewidth": 0,
              "ticks": ""
             }
            },
            "type": "scattergl"
           }
          ],
          "scattermapbox": [
           {
            "marker": {
             "colorbar": {
              "outlinewidth": 0,
              "ticks": ""
             }
            },
            "type": "scattermapbox"
           }
          ],
          "scatterpolar": [
           {
            "marker": {
             "colorbar": {
              "outlinewidth": 0,
              "ticks": ""
             }
            },
            "type": "scatterpolar"
           }
          ],
          "scatterpolargl": [
           {
            "marker": {
             "colorbar": {
              "outlinewidth": 0,
              "ticks": ""
             }
            },
            "type": "scatterpolargl"
           }
          ],
          "scatterternary": [
           {
            "marker": {
             "colorbar": {
              "outlinewidth": 0,
              "ticks": ""
             }
            },
            "type": "scatterternary"
           }
          ],
          "surface": [
           {
            "colorbar": {
             "outlinewidth": 0,
             "ticks": ""
            },
            "colorscale": [
             [
              0,
              "#0d0887"
             ],
             [
              0.1111111111111111,
              "#46039f"
             ],
             [
              0.2222222222222222,
              "#7201a8"
             ],
             [
              0.3333333333333333,
              "#9c179e"
             ],
             [
              0.4444444444444444,
              "#bd3786"
             ],
             [
              0.5555555555555556,
              "#d8576b"
             ],
             [
              0.6666666666666666,
              "#ed7953"
             ],
             [
              0.7777777777777778,
              "#fb9f3a"
             ],
             [
              0.8888888888888888,
              "#fdca26"
             ],
             [
              1,
              "#f0f921"
             ]
            ],
            "type": "surface"
           }
          ],
          "table": [
           {
            "cells": {
             "fill": {
              "color": "#EBF0F8"
             },
             "line": {
              "color": "white"
             }
            },
            "header": {
             "fill": {
              "color": "#C8D4E3"
             },
             "line": {
              "color": "white"
             }
            },
            "type": "table"
           }
          ]
         },
         "layout": {
          "annotationdefaults": {
           "arrowcolor": "#2a3f5f",
           "arrowhead": 0,
           "arrowwidth": 1
          },
          "autotypenumbers": "strict",
          "coloraxis": {
           "colorbar": {
            "outlinewidth": 0,
            "ticks": ""
           }
          },
          "colorscale": {
           "diverging": [
            [
             0,
             "#8e0152"
            ],
            [
             0.1,
             "#c51b7d"
            ],
            [
             0.2,
             "#de77ae"
            ],
            [
             0.3,
             "#f1b6da"
            ],
            [
             0.4,
             "#fde0ef"
            ],
            [
             0.5,
             "#f7f7f7"
            ],
            [
             0.6,
             "#e6f5d0"
            ],
            [
             0.7,
             "#b8e186"
            ],
            [
             0.8,
             "#7fbc41"
            ],
            [
             0.9,
             "#4d9221"
            ],
            [
             1,
             "#276419"
            ]
           ],
           "sequential": [
            [
             0,
             "#0d0887"
            ],
            [
             0.1111111111111111,
             "#46039f"
            ],
            [
             0.2222222222222222,
             "#7201a8"
            ],
            [
             0.3333333333333333,
             "#9c179e"
            ],
            [
             0.4444444444444444,
             "#bd3786"
            ],
            [
             0.5555555555555556,
             "#d8576b"
            ],
            [
             0.6666666666666666,
             "#ed7953"
            ],
            [
             0.7777777777777778,
             "#fb9f3a"
            ],
            [
             0.8888888888888888,
             "#fdca26"
            ],
            [
             1,
             "#f0f921"
            ]
           ],
           "sequentialminus": [
            [
             0,
             "#0d0887"
            ],
            [
             0.1111111111111111,
             "#46039f"
            ],
            [
             0.2222222222222222,
             "#7201a8"
            ],
            [
             0.3333333333333333,
             "#9c179e"
            ],
            [
             0.4444444444444444,
             "#bd3786"
            ],
            [
             0.5555555555555556,
             "#d8576b"
            ],
            [
             0.6666666666666666,
             "#ed7953"
            ],
            [
             0.7777777777777778,
             "#fb9f3a"
            ],
            [
             0.8888888888888888,
             "#fdca26"
            ],
            [
             1,
             "#f0f921"
            ]
           ]
          },
          "colorway": [
           "#636efa",
           "#EF553B",
           "#00cc96",
           "#ab63fa",
           "#FFA15A",
           "#19d3f3",
           "#FF6692",
           "#B6E880",
           "#FF97FF",
           "#FECB52"
          ],
          "font": {
           "color": "#2a3f5f"
          },
          "geo": {
           "bgcolor": "white",
           "lakecolor": "white",
           "landcolor": "#E5ECF6",
           "showlakes": true,
           "showland": true,
           "subunitcolor": "white"
          },
          "hoverlabel": {
           "align": "left"
          },
          "hovermode": "closest",
          "mapbox": {
           "style": "light"
          },
          "paper_bgcolor": "white",
          "plot_bgcolor": "#E5ECF6",
          "polar": {
           "angularaxis": {
            "gridcolor": "white",
            "linecolor": "white",
            "ticks": ""
           },
           "bgcolor": "#E5ECF6",
           "radialaxis": {
            "gridcolor": "white",
            "linecolor": "white",
            "ticks": ""
           }
          },
          "scene": {
           "xaxis": {
            "backgroundcolor": "#E5ECF6",
            "gridcolor": "white",
            "gridwidth": 2,
            "linecolor": "white",
            "showbackground": true,
            "ticks": "",
            "zerolinecolor": "white"
           },
           "yaxis": {
            "backgroundcolor": "#E5ECF6",
            "gridcolor": "white",
            "gridwidth": 2,
            "linecolor": "white",
            "showbackground": true,
            "ticks": "",
            "zerolinecolor": "white"
           },
           "zaxis": {
            "backgroundcolor": "#E5ECF6",
            "gridcolor": "white",
            "gridwidth": 2,
            "linecolor": "white",
            "showbackground": true,
            "ticks": "",
            "zerolinecolor": "white"
           }
          },
          "shapedefaults": {
           "line": {
            "color": "#2a3f5f"
           }
          },
          "ternary": {
           "aaxis": {
            "gridcolor": "white",
            "linecolor": "white",
            "ticks": ""
           },
           "baxis": {
            "gridcolor": "white",
            "linecolor": "white",
            "ticks": ""
           },
           "bgcolor": "#E5ECF6",
           "caxis": {
            "gridcolor": "white",
            "linecolor": "white",
            "ticks": ""
           }
          },
          "title": {
           "x": 0.05
          },
          "xaxis": {
           "automargin": true,
           "gridcolor": "white",
           "linecolor": "white",
           "ticks": "",
           "title": {
            "standoff": 15
           },
           "zerolinecolor": "white",
           "zerolinewidth": 2
          },
          "yaxis": {
           "automargin": true,
           "gridcolor": "white",
           "linecolor": "white",
           "ticks": "",
           "title": {
            "standoff": 15
           },
           "zerolinecolor": "white",
           "zerolinewidth": 2
          }
         }
        }
       }
      }
     },
     "metadata": {},
     "output_type": "display_data"
    },
    {
     "data": {
      "image/png": "[encoded data removed]",
      "text/plain": [
       "<Figure size 640x480 with 1 Axes>"
      ]
     },
     "metadata": {},
     "output_type": "display_data"
    }
   ],
   "source": [
    "MetricGenderDisplay(EnsambleDict, specific_race=None, specific_emotion=None, specific_age=None)\n",
    "MetricRaceDisplay(EnsambleDict, specific_gender=None, specific_emotion=None, specific_age=None)\n",
    "MetricAgeDisplay(EnsambleDict, specific_gender=None, specific_emotion=None, specific_race=None)\n",
    "ScatterPlotDisplay2D(EnsambleDict, x_axis_label=\"race\", y_axis_label=\"gender\", specific_gender=\"man\", specific_race=\"white\", specific_emotion=None)\n",
    "ScatterPlotDisplay3D(EnsambleDict, specific_gender=\"man\", specific_race=\"white\", specific_age=\"10-19\")\n",
    "MetricCenterDistanceDisplay(EnsambleDict, distance_val_list=dist_bet_centers, area_val_list=space_taken_up, category='race', type='distance') "
   ]
  },
  {
   "cell_type": "code",
   "execution_count": 38,
   "metadata": {},
   "outputs": [
    {
     "data": {
      "text/plain": [
       "{'ShannonEntropy': {'gender': 0.33125214821175086,\n",
       "  'race': 0.8056762902415509,\n",
       "  'age': 1.1296779481531973},\n",
       " 'SimpsonIndex': {'gender': 1.226254244292996,\n",
       "  'race': 1.5717579849389764,\n",
       "  'age': 2.576158940397351},\n",
       " 'ShannonEvenness': {'gender': 0.4778958315089089,\n",
       "  'race': 0.4496564991441965,\n",
       "  'age': 0.7019083739892035},\n",
       " 'SimpsonEvenness': {'gender': 0.613127122146498,\n",
       "  'race': 0.2619596641564961,\n",
       "  'age': 0.5152317880794702}}"
      ]
     },
     "execution_count": 38,
     "metadata": {},
     "output_type": "execute_result"
    }
   ],
   "source": [
    "ShannonSimpsonMetrics(EnsambleDict)"
   ]
  },
  {
   "cell_type": "code",
   "execution_count": 53,
   "metadata": {},
   "outputs": [
    {
     "name": "stdout",
     "output_type": "stream",
     "text": [
      "man is positively correlated with the image type.  0.897172236503856  >  0.5\n",
      "white is positively correlated with the image type.  0.7892030848329049  >  0.16666666666666666\n",
      "20-29 is positively correlated with the image type.  0.3676092544987147  >  0.1111111111111111\n",
      "30-39 is positively correlated with the image type.  0.4961439588688946  >  0.1111111111111111\n"
     ]
    }
   ],
   "source": [
    "CorrelationMetric(EnsambleDict)"
   ]
  },
  {
   "cell_type": "markdown",
   "metadata": {},
   "source": [
    "## Comparing DeepFace / FairFace model\n",
    "\n",
    "The dataset used for comparison is the UTK-Face dataset as none of the models were trained on it. link: https://susanqq.github.io/UTKFace/"
   ]
  },
  {
   "cell_type": "code",
   "execution_count": 12,
   "metadata": {},
   "outputs": [],
   "source": [
    "# Loads the UTK-Face dataset part 1\n",
    "UTK_dataset_path = \"C:\\\\Users\\\\User\\\\FYP\\\\Datasets\\\\UTK-Face\\\\part1\"\n",
    "file_list = os.listdir(UTK_dataset_path)\n",
    "UTK_loaded_images = []\n",
    "\n",
    "for image_name in file_list:\n",
    "\n",
    "    image_path = os.path.join(UTK_dataset_path, image_name)\n",
    "    # loading the image\n",
    "    image = dlib.load_rgb_image(image_path)\n",
    "\n",
    "    image_info = image_name.split(\"_\")\n",
    "\n",
    "    # Converting from 0 -> man and 1 -> woman\n",
    "    image_info[1] = \"man\" if image_info[1] == \"0\" else \"woman\"\n",
    "\n",
    "    # Converting from 0 -> white, 1 -> black, 2 -> asian, 3-> indian and 4-> other (Hispanic, Latino, Middle Eastern)\n",
    "    if image_info[2] == \"0\":\n",
    "        image_info[2] = \"white\"\n",
    "    elif image_info[2] == \"1\":\n",
    "        image_info[2] = \"black\"\n",
    "    elif image_info[2] == \"2\":\n",
    "        image_info[2] = \"asian\"\n",
    "    elif image_info[2] == \"3\":\n",
    "        image_info[2] = \"indian\"\n",
    "    else:\n",
    "        image_info[2] = \"other\"\n",
    "\n",
    "    image_data = {\"image\":image, \"age\":image_info[0], \"gender\":image_info[1], \"race\":image_info[2]}\n",
    "    UTK_loaded_images.append(image_data)"
   ]
  },
  {
   "cell_type": "code",
   "execution_count": 13,
   "metadata": {},
   "outputs": [],
   "source": [
    "# Randomly selecting images from the UTK dataset to process\n",
    "num_elements_to_select = 371\n",
    "\n",
    "# Randomly select elements without replacement\n",
    "UTK_random_images = random.sample(UTK_loaded_images, num_elements_to_select)"
   ]
  },
  {
   "cell_type": "code",
   "execution_count": 14,
   "metadata": {},
   "outputs": [],
   "source": [
    "UTK_image_subset = []\n",
    "# Retrieving the images only\n",
    "for image in UTK_random_images:\n",
    "    UTK_image_subset.append(image[\"image\"])"
   ]
  },
  {
   "cell_type": "code",
   "execution_count": 42,
   "metadata": {},
   "outputs": [
    {
     "name": "stderr",
     "output_type": "stream",
     "text": [
      "Processing: 100%|██████████| 371/371 [21:00<00:00,  3.40s/images]\n",
      "Processing: 100%|██████████| 371/371 [26:47<00:00,  4.33s/images]\n",
      "Processing: 100%|██████████| 371/371 [35:05<00:00,  5.68s/images]\n"
     ]
    }
   ],
   "source": [
    "# YOLOv8 person detection not used as UTK-Face\n",
    "\n",
    "# Loading the FairFace model, the res34_fair_align_multi_7_20190809.pt is used as it detects 7 distinct races as opposed to the other model.\n",
    "model_fair_7 = torchvision.models.resnet34(pretrained=True)\n",
    "model_fair_7.fc = nn.Linear(model_fair_7.fc.in_features, 18)\n",
    "model_fair_7.load_state_dict(torch.load('C:\\\\Users\\\\User\\\\FYP\\\\Testing\\\\res34_fair_align_multi_7_20190809.pt', map_location=torch.device('cpu')))\n",
    "model_fair_7 = model_fair_7.to(\"cpu\")\n",
    "model_fair_7.eval()\n",
    "# Processing the images using the FairFace model\n",
    "EnsambleDict = ensmableProcess(UTK_image_subset, model_fair_7)\n",
    "\n",
    "# Processing the images using the FairFace model\n",
    "FairFaceDict = FairFaceProcess(UTK_image_subset, model_fair_7)\n",
    "\n",
    "# Processing the images using the FairFace model\n",
    "DeepFaceDict = DeepFaceProcess(UTK_image_subset)"
   ]
  },
  {
   "cell_type": "code",
   "execution_count": 43,
   "metadata": {},
   "outputs": [],
   "source": [
    "final_result_list = []\n",
    "# Forming the final result list\n",
    "for index, image_data in enumerate(UTK_random_images):\n",
    "    final_result_list.append({\"image_info\":image_data, \"deepface\":DeepFaceDict[index][1], \"fairface\":FairFaceDict[index][1], \"ensamble\":EnsambleDict[index][1]})"
   ]
  },
  {
   "cell_type": "code",
   "execution_count": 57,
   "metadata": {},
   "outputs": [],
   "source": [
    "# changing gender labels used for the sake of comparison wiht the UTK-Face dataset\n",
    "for data in DeepFaceDict:\n",
    "    if DeepFaceDict[data][1][\"gender\"] == \"male\":\n",
    "       DeepFaceDict[data][1][\"gender\"] = \"man\"\n",
    "    else:\n",
    "        DeepFaceDict[data][1][\"gender\"] = \"woman\""
   ]
  },
  {
   "cell_type": "code",
   "execution_count": 59,
   "metadata": {},
   "outputs": [],
   "source": [
    "# Counting the number of correct predictions for each model\n",
    "\n",
    "deepFaceGenderCorrectCount = 0\n",
    "deepFaceRaceCorrectCount = 0\n",
    "deepFaceAgeCorrectCount = 0\n",
    "\n",
    "fairFaceGenderCorrectCount = 0\n",
    "fairFaceRaceCorrectCount = 0\n",
    "fairFaceAgeCorrectCount = 0\n",
    "\n",
    "ensambleGenderCorrectCount = 0\n",
    "ensambleRaceCorrectCount = 0\n",
    "ensambleAgeCorrectCount = 0\n",
    "\n",
    "for result in final_result_list:\n",
    "    true_gender = result[\"image_info\"][\"gender\"]\n",
    "    true_age = result[\"image_info\"][\"age\"]\n",
    "    true_race = result[\"image_info\"][\"race\"]\n",
    "\n",
    "    deepface_gender = result[\"deepface\"][\"gender\"]\n",
    "    deepface_age = result[\"deepface\"][\"age\"]\n",
    "    deepface_race = result[\"deepface\"][\"race\"]\n",
    "\n",
    "    fairface_gender = result[\"fairface\"][\"gender\"]\n",
    "    fairface_age = result[\"fairface\"][\"age\"]\n",
    "    fairface_race = result[\"fairface\"][\"race\"]\n",
    "\n",
    "    ensamble_gender = result[\"ensamble\"][\"gender\"]\n",
    "    ensamble_age = result[\"ensamble\"][\"age\"]\n",
    "    ensamble_race = result[\"ensamble\"][\"race\"]\n",
    "\n",
    "    if true_gender.lower() == deepface_gender.lower():\n",
    "        deepFaceGenderCorrectCount += 1\n",
    "\n",
    "    if true_race.lower() == deepface_race.lower():\n",
    "        deepFaceRaceCorrectCount += 1\n",
    "    elif true_race.lower() == \"other\" and deepface_race in [\"latino\", \"middle eastern\"]:\n",
    "        deepFaceRaceCorrectCount += 1\n",
    "\n",
    "    # +6 so that the max range is included i.e., deepface_age = 15 range = 10-20 as otherwise it would be 10-19 \n",
    "    if int(true_age) in range(deepface_age-5, deepface_age+6):\n",
    "        deepFaceAgeCorrectCount += 1\n",
    "\n",
    "    if true_gender.lower() == fairface_gender.lower():\n",
    "        fairFaceGenderCorrectCount += 1\n",
    "\n",
    "    #-----------------------------------------------------\n",
    "    \n",
    "    if true_race.lower() == fairface_race.lower():\n",
    "        fairFaceRaceCorrectCount += 1\n",
    "    elif true_race.lower() == \"other\" and fairface_race in [\"latino\", \"middle eastern\"]:\n",
    "        deepFaceRaceCorrectCount += 1\n",
    "\n",
    "    if fairface_age == \"70+\" and int(true_age) > 70:\n",
    "        fairFaceAgeCorrectCount += 1\n",
    "    elif fairface_age != \"70+\" and int(true_age) in range(int(fairface_age.split(\"-\")[0]), int(fairface_age.split(\"-\")[1])):\n",
    "        fairFaceAgeCorrectCount += 1\n",
    "    \n",
    "    #-----------------------------------------------------\n",
    "    \n",
    "    if true_gender.lower() == ensamble_gender.lower():\n",
    "        ensambleGenderCorrectCount += 1\n",
    "\n",
    "    if true_race.lower() == ensamble_race.lower():\n",
    "        ensambleRaceCorrectCount += 1\n",
    "    elif true_race.lower() == \"other\" and ensamble_race in [\"latino\", \"middle eastern\"]:\n",
    "        ensambleRaceCorrectCount += 1\n",
    "\n",
    "    if fairface_age == \"70+\" and int(true_age) > 70:\n",
    "        ensambleAgeCorrectCount += 1\n",
    "    elif fairface_age != \"70+\" and int(true_age) in range(int(fairface_age.split(\"-\")[0]), int(fairface_age.split(\"-\")[1])):\n",
    "        ensambleAgeCorrectCount += 1"
   ]
  },
  {
   "cell_type": "markdown",
   "metadata": {},
   "source": [
    "### Comaprison Info Graphs"
   ]
  },
  {
   "cell_type": "code",
   "execution_count": 60,
   "metadata": {},
   "outputs": [
    {
     "data": {
      "image/png": "[encoded data removed]",
      "text/plain": [
       "<Figure size 640x480 with 1 Axes>"
      ]
     },
     "metadata": {},
     "output_type": "display_data"
    },
    {
     "data": {
      "image/png": "[encoded data removed]",
      "text/plain": [
       "<Figure size 640x480 with 1 Axes>"
      ]
     },
     "metadata": {},
     "output_type": "display_data"
    },
    {
     "data": {
      "image/png": "[encoded data removed]",
      "text/plain": [
       "<Figure size 640x480 with 1 Axes>"
      ]
     },
     "metadata": {},
     "output_type": "display_data"
    }
   ],
   "source": [
    "from collections import Counter\n",
    "import matplotlib.pyplot as plt\n",
    "\n",
    "# This function outputs the info regarding the images present in the dataset/subset\n",
    "# Counting the number of each label present in the dataset subset\n",
    "def datasetInfo(data, num_of_images):\n",
    "    ages = [item[\"age\"] for item in data]\n",
    "    genders = [item[\"gender\"] for item in data]\n",
    "    races = [item[\"race\"] for item in data]\n",
    "    age_counts = Counter(ages)\n",
    "    gender_counts = Counter(genders)\n",
    "    race_counts = Counter(races)\n",
    "\n",
    "    # Sort age counts by age\n",
    "    sorted_age_counts = dict(sorted(age_counts.items()))\n",
    "\n",
    "    # Plotting the bar graph\n",
    "    plt.bar(sorted_age_counts.keys(), sorted_age_counts.values())\n",
    "    plt.xlabel('Age')\n",
    "    plt.ylabel('Count')\n",
    "    plt.title('Age Subset ('+str(num_of_images)+') Distribution')\n",
    "    plt.xticks(np.arange(0, int(max(ages)), 5))\n",
    "    plt.show()\n",
    "\n",
    "    # Plotting the bar graph\n",
    "    plt.bar(gender_counts.keys(), gender_counts.values())\n",
    "    plt.xlabel('Gender')\n",
    "    plt.ylabel('Count')\n",
    "    plt.title('Gender Subset ('+str(num_of_images)+') Distribution')\n",
    "    plt.show()\n",
    "\n",
    "    # Plotting the bar graph\n",
    "    plt.bar(race_counts.keys(), race_counts.values())\n",
    "    plt.xlabel('Race')\n",
    "    plt.ylabel('Count')\n",
    "    plt.title('Race Subset ('+str(num_of_images)+') Distribution')\n",
    "    plt.show()\n",
    "\n",
    "datasetInfo(UTK_random_images, num_elements_to_select)"
   ]
  },
  {
   "cell_type": "code",
   "execution_count": 61,
   "metadata": {},
   "outputs": [
    {
     "data": {
      "image/png": "[encoded data removed]",
      "text/plain": [
       "<Figure size 640x480 with 1 Axes>"
      ]
     },
     "metadata": {},
     "output_type": "display_data"
    }
   ],
   "source": [
    "import matplotlib.pyplot as plt\n",
    "import numpy as np\n",
    "\n",
    "# This outputs the info on how each of the models performed on the dataset/subset\n",
    "\n",
    "classes = ['DeepFace', 'FairFace', 'Ensamble']\n",
    "\n",
    "gender_values = [deepFaceGenderCorrectCount, fairFaceGenderCorrectCount, ensambleGenderCorrectCount]\n",
    "race_values = [deepFaceRaceCorrectCount, fairFaceRaceCorrectCount, ensambleRaceCorrectCount]\n",
    "age_values = [deepFaceAgeCorrectCount, fairFaceAgeCorrectCount, ensambleAgeCorrectCount]\n",
    "\n",
    "# Bar width\n",
    "bar_width = 0.25\n",
    "\n",
    "# Set positions for bars on X-axis\n",
    "r1 = np.arange(len(classes))\n",
    "r2 = [x + bar_width for x in r1]\n",
    "r3 = [x + bar_width for x in r2]\n",
    "\n",
    "# Create bar chart\n",
    "plt.bar(r1, gender_values, width=bar_width, label='Gender Count')\n",
    "plt.bar(r2, race_values, width=bar_width, label='Race Count')\n",
    "plt.bar(r3, age_values, width=bar_width, label='Age Count')\n",
    "\n",
    "# Display the numbers on top of each bar\n",
    "for i, value in enumerate(gender_values):\n",
    "    plt.text(r1[i], value + 0.1, str(value), ha='center', va='bottom')\n",
    "\n",
    "for i, value in enumerate(race_values):\n",
    "    plt.text(r2[i], value + 0.1, str(value), ha='center', va='bottom')\n",
    "\n",
    "for i, value in enumerate(age_values):\n",
    "    plt.text(r3[i], value + 0.1, str(value), ha='center', va='bottom')\n",
    "\n",
    "# Set labels and title\n",
    "plt.xlabel('Models')\n",
    "plt.ylabel('Correct Predictions')\n",
    "plt.title('Model Performance - '+str(num_elements_to_select)+' Randomly Selected UTK Images')\n",
    "\n",
    "# Set x-axis ticks and labels\n",
    "plt.xticks([r + bar_width for r in range(len(classes))], classes)\n",
    "\n",
    "# Add legend\n",
    "plt.legend()\n",
    "\n",
    "# Show the plot\n",
    "plt.show()"
   ]
  },
  {
   "cell_type": "markdown",
   "metadata": {},
   "source": [
    "# Old Unused Functions"
   ]
  },
  {
   "cell_type": "code",
   "execution_count": 151,
   "metadata": {},
   "outputs": [],
   "source": [
    "# def SaveMetricsCSVOld(sub_folder_path, metric_dict):\n",
    "#     \"\"\" \n",
    "#     Description:\n",
    "#     This function serves to save the dominant values per image resultant from the DeepFaceProcess function to a CSV file. (Used only in DeepFaceProcess function)\n",
    "    \n",
    "#     Parameters:\n",
    "#     sub_folder_path (str) - Path to the folder in which the images are stored.\n",
    "#     metric_dict (dict) - Dictionary containing the dominant values per image resultant from the DeepFaceProcess fucntion.\n",
    "\n",
    "#     Returns:\n",
    "#     None.\n",
    "#     \"\"\"\n",
    "#     # Specifying the CSV file path\n",
    "#     csv_file_path = Path(os.path.join(sub_folder_path, 'output_data.csv'))\n",
    "\n",
    "#     # Opening the CSV file for writing\n",
    "#     with open(csv_file_path, mode='w', newline='') as file:\n",
    "#         fieldNames = [\"Image_No\"]\n",
    "        \n",
    "#         # Getting the additional fields from the dictionary and adding them to the fieldnames list\n",
    "#         additionalFields = list(metric_dict[0][1].keys())\n",
    "#         fieldNames.extend(additionalFields)\n",
    "#         writer = csv.DictWriter(file, fieldnames=fieldNames)\n",
    "\n",
    "#         # Writing the header row\n",
    "#         writer.writeheader()\n",
    "\n",
    "#         # Writing the image properties to the CSV file\n",
    "#         for image_name, properties in metric_dict.items():\n",
    "#             tmp = {'Image_No': image_name}\n",
    "#             tmp.update({key: properties[1][key] for key in additionalFields})\n",
    "#             writer.writerow(tmp)"
   ]
  },
  {
   "cell_type": "code",
   "execution_count": null,
   "metadata": {},
   "outputs": [],
   "source": [
    "# def LoadMetricCSVFromFolderOld(csv_file_path):\n",
    "#     \"\"\" \n",
    "#     Description:\n",
    "#     This function is used to load the image metrics (if saved) from the DeepFaceProcess function, so as to avoid running it multiple times for the same images.\n",
    "\n",
    "#     Parameters:\n",
    "#     csv_file_path (str) - Path to the file containing the metrics.\n",
    "\n",
    "#     Returns:\n",
    "#     image_list (list) - List containing the loaded images.\n",
    "#     \"\"\"\n",
    "\n",
    "#     data_dict = {}\n",
    "\n",
    "#     with open(csv_file_path+\"\\\\output_data.csv\", mode='r', newline='') as file:\n",
    "#         reader = csv.DictReader(file)\n",
    "#         header = reader.fieldnames\n",
    "\n",
    "#         for row in reader:\n",
    "#             image_no = int(row['Image_No'])\n",
    "            \n",
    "#             image = cv2.cvtColor(cv2.imread(csv_file_path+\"\\\\\"+str(image_no)+\".jpg\"), cv2.COLOR_BGR2RGB)\n",
    "#             tmp = {key: row[key] for key in header}\n",
    "            \n",
    "#             # Removing the 'Image_No' key as we dont want it saved in the dictionary\n",
    "#             tmp.pop('Image_No', None)\n",
    "\n",
    "#             data_dict[image_no] = [image,tmp]\n",
    "\n",
    "#     return data_dict"
   ]
  }
 ],
 "metadata": {
  "kernelspec": {
   "display_name": "ComputerVision",
   "language": "python",
   "name": "python3"
  },
  "language_info": {
   "codemirror_mode": {
    "name": "ipython",
    "version": 3
   },
   "file_extension": ".py",
   "mimetype": "text/x-python",
   "name": "python",
   "nbconvert_exporter": "python",
   "pygments_lexer": "ipython3",
   "version": "3.9.16"
  }
 },
 "nbformat": 4,
 "nbformat_minor": 2
}
