{
 "cells": [
  {
   "cell_type": "markdown",
   "metadata": {},
   "source": [
    "# FairFace - Pipeline"
   ]
  },
  {
   "cell_type": "markdown",
   "metadata": {},
   "source": [
    "### Required Libraries"
   ]
  },
  {
   "cell_type": "code",
   "execution_count": 1,
   "metadata": {},
   "outputs": [],
   "source": [
    "# pip install dlib"
   ]
  },
  {
   "cell_type": "code",
   "execution_count": 2,
   "metadata": {},
   "outputs": [],
   "source": [
    "import numpy as np\n",
    "import cv2\n",
    "import urllib.request\n",
    "import os\n",
    "import csv\n",
    "import tensorflow\n",
    "import urllib.request\n",
    "\n",
    "from clip_retrieval.clip_client import ClipClient, Modality\n",
    "from matplotlib import pyplot as plt\n",
    "from deepface import DeepFace\n",
    "from pathlib import Path\n",
    "from tqdm import tqdm\n",
    "\n",
    "from matplotlib import pyplot as plt\n",
    "import plotly.express as px\n",
    "import cv2\n",
    "import numpy as np\n",
    "from ultralytics import YOLO\n",
    "import tensorflow as tf\n",
    "import torch\n",
    "import math\n",
    "import pandas\n",
    "\n",
    "import torchvision\n",
    "from torchvision import datasets, models, transforms\n",
    "import torch\n",
    "import torch.nn as nn\n",
    "import dlib\n",
    "import pandas as pd\n",
    "import random\n",
    "import statistics"
   ]
  },
  {
   "cell_type": "code",
   "execution_count": 3,
   "metadata": {},
   "outputs": [],
   "source": [
    "def CamelCase(text):\n",
    "    \"\"\" \n",
    "    Description:\n",
    "    This function is used to convert text into camel case mainly used for determining file names.\n",
    "\n",
    "    Parameters:\n",
    "    text (str) - Text to be converted to camel case.\n",
    "\n",
    "    Returns:\n",
    "    camel_case_text (str) - The text converted to camel case.\n",
    "    \"\"\"\n",
    "    \n",
    "    # Splitting the text into words by space\n",
    "    words = text.split()\n",
    "\n",
    "    # Capitalising the first letter of each word\n",
    "    camel_case_words = (word.capitalize() for word in words)\n",
    "\n",
    "    # Joining the words together to form the CamelCase string\n",
    "    camel_case_text = ''.join(camel_case_words)\n",
    "\n",
    "    return camel_case_text"
   ]
  },
  {
   "cell_type": "code",
   "execution_count": 4,
   "metadata": {},
   "outputs": [],
   "source": [
    "def LoadImagesFromFolder(folder_path):\n",
    "    \"\"\" \n",
    "    Description:\n",
    "    This function is used to load images from the specified folder, mainly to avoid repeatedly going through the process of retrieving the same images. \n",
    "    However it can be used to load other images (GenerativeImages).\n",
    "\n",
    "    Parameters:\n",
    "    folder_path (str) - Path to the folder in which the images are stored.\n",
    "\n",
    "    Returns:\n",
    "    image_list (list) - List containing the loaded images.\n",
    "    \"\"\"\n",
    "\n",
    "    # Initialize an empty list to store the loaded images\n",
    "    image_list = []\n",
    "\n",
    "    # Filter out non-image files (e.g., folders, etc.)\n",
    "    list_of_files = os.listdir(folder_path)\n",
    "\n",
    "    image_files = [file for file in list_of_files if file.lower().endswith(('.jpg', '.jpeg', '.png', '.gif', '.bmp'))]\n",
    "\n",
    "    list_of_files = sorted(image_files, key=lambda x: int(x.split('.')[0]))\n",
    "    print(list_of_files)\n",
    "    # Loop through the files in the folder\n",
    "    for file_no in range(len(list_of_files)):\n",
    "        try:\n",
    "            filename = str(list_of_files[file_no])\n",
    "\n",
    "            if filename in list_of_files:\n",
    "                # Construct the full path to the image file\n",
    "                image_path = os.path.join(folder_path, filename)\n",
    "\n",
    "                # Load the image using cv2 in BGR format\n",
    "                image_bgr = cv2.imread(image_path)\n",
    "\n",
    "                if image_bgr is not None:\n",
    "                    # Convert BGR to RGB format\n",
    "                    image_rgb = cv2.cvtColor(image_bgr, cv2.COLOR_BGR2RGB)\n",
    "\n",
    "                    # Append the RGB image to the list\n",
    "                    image_list.append(image_rgb)\n",
    "        except:\n",
    "            pass\n",
    "    \n",
    "    return image_list"
   ]
  },
  {
   "cell_type": "code",
   "execution_count": 80,
   "metadata": {},
   "outputs": [],
   "source": [
    "def LoadMetricCSVFromFolder(csv_file_path):\n",
    "    \"\"\" \n",
    "    Description:\n",
    "    This function is used to load the image metrics (if saved) from the DeepFaceProcess function, so as to avoid running it multiple times for the same images.\n",
    "\n",
    "    Parameters:\n",
    "    csv_file_path (str) - Path to the file containing the metrics.\n",
    "\n",
    "    Returns:\n",
    "    data_dict (dict) - Dictionary containing the image and its metrics.\n",
    "    \"\"\"\n",
    "\n",
    "    data_dict = {}\n",
    "\n",
    "    with open(csv_file_path+\"\\\\output_data.csv\", mode='r', newline='') as file:\n",
    "        reader = csv.DictReader(file)\n",
    "        header = reader.fieldnames\n",
    "\n",
    "        image_data = []\n",
    "        for index, row in enumerate(reader):\n",
    "            image_no = int(row['Image_No'])\n",
    "            \n",
    "            image = cv2.cvtColor(cv2.imread(csv_file_path+\"\\\\\"+str(image_no)+\".jpg\"), cv2.COLOR_BGR2RGB)\n",
    "\n",
    "            tmp = {key: row[key] for key in header if row[key] != \"\"}\n",
    "            \n",
    "            # Removing the 'Image_No' key as we dont want it saved in the dictionary\n",
    "            tmp.pop('Image_No', None)\n",
    "            \n",
    "            if index % 2 == 0:\n",
    "                image_data.append(image)\n",
    "                image_data.append(tmp)\n",
    "            else:\n",
    "                # The inner dictionary is saved as a string, so we need to convert it back to a dictionary using eval\n",
    "                for key in tmp:\n",
    "                    tmp[key] = eval(tmp[key])\n",
    "                image_data.append(tmp)\n",
    "                data_dict[image_no] = image_data\n",
    "                image_data = []\n",
    "\n",
    "    return data_dict"
   ]
  },
  {
   "cell_type": "code",
   "execution_count": 6,
   "metadata": {},
   "outputs": [],
   "source": [
    "def SaveMetricsCSV(sub_folder_path, metric_dict):\n",
    "    \"\"\" \n",
    "    Description:\n",
    "    This function serves to save the dominant values per image resultant from the DeepFaceProcess function to a CSV file. (Used only in DeepFaceProcess function)\n",
    "    \n",
    "    Parameters:\n",
    "    sub_folder_path (str) - Path to the folder in which the images are stored.\n",
    "    metric_dict (dict) - Dictionary containing the dominant values per image resultant from the DeepFaceProcess fucntion.\n",
    "\n",
    "    Returns:\n",
    "    None.\n",
    "    \"\"\"\n",
    "    # Specifying the CSV file path\n",
    "    csv_file_path = Path(os.path.join(sub_folder_path, 'output_data.csv'))\n",
    "\n",
    "    # Open the CSV file in write mode\n",
    "    with open(csv_file_path, 'w', newline='') as csv_file:\n",
    "        fieldNames = [\"Image_No\"]\n",
    "\n",
    "        # Getting the additional fields from the dictionary and adding them to the fieldnames list\n",
    "        additionalFields = list(metric_dict[0][1].keys())\n",
    "        fieldNames.extend(additionalFields)\n",
    "        writer = csv.DictWriter(csv_file, fieldnames=fieldNames)\n",
    "\n",
    "        # Writing the header row\n",
    "        writer.writeheader()\n",
    "\n",
    "        # Write each row for the given structure\n",
    "        for image_name, (_, dict1, dict2) in metric_dict.items():\n",
    "            # This list contains the image labels\n",
    "            label_row = {'Image_No': image_name}\n",
    "            # This list containst the confidence scores associated with the labels\n",
    "            confidence_score_row = {'Image_No': image_name}\n",
    "\n",
    "            # Writing the image properties for each row\n",
    "            for key in additionalFields:\n",
    "                # Adding the value where it is present otherwise adding an empty string\n",
    "                if key in dict1:\n",
    "                    label_row.update({key:dict1[key]})\n",
    "                else:\n",
    "                    label_row.update({key:\"\"})\n",
    "\n",
    "                if key in dict2:\n",
    "                    confidence_score_row.update({key:dict2[key]})\n",
    "                else:\n",
    "                    confidence_score_row.update({key:\"\"})\n",
    "\n",
    "            writer.writerow(label_row)\n",
    "            writer.writerow(confidence_score_row)"
   ]
  },
  {
   "cell_type": "code",
   "execution_count": 7,
   "metadata": {},
   "outputs": [],
   "source": [
    "def FindObjWithLargestArea(objs):\n",
    "    \"\"\" \n",
    "    Description:\n",
    "    This function serves to detect the object (face) with the largest area in the image. (Used only in DeepFaceProcess function)\n",
    "    \n",
    "    Parameters:\n",
    "    objs (dict) - Dictionary containing the information from the DeepFace.analyze function relevant to the image.\n",
    "\n",
    "    Returns:\n",
    "    objectIndex (int) - Index of the object taking up the largest area.\n",
    "    \"\"\"\n",
    "    largestArea = 0\n",
    "    objectIndex = 0\n",
    "\n",
    "    for index, obj in enumerate(objs):\n",
    "        if obj['region']['w'] * obj['region']['h'] > largestArea:\n",
    "            largestArea = obj['region']['w'] * obj['region']['h']\n",
    "            objectIndex = index\n",
    "    return objectIndex"
   ]
  },
  {
   "cell_type": "code",
   "execution_count": 8,
   "metadata": {},
   "outputs": [],
   "source": [
    "def YOLODetectPerson(model, images, confidence_threshold=0.5):\n",
    "    \"\"\" \n",
    "    Description:\n",
    "    This function serves to detect an entire person in an image.\n",
    "    \n",
    "    Parameters:\n",
    "    model - YOLO model used to detect the person in the image.\n",
    "    images (list) - List containing the images to be processed.\n",
    "    confidence_threshold (float) - Confidence threshold to filter out predictions below the threshold.\n",
    "\n",
    "    Returns:\n",
    "    cropped_images (list) - List containing the cropped images.\n",
    "    dist_between_centers (list) - List containing the distance between the centers of the image and the center of the bounding box in each image.\n",
    "    space_takenup (list) - List containing the percentage of the image taken up by the bounding box in each image.\n",
    "    \"\"\"\n",
    "    \n",
    "    cropped_images = []\n",
    "    dist_between_centers = []\n",
    "    space_takenup = []\n",
    "\n",
    "    for input_image in images:\n",
    "        # Making predictions\n",
    "        predictions = model.predict(input_image, classes=0)\n",
    "\n",
    "        # Extracting the bounding box coordinates, prediction confidance, prediction class\n",
    "        boxes = predictions[0].boxes.xyxy  \n",
    "        scores = predictions[0].boxes.conf\n",
    "        classes = predictions[0].boxes.cls\n",
    "\n",
    "        # Filtering out predictions below the confidence threshold\n",
    "        filtered_indices = torch.where(scores > confidence_threshold)[0]\n",
    "        filtered_boxes = boxes[filtered_indices]\n",
    "        filtered_classes = classes[filtered_indices]\n",
    "\n",
    "        if len(filtered_indices) > 1:\n",
    "            plt.imshow(input_image)\n",
    "            plt.show()\n",
    "\n",
    "        # Finding the area of the image\n",
    "        area_of_image = input_image.shape[0] * input_image.shape[1]\n",
    "        image_center_x = input_image.shape[1] // 2\n",
    "        image_center_y = input_image.shape[0] // 2\n",
    "\n",
    "\n",
    "        for box, class_id in zip(filtered_boxes, filtered_classes):\n",
    "            box = box.cpu().numpy().astype(int)\n",
    "            class_id = int(class_id.cpu().numpy())\n",
    "\n",
    "            # Crop the image based on the bounding box\n",
    "            cropped_image = input_image[box[1]:box[3], box[0]:box[2]]\n",
    "            cropped_images.append(cropped_image)\n",
    "\n",
    "            area_of_cropped_image = cropped_image.shape[0] * cropped_image.shape[1]\n",
    "            space_takenup.append(area_of_cropped_image/area_of_image * 100)\n",
    "\n",
    "            # Add a dot at the center\n",
    "            center_x = (box[0] + box[2]) // 2\n",
    "            center_y = (box[1] + box[3]) // 2\n",
    "\n",
    "            distance_between_centers = math.dist([center_x, center_y], [image_center_x, image_center_y])\n",
    "            dist_between_centers.append(distance_between_centers)\n",
    "\n",
    "    return cropped_images, dist_between_centers, space_takenup"
   ]
  },
  {
   "cell_type": "markdown",
   "metadata": {},
   "source": [
    "### FairFace Model\n",
    "\n",
    "link: https://github.com/dchen236/FairFace"
   ]
  },
  {
   "cell_type": "code",
   "execution_count": 9,
   "metadata": {},
   "outputs": [],
   "source": [
    "# This function expectes the images to contain the face only and not the entire image\n",
    "def FairFaceProcess(listOfImages, fairFaceModel):\n",
    "    \"\"\" \n",
    "    Description:\n",
    "    This function serves to determine the properties of the primary detected face in an image. \n",
    "    For each image passed it will only consider the most prominent face, this is done as each \n",
    "    image is initially being processed by YOLOv8 to detect/crop individual people and then said images are fed to this function.\n",
    "    \n",
    "    Parameters:\n",
    "    listOfImages (list) - List containing the images to be processed. \n",
    "    fairFaceModel - FairFace model used to determine the properties of the face in the image.\n",
    "\n",
    "    Returns:\n",
    "    FairFaceDict (dict) - Dictionary containing the information relevant to each image.\n",
    "    \"\"\"\n",
    "    tensorflow.keras.utils.disable_interactive_logging()\n",
    "    FairFaceDict = {}\n",
    "\n",
    "    # Create a tqdm progress bar\n",
    "    progress_bar = tqdm(total=len(listOfImages), desc=\"Processing\", unit=\"images\")\n",
    "\n",
    "    # Transformation process used to convert images to the expected input format of the fairface model.\n",
    "    trans = transforms.Compose([\n",
    "    transforms.ToPILImage(),\n",
    "    transforms.Resize((224, 224)),\n",
    "    transforms.ToTensor(),\n",
    "    transforms.Normalize(mean=[0.485, 0.456, 0.406], std=[0.229, 0.224, 0.225])\n",
    "    ])\n",
    "\n",
    "    for image_index, image in enumerate(listOfImages):\n",
    "        # These mappings hold the index associated with each label, e.g., man confidence value is stored at index 1 of the gender array.\n",
    "        # The same applies to the other mappings. These values are then replaced with the confidence associated with each label.\n",
    "        # The model distinguishes betwen east and southest asian, but these were combined together for the sake of consistency.\n",
    "        gender_mapping = {\"man\":0,\"woman\":1}\n",
    "        race_mapping = {\"white\":0,\"black\":1,\"latino hispanic\":2,\"asian\":3,\"indian\":4,\"middle eastern\":5}\n",
    "        age_mapping = {\"0-2\":0,\"3-9\":1,\"10-19\":2,\"20-29\":3,\"30-39\":4,\"40-49\":5,\"50-59\":6,\"60-69\":7,\"70+\":8}\n",
    "\n",
    "        # Using the mtcnn detector to detect faces in the image\n",
    "        objs = DeepFace.analyze(image, enforce_detection=False,  detector_backend=\"mtcnn\", silent=True)\n",
    "            \n",
    "        # Using the index of the primary face (takes up most area) in the image\n",
    "        index =  FindObjWithLargestArea(objs)\n",
    "\n",
    "        # Cropping the image to only include the face\n",
    "        img_area = objs[index]['region']\n",
    "        x = img_area['x']\n",
    "        y = img_area['y']\n",
    "        width = img_area['x'] + img_area['w']\n",
    "        height = img_area['y'] + img_area['h']\n",
    "        faceImg = image[y:height, x:width]\n",
    "\n",
    "        transformed_image = trans(faceImg)\n",
    "        transformed_image = transformed_image.view(1, 3, 224, 224) \n",
    "        transformed_image = transformed_image.to(\"cpu\")\n",
    "\n",
    "        outputs = fairFaceModel(transformed_image)\n",
    "        outputs = outputs.cpu().detach().numpy()\n",
    "        outputs = np.squeeze(outputs)\n",
    "\n",
    "        # Retrieving the confidence values for each label\n",
    "        gender_outputs = outputs[7:9]\n",
    "        age_outputs = outputs[9:18]\n",
    "\n",
    "        # This array has probabilities for east asian and southeast asian, so we need to combine them\n",
    "        race_outputs = outputs[:7]\n",
    "        # Their values are stored in index 3 and 4, so we will take the average of these two values and store at index 3\n",
    "        race_outputs[3] = np.mean(race_outputs[3:5])\n",
    "        # Now we remove the extra value at index 4\n",
    "        race_outputs = np.delete(race_outputs, 4)\n",
    "\n",
    "        # Calculating the confidence values for each label\n",
    "        race_score = np.exp(race_outputs) / np.sum(np.exp(race_outputs))\n",
    "        gender_score = np.exp(gender_outputs) / np.sum(np.exp(gender_outputs))\n",
    "        age_score = np.exp(age_outputs) / np.sum(np.exp(age_outputs))\n",
    "\n",
    "        # Setting the appropriate scores for each category\n",
    "        for gender in [\"man\", \"woman\"]:\n",
    "            gender_mapping[gender] = gender_score[gender_mapping[gender]]*100\n",
    "\n",
    "        for race in [\"white\", \"black\", \"latino hispanic\", \"asian\", \"indian\", \"middle eastern\"]:\n",
    "            race_mapping[race] = race_score[race_mapping[race]]*100\n",
    "\n",
    "        for age_range in [\"0-2\",\"3-9\",\"10-19\",\"20-29\",\"30-39\",\"40-49\",\"50-59\",\"60-69\",\"70+\"]:\n",
    "            age_mapping[age_range] = age_score[age_mapping[age_range]]*100\n",
    "\n",
    "        # Determing the label with the highest confidence value\n",
    "        gender_label = max(gender_mapping, key=gender_mapping.get)\n",
    "        race_label = max(race_mapping, key=race_mapping.get)\n",
    "        age_label = max(age_mapping, key=age_mapping.get)\n",
    "\n",
    "        ImageInfo = {\"age\":age_label, \"gender\":gender_label, \"race\":race_label}\n",
    "        imageConfidenceData = {\"race\":race_mapping, \"gender\":gender_mapping, \"age\":age_mapping}\n",
    "        FairFaceDict[image_index] = [faceImg, ImageInfo, imageConfidenceData]\n",
    "\n",
    "        # Update the progress bar\n",
    "        progress_bar.update(1)\n",
    "    return FairFaceDict\n"
   ]
  },
  {
   "cell_type": "markdown",
   "metadata": {},
   "source": [
    "# Testing Pipeline with FairFace Model"
   ]
  },
  {
   "cell_type": "code",
   "execution_count": 117,
   "metadata": {},
   "outputs": [
    {
     "name": "stdout",
     "output_type": "stream",
     "text": [
      "['0.jpg', '1.jpg', '2.jpg', '3.jpg', '4.jpg', '5.jpg', '6.jpg', '7.jpg', '8.jpg', '9.jpg', '10.jpg', '11.jpg', '12.jpg', '13.jpg', '14.jpg', '15.jpg', '16.jpg', '17.jpg', '18.jpg', '19.jpg', '20.jpg', '21.jpg', '22.jpg', '23.jpg', '24.jpg', '25.jpg', '26.jpg', '27.jpg', '28.jpg', '29.jpg', '30.jpg', '31.jpg', '32.jpg', '33.jpg', '34.jpg', '35.jpg', '36.jpg', '37.jpg', '38.jpg', '39.jpg', '40.jpg', '41.jpg', '42.jpg', '43.jpg', '44.jpg', '45.jpg', '46.jpg', '47.jpg', '48.jpg', '49.jpg', '50.jpg', '51.jpg', '52.jpg', '53.jpg', '54.jpg', '55.jpg', '56.jpg', '57.jpg', '58.jpg', '59.jpg', '60.jpg', '61.jpg', '62.jpg', '63.jpg', '64.jpg', '65.jpg', '66.jpg', '67.jpg', '68.jpg', '69.jpg', '70.jpg', '71.jpg', '72.jpg', '73.jpg', '74.jpg', '75.jpg', '76.jpg', '77.jpg', '78.jpg', '79.jpg', '80.jpg', '81.jpg', '82.jpg', '83.jpg', '84.jpg', '85.jpg', '86.jpg', '87.jpg', '88.jpg', '89.jpg', '90.jpg', '91.jpg', '92.jpg', '93.jpg', '94.jpg', '95.jpg', '96.jpg']\n"
     ]
    },
    {
     "name": "stdout",
     "output_type": "stream",
     "text": [
      "\n",
      "0: 480x640 1 person, 399.1ms\n",
      "Speed: 29.0ms preprocess, 399.1ms inference, 3.0ms postprocess per image at shape (1, 3, 480, 640)\n",
      "\n",
      "0: 640x640 1 person, 409.9ms\n",
      "Speed: 7.0ms preprocess, 409.9ms inference, 4.0ms postprocess per image at shape (1, 3, 640, 640)\n",
      "\n",
      "0: 480x640 1 person, 376.1ms\n",
      "Speed: 13.0ms preprocess, 376.1ms inference, 8.0ms postprocess per image at shape (1, 3, 480, 640)\n",
      "\n",
      "0: 640x448 1 person, 352.9ms\n",
      "Speed: 14.0ms preprocess, 352.9ms inference, 3.0ms postprocess per image at shape (1, 3, 640, 448)\n",
      "\n",
      "0: 448x640 1 person, 364.1ms\n",
      "Speed: 15.0ms preprocess, 364.1ms inference, 3.0ms postprocess per image at shape (1, 3, 448, 640)\n",
      "\n",
      "0: 448x640 1 person, 341.1ms\n",
      "Speed: 15.0ms preprocess, 341.1ms inference, 2.0ms postprocess per image at shape (1, 3, 448, 640)\n",
      "\n",
      "0: 640x480 1 person, 473.6ms\n",
      "Speed: 14.0ms preprocess, 473.6ms inference, 4.0ms postprocess per image at shape (1, 3, 640, 480)\n",
      "\n",
      "0: 640x480 1 person, 429.1ms\n",
      "Speed: 17.0ms preprocess, 429.1ms inference, 3.0ms postprocess per image at shape (1, 3, 640, 480)\n",
      "\n",
      "0: 448x640 1 person, 332.1ms\n",
      "Speed: 15.0ms preprocess, 332.1ms inference, 3.0ms postprocess per image at shape (1, 3, 448, 640)\n",
      "\n",
      "0: 640x480 1 person, 352.1ms\n",
      "Speed: 15.0ms preprocess, 352.1ms inference, 3.0ms postprocess per image at shape (1, 3, 640, 480)\n",
      "\n",
      "0: 640x448 1 person, 450.1ms\n",
      "Speed: 14.0ms preprocess, 450.1ms inference, 5.0ms postprocess per image at shape (1, 3, 640, 448)\n",
      "\n",
      "0: 640x480 1 person, 364.1ms\n",
      "Speed: 15.0ms preprocess, 364.1ms inference, 5.0ms postprocess per image at shape (1, 3, 640, 480)\n",
      "\n",
      "0: 640x640 1 person, 376.1ms\n",
      "Speed: 8.0ms preprocess, 376.1ms inference, 4.0ms postprocess per image at shape (1, 3, 640, 640)\n",
      "\n",
      "0: 640x448 1 person, 350.1ms\n",
      "Speed: 15.0ms preprocess, 350.1ms inference, 3.0ms postprocess per image at shape (1, 3, 640, 448)\n",
      "\n",
      "0: 640x448 1 person, 331.1ms\n",
      "Speed: 15.0ms preprocess, 331.1ms inference, 3.0ms postprocess per image at shape (1, 3, 640, 448)\n",
      "\n",
      "0: 480x640 1 person, 351.1ms\n",
      "Speed: 19.0ms preprocess, 351.1ms inference, 3.0ms postprocess per image at shape (1, 3, 480, 640)\n",
      "\n",
      "0: 448x640 1 person, 325.1ms\n",
      "Speed: 17.0ms preprocess, 325.1ms inference, 2.0ms postprocess per image at shape (1, 3, 448, 640)\n",
      "\n",
      "0: 448x640 1 person, 335.1ms\n",
      "Speed: 15.0ms preprocess, 335.1ms inference, 2.0ms postprocess per image at shape (1, 3, 448, 640)\n",
      "\n",
      "0: 640x448 1 person, 326.1ms\n",
      "Speed: 18.5ms preprocess, 326.1ms inference, 4.0ms postprocess per image at shape (1, 3, 640, 448)\n",
      "\n",
      "0: 640x480 1 person, 333.0ms\n",
      "Speed: 14.9ms preprocess, 333.0ms inference, 3.0ms postprocess per image at shape (1, 3, 640, 480)\n",
      "\n",
      "0: 640x544 1 person, 333.0ms\n",
      "Speed: 11.0ms preprocess, 333.0ms inference, 5.0ms postprocess per image at shape (1, 3, 640, 544)\n",
      "\n",
      "0: 640x640 1 person, 363.1ms\n",
      "Speed: 7.9ms preprocess, 363.1ms inference, 4.0ms postprocess per image at shape (1, 3, 640, 640)\n",
      "\n",
      "0: 384x640 1 person, 411.8ms\n",
      "Speed: 14.1ms preprocess, 411.8ms inference, 2.0ms postprocess per image at shape (1, 3, 384, 640)\n",
      "\n",
      "0: 640x448 1 person, 385.1ms\n",
      "Speed: 16.0ms preprocess, 385.1ms inference, 2.0ms postprocess per image at shape (1, 3, 640, 448)\n",
      "\n",
      "0: 640x640 1 person, 395.1ms\n",
      "Speed: 8.0ms preprocess, 395.1ms inference, 5.0ms postprocess per image at shape (1, 3, 640, 640)\n",
      "\n",
      "0: 640x640 1 person, 409.1ms\n",
      "Speed: 8.0ms preprocess, 409.1ms inference, 5.0ms postprocess per image at shape (1, 3, 640, 640)\n",
      "\n",
      "0: 640x480 1 person, 387.1ms\n",
      "Speed: 19.0ms preprocess, 387.1ms inference, 3.0ms postprocess per image at shape (1, 3, 640, 480)\n",
      "\n",
      "0: 640x448 1 person, 352.1ms\n",
      "Speed: 29.0ms preprocess, 352.1ms inference, 3.0ms postprocess per image at shape (1, 3, 640, 448)\n",
      "\n",
      "0: 640x640 1 person, 407.1ms\n",
      "Speed: 7.0ms preprocess, 407.1ms inference, 4.0ms postprocess per image at shape (1, 3, 640, 640)\n",
      "\n",
      "0: 640x480 1 person, 361.1ms\n",
      "Speed: 14.0ms preprocess, 361.1ms inference, 4.0ms postprocess per image at shape (1, 3, 640, 480)\n",
      "\n",
      "0: 640x448 1 person, 399.1ms\n",
      "Speed: 16.0ms preprocess, 399.1ms inference, 3.0ms postprocess per image at shape (1, 3, 640, 448)\n",
      "\n",
      "0: 480x640 1 person, 552.1ms\n",
      "Speed: 19.0ms preprocess, 552.1ms inference, 5.0ms postprocess per image at shape (1, 3, 480, 640)\n",
      "\n",
      "0: 640x448 1 person, 430.1ms\n",
      "Speed: 16.0ms preprocess, 430.1ms inference, 3.0ms postprocess per image at shape (1, 3, 640, 448)\n",
      "\n",
      "0: 640x448 1 person, 330.1ms\n",
      "Speed: 15.0ms preprocess, 330.1ms inference, 3.0ms postprocess per image at shape (1, 3, 640, 448)\n",
      "\n",
      "0: 640x448 1 person, 320.1ms\n",
      "Speed: 14.0ms preprocess, 320.1ms inference, 3.0ms postprocess per image at shape (1, 3, 640, 448)\n",
      "\n",
      "0: 640x416 1 person, 336.1ms\n",
      "Speed: 16.0ms preprocess, 336.1ms inference, 3.0ms postprocess per image at shape (1, 3, 640, 416)\n",
      "\n",
      "0: 640x448 1 person, 341.1ms\n",
      "Speed: 15.0ms preprocess, 341.1ms inference, 2.0ms postprocess per image at shape (1, 3, 640, 448)\n",
      "\n",
      "0: 448x640 1 person, 330.1ms\n",
      "Speed: 14.0ms preprocess, 330.1ms inference, 3.0ms postprocess per image at shape (1, 3, 448, 640)\n",
      "\n",
      "0: 640x416 1 person, 311.1ms\n",
      "Speed: 13.0ms preprocess, 311.1ms inference, 2.0ms postprocess per image at shape (1, 3, 640, 416)\n",
      "\n",
      "0: 640x640 1 person, 378.1ms\n",
      "Speed: 8.0ms preprocess, 378.1ms inference, 4.0ms postprocess per image at shape (1, 3, 640, 640)\n",
      "\n",
      "0: 640x448 1 person, 336.1ms\n",
      "Speed: 14.0ms preprocess, 336.1ms inference, 3.0ms postprocess per image at shape (1, 3, 640, 448)\n",
      "\n",
      "0: 640x448 1 person, 325.1ms\n",
      "Speed: 14.0ms preprocess, 325.1ms inference, 2.0ms postprocess per image at shape (1, 3, 640, 448)\n",
      "\n",
      "0: 640x512 1 person, 338.1ms\n",
      "Speed: 14.0ms preprocess, 338.1ms inference, 3.0ms postprocess per image at shape (1, 3, 640, 512)\n",
      "\n",
      "0: 384x640 1 person, 364.1ms\n",
      "Speed: 14.0ms preprocess, 364.1ms inference, 1.0ms postprocess per image at shape (1, 3, 384, 640)\n",
      "\n",
      "0: 640x448 1 person, 376.1ms\n",
      "Speed: 15.0ms preprocess, 376.1ms inference, 2.0ms postprocess per image at shape (1, 3, 640, 448)\n",
      "\n",
      "0: 640x512 1 person, 392.1ms\n",
      "Speed: 16.0ms preprocess, 392.1ms inference, 3.0ms postprocess per image at shape (1, 3, 640, 512)\n",
      "\n",
      "0: 640x640 1 person, 401.1ms\n",
      "Speed: 9.0ms preprocess, 401.1ms inference, 4.0ms postprocess per image at shape (1, 3, 640, 640)\n",
      "\n",
      "0: 448x640 1 person, 332.1ms\n",
      "Speed: 15.0ms preprocess, 332.1ms inference, 3.0ms postprocess per image at shape (1, 3, 448, 640)\n",
      "\n",
      "0: 640x640 1 person, 462.1ms\n",
      "Speed: 7.0ms preprocess, 462.1ms inference, 4.0ms postprocess per image at shape (1, 3, 640, 640)\n",
      "\n",
      "0: 640x448 1 person, 341.1ms\n",
      "Speed: 15.0ms preprocess, 341.1ms inference, 3.0ms postprocess per image at shape (1, 3, 640, 448)\n",
      "\n",
      "0: 640x640 1 person, 429.1ms\n",
      "Speed: 8.0ms preprocess, 429.1ms inference, 4.0ms postprocess per image at shape (1, 3, 640, 640)\n",
      "\n",
      "0: 640x640 1 person, 522.1ms\n",
      "Speed: 8.0ms preprocess, 522.1ms inference, 5.0ms postprocess per image at shape (1, 3, 640, 640)\n",
      "\n",
      "0: 448x640 1 person, 379.1ms\n",
      "Speed: 16.0ms preprocess, 379.1ms inference, 2.0ms postprocess per image at shape (1, 3, 448, 640)\n",
      "\n",
      "0: 448x640 1 person, 391.1ms\n",
      "Speed: 16.0ms preprocess, 391.1ms inference, 4.0ms postprocess per image at shape (1, 3, 448, 640)\n",
      "\n",
      "0: 640x448 1 person, 380.1ms\n",
      "Speed: 17.0ms preprocess, 380.1ms inference, 3.0ms postprocess per image at shape (1, 3, 640, 448)\n",
      "\n",
      "0: 640x416 1 person, 346.1ms\n",
      "Speed: 14.0ms preprocess, 346.1ms inference, 3.0ms postprocess per image at shape (1, 3, 640, 416)\n",
      "\n",
      "0: 640x448 1 person, 323.1ms\n",
      "Speed: 16.0ms preprocess, 323.1ms inference, 2.0ms postprocess per image at shape (1, 3, 640, 448)\n",
      "\n",
      "0: 640x608 1 person, 507.1ms\n",
      "Speed: 7.0ms preprocess, 507.1ms inference, 5.0ms postprocess per image at shape (1, 3, 640, 608)\n",
      "\n",
      "0: 576x640 1 person, 487.1ms\n",
      "Speed: 7.0ms preprocess, 487.1ms inference, 4.0ms postprocess per image at shape (1, 3, 576, 640)\n",
      "\n",
      "0: 640x544 1 person, 432.1ms\n",
      "Speed: 12.0ms preprocess, 432.1ms inference, 3.0ms postprocess per image at shape (1, 3, 640, 544)\n",
      "\n",
      "0: 640x544 1 person, 340.5ms\n",
      "Speed: 12.0ms preprocess, 340.5ms inference, 3.0ms postprocess per image at shape (1, 3, 640, 544)\n",
      "\n",
      "0: 512x640 1 person, 391.1ms\n",
      "Speed: 14.0ms preprocess, 391.1ms inference, 3.9ms postprocess per image at shape (1, 3, 512, 640)\n",
      "\n",
      "0: 448x640 1 person, 372.1ms\n",
      "Speed: 17.0ms preprocess, 372.1ms inference, 3.0ms postprocess per image at shape (1, 3, 448, 640)\n",
      "\n",
      "0: 640x448 1 person, 403.9ms\n",
      "Speed: 15.0ms preprocess, 403.9ms inference, 2.0ms postprocess per image at shape (1, 3, 640, 448)\n",
      "\n",
      "0: 640x448 1 person, 369.7ms\n",
      "Speed: 16.5ms preprocess, 369.7ms inference, 3.0ms postprocess per image at shape (1, 3, 640, 448)\n",
      "\n",
      "0: 640x576 1 person, 478.3ms\n",
      "Speed: 7.0ms preprocess, 478.3ms inference, 4.0ms postprocess per image at shape (1, 3, 640, 576)\n",
      "\n",
      "0: 640x448 1 person, 335.3ms\n",
      "Speed: 15.0ms preprocess, 335.3ms inference, 2.9ms postprocess per image at shape (1, 3, 640, 448)\n",
      "\n",
      "0: 640x640 1 person, 388.1ms\n",
      "Speed: 8.0ms preprocess, 388.1ms inference, 5.0ms postprocess per image at shape (1, 3, 640, 640)\n",
      "\n",
      "0: 448x640 1 person, 338.8ms\n",
      "Speed: 18.9ms preprocess, 338.8ms inference, 3.0ms postprocess per image at shape (1, 3, 448, 640)\n",
      "\n",
      "0: 640x448 1 person, 438.3ms\n",
      "Speed: 17.0ms preprocess, 438.3ms inference, 2.0ms postprocess per image at shape (1, 3, 640, 448)\n",
      "\n",
      "0: 640x320 1 person, 408.1ms\n",
      "Speed: 14.0ms preprocess, 408.1ms inference, 2.0ms postprocess per image at shape (1, 3, 640, 320)\n",
      "\n",
      "0: 608x640 1 person, 523.9ms\n",
      "Speed: 7.0ms preprocess, 523.9ms inference, 5.2ms postprocess per image at shape (1, 3, 608, 640)\n",
      "\n",
      "0: 640x448 1 person, 311.1ms\n",
      "Speed: 14.0ms preprocess, 311.1ms inference, 2.0ms postprocess per image at shape (1, 3, 640, 448)\n",
      "\n",
      "0: 640x448 1 person, 316.1ms\n",
      "Speed: 14.0ms preprocess, 316.1ms inference, 2.0ms postprocess per image at shape (1, 3, 640, 448)\n",
      "\n",
      "0: 448x640 1 person, 329.1ms\n",
      "Speed: 13.0ms preprocess, 329.1ms inference, 3.0ms postprocess per image at shape (1, 3, 448, 640)\n",
      "\n",
      "0: 448x640 1 person, 316.1ms\n",
      "Speed: 12.0ms preprocess, 316.1ms inference, 3.0ms postprocess per image at shape (1, 3, 448, 640)\n",
      "\n",
      "0: 448x640 1 person, 345.6ms\n",
      "Speed: 14.0ms preprocess, 345.6ms inference, 2.0ms postprocess per image at shape (1, 3, 448, 640)\n",
      "\n",
      "0: 640x640 1 person, 362.4ms\n",
      "Speed: 8.0ms preprocess, 362.4ms inference, 4.0ms postprocess per image at shape (1, 3, 640, 640)\n",
      "\n",
      "0: 640x448 1 person, 324.3ms\n",
      "Speed: 15.0ms preprocess, 324.3ms inference, 2.0ms postprocess per image at shape (1, 3, 640, 448)\n",
      "\n",
      "0: 480x640 1 person, 433.0ms\n",
      "Speed: 15.0ms preprocess, 433.0ms inference, 2.0ms postprocess per image at shape (1, 3, 480, 640)\n",
      "\n",
      "0: 512x640 1 person, 390.6ms\n",
      "Speed: 14.0ms preprocess, 390.6ms inference, 3.0ms postprocess per image at shape (1, 3, 512, 640)\n",
      "\n",
      "0: 640x384 1 person, 415.1ms\n",
      "Speed: 14.0ms preprocess, 415.1ms inference, 2.0ms postprocess per image at shape (1, 3, 640, 384)\n",
      "\n",
      "0: 640x512 1 person, 482.5ms\n",
      "Speed: 13.0ms preprocess, 482.5ms inference, 5.6ms postprocess per image at shape (1, 3, 640, 512)\n",
      "\n",
      "0: 640x640 1 person, 414.9ms\n",
      "Speed: 7.0ms preprocess, 414.9ms inference, 5.0ms postprocess per image at shape (1, 3, 640, 640)\n",
      "\n",
      "0: 448x640 1 person, 355.5ms\n",
      "Speed: 19.0ms preprocess, 355.5ms inference, 2.5ms postprocess per image at shape (1, 3, 448, 640)\n",
      "\n",
      "0: 640x640 1 person, 496.1ms\n",
      "Speed: 7.5ms preprocess, 496.1ms inference, 5.0ms postprocess per image at shape (1, 3, 640, 640)\n",
      "\n",
      "0: 640x544 1 person, 352.6ms\n",
      "Speed: 11.0ms preprocess, 352.6ms inference, 4.0ms postprocess per image at shape (1, 3, 640, 544)\n",
      "\n",
      "0: 640x480 1 person, 384.0ms\n",
      "Speed: 14.0ms preprocess, 384.0ms inference, 3.0ms postprocess per image at shape (1, 3, 640, 480)\n",
      "\n",
      "0: 448x640 1 person, 300.9ms\n",
      "Speed: 14.0ms preprocess, 300.9ms inference, 2.0ms postprocess per image at shape (1, 3, 448, 640)\n",
      "\n",
      "0: 640x640 1 person, 328.1ms\n",
      "Speed: 7.0ms preprocess, 328.1ms inference, 4.0ms postprocess per image at shape (1, 3, 640, 640)\n",
      "\n",
      "0: 640x416 1 person, 360.1ms\n",
      "Speed: 13.0ms preprocess, 360.1ms inference, 2.0ms postprocess per image at shape (1, 3, 640, 416)\n",
      "\n",
      "0: 288x640 1 person, 359.1ms\n",
      "Speed: 11.0ms preprocess, 359.1ms inference, 1.0ms postprocess per image at shape (1, 3, 288, 640)\n",
      "\n",
      "0: 640x640 1 person, 346.1ms\n",
      "Speed: 7.0ms preprocess, 346.1ms inference, 4.0ms postprocess per image at shape (1, 3, 640, 640)\n",
      "\n",
      "0: 640x448 1 person, 298.2ms\n",
      "Speed: 13.0ms preprocess, 298.2ms inference, 2.0ms postprocess per image at shape (1, 3, 640, 448)\n",
      "\n",
      "0: 640x640 1 person, 328.4ms\n",
      "Speed: 7.0ms preprocess, 328.4ms inference, 4.0ms postprocess per image at shape (1, 3, 640, 640)\n",
      "\n",
      "0: 512x640 1 person, 311.6ms\n",
      "Speed: 15.2ms preprocess, 311.6ms inference, 2.0ms postprocess per image at shape (1, 3, 512, 640)\n",
      "\n",
      "0: 544x640 1 person, 360.1ms\n",
      "Speed: 9.0ms preprocess, 360.1ms inference, 3.0ms postprocess per image at shape (1, 3, 544, 640)\n"
     ]
    },
    {
     "name": "stderr",
     "output_type": "stream",
     "text": [
      "Processing: 100%|██████████| 97/97 [08:41<00:00,  5.38s/images]\n"
     ]
    }
   ],
   "source": [
    "# Loading the images to be processed\n",
    "list_of_images = LoadImagesFromFolder(\"C:\\\\Users\\\\User\\\\FYP\\\\DownloadedImages\\\\LAION-400M-GoogleForm-Images\\\\Nurse-97\")\n",
    "\n",
    "# Setting the human detection confidence threshold\n",
    "confidence_threshold = 0.5\n",
    "# Loading the YOLO model. This is downloaded automatically when run for the first time.\n",
    "model = YOLO('yolov8n.pt')\n",
    "# Retrieving the images of people detected in the images, the distance between the person and image center and the space taken up by the person\n",
    "people_images, dist_bet_centers, space_taken_up = YOLODetectPerson(model, list_of_images, confidence_threshold)\n",
    "\n",
    "# Loading the FairFace model, the res34_fair_align_multi_7_20190809.pt is used as it detects 7 distinct races as opposed to the other model.\n",
    "model_fair_7 = torchvision.models.resnet34(pretrained=True)\n",
    "model_fair_7.fc = nn.Linear(model_fair_7.fc.in_features, 18)\n",
    "model_fair_7.load_state_dict(torch.load('C:\\\\Users\\\\User\\\\FYP\\\\Testing\\\\res34_fair_align_multi_7_20190809.pt', map_location=torch.device('cpu')))\n",
    "model_fair_7 = model_fair_7.to(\"cpu\")\n",
    "model_fair_7.eval()\n",
    "# Processing the images using the FairFace model\n",
    "FairFaceDict = FairFaceProcess(people_images, model_fair_7)\n",
    "# Adding the distance between centers and space taken up by the person to the dictionary so that it contains all relevant information.\n",
    "for index in FairFaceDict.keys():\n",
    "    tmp = {\"center_dist\":dist_bet_centers[index], \"space\": space_taken_up[index]}\n",
    "    FairFaceDict[index][1].update(tmp)\n",
    "\n",
    "# Saving the metrics to disk\n",
    "metric_save_directoy = \"FairFaceShit\"#\"Doctor(DPM++ 2M Karras)\"\n",
    "# sub_folder_path = \"C:\\\\Users\\\\User\\\\FYP\\\\DownloadedImages\\\\LAION-400M\\\\doctorImageSubsetsForProcessing\\\\SubSet_1_OnePerson\\\\FairFaceImagesMetrics\"\n",
    "save_metrics = True\n",
    "if save_metrics == True:\n",
    "    # Checking if the folder exists, and if not, creating it\n",
    "    sub_folder_path = Path(\"..\\\\DownloadedImages\\\\\"+CamelCase(metric_save_directoy))\n",
    "    if not sub_folder_path.exists():\n",
    "        sub_folder_path.mkdir()\n",
    "\n",
    "    # Checking if the folder exists, and if not, creating it\n",
    "    sub_folder_path = Path(\"..\\\\DownloadedImages\\\\\"+CamelCase(metric_save_directoy)+\"\\\\FairFaceImagesMetrics\")\n",
    "    if not sub_folder_path.exists():\n",
    "        sub_folder_path.mkdir()\n",
    "\n",
    "    # Saving the general info metrics to csv file\n",
    "    SaveMetricsCSV(sub_folder_path, FairFaceDict)\n",
    "\n",
    "    # Saving the cropped images used by the DeepFace API to disk\n",
    "    for imgIndex in range(len(FairFaceDict.items())):\n",
    "        save_path = os.path.join(sub_folder_path,str(imgIndex)+\".jpg\")\n",
    "        cv2.imwrite(save_path, cv2.cvtColor(FairFaceDict[imgIndex][0], cv2.COLOR_BGR2RGB))"
   ]
  },
  {
   "cell_type": "markdown",
   "metadata": {},
   "source": [
    "# Metric Display"
   ]
  },
  {
   "cell_type": "code",
   "execution_count": 16,
   "metadata": {},
   "outputs": [],
   "source": [
    "def MetricGenderDisplay(data, specific_race=None, specific_emotion=None, specific_age=None):\n",
    "    \"\"\" \n",
    "    Description:\n",
    "    This function serves to display a bargraph regarding the gender metrics in relation to the DeepFace data passed. \n",
    "    \n",
    "    Parameters:\n",
    "    data (dict) - Dictionary containing the information relevant to each image. \n",
    "    specific_race (str) - Specific race to be considered, if any. Valid values [\"asian\", \"white\", \"middle eastern\", \"indian\", \"latino\", \"black\", \"latino hispanic\"]\n",
    "    specific_emotion (str) - Specific emotion to be considered, if any. Valid values [\"angry\", \"fear\", \"neutral\", \"sad\", \"disgust\", \"happy\", \"surprise\"]\n",
    "    specific_age (int) - Specific age to be considered, if any.\n",
    "\n",
    "    Returns:\n",
    "    None.\n",
    "    \"\"\"\n",
    "    \n",
    "    # Gender labels - assumes only two genders\n",
    "    genders = ['Male', 'Female']\n",
    "    count = [0, 0]\n",
    "    \n",
    "    # Looping through the instances in the data\n",
    "    for instance in data:\n",
    "        \n",
    "        # Enforcing race constraints \n",
    "        if specific_race != None:\n",
    "            if data[instance][1][\"race\"].lower() != specific_race.lower():\n",
    "                continue\n",
    "          \n",
    "         # Enforcing emotion constraints \n",
    "        if specific_emotion != None:\n",
    "            if data[instance][1][\"emotion\"].lower() != specific_emotion.lower():\n",
    "                continue\n",
    "        \n",
    "        # Enforcing age constraints \n",
    "        if specific_age != None:\n",
    "            if data[instance][1][\"age\"] != specific_age:\n",
    "                continue\n",
    "        \n",
    "        # Retrieving instance gender\n",
    "        mGender = data[instance][1][\"gender\"].lower()\n",
    "        \n",
    "        # Incrementing counters\n",
    "        if mGender == \"male\" or mGender == \"man\":\n",
    "            count[0]+=1\n",
    "        elif mGender == \"female\"  or mGender == \"woman\":\n",
    "            count[1]+=1\n",
    "        else:\n",
    "            print(\"Invalid Gender Detected: \",mGender)\n",
    "    \n",
    "    # Creating bar chart\n",
    "    plt.bar(genders, count)\n",
    "\n",
    "    # Adding labels and title\n",
    "    plt.xlabel('Gender')\n",
    "    plt.ylabel('Count')\n",
    "    plt.title('Male vs. Female Distribution')\n",
    "\n",
    "    # Adding annotations with values above each bar\n",
    "    for i, value in enumerate(count):\n",
    "        # Calculate y-coordinate slightly above the bar\n",
    "        y_pos = value + 0.1\n",
    "\n",
    "        # Add text label at calculated position\n",
    "        plt.text(i, y_pos, str(value), ha='center', va='bottom')\n",
    "\n",
    "    # Showing the plot\n",
    "    plt.show()"
   ]
  },
  {
   "cell_type": "code",
   "execution_count": 17,
   "metadata": {},
   "outputs": [],
   "source": [
    "def MetricRaceDisplay(data, specific_gender=None, specific_emotion=None, specific_age=None):\n",
    "    \"\"\" \n",
    "    Description:\n",
    "    This function serves to display a bargraph regarding the race metrics in relation to the DeepFace data passed. \n",
    "    \n",
    "    Parameters:\n",
    "    data (dict) - Dictionary containing the information relevant to each image.\n",
    "    specific_gender (str) - Specific gender to be considered, if any. Valid values [\"male\", \"female\"]\n",
    "    specific_emotion (str) - Specific emotion to be considered, if any. Valid values [\"angry\", \"fear\", \"neutral\", \"sad\", \"disgust\", \"happy\", \"surprise\"]\n",
    "    specific_age (int) - Specific age to be considered, if any.\n",
    "\n",
    "    Returns:\n",
    "    None.\n",
    "    \"\"\"\n",
    "    \n",
    "    # Race labels - assumes races detected by DeepFace\n",
    "    races = [\"asian\", \"white\", \"middle eastern\", \"indian\", \"latino\", \"black\", \"latino hispanic\"]\n",
    "    count = [0,0,0,0,0,0,0] \n",
    "\n",
    "    # Looping through the instances in the data\n",
    "    for instance in data:\n",
    "        \n",
    "        # Enforcing gender constraints \n",
    "        if specific_gender != None:\n",
    "            if data[instance][1][\"gender\"].lower() != specific_gender.lower():\n",
    "                continue\n",
    "                \n",
    "        # Enforcing emotion constraints \n",
    "        if specific_emotion != None:\n",
    "            if data[instance][1][\"emotion\"].lower() != specific_emotion.lower():\n",
    "                continue\n",
    "                \n",
    "        # Enforcing age constraints         \n",
    "        if specific_age != None:\n",
    "            if data[instance][1][\"age\"] != specific_age:\n",
    "                continue\n",
    "        \n",
    "        # Retrieving instance race\n",
    "        mRace = data[instance][1][\"race\"].lower()\n",
    "        \n",
    "        # Incrementing counters\n",
    "        if mRace == \"asian\":\n",
    "            count[0]+=1\n",
    "        elif mRace == \"white\":\n",
    "            count[1]+=1\n",
    "        elif mRace == \"middle eastern\":\n",
    "            count[2]+=1\n",
    "        elif mRace == \"indian\":\n",
    "            count[3]+=1\n",
    "        elif mRace == \"latino\":\n",
    "            count[4]+=1\n",
    "        elif mRace == \"black\":\n",
    "            count[5]+=1\n",
    "        elif mRace == \"latino hispanic\":\n",
    "            count[6]+=1    \n",
    "        else:\n",
    "            print(\"Invalid Race Detected: \", mRace)\n",
    "\n",
    "    # Creating bar chart\n",
    "    plt.bar(races, count)\n",
    "\n",
    "    # Adding labels and title\n",
    "    plt.xlabel('Races')\n",
    "    plt.ylabel('Count')\n",
    "    plt.title('Race Distribution')\n",
    "\n",
    "    # Adding annotations with values above each bar\n",
    "    for i, value in enumerate(count):\n",
    "        # Calculate y-coordinate slightly above the bar\n",
    "        y_pos = value + 0.1\n",
    "\n",
    "        # Add text label at calculated position\n",
    "        plt.text(i, y_pos, str(value), ha='center', va='bottom')\n",
    "\n",
    "    # Showing the plot\n",
    "    plt.show()"
   ]
  },
  {
   "cell_type": "code",
   "execution_count": 18,
   "metadata": {},
   "outputs": [],
   "source": [
    "def MetricAgeDisplay(data, specific_gender=None, specific_race=None, specific_emotion=None):\n",
    "    \"\"\" \n",
    "    Description:\n",
    "    This function serves to display a bargraph regarding the age metrics in relation to the DeepFace data passed. \n",
    "    \n",
    "    Parameters:\n",
    "    data (dict) - Dictionary containing the information relevant to each image.\n",
    "    specific_gender (str) - Specific gender to be considered, if any. Valid values [\"male\", \"female\"]\n",
    "    specific_race (str) - Specific race to be considered, if any. Valid values [\"asian\", \"white\", \"middle eastern\", \"indian\", \"latino\", \"black\", \"latino hispanic\"]\n",
    "    specific_emotion (str) - Specific emotion to be considered, if any. Valid values [\"angry\", \"fear\", \"neutral\", \"sad\", \"disgust\", \"happy\", \"surprise\"]\n",
    "\n",
    "    Returns:\n",
    "    None.\n",
    "    \"\"\"\n",
    "    \n",
    "    # Age group labels seperated in intervals of ten\n",
    "    age_groups = [\"0-2\",\"3-9\",\"10-19\",\"20-29\",\"30-39\",\"40-49\",\"50-59\",\"60-69\",\"70+\"]\n",
    "    count = [0,0,0,0,0,0,0,0,0] \n",
    "    \n",
    "    # Looping through the instances in the data\n",
    "    for instance in data:\n",
    "        \n",
    "        # Enforcing gender constraints \n",
    "        if specific_gender != None:\n",
    "            if data[instance][1][\"gender\"].lower() != specific_gender.lower():\n",
    "                continue\n",
    "                \n",
    "        # Enforcing race constraints          \n",
    "        if specific_race != None:\n",
    "            if data[instance][1][\"race\"].lower() != specific_race.lower():\n",
    "                continue\n",
    "                \n",
    "        # Enforcing emotion constraints         \n",
    "        if specific_emotion != None:\n",
    "            if data[instance][1][\"emotion\"].lower() != specific_emotion.lower():\n",
    "                continue\n",
    "    \n",
    "        # Retrieving instance age\n",
    "        mAge = data[instance][1][\"age\"]\n",
    "        \n",
    "        # Incrementing counters\n",
    "        for index, age_range in enumerate(age_groups):\n",
    "            if mAge == age_range:\n",
    "                count[index]+=1\n",
    "                break\n",
    "\n",
    "    # Creating bar chart\n",
    "    plt.bar(age_groups, count)\n",
    "    \n",
    "    # Adding labels and title\n",
    "    plt.xlabel('Age Group')\n",
    "    plt.ylabel('Count')\n",
    "    plt.title('Age Group Distribution')\n",
    "    \n",
    "    # Adding annotations with values above each bar\n",
    "    for i, value in enumerate(count):\n",
    "        # Calculate y-coordinate slightly above the bar\n",
    "        y_pos = value + 0.1\n",
    "\n",
    "        # Add text label at calculated position\n",
    "        plt.text(i, y_pos, str(value), ha='center', va='bottom')\n",
    "\n",
    "    # Showing the plot\n",
    "    plt.show()"
   ]
  },
  {
   "cell_type": "code",
   "execution_count": 19,
   "metadata": {},
   "outputs": [],
   "source": [
    "def ScatterPlotDisplay2D(data, x_axis_label, y_axis_label, specific_gender=None, specific_race=None, specific_emotion=None):\n",
    "    \"\"\" \n",
    "    Description:\n",
    "    This function serves to display a 2D scatter plot in relation to the DeepFace data passed.\n",
    "    x_axis_label/y_axis_label = \"age\"/\"race\"/\"emotion\"/\"gender\"\n",
    "    specific_age is not included as each data point only has a singular age \n",
    "    \n",
    "    Parameters:\n",
    "    data (dict) - Dictionary containing the information relevant to each image.\n",
    "    x_axis_label (str) - Specific parameter to plot along the x-axis. Valid values [\"age\", \"gender\", \"race\", \"emotion\"]\n",
    "    y_axis_label (str) - Specific parameter to plot along the y-axis. Valid values [\"age\", \"gender\", \"race\", \"emotion\"]\n",
    "    specific_gender (str) - Specific gender to be considered, if any.  Valid values [\"male\", \"female\"]\n",
    "    specific_race (str) - Specific race to be considered, if any. Valid values [\"asian\", \"white\", \"middle eastern\", \"indian\", \"latino\", \"black\", \"latino hispanic\"]\n",
    "    specific_age (int) - Specific age to be considered, if any.\n",
    "\n",
    "    Returns:\n",
    "    None.\n",
    "    \"\"\"\n",
    "    \n",
    "    x_values = []\n",
    "    y_values = []\n",
    "    colors = []\n",
    "\n",
    "    for instance in data:\n",
    "        if x_axis_label.lower() == \"age\":\n",
    "            x_values.append(data[instance][2][x_axis_label])\n",
    "        elif x_axis_label.lower() == \"gender\":\n",
    "            x_values.append(data[instance][2][x_axis_label][specific_gender.lower()])\n",
    "        elif x_axis_label.lower() == \"race\":\n",
    "            x_values.append(data[instance][2][x_axis_label][specific_race.lower()])\n",
    "        elif x_axis_label.lower() == \"emotion\":\n",
    "            x_values.append(data[instance][2][x_axis_label][specific_emotion.lower()])\n",
    "\n",
    "        if y_axis_label.lower() == \"age\":\n",
    "            y_values.append(data[instance][2][y_axis_label])\n",
    "        elif y_axis_label.lower() == \"gender\":\n",
    "            y_values.append(data[instance][2][y_axis_label][specific_gender.lower()])\n",
    "        elif y_axis_label.lower() == \"race\":\n",
    "            y_values.append(data[instance][2][y_axis_label][specific_race.lower()])\n",
    "        elif y_axis_label.lower() == \"emotion\":\n",
    "            y_values.append(data[instance][2][y_axis_label][specific_emotion.lower()])\n",
    "\n",
    "        colors.append(\"blue\")\n",
    "\n",
    "    plt.scatter(x_values, y_values, c=colors, s=8)\n",
    "    \n",
    "    # Add labels and title\n",
    "    x_axis_text = x_axis_label.capitalize()\n",
    "    if x_axis_label.lower() == \"gender\":\n",
    "        x_axis_text += \" (\"+ specific_gender +\") confidence score\"\n",
    "    elif x_axis_label.lower() == \"race\":\n",
    "        x_axis_text += \" (\"+ specific_race +\") confidence score\"\n",
    "    elif x_axis_label.lower() == \"emotion\":\n",
    "        x_axis_text += \" (\"+ specific_emotion +\") confidence score\"\n",
    "    \n",
    "    y_axis_text = y_axis_label.capitalize()\n",
    "    if y_axis_label.lower() == \"gender\":\n",
    "        y_axis_text += \" (\"+ specific_gender +\") confidence score\"\n",
    "    elif y_axis_label.lower() == \"race\":\n",
    "        y_axis_text += \" (\"+ specific_race +\") confidence score\"\n",
    "    elif y_axis_label.lower() == \"emotion\":\n",
    "        y_axis_text += \" (\"+ specific_emotion +\") confidence score\"\n",
    "\n",
    "    plt.xlabel(x_axis_text)\n",
    "    plt.ylabel(y_axis_text)\n",
    "    plt.title('Scatter Plot of Demographics')\n",
    "\n",
    "    # Show the plot\n",
    "    plt.show()"
   ]
  },
  {
   "cell_type": "code",
   "execution_count": 20,
   "metadata": {},
   "outputs": [],
   "source": [
    "def ScatterPlotDisplay3D(data, specific_gender=None, specific_race=None, specific_age=None):\n",
    "    \"\"\" \n",
    "    Description:\n",
    "    This function serves to display a 3D scatter plot in relation to the DeepFace data passed. The x-axis (gender), y-axis (race), z-axis (age)\n",
    "    \n",
    "    Parameters:\n",
    "    data (dict) - Dictionary containing the information relevant to each image.\n",
    "    specific_gender (str) - Specific gender to be considered, if any. Valid values [\"male\", \"female\"]\n",
    "    specific_race (str) - Specific race to be considered, if any. Valid values [\"asian\", \"white\", \"middle eastern\", \"indian\", \"latino\", \"black\", \"latino hispanic\"]\n",
    "\n",
    "    Returns:\n",
    "    None.\n",
    "    \"\"\"\n",
    "\n",
    "    x_values = []\n",
    "    y_values = []\n",
    "    z_values = []\n",
    "    colors = []\n",
    "\n",
    "    for instance in data:\n",
    "        x_values.append(data[instance][2][\"gender\"][specific_gender.lower()])\n",
    "        y_values.append(data[instance][2][\"race\"][specific_race.lower()])\n",
    "        z_values.append(data[instance][2][\"age\"][specific_age.lower()])\n",
    "        colors.append(\"blue\")\n",
    "\n",
    "    # Create the 3D scatter plot with interactivity\n",
    "    fig = px.scatter_3d(x=x_values, y=y_values, z=z_values)  \n",
    "    \n",
    "    # Add labels and title\n",
    "    x_axis_text = \"Gender (\"+specific_gender+\") confidence score\"\n",
    "    y_axis_text = \"Race (\"+specific_race+\") confidence score\"\n",
    "    z_axis_text = \"Age (\"+specific_age+\") confidence score\"\n",
    "\n",
    "    fig.update_layout(scene = {\n",
    "                    \"xaxis_title\":x_axis_text,\n",
    "                    \"yaxis_title\":y_axis_text,\n",
    "                    \"zaxis_title\":z_axis_text},\n",
    "                    margin={\"r\":20, \"b\":10, \"l\":10, \"t\":10})\n",
    "\n",
    "    # Show the interactive plot\n",
    "    fig.show()"
   ]
  },
  {
   "cell_type": "code",
   "execution_count": 104,
   "metadata": {},
   "outputs": [],
   "source": [
    "def MetricCenterDistanceDisplay(data,  category, type):\n",
    "    \"\"\" \n",
    "    Description:\n",
    "    This function serves to plot a graph showcasing the area taken up by the person in the image or their distance from the center.\n",
    "    \n",
    "    Parameters:\n",
    "    data (dict) - Dictionary containing the information relevant to each image.\n",
    "    distance_val_list (list) - List containing the distance between the centers of the image and the center of the bounding box in each image.\n",
    "    area_val_list (list) - List containing the percentage of the image taken up by the bounding box in each image.\n",
    "    category (str) - Specific parameter to plot along the x-axis. Valid values [\"age\", \"gender\", \"race\", \"emotion\"]\n",
    "    type (str) - Specific parameter to plot along the y-axis. Valid values [\"distance\", \"area\"]\n",
    "\n",
    "    Returns:\n",
    "    None.\n",
    "    \"\"\"\n",
    "\n",
    "    # Checking if the category is valid\n",
    "    if category not in ['age', 'gender', 'race']:\n",
    "        raise ValueError(\"Invalid value for category. It should be 'age', 'gender' or 'race'.\")\n",
    "    \n",
    "    # Checking if the type is valid\n",
    "    if type not in ['distance', 'area']:\n",
    "        raise ValueError(\"Invalid value for category. It should be 'distance', 'area'.\")\n",
    "    \n",
    "    # Assigning the correct list based on the type\n",
    "    if type == 'distance':\n",
    "        cat_value = \"center_dist\"  \n",
    "        yLabel = 'Distance From Center'\n",
    "    else:\n",
    "        cat_value = \"space\"  \n",
    "        yLabel = 'Person Area'\n",
    "\n",
    "    tmp = {}\n",
    "    for index in data:\n",
    "        if data[index][1][category] in tmp:\n",
    "            tmp[data[index][1][category]].append(float(data[index][1][cat_value]))\n",
    "        else:\n",
    "            tmp[data[index][1][category]] = [float(data[index][1][cat_value])]\n",
    "\n",
    "    # Iterating through key-value pairs\n",
    "    for key, values in tmp.items():\n",
    "        tmp[key] = statistics.median(values)\n",
    "\n",
    "    # Plotting the line\n",
    "    plt.plot(list(tmp.keys()),list(tmp.values()), color='red', marker='o', linestyle='solid')\n",
    "\n",
    "    # Adding labels and title\n",
    "    plt.ylabel(yLabel)\n",
    "    plt.xlabel(category.capitalize())\n",
    "    plt.title('Median '+yLabel+' - '+category.capitalize())\n",
    "\n",
    "    # Show the plot\n",
    "    plt.show()"
   ]
  },
  {
   "cell_type": "code",
   "execution_count": 158,
   "metadata": {},
   "outputs": [
    {
     "data": {
      "image/png": "[encoded data removed]",
      "text/plain": [
       "<Figure size 640x480 with 1 Axes>"
      ]
     },
     "metadata": {},
     "output_type": "display_data"
    },
    {
     "data": {
      "image/png": "[encoded data removed]",
      "text/plain": [
       "<Figure size 640x480 with 1 Axes>"
      ]
     },
     "metadata": {},
     "output_type": "display_data"
    },
    {
     "data": {
      "image/png": "[encoded data removed]",
      "text/plain": [
       "<Figure size 640x480 with 1 Axes>"
      ]
     },
     "metadata": {},
     "output_type": "display_data"
    },
    {
     "data": {
      "image/png": "[encoded data removed]",
      "text/plain": [
       "<Figure size 640x480 with 1 Axes>"
      ]
     },
     "metadata": {},
     "output_type": "display_data"
    },
    {
     "data": {
      "application/vnd.plotly.v1+json": {
       "config": {
        "plotlyServerURL": "https://plot.ly"
       },
       "data": [
        {
         "hovertemplate": "x=%{x}<br>y=%{y}<br>z=%{z}<extra></extra>",
         "legendgroup": "",
         "marker": {
          "color": "#636efa",
          "symbol": "circle"
         },
         "mode": "markers",
         "name": "",
         "scene": "scene",
         "showlegend": false,
         "type": "scatter3d",
         "x": [
          0.01147425573435612,
          99.99971985816956
         ],
         "y": [
          81.17226362228394,
          99.99489784240723
         ],
         "z": [
          1.0245642624795437,
          0.06405391613952816
         ]
        }
       ],
       "layout": {
        "legend": {
         "tracegroupgap": 0
        },
        "margin": {
         "b": 10,
         "l": 10,
         "r": 20,
         "t": 10
        },
        "scene": {
         "domain": {
          "x": [
           0,
           1
          ],
          "y": [
           0,
           1
          ]
         },
         "xaxis": {
          "title": {
           "text": "Gender (man) confidence score"
          }
         },
         "yaxis": {
          "title": {
           "text": "Race (white) confidence score"
          }
         },
         "zaxis": {
          "title": {
           "text": "Age (10-19) confidence score"
          }
         }
        },
        "template": {
         "data": {
          "bar": [
           {
            "error_x": {
             "color": "#2a3f5f"
            },
            "error_y": {
             "color": "#2a3f5f"
            },
            "marker": {
             "line": {
              "color": "#E5ECF6",
              "width": 0.5
             },
             "pattern": {
              "fillmode": "overlay",
              "size": 10,
              "solidity": 0.2
             }
            },
            "type": "bar"
           }
          ],
          "barpolar": [
           {
            "marker": {
             "line": {
              "color": "#E5ECF6",
              "width": 0.5
             },
             "pattern": {
              "fillmode": "overlay",
              "size": 10,
              "solidity": 0.2
             }
            },
            "type": "barpolar"
           }
          ],
          "carpet": [
           {
            "aaxis": {
             "endlinecolor": "#2a3f5f",
             "gridcolor": "white",
             "linecolor": "white",
             "minorgridcolor": "white",
             "startlinecolor": "#2a3f5f"
            },
            "baxis": {
             "endlinecolor": "#2a3f5f",
             "gridcolor": "white",
             "linecolor": "white",
             "minorgridcolor": "white",
             "startlinecolor": "#2a3f5f"
            },
            "type": "carpet"
           }
          ],
          "choropleth": [
           {
            "colorbar": {
             "outlinewidth": 0,
             "ticks": ""
            },
            "type": "choropleth"
           }
          ],
          "contour": [
           {
            "colorbar": {
             "outlinewidth": 0,
             "ticks": ""
            },
            "colorscale": [
             [
              0,
              "#0d0887"
             ],
             [
              0.1111111111111111,
              "#46039f"
             ],
             [
              0.2222222222222222,
              "#7201a8"
             ],
             [
              0.3333333333333333,
              "#9c179e"
             ],
             [
              0.4444444444444444,
              "#bd3786"
             ],
             [
              0.5555555555555556,
              "#d8576b"
             ],
             [
              0.6666666666666666,
              "#ed7953"
             ],
             [
              0.7777777777777778,
              "#fb9f3a"
             ],
             [
              0.8888888888888888,
              "#fdca26"
             ],
             [
              1,
              "#f0f921"
             ]
            ],
            "type": "contour"
           }
          ],
          "contourcarpet": [
           {
            "colorbar": {
             "outlinewidth": 0,
             "ticks": ""
            },
            "type": "contourcarpet"
           }
          ],
          "heatmap": [
           {
            "colorbar": {
             "outlinewidth": 0,
             "ticks": ""
            },
            "colorscale": [
             [
              0,
              "#0d0887"
             ],
             [
              0.1111111111111111,
              "#46039f"
             ],
             [
              0.2222222222222222,
              "#7201a8"
             ],
             [
              0.3333333333333333,
              "#9c179e"
             ],
             [
              0.4444444444444444,
              "#bd3786"
             ],
             [
              0.5555555555555556,
              "#d8576b"
             ],
             [
              0.6666666666666666,
              "#ed7953"
             ],
             [
              0.7777777777777778,
              "#fb9f3a"
             ],
             [
              0.8888888888888888,
              "#fdca26"
             ],
             [
              1,
              "#f0f921"
             ]
            ],
            "type": "heatmap"
           }
          ],
          "heatmapgl": [
           {
            "colorbar": {
             "outlinewidth": 0,
             "ticks": ""
            },
            "colorscale": [
             [
              0,
              "#0d0887"
             ],
             [
              0.1111111111111111,
              "#46039f"
             ],
             [
              0.2222222222222222,
              "#7201a8"
             ],
             [
              0.3333333333333333,
              "#9c179e"
             ],
             [
              0.4444444444444444,
              "#bd3786"
             ],
             [
              0.5555555555555556,
              "#d8576b"
             ],
             [
              0.6666666666666666,
              "#ed7953"
             ],
             [
              0.7777777777777778,
              "#fb9f3a"
             ],
             [
              0.8888888888888888,
              "#fdca26"
             ],
             [
              1,
              "#f0f921"
             ]
            ],
            "type": "heatmapgl"
           }
          ],
          "histogram": [
           {
            "marker": {
             "pattern": {
              "fillmode": "overlay",
              "size": 10,
              "solidity": 0.2
             }
            },
            "type": "histogram"
           }
          ],
          "histogram2d": [
           {
            "colorbar": {
             "outlinewidth": 0,
             "ticks": ""
            },
            "colorscale": [
             [
              0,
              "#0d0887"
             ],
             [
              0.1111111111111111,
              "#46039f"
             ],
             [
              0.2222222222222222,
              "#7201a8"
             ],
             [
              0.3333333333333333,
              "#9c179e"
             ],
             [
              0.4444444444444444,
              "#bd3786"
             ],
             [
              0.5555555555555556,
              "#d8576b"
             ],
             [
              0.6666666666666666,
              "#ed7953"
             ],
             [
              0.7777777777777778,
              "#fb9f3a"
             ],
             [
              0.8888888888888888,
              "#fdca26"
             ],
             [
              1,
              "#f0f921"
             ]
            ],
            "type": "histogram2d"
           }
          ],
          "histogram2dcontour": [
           {
            "colorbar": {
             "outlinewidth": 0,
             "ticks": ""
            },
            "colorscale": [
             [
              0,
              "#0d0887"
             ],
             [
              0.1111111111111111,
              "#46039f"
             ],
             [
              0.2222222222222222,
              "#7201a8"
             ],
             [
              0.3333333333333333,
              "#9c179e"
             ],
             [
              0.4444444444444444,
              "#bd3786"
             ],
             [
              0.5555555555555556,
              "#d8576b"
             ],
             [
              0.6666666666666666,
              "#ed7953"
             ],
             [
              0.7777777777777778,
              "#fb9f3a"
             ],
             [
              0.8888888888888888,
              "#fdca26"
             ],
             [
              1,
              "#f0f921"
             ]
            ],
            "type": "histogram2dcontour"
           }
          ],
          "mesh3d": [
           {
            "colorbar": {
             "outlinewidth": 0,
             "ticks": ""
            },
            "type": "mesh3d"
           }
          ],
          "parcoords": [
           {
            "line": {
             "colorbar": {
              "outlinewidth": 0,
              "ticks": ""
             }
            },
            "type": "parcoords"
           }
          ],
          "pie": [
           {
            "automargin": true,
            "type": "pie"
           }
          ],
          "scatter": [
           {
            "fillpattern": {
             "fillmode": "overlay",
             "size": 10,
             "solidity": 0.2
            },
            "type": "scatter"
           }
          ],
          "scatter3d": [
           {
            "line": {
             "colorbar": {
              "outlinewidth": 0,
              "ticks": ""
             }
            },
            "marker": {
             "colorbar": {
              "outlinewidth": 0,
              "ticks": ""
             }
            },
            "type": "scatter3d"
           }
          ],
          "scattercarpet": [
           {
            "marker": {
             "colorbar": {
              "outlinewidth": 0,
              "ticks": ""
             }
            },
            "type": "scattercarpet"
           }
          ],
          "scattergeo": [
           {
            "marker": {
             "colorbar": {
              "outlinewidth": 0,
              "ticks": ""
             }
            },
            "type": "scattergeo"
           }
          ],
          "scattergl": [
           {
            "marker": {
             "colorbar": {
              "outlinewidth": 0,
              "ticks": ""
             }
            },
            "type": "scattergl"
           }
          ],
          "scattermapbox": [
           {
            "marker": {
             "colorbar": {
              "outlinewidth": 0,
              "ticks": ""
             }
            },
            "type": "scattermapbox"
           }
          ],
          "scatterpolar": [
           {
            "marker": {
             "colorbar": {
              "outlinewidth": 0,
              "ticks": ""
             }
            },
            "type": "scatterpolar"
           }
          ],
          "scatterpolargl": [
           {
            "marker": {
             "colorbar": {
              "outlinewidth": 0,
              "ticks": ""
             }
            },
            "type": "scatterpolargl"
           }
          ],
          "scatterternary": [
           {
            "marker": {
             "colorbar": {
              "outlinewidth": 0,
              "ticks": ""
             }
            },
            "type": "scatterternary"
           }
          ],
          "surface": [
           {
            "colorbar": {
             "outlinewidth": 0,
             "ticks": ""
            },
            "colorscale": [
             [
              0,
              "#0d0887"
             ],
             [
              0.1111111111111111,
              "#46039f"
             ],
             [
              0.2222222222222222,
              "#7201a8"
             ],
             [
              0.3333333333333333,
              "#9c179e"
             ],
             [
              0.4444444444444444,
              "#bd3786"
             ],
             [
              0.5555555555555556,
              "#d8576b"
             ],
             [
              0.6666666666666666,
              "#ed7953"
             ],
             [
              0.7777777777777778,
              "#fb9f3a"
             ],
             [
              0.8888888888888888,
              "#fdca26"
             ],
             [
              1,
              "#f0f921"
             ]
            ],
            "type": "surface"
           }
          ],
          "table": [
           {
            "cells": {
             "fill": {
              "color": "#EBF0F8"
             },
             "line": {
              "color": "white"
             }
            },
            "header": {
             "fill": {
              "color": "#C8D4E3"
             },
             "line": {
              "color": "white"
             }
            },
            "type": "table"
           }
          ]
         },
         "layout": {
          "annotationdefaults": {
           "arrowcolor": "#2a3f5f",
           "arrowhead": 0,
           "arrowwidth": 1
          },
          "autotypenumbers": "strict",
          "coloraxis": {
           "colorbar": {
            "outlinewidth": 0,
            "ticks": ""
           }
          },
          "colorscale": {
           "diverging": [
            [
             0,
             "#8e0152"
            ],
            [
             0.1,
             "#c51b7d"
            ],
            [
             0.2,
             "#de77ae"
            ],
            [
             0.3,
             "#f1b6da"
            ],
            [
             0.4,
             "#fde0ef"
            ],
            [
             0.5,
             "#f7f7f7"
            ],
            [
             0.6,
             "#e6f5d0"
            ],
            [
             0.7,
             "#b8e186"
            ],
            [
             0.8,
             "#7fbc41"
            ],
            [
             0.9,
             "#4d9221"
            ],
            [
             1,
             "#276419"
            ]
           ],
           "sequential": [
            [
             0,
             "#0d0887"
            ],
            [
             0.1111111111111111,
             "#46039f"
            ],
            [
             0.2222222222222222,
             "#7201a8"
            ],
            [
             0.3333333333333333,
             "#9c179e"
            ],
            [
             0.4444444444444444,
             "#bd3786"
            ],
            [
             0.5555555555555556,
             "#d8576b"
            ],
            [
             0.6666666666666666,
             "#ed7953"
            ],
            [
             0.7777777777777778,
             "#fb9f3a"
            ],
            [
             0.8888888888888888,
             "#fdca26"
            ],
            [
             1,
             "#f0f921"
            ]
           ],
           "sequentialminus": [
            [
             0,
             "#0d0887"
            ],
            [
             0.1111111111111111,
             "#46039f"
            ],
            [
             0.2222222222222222,
             "#7201a8"
            ],
            [
             0.3333333333333333,
             "#9c179e"
            ],
            [
             0.4444444444444444,
             "#bd3786"
            ],
            [
             0.5555555555555556,
             "#d8576b"
            ],
            [
             0.6666666666666666,
             "#ed7953"
            ],
            [
             0.7777777777777778,
             "#fb9f3a"
            ],
            [
             0.8888888888888888,
             "#fdca26"
            ],
            [
             1,
             "#f0f921"
            ]
           ]
          },
          "colorway": [
           "#636efa",
           "#EF553B",
           "#00cc96",
           "#ab63fa",
           "#FFA15A",
           "#19d3f3",
           "#FF6692",
           "#B6E880",
           "#FF97FF",
           "#FECB52"
          ],
          "font": {
           "color": "#2a3f5f"
          },
          "geo": {
           "bgcolor": "white",
           "lakecolor": "white",
           "landcolor": "#E5ECF6",
           "showlakes": true,
           "showland": true,
           "subunitcolor": "white"
          },
          "hoverlabel": {
           "align": "left"
          },
          "hovermode": "closest",
          "mapbox": {
           "style": "light"
          },
          "paper_bgcolor": "white",
          "plot_bgcolor": "#E5ECF6",
          "polar": {
           "angularaxis": {
            "gridcolor": "white",
            "linecolor": "white",
            "ticks": ""
           },
           "bgcolor": "#E5ECF6",
           "radialaxis": {
            "gridcolor": "white",
            "linecolor": "white",
            "ticks": ""
           }
          },
          "scene": {
           "xaxis": {
            "backgroundcolor": "#E5ECF6",
            "gridcolor": "white",
            "gridwidth": 2,
            "linecolor": "white",
            "showbackground": true,
            "ticks": "",
            "zerolinecolor": "white"
           },
           "yaxis": {
            "backgroundcolor": "#E5ECF6",
            "gridcolor": "white",
            "gridwidth": 2,
            "linecolor": "white",
            "showbackground": true,
            "ticks": "",
            "zerolinecolor": "white"
           },
           "zaxis": {
            "backgroundcolor": "#E5ECF6",
            "gridcolor": "white",
            "gridwidth": 2,
            "linecolor": "white",
            "showbackground": true,
            "ticks": "",
            "zerolinecolor": "white"
           }
          },
          "shapedefaults": {
           "line": {
            "color": "#2a3f5f"
           }
          },
          "ternary": {
           "aaxis": {
            "gridcolor": "white",
            "linecolor": "white",
            "ticks": ""
           },
           "baxis": {
            "gridcolor": "white",
            "linecolor": "white",
            "ticks": ""
           },
           "bgcolor": "#E5ECF6",
           "caxis": {
            "gridcolor": "white",
            "linecolor": "white",
            "ticks": ""
           }
          },
          "title": {
           "x": 0.05
          },
          "xaxis": {
           "automargin": true,
           "gridcolor": "white",
           "linecolor": "white",
           "ticks": "",
           "title": {
            "standoff": 15
           },
           "zerolinecolor": "white",
           "zerolinewidth": 2
          },
          "yaxis": {
           "automargin": true,
           "gridcolor": "white",
           "linecolor": "white",
           "ticks": "",
           "title": {
            "standoff": 15
           },
           "zerolinecolor": "white",
           "zerolinewidth": 2
          }
         }
        }
       }
      }
     },
     "metadata": {},
     "output_type": "display_data"
    },
    {
     "data": {
      "image/png": "[encoded data removed]",
      "text/plain": [
       "<Figure size 640x480 with 1 Axes>"
      ]
     },
     "metadata": {},
     "output_type": "display_data"
    }
   ],
   "source": [
    "MetricGenderDisplay(FairFaceDict, specific_race=None, specific_age=None)\n",
    "MetricRaceDisplay(FairFaceDict, specific_gender=None, specific_age=None)\n",
    "MetricAgeDisplay(FairFaceDict, specific_gender=None, specific_race=None)\n",
    "ScatterPlotDisplay2D(FairFaceDict, x_axis_label=\"race\", y_axis_label=\"gender\", specific_gender=\"man\", specific_race=\"white\")\n",
    "ScatterPlotDisplay3D(FairFaceDict, specific_gender=\"man\", specific_race=\"white\", specific_age=\"10-19\")\n",
    "MetricCenterDistanceDisplay(FairFaceDict, distance_val_list=dist_bet_centers, area_val_list=space_taken_up, category='race', type='distance') "
   ]
  },
  {
   "cell_type": "code",
   "execution_count": 22,
   "metadata": {},
   "outputs": [],
   "source": [
    "def ShannonSimpsonMetrics(data):\n",
    "    prob_gender = {\"man\": 0, \"woman\": 0}\n",
    "    prob_race = {\"asian\": 0, \"white\": 0, \"middle eastern\": 0, \"indian\": 0, \"latino hispanic\": 0, \"black\": 0}\n",
    "    prob_age = {\"0-2\":0,\"3-9\":0,\"10-19\":0,\"20-29\":0,\"30-39\":0,\"40-49\":0,\"50-59\":0,\"60-69\":0,\"70+\":0}\n",
    "    dict_list = [prob_gender, prob_race, prob_age]\n",
    "\n",
    "    # Working out the number of each metric present across the set of images\n",
    "    for index in range(len(data)):\n",
    "        prob_gender[data[index][1][\"gender\"]] += 1\n",
    "\n",
    "        prob_race[data[index][1][\"race\"]] += 1\n",
    "\n",
    "        prob_age[data[index][1][\"age\"]] += 1\n",
    "\n",
    "    # Working out the probability that each metric is present across the set of images\n",
    "    for dict in dict_list:\n",
    "        for item in dict:\n",
    "            dict[item] /= len(data)\n",
    "\n",
    "    # Working out the shannon entropy for each metric\n",
    "    shannonEntropy = {\"gender\":0, \"race\":0, \"age\":0}\n",
    "    for index, dict in enumerate(dict_list):\n",
    "        shannon_val = 0\n",
    "        for item in dict:\n",
    "            # Ignoring 0 values as ln(0) is undefined \n",
    "            if dict[item] != 0:\n",
    "                shannon_val += dict[item]*math.log(dict[item])\n",
    "        shannon_val = -shannon_val\n",
    "        shannonEntropy[list(shannonEntropy.keys())[index]] = shannon_val\n",
    "\n",
    "    simpsonIndex = {\"gender\":0, \"race\":0, \"age\":0}\n",
    "    for index, dict in enumerate(dict_list):\n",
    "        simpson_val = 0\n",
    "        for item in dict:\n",
    "            simpson_val += dict[item]**2\n",
    "        simpson_val = 1/simpson_val\n",
    "        simpsonIndex[list(simpsonIndex.keys())[index]] = simpson_val\n",
    "\n",
    "    shannonEvenness = shannonEntropy.copy()\n",
    "    gender_count = sum(1 for value in prob_gender.values() if value > 0)\n",
    "    race_count = sum(1 for value in prob_race.values() if value > 0)\n",
    "    age_count = sum(1 for value in prob_age.values() if value > 0)\n",
    "\n",
    "    if shannonEvenness[\"gender\"] != 0:\n",
    "        shannonEvenness[\"gender\"] /= math.log(gender_count)\n",
    "\n",
    "    if shannonEvenness[\"race\"] != 0:\n",
    "        shannonEvenness[\"race\"] /= math.log(race_count)\n",
    "\n",
    "    if shannonEvenness[\"age\"] != 0:\n",
    "        shannonEvenness[\"age\"] /= math.log(age_count)\n",
    "\n",
    "    simposonEvenness = simpsonIndex.copy()\n",
    "    simposonEvenness[\"gender\"] /= gender_count\n",
    "    simposonEvenness[\"race\"] /= race_count\n",
    "    simposonEvenness[\"age\"] /= age_count\n",
    "\n",
    "    return {\"ShannonEntropy\":shannonEntropy, \"SimpsonIndex\":simpsonIndex, \"ShannonEvenness\":shannonEvenness, \"SimpsonEvenness\":simposonEvenness}\n"
   ]
  },
  {
   "cell_type": "code",
   "execution_count": 21,
   "metadata": {},
   "outputs": [
    {
     "data": {
      "text/plain": [
       "{'ShannonEntropy': {'gender': 0.33678521072283274,\n",
       "  'race': 0.9434197471064367,\n",
       "  'age': 1.1296779481531973},\n",
       " 'SimpsonIndex': {'gender': 1.2324062385470538,\n",
       "  'race': 1.785098326039,\n",
       "  'age': 2.576158940397351},\n",
       " 'ShannonEvenness': {'gender': 0.48587835335457535,\n",
       "  'race': 0.5265325861583926,\n",
       "  'age': 0.7019083739892035},\n",
       " 'SimpsonEvenness': {'gender': 0.6162031192735269,\n",
       "  'race': 0.2975163876731667,\n",
       "  'age': 0.5152317880794702}}"
      ]
     },
     "execution_count": 21,
     "metadata": {},
     "output_type": "execute_result"
    }
   ],
   "source": [
    "ShannonSimpsonMetrics(FairFaceDict)"
   ]
  },
  {
   "cell_type": "code",
   "execution_count": 23,
   "metadata": {},
   "outputs": [],
   "source": [
    "def CorrelationMetric(data):\n",
    "    correlation_gender = {\"man\": 0, \"woman\": 0}\n",
    "    correlation_race = {\"asian\": 0, \"white\": 0, \"middle eastern\": 0, \"indian\": 0, \"latino hispanic\": 0, \"black\": 0}\n",
    "    correlation_age = {\"0-2\":0,\"3-9\":0,\"10-19\":0,\"20-29\":0,\"30-39\":0,\"40-49\":0,\"50-59\":0,\"60-69\":0,\"70+\":0}\n",
    "    count = len(data)\n",
    "    dict_list = [correlation_gender, correlation_race, correlation_age]\n",
    "\n",
    "    # Working out the number of each metric present across the set of images\n",
    "    for index in range(len(data)):\n",
    "        correlation_gender[data[index][1][\"gender\"]] += 1\n",
    "\n",
    "        correlation_race[data[index][1][\"race\"]] += 1\n",
    "\n",
    "        correlation_age[data[index][1][\"age\"]] += 1\n",
    "\n",
    "    for dict in dict_list:\n",
    "        for item in dict:\n",
    "            # Divide all values in the dictionary by count\n",
    "            dict[item] /= count\n",
    "            if dict[item] > 1/len(dict):\n",
    "                print(item, \"is positively correlated with the image type. \",dict[item], \" > \", 1/len(dict))"
   ]
  },
  {
   "cell_type": "code",
   "execution_count": 161,
   "metadata": {},
   "outputs": [
    {
     "name": "stdout",
     "output_type": "stream",
     "text": [
      "white is positively correlated with the image type.  1.0  >  0.16666666666666666\n",
      "20-29 is positively correlated with the image type.  0.5  >  0.1111111111111111\n",
      "40-49 is positively correlated with the image type.  0.5  >  0.1111111111111111\n"
     ]
    }
   ],
   "source": [
    "CorrelationMetric(FairFaceDict)"
   ]
  },
  {
   "cell_type": "markdown",
   "metadata": {},
   "source": [
    "### DeepFace Model"
   ]
  },
  {
   "cell_type": "code",
   "execution_count": 12,
   "metadata": {},
   "outputs": [],
   "source": [
    "# Function copied from FYP - Pipeline.ipynb\n",
    "def DeepFaceProcess(listOfImages):\n",
    "    \"\"\" \n",
    "    Description:\n",
    "    This function serves to determine the properties of the primary detected face in an image. \n",
    "    For each image passed it will only consider the most prominent face, this is done as each \n",
    "    image is initially being processed by YOLOv8 to detect/crop individual people and then said images are fed to this function.\n",
    "    \n",
    "    Parameters:\n",
    "    listOfImages (list) - List containing the images to be processed. \n",
    "\n",
    "    Returns:\n",
    "    DeepFaceDict (dict) - Dictionary containing the information relevant to each image.\n",
    "    \"\"\"\n",
    "        \n",
    "    tensorflow.keras.utils.disable_interactive_logging()\n",
    "    DeepFaceDict = {}\n",
    "    counter = 0\n",
    "    \n",
    "    # Create a tqdm progress bar\n",
    "    progress_bar = tqdm(total=len(listOfImages), desc=\"Processing\", unit=\"images\")\n",
    "    \n",
    "    for image in listOfImages:\n",
    "        try:\n",
    "            # Retrieving the age/gender/race/emotion of the image\n",
    "            # Note: enforce_detection=False used so that images where the face isn't fully visible are still considered\n",
    "            # Note: silent=True used to remove in built progress bar\n",
    "            image =  image[:,:,:3]\n",
    "\n",
    "            objs = DeepFace.analyze(image, actions = ['age', 'gender', 'race', 'emotion'], enforce_detection=False,  detector_backend=\"mtcnn\", silent=True)\n",
    "            \n",
    "            # Using the index of the primary face (takes up most area) in the image\n",
    "            index =  FindObjWithLargestArea(objs)\n",
    "            \n",
    "            # Replacing the dictionary keys to keep in line with the rest of the naming conventions (Man -> male/Woman-> female)\n",
    "            objs[index][\"gender\"][\"male\"] = objs[index][\"gender\"][\"Man\"]\n",
    "            del objs[index][\"gender\"][\"Man\"]\n",
    "\n",
    "            objs[index][\"gender\"][\"female\"] = objs[index][\"gender\"][\"Woman\"]\n",
    "            del objs[index][\"gender\"][\"Woman\"]\n",
    "\n",
    "            # Replacing the labels to keep in line with the rest of the naming conventions\n",
    "            if objs[index]['dominant_gender'] == \"Man\":\n",
    "                objs[index]['dominant_gender'] = \"male\"\n",
    "            elif objs[index]['dominant_gender'] == \"Woman\":\n",
    "                objs[index]['dominant_gender'] = \"female\"\n",
    "            \n",
    "            ImageInfo = {'age':objs[index]['age'], 'gender':objs[index]['dominant_gender'], 'race':objs[index]['dominant_race'], 'emotion':objs[index]['dominant_emotion']}\n",
    "\n",
    "            # Cropping the image to only include the face\n",
    "            objs[index]['region']\n",
    "            x = objs[index]['region']['x']\n",
    "            y = objs[index]['region']['y']\n",
    "            width = objs[index]['region']['x'] + objs[index]['region']['w']\n",
    "            height = objs[index]['region']['y'] + objs[index]['region']['h']\n",
    "            croppedImg = image[y:height, x:width]\n",
    "            \n",
    "            # Storing the images in a dictionary, ImageInfo contains the general info, objs contains the full detailed info (percentages of each class)\n",
    "            DeepFaceDict[counter] = [croppedImg, ImageInfo, objs[index]]\n",
    "            counter+=1\n",
    "        except Exception as error:\n",
    "            counter-=1\n",
    "            plt.imshow(image[:,:,:3])\n",
    "            plt.show()\n",
    "            print(\"Error: \",error)\n",
    "            \n",
    "        # Update the progress bar\n",
    "        progress_bar.update(1)\n",
    "    return DeepFaceDict"
   ]
  },
  {
   "cell_type": "markdown",
   "metadata": {},
   "source": [
    "### Ensamble Model"
   ]
  },
  {
   "cell_type": "code",
   "execution_count": 11,
   "metadata": {},
   "outputs": [],
   "source": [
    "# This function expectes the images to contain the face only and not the entire image\n",
    "def ensmableProcess(listOfImages, fairFaceModel):\n",
    "    tensorflow.keras.utils.disable_interactive_logging()\n",
    "    EnsambleDict = {}\n",
    "    no_of_models = 2\n",
    "    \n",
    "    # Create a tqdm progress bar\n",
    "    progress_bar = tqdm(total=len(listOfImages), desc=\"Processing\", unit=\"images\")\n",
    "\n",
    "    # Transformation process used to convert images to the expected input format of the fairface model.\n",
    "    trans = transforms.Compose([\n",
    "    transforms.ToPILImage(),\n",
    "    transforms.Resize((224, 224)),\n",
    "    transforms.ToTensor(),\n",
    "    transforms.Normalize(mean=[0.485, 0.456, 0.406], std=[0.229, 0.224, 0.225])\n",
    "    ])\n",
    "\n",
    "    for image_index, image in enumerate(listOfImages):\n",
    "\n",
    "        final_gender_mapping = {}\n",
    "        final_race_mapping = {}\n",
    "        # final_age_mapping = {}\n",
    "\n",
    "        # ResNet mappings\n",
    "        gender_mapping = {\"man\":0,\"woman\":1}\n",
    "        race_mapping = {\"white\":0,\"black\":1,\"latino hispanic\":2,\"asian\":3,\"indian\":4,\"middle eastern\":5}\n",
    "        age_mapping = {\"0-2\":0,\"3-9\":1,\"10-19\":2,\"20-29\":3,\"30-39\":4,\"40-49\":5,\"50-59\":6,\"60-69\":7,\"70+\":8}\n",
    "\n",
    "        # processing the image and getting the cropped version generated via mtcnn\n",
    "        objs = DeepFace.analyze(image, actions = ['age', 'gender', 'race'], enforce_detection=False,  detector_backend=\"mtcnn\", silent=True)\n",
    "\n",
    "        # Using the index of the primary face (takes up most area) in the image\n",
    "        index =  FindObjWithLargestArea(objs)\n",
    "\n",
    "        # Cropping the image to only include the face\n",
    "        img_area = objs[index]['region']\n",
    "        x = img_area['x']\n",
    "        y = img_area['y']\n",
    "        width = img_area['x'] + img_area['w']\n",
    "        height = img_area['y'] + img_area['h']\n",
    "        faceImg = image[y:height, x:width]\n",
    "\n",
    "        # Converting the cropped image to tensor and reshaping it to match the ResNet model input\n",
    "        transformed_image = trans(faceImg)\n",
    "        transformed_image = transformed_image.view(1, 3, 224, 224) \n",
    "        transformed_image = transformed_image.to(\"cpu\")\n",
    "\n",
    "        outputs = fairFaceModel(transformed_image)\n",
    "        outputs = outputs.cpu().detach().numpy()\n",
    "        outputs = np.squeeze(outputs)\n",
    "\n",
    "        gender_outputs = outputs[7:9]\n",
    "        age_outputs = outputs[9:18]\n",
    "\n",
    "        # This array has probabilities for east asian and southeast asian, so we need to combine them\n",
    "        race_outputs = outputs[:7]\n",
    "        # Their values are stored in index 3 and 4, so we will take the average of these two values and store at index 3\n",
    "        race_outputs[3] = np.mean(race_outputs[3:5])\n",
    "        # Now we remove the extra value at index 4\n",
    "        race_outputs = np.delete(race_outputs, 4)\n",
    "\n",
    "        gender_score = np.exp(gender_outputs) / np.sum(np.exp(gender_outputs))\n",
    "        age_score = np.exp(age_outputs) / np.sum(np.exp(age_outputs))\n",
    "        race_score = np.exp(race_outputs) / np.sum(np.exp(race_outputs))\n",
    "\n",
    "        # Setting the appropriate scores for each category\n",
    "        for gender in [\"man\", \"woman\"]:\n",
    "            # * 100 to convert the score to a percentage to match DeepFace model output\n",
    "            gender_mapping[gender] = gender_score[gender_mapping[gender]]*100\n",
    "\n",
    "        for race in [\"white\", \"black\", \"latino hispanic\", \"asian\", \"indian\", \"middle eastern\"]:\n",
    "            race_mapping[race] = race_score[race_mapping[race]]*100\n",
    "\n",
    "        for age_range in [\"0-2\",\"3-9\",\"10-19\",\"20-29\",\"30-39\",\"40-49\",\"50-59\",\"60-69\",\"70+\"]:\n",
    "            age_mapping[age_range] = age_score[age_mapping[age_range]]*100\n",
    "\n",
    "        # Ensabling the results from the ResNet model and the DeepFace model\n",
    "        final_gender_mapping[\"man\"] = (objs[0][\"gender\"][\"Man\"] + gender_mapping[\"man\"])/no_of_models\n",
    "        final_gender_mapping[\"woman\"] = (objs[0][\"gender\"][\"Woman\"] + gender_mapping[\"woman\"])/no_of_models\n",
    "\n",
    "        for race in [\"white\", \"black\", \"latino hispanic\", \"asian\", \"indian\", \"middle eastern\"]:\n",
    "            final_race_mapping[race] = (objs[0][\"race\"][race] + race_mapping[race])/no_of_models\n",
    "\n",
    "        # Determing the final results from the ensamble techniuqe\n",
    "        final_gender = max(final_gender_mapping, key=final_gender_mapping.get)\n",
    "        final_race = max(final_race_mapping, key=final_race_mapping.get)\n",
    "        final_age = max(age_mapping, key=age_mapping.get)\n",
    "\n",
    "        # Converting the age to a sufficient range (Assuming 100 is the max age)\n",
    "        if final_age == \"70+\":\n",
    "            final_age = \"70-100\"\n",
    "\n",
    "        # Calculating the mean of the age range\n",
    "        age_mean = np.mean([int(value) for value in final_age.split(\"-\")])\n",
    "\n",
    "        # Calculating the mean of the model ages\n",
    "        ensamble_age = np.mean([age_mean, objs[0][\"age\"]])\n",
    "\n",
    "        age_ranges = [(0, 2), (3, 9), (10, 19), (20, 29), (30, 39), (40, 49), (50, 59), (60, 69), (70, 100)]\n",
    "\n",
    "        # Determining the final age range based on the mean of the model ages\n",
    "        for range_start, range_end in age_ranges:\n",
    "            if ensamble_age in range(range_start, range_end + 1):\n",
    "                if range_start == 70:\n",
    "                    final_age = \"70+\"\n",
    "                else:\n",
    "                    final_age = f\"{range_start}-{range_end}\"\n",
    "                break\n",
    "        \n",
    "        ImageInfo = {\"age\":final_age, \"gender\":final_gender, \"race\":final_race}\n",
    "        imageConfidenceData = {\"race\":final_race_mapping, \"gender\":final_gender_mapping, \"age\":age_mapping}\n",
    "        EnsambleDict[image_index] = [faceImg, ImageInfo, imageConfidenceData]\n",
    "\n",
    "        # Update the progress bar\n",
    "        progress_bar.update(1)\n",
    "\n",
    "    return EnsambleDict"
   ]
  },
  {
   "cell_type": "code",
   "execution_count": 118,
   "metadata": {},
   "outputs": [
    {
     "name": "stdout",
     "output_type": "stream",
     "text": [
      "['0.jpg', '1.jpg', '2.jpg', '3.jpg', '4.jpg', '5.jpg', '6.jpg', '7.jpg', '8.jpg', '9.jpg', '10.jpg', '11.jpg', '12.jpg', '13.jpg', '14.jpg', '15.jpg', '16.jpg', '17.jpg', '18.jpg', '19.jpg', '20.jpg', '21.jpg', '22.jpg', '23.jpg', '24.jpg', '25.jpg', '26.jpg', '27.jpg', '28.jpg', '29.jpg', '30.jpg', '31.jpg', '32.jpg', '33.jpg', '34.jpg', '35.jpg', '36.jpg', '37.jpg', '38.jpg', '39.jpg', '40.jpg', '41.jpg', '42.jpg', '43.jpg', '44.jpg', '45.jpg', '46.jpg', '47.jpg', '48.jpg', '49.jpg', '50.jpg', '51.jpg', '52.jpg', '53.jpg', '54.jpg', '55.jpg', '56.jpg', '57.jpg', '58.jpg', '59.jpg', '60.jpg', '61.jpg', '62.jpg', '63.jpg', '64.jpg', '65.jpg', '66.jpg', '67.jpg', '68.jpg', '69.jpg', '70.jpg', '71.jpg', '72.jpg', '73.jpg', '74.jpg', '75.jpg', '76.jpg', '77.jpg', '78.jpg', '79.jpg', '80.jpg', '81.jpg', '82.jpg', '83.jpg', '84.jpg', '85.jpg', '86.jpg', '87.jpg', '88.jpg', '89.jpg', '90.jpg', '91.jpg', '92.jpg', '93.jpg', '94.jpg', '95.jpg', '96.jpg']\n"
     ]
    },
    {
     "name": "stdout",
     "output_type": "stream",
     "text": [
      "\n",
      "0: 480x640 1 person, 319.1ms\n",
      "Speed: 10.0ms preprocess, 319.1ms inference, 3.0ms postprocess per image at shape (1, 3, 480, 640)\n",
      "\n",
      "0: 640x640 1 person, 346.1ms\n",
      "Speed: 7.0ms preprocess, 346.1ms inference, 5.0ms postprocess per image at shape (1, 3, 640, 640)\n",
      "\n",
      "0: 480x640 1 person, 289.1ms\n",
      "Speed: 13.0ms preprocess, 289.1ms inference, 3.0ms postprocess per image at shape (1, 3, 480, 640)\n",
      "\n",
      "0: 640x448 1 person, 302.1ms\n",
      "Speed: 12.0ms preprocess, 302.1ms inference, 3.0ms postprocess per image at shape (1, 3, 640, 448)\n",
      "\n",
      "0: 448x640 1 person, 305.1ms\n",
      "Speed: 14.0ms preprocess, 305.1ms inference, 3.0ms postprocess per image at shape (1, 3, 448, 640)\n",
      "\n",
      "0: 448x640 1 person, 298.1ms\n",
      "Speed: 12.0ms preprocess, 298.1ms inference, 3.0ms postprocess per image at shape (1, 3, 448, 640)\n",
      "\n",
      "0: 640x480 1 person, 348.1ms\n",
      "Speed: 15.0ms preprocess, 348.1ms inference, 3.0ms postprocess per image at shape (1, 3, 640, 480)\n",
      "\n",
      "0: 640x480 1 person, 302.1ms\n",
      "Speed: 12.0ms preprocess, 302.1ms inference, 3.0ms postprocess per image at shape (1, 3, 640, 480)\n",
      "\n",
      "0: 448x640 1 person, 300.1ms\n",
      "Speed: 13.0ms preprocess, 300.1ms inference, 2.0ms postprocess per image at shape (1, 3, 448, 640)\n",
      "\n",
      "0: 640x480 1 person, 408.1ms\n",
      "Speed: 12.0ms preprocess, 408.1ms inference, 9.0ms postprocess per image at shape (1, 3, 640, 480)\n",
      "\n",
      "0: 640x448 1 person, 292.1ms\n",
      "Speed: 11.0ms preprocess, 292.1ms inference, 2.0ms postprocess per image at shape (1, 3, 640, 448)\n",
      "\n",
      "0: 640x480 1 person, 297.1ms\n",
      "Speed: 14.0ms preprocess, 297.1ms inference, 3.0ms postprocess per image at shape (1, 3, 640, 480)\n",
      "\n",
      "0: 640x640 1 person, 343.1ms\n",
      "Speed: 7.0ms preprocess, 343.1ms inference, 4.0ms postprocess per image at shape (1, 3, 640, 640)\n",
      "\n",
      "0: 640x448 1 person, 337.1ms\n",
      "Speed: 13.0ms preprocess, 337.1ms inference, 3.0ms postprocess per image at shape (1, 3, 640, 448)\n",
      "\n",
      "0: 640x448 1 person, 294.1ms\n",
      "Speed: 12.0ms preprocess, 294.1ms inference, 2.0ms postprocess per image at shape (1, 3, 640, 448)\n",
      "\n",
      "0: 480x640 1 person, 288.1ms\n",
      "Speed: 11.0ms preprocess, 288.1ms inference, 3.0ms postprocess per image at shape (1, 3, 480, 640)\n",
      "\n",
      "0: 448x640 1 person, 293.1ms\n",
      "Speed: 12.0ms preprocess, 293.1ms inference, 2.0ms postprocess per image at shape (1, 3, 448, 640)\n",
      "\n",
      "0: 448x640 1 person, 291.1ms\n",
      "Speed: 11.0ms preprocess, 291.1ms inference, 3.0ms postprocess per image at shape (1, 3, 448, 640)\n",
      "\n",
      "0: 640x448 1 person, 310.1ms\n",
      "Speed: 12.0ms preprocess, 310.1ms inference, 2.0ms postprocess per image at shape (1, 3, 640, 448)\n",
      "\n",
      "0: 640x480 1 person, 292.1ms\n",
      "Speed: 12.0ms preprocess, 292.1ms inference, 2.0ms postprocess per image at shape (1, 3, 640, 480)\n",
      "\n",
      "0: 640x544 1 person, 320.1ms\n",
      "Speed: 9.0ms preprocess, 320.1ms inference, 4.0ms postprocess per image at shape (1, 3, 640, 544)\n",
      "\n",
      "0: 640x640 1 person, 319.1ms\n",
      "Speed: 7.0ms preprocess, 319.1ms inference, 4.0ms postprocess per image at shape (1, 3, 640, 640)\n",
      "\n",
      "0: 384x640 1 person, 363.1ms\n",
      "Speed: 12.0ms preprocess, 363.1ms inference, 1.0ms postprocess per image at shape (1, 3, 384, 640)\n",
      "\n",
      "0: 640x448 1 person, 285.1ms\n",
      "Speed: 15.0ms preprocess, 285.1ms inference, 3.0ms postprocess per image at shape (1, 3, 640, 448)\n",
      "\n",
      "0: 640x640 1 person, 310.1ms\n",
      "Speed: 8.0ms preprocess, 310.1ms inference, 4.0ms postprocess per image at shape (1, 3, 640, 640)\n",
      "\n",
      "0: 640x640 1 person, 314.1ms\n",
      "Speed: 7.0ms preprocess, 314.1ms inference, 4.0ms postprocess per image at shape (1, 3, 640, 640)\n",
      "\n",
      "0: 640x480 1 person, 282.1ms\n",
      "Speed: 12.0ms preprocess, 282.1ms inference, 3.0ms postprocess per image at shape (1, 3, 640, 480)\n",
      "\n",
      "0: 640x448 1 person, 284.1ms\n",
      "Speed: 13.0ms preprocess, 284.1ms inference, 3.0ms postprocess per image at shape (1, 3, 640, 448)\n",
      "\n",
      "0: 640x640 1 person, 323.1ms\n",
      "Speed: 8.0ms preprocess, 323.1ms inference, 4.0ms postprocess per image at shape (1, 3, 640, 640)\n",
      "\n",
      "0: 640x480 1 person, 295.1ms\n",
      "Speed: 11.0ms preprocess, 295.1ms inference, 3.0ms postprocess per image at shape (1, 3, 640, 480)\n",
      "\n",
      "0: 640x448 1 person, 290.1ms\n",
      "Speed: 12.0ms preprocess, 290.1ms inference, 2.0ms postprocess per image at shape (1, 3, 640, 448)\n",
      "\n",
      "0: 480x640 1 person, 291.1ms\n",
      "Speed: 13.0ms preprocess, 291.1ms inference, 3.0ms postprocess per image at shape (1, 3, 480, 640)\n",
      "\n",
      "0: 640x448 1 person, 283.1ms\n",
      "Speed: 11.0ms preprocess, 283.1ms inference, 2.0ms postprocess per image at shape (1, 3, 640, 448)\n",
      "\n",
      "0: 640x448 1 person, 291.1ms\n",
      "Speed: 13.0ms preprocess, 291.1ms inference, 3.0ms postprocess per image at shape (1, 3, 640, 448)\n",
      "\n",
      "0: 640x448 1 person, 283.1ms\n",
      "Speed: 12.0ms preprocess, 283.1ms inference, 2.0ms postprocess per image at shape (1, 3, 640, 448)\n",
      "\n",
      "0: 640x416 1 person, 317.1ms\n",
      "Speed: 12.0ms preprocess, 317.1ms inference, 3.0ms postprocess per image at shape (1, 3, 640, 416)\n",
      "\n",
      "0: 640x448 1 person, 292.1ms\n",
      "Speed: 12.0ms preprocess, 292.1ms inference, 2.0ms postprocess per image at shape (1, 3, 640, 448)\n",
      "\n",
      "0: 448x640 1 person, 306.1ms\n",
      "Speed: 12.0ms preprocess, 306.1ms inference, 2.0ms postprocess per image at shape (1, 3, 448, 640)\n",
      "\n",
      "0: 640x416 1 person, 266.1ms\n",
      "Speed: 11.0ms preprocess, 266.1ms inference, 2.0ms postprocess per image at shape (1, 3, 640, 416)\n",
      "\n",
      "0: 640x640 1 person, 308.1ms\n",
      "Speed: 7.0ms preprocess, 308.1ms inference, 5.0ms postprocess per image at shape (1, 3, 640, 640)\n",
      "\n",
      "0: 640x448 1 person, 284.1ms\n",
      "Speed: 13.0ms preprocess, 284.1ms inference, 2.0ms postprocess per image at shape (1, 3, 640, 448)\n",
      "\n",
      "0: 640x448 1 person, 286.1ms\n",
      "Speed: 11.0ms preprocess, 286.1ms inference, 2.0ms postprocess per image at shape (1, 3, 640, 448)\n",
      "\n",
      "0: 640x512 1 person, 291.1ms\n",
      "Speed: 12.0ms preprocess, 291.1ms inference, 3.0ms postprocess per image at shape (1, 3, 640, 512)\n",
      "\n",
      "0: 384x640 1 person, 312.1ms\n",
      "Speed: 12.0ms preprocess, 312.1ms inference, 2.0ms postprocess per image at shape (1, 3, 384, 640)\n",
      "\n",
      "0: 640x448 1 person, 292.1ms\n",
      "Speed: 12.0ms preprocess, 292.1ms inference, 2.0ms postprocess per image at shape (1, 3, 640, 448)\n",
      "\n",
      "0: 640x512 1 person, 300.1ms\n",
      "Speed: 12.0ms preprocess, 300.1ms inference, 3.0ms postprocess per image at shape (1, 3, 640, 512)\n",
      "\n",
      "0: 640x640 1 person, 318.1ms\n",
      "Speed: 7.0ms preprocess, 318.1ms inference, 4.0ms postprocess per image at shape (1, 3, 640, 640)\n",
      "\n",
      "0: 448x640 1 person, 296.1ms\n",
      "Speed: 13.0ms preprocess, 296.1ms inference, 3.0ms postprocess per image at shape (1, 3, 448, 640)\n",
      "\n",
      "0: 640x640 1 person, 311.1ms\n",
      "Speed: 8.0ms preprocess, 311.1ms inference, 4.0ms postprocess per image at shape (1, 3, 640, 640)\n",
      "\n",
      "0: 640x448 1 person, 289.1ms\n",
      "Speed: 11.0ms preprocess, 289.1ms inference, 3.0ms postprocess per image at shape (1, 3, 640, 448)\n",
      "\n",
      "0: 640x640 1 person, 308.1ms\n",
      "Speed: 7.0ms preprocess, 308.1ms inference, 4.0ms postprocess per image at shape (1, 3, 640, 640)\n",
      "\n",
      "0: 640x640 1 person, 307.1ms\n",
      "Speed: 8.0ms preprocess, 307.1ms inference, 4.0ms postprocess per image at shape (1, 3, 640, 640)\n",
      "\n",
      "0: 448x640 1 person, 282.1ms\n",
      "Speed: 12.0ms preprocess, 282.1ms inference, 3.0ms postprocess per image at shape (1, 3, 448, 640)\n",
      "\n",
      "0: 448x640 1 person, 277.1ms\n",
      "Speed: 11.0ms preprocess, 277.1ms inference, 2.0ms postprocess per image at shape (1, 3, 448, 640)\n",
      "\n",
      "0: 640x448 1 person, 390.1ms\n",
      "Speed: 12.0ms preprocess, 390.1ms inference, 7.0ms postprocess per image at shape (1, 3, 640, 448)\n",
      "\n",
      "0: 640x416 1 person, 277.1ms\n",
      "Speed: 11.0ms preprocess, 277.1ms inference, 3.0ms postprocess per image at shape (1, 3, 640, 416)\n",
      "\n",
      "0: 640x448 1 person, 299.1ms\n",
      "Speed: 11.0ms preprocess, 299.1ms inference, 2.0ms postprocess per image at shape (1, 3, 640, 448)\n",
      "\n",
      "0: 640x608 1 person, 394.1ms\n",
      "Speed: 8.0ms preprocess, 394.1ms inference, 4.0ms postprocess per image at shape (1, 3, 640, 608)\n",
      "\n",
      "0: 576x640 1 person, 459.1ms\n",
      "Speed: 7.0ms preprocess, 459.1ms inference, 3.0ms postprocess per image at shape (1, 3, 576, 640)\n",
      "\n",
      "0: 640x544 1 person, 298.1ms\n",
      "Speed: 9.0ms preprocess, 298.1ms inference, 3.0ms postprocess per image at shape (1, 3, 640, 544)\n",
      "\n",
      "0: 640x544 1 person, 292.1ms\n",
      "Speed: 9.0ms preprocess, 292.1ms inference, 3.0ms postprocess per image at shape (1, 3, 640, 544)\n",
      "\n",
      "0: 512x640 1 person, 381.1ms\n",
      "Speed: 12.0ms preprocess, 381.1ms inference, 2.0ms postprocess per image at shape (1, 3, 512, 640)\n",
      "\n",
      "0: 448x640 1 person, 297.1ms\n",
      "Speed: 12.0ms preprocess, 297.1ms inference, 3.0ms postprocess per image at shape (1, 3, 448, 640)\n",
      "\n",
      "0: 640x448 1 person, 303.1ms\n",
      "Speed: 16.0ms preprocess, 303.1ms inference, 3.0ms postprocess per image at shape (1, 3, 640, 448)\n",
      "\n",
      "0: 640x448 1 person, 287.1ms\n",
      "Speed: 12.0ms preprocess, 287.1ms inference, 2.0ms postprocess per image at shape (1, 3, 640, 448)\n",
      "\n",
      "0: 640x576 1 person, 389.1ms\n",
      "Speed: 7.0ms preprocess, 389.1ms inference, 4.0ms postprocess per image at shape (1, 3, 640, 576)\n",
      "\n",
      "0: 640x448 1 person, 300.1ms\n",
      "Speed: 11.0ms preprocess, 300.1ms inference, 3.0ms postprocess per image at shape (1, 3, 640, 448)\n",
      "\n",
      "0: 640x640 1 person, 308.1ms\n",
      "Speed: 8.0ms preprocess, 308.1ms inference, 4.0ms postprocess per image at shape (1, 3, 640, 640)\n",
      "\n",
      "0: 448x640 1 person, 298.1ms\n",
      "Speed: 12.0ms preprocess, 298.1ms inference, 2.0ms postprocess per image at shape (1, 3, 448, 640)\n",
      "\n",
      "0: 640x448 1 person, 310.1ms\n",
      "Speed: 11.0ms preprocess, 310.1ms inference, 3.0ms postprocess per image at shape (1, 3, 640, 448)\n",
      "\n",
      "0: 640x320 1 person, 346.1ms\n",
      "Speed: 11.0ms preprocess, 346.1ms inference, 2.0ms postprocess per image at shape (1, 3, 640, 320)\n",
      "\n",
      "0: 608x640 1 person, 401.1ms\n",
      "Speed: 7.0ms preprocess, 401.1ms inference, 4.0ms postprocess per image at shape (1, 3, 608, 640)\n",
      "\n",
      "0: 640x448 1 person, 289.1ms\n",
      "Speed: 11.0ms preprocess, 289.1ms inference, 2.0ms postprocess per image at shape (1, 3, 640, 448)\n",
      "\n",
      "0: 640x448 1 person, 290.1ms\n",
      "Speed: 11.0ms preprocess, 290.1ms inference, 3.0ms postprocess per image at shape (1, 3, 640, 448)\n",
      "\n",
      "0: 448x640 1 person, 294.1ms\n",
      "Speed: 11.0ms preprocess, 294.1ms inference, 2.0ms postprocess per image at shape (1, 3, 448, 640)\n",
      "\n",
      "0: 448x640 1 person, 278.1ms\n",
      "Speed: 12.0ms preprocess, 278.1ms inference, 2.0ms postprocess per image at shape (1, 3, 448, 640)\n",
      "\n",
      "0: 448x640 1 person, 284.1ms\n",
      "Speed: 11.0ms preprocess, 284.1ms inference, 3.0ms postprocess per image at shape (1, 3, 448, 640)\n",
      "\n",
      "0: 640x640 1 person, 310.1ms\n",
      "Speed: 7.0ms preprocess, 310.1ms inference, 4.0ms postprocess per image at shape (1, 3, 640, 640)\n",
      "\n",
      "0: 640x448 1 person, 287.1ms\n",
      "Speed: 11.0ms preprocess, 287.1ms inference, 2.0ms postprocess per image at shape (1, 3, 640, 448)\n",
      "\n",
      "0: 480x640 1 person, 345.1ms\n",
      "Speed: 11.0ms preprocess, 345.1ms inference, 3.0ms postprocess per image at shape (1, 3, 480, 640)\n",
      "\n",
      "0: 512x640 1 person, 357.1ms\n",
      "Speed: 12.0ms preprocess, 357.1ms inference, 3.0ms postprocess per image at shape (1, 3, 512, 640)\n",
      "\n",
      "0: 640x384 1 person, 359.1ms\n",
      "Speed: 12.0ms preprocess, 359.1ms inference, 2.0ms postprocess per image at shape (1, 3, 640, 384)\n",
      "\n",
      "0: 640x512 1 person, 361.1ms\n",
      "Speed: 12.0ms preprocess, 361.1ms inference, 3.0ms postprocess per image at shape (1, 3, 640, 512)\n",
      "\n",
      "0: 640x640 1 person, 315.1ms\n",
      "Speed: 8.0ms preprocess, 315.1ms inference, 5.0ms postprocess per image at shape (1, 3, 640, 640)\n",
      "\n",
      "0: 448x640 1 person, 289.1ms\n",
      "Speed: 11.0ms preprocess, 289.1ms inference, 3.0ms postprocess per image at shape (1, 3, 448, 640)\n",
      "\n",
      "0: 640x640 1 person, 316.1ms\n",
      "Speed: 7.0ms preprocess, 316.1ms inference, 5.0ms postprocess per image at shape (1, 3, 640, 640)\n",
      "\n",
      "0: 640x544 1 person, 298.1ms\n",
      "Speed: 9.0ms preprocess, 298.1ms inference, 3.0ms postprocess per image at shape (1, 3, 640, 544)\n",
      "\n",
      "0: 640x480 1 person, 352.1ms\n",
      "Speed: 12.0ms preprocess, 352.1ms inference, 3.0ms postprocess per image at shape (1, 3, 640, 480)\n",
      "\n",
      "0: 448x640 1 person, 347.1ms\n",
      "Speed: 12.0ms preprocess, 347.1ms inference, 2.0ms postprocess per image at shape (1, 3, 448, 640)\n",
      "\n",
      "0: 640x640 1 person, 306.1ms\n",
      "Speed: 7.0ms preprocess, 306.1ms inference, 4.0ms postprocess per image at shape (1, 3, 640, 640)\n",
      "\n",
      "0: 640x416 1 person, 362.1ms\n",
      "Speed: 12.0ms preprocess, 362.1ms inference, 2.0ms postprocess per image at shape (1, 3, 640, 416)\n",
      "\n",
      "0: 288x640 1 person, 370.1ms\n",
      "Speed: 11.0ms preprocess, 370.1ms inference, 1.0ms postprocess per image at shape (1, 3, 288, 640)\n",
      "\n",
      "0: 640x640 1 person, 316.1ms\n",
      "Speed: 7.0ms preprocess, 316.1ms inference, 4.0ms postprocess per image at shape (1, 3, 640, 640)\n",
      "\n",
      "0: 640x448 1 person, 289.1ms\n",
      "Speed: 13.0ms preprocess, 289.1ms inference, 3.0ms postprocess per image at shape (1, 3, 640, 448)\n",
      "\n",
      "0: 640x640 1 person, 311.1ms\n",
      "Speed: 7.0ms preprocess, 311.1ms inference, 5.0ms postprocess per image at shape (1, 3, 640, 640)\n",
      "\n",
      "0: 512x640 1 person, 302.1ms\n",
      "Speed: 12.0ms preprocess, 302.1ms inference, 3.0ms postprocess per image at shape (1, 3, 512, 640)\n",
      "\n",
      "0: 544x640 1 person, 386.1ms\n",
      "Speed: 9.0ms preprocess, 386.1ms inference, 3.0ms postprocess per image at shape (1, 3, 544, 640)\n"
     ]
    },
    {
     "name": "stderr",
     "output_type": "stream",
     "text": [
      "Processing: 100%|██████████| 97/97 [07:54<00:00,  4.89s/images]\n"
     ]
    }
   ],
   "source": [
    "# Loading the images to be processed\n",
    "list_of_images = LoadImagesFromFolder(\"C:\\\\Users\\\\User\\\\FYP\\\\DownloadedImages\\\\LAION-400M\\\\nurseImageSubsetsForProcessing\\\\SubSet_2_OnePerson\")\n",
    "\n",
    "# Setting the human detection confidence threshold\n",
    "confidence_threshold = 0.5\n",
    "# Loading the YOLO model. This is downloaded automatically when run for the first time.\n",
    "model = YOLO('yolov8n.pt')\n",
    "# Retrieving the images of people detected in the images, the distance between the person and image center and the space taken up by the person\n",
    "people_images, dist_bet_centers, space_taken_up = YOLODetectPerson(model, list_of_images, confidence_threshold)\n",
    "\n",
    "# Loading the FairFace model, the res34_fair_align_multi_7_20190809.pt is used as it detects 7 distinct races as opposed to the other model.\n",
    "model_fair_7 = torchvision.models.resnet34(pretrained=True)\n",
    "model_fair_7.fc = nn.Linear(model_fair_7.fc.in_features, 18)\n",
    "model_fair_7.load_state_dict(torch.load('C:\\\\Users\\\\User\\\\FYP\\\\Testing\\\\res34_fair_align_multi_7_20190809.pt', map_location=torch.device('cpu')))\n",
    "model_fair_7 = model_fair_7.to(\"cpu\")\n",
    "model_fair_7.eval()\n",
    "\n",
    "# Processing the images using the ensamble model\n",
    "EnsambleDict = ensmableProcess(people_images, model_fair_7)\n",
    "\n",
    "# Adding the distance between centers and space taken up by the person to the dictionary so that it contains all relevant information.\n",
    "for index in EnsambleDict.keys():\n",
    "    tmp = {\"center_dist\":dist_bet_centers[index], \"space\": space_taken_up[index]}\n",
    "    EnsambleDict[index][1].update(tmp)\n",
    "\n",
    "# Saving the metrics to disk\n",
    "metric_save_directoy = \"DeepFaceShit\"#\"Doctor(DeepFace)\"\n",
    "save_metrics = True\n",
    "if save_metrics == True:\n",
    "    # Checking if the folder exists, and if not, creating it\n",
    "    sub_folder_path = Path(\"..\\\\DownloadedImages\\\\\"+CamelCase(metric_save_directoy))\n",
    "    if not sub_folder_path.exists():\n",
    "        sub_folder_path.mkdir()\n",
    "\n",
    "    # Checking if the folder exists, and if not, creating it\n",
    "    sub_folder_path = Path(\"..\\\\DownloadedImages\\\\\"+CamelCase(metric_save_directoy)+\"\\\\DeepFaceImagesMetrics\")\n",
    "    if not sub_folder_path.exists():\n",
    "        sub_folder_path.mkdir()\n",
    "\n",
    "    # Saving the general info metrics to csv file\n",
    "    SaveMetricsCSV(sub_folder_path, EnsambleDict)\n",
    "\n",
    "    # Saving the cropped images used by the DeepFace API to disk\n",
    "    for imgIndex in range(len(EnsambleDict.items())):\n",
    "        save_path = os.path.join(sub_folder_path,str(imgIndex)+\".jpg\")\n",
    "        cv2.imwrite(save_path, cv2.cvtColor(EnsambleDict[imgIndex][0], cv2.COLOR_BGR2RGB))"
   ]
  },
  {
   "cell_type": "code",
   "execution_count": 112,
   "metadata": {},
   "outputs": [],
   "source": [
    "MetricGenderDisplay(EnsambleDict, specific_race=None, specific_emotion=None, specific_age=None)\n",
    "MetricRaceDisplay(EnsambleDict, specific_gender=None, specific_emotion=None, specific_age=None)\n",
    "MetricAgeDisplay(EnsambleDict, specific_gender=None, specific_emotion=None, specific_race=None)\n",
    "ScatterPlotDisplay2D(EnsambleDict, x_axis_label=\"race\", y_axis_label=\"gender\", specific_gender=\"man\", specific_race=\"white\", specific_emotion=None)\n",
    "ScatterPlotDisplay3D(EnsambleDict, specific_gender=\"man\", specific_race=\"white\", specific_age=\"10-19\")\n",
    "MetricCenterDistanceDisplay(EnsambleDict, distance_val_list=dist_bet_centers, area_val_list=space_taken_up, category='race', type='distance') "
   ]
  },
  {
   "cell_type": "code",
   "execution_count": 113,
   "metadata": {},
   "outputs": [],
   "source": [
    "ShannonSimpsonMetrics(EnsambleDict)"
   ]
  },
  {
   "cell_type": "code",
   "execution_count": 114,
   "metadata": {},
   "outputs": [],
   "source": [
    "CorrelationMetric(EnsambleDict)"
   ]
  },
  {
   "cell_type": "markdown",
   "metadata": {},
   "source": [
    "## Comparing DeepFace / FairFace model\n",
    "\n",
    "The dataset used for comparison is the UTK-Face dataset as none of the models were trained on it. link: https://susanqq.github.io/UTKFace/"
   ]
  },
  {
   "cell_type": "code",
   "execution_count": 12,
   "metadata": {},
   "outputs": [],
   "source": [
    "# Loads the UTK-Face dataset part 1\n",
    "UTK_dataset_path = \"C:\\\\Users\\\\User\\\\FYP\\\\Datasets\\\\UTK-Face\\\\part1\"\n",
    "file_list = os.listdir(UTK_dataset_path)\n",
    "UTK_loaded_images = []\n",
    "\n",
    "for image_name in file_list:\n",
    "\n",
    "    image_path = os.path.join(UTK_dataset_path, image_name)\n",
    "    # loading the image\n",
    "    image = dlib.load_rgb_image(image_path)\n",
    "\n",
    "    image_info = image_name.split(\"_\")\n",
    "\n",
    "    # Converting from 0 -> man and 1 -> woman\n",
    "    image_info[1] = \"man\" if image_info[1] == \"0\" else \"woman\"\n",
    "\n",
    "    # Converting from 0 -> white, 1 -> black, 2 -> asian, 3-> indian and 4-> other (Hispanic, Latino, Middle Eastern)\n",
    "    if image_info[2] == \"0\":\n",
    "        image_info[2] = \"white\"\n",
    "    elif image_info[2] == \"1\":\n",
    "        image_info[2] = \"black\"\n",
    "    elif image_info[2] == \"2\":\n",
    "        image_info[2] = \"asian\"\n",
    "    elif image_info[2] == \"3\":\n",
    "        image_info[2] = \"indian\"\n",
    "    else:\n",
    "        image_info[2] = \"other\"\n",
    "\n",
    "    image_data = {\"image\":image, \"age\":image_info[0], \"gender\":image_info[1], \"race\":image_info[2]}\n",
    "    UTK_loaded_images.append(image_data)"
   ]
  },
  {
   "cell_type": "code",
   "execution_count": 13,
   "metadata": {},
   "outputs": [],
   "source": [
    "# Randomly selecting images from the UTK dataset to process\n",
    "num_elements_to_select = 371\n",
    "\n",
    "# Randomly select elements without replacement\n",
    "UTK_random_images = random.sample(UTK_loaded_images, num_elements_to_select)"
   ]
  },
  {
   "cell_type": "code",
   "execution_count": 14,
   "metadata": {},
   "outputs": [],
   "source": [
    "UTK_image_subset = []\n",
    "# Retrieving the images only\n",
    "for image in UTK_random_images:\n",
    "    UTK_image_subset.append(image[\"image\"])"
   ]
  },
  {
   "cell_type": "code",
   "execution_count": 42,
   "metadata": {},
   "outputs": [
    {
     "name": "stderr",
     "output_type": "stream",
     "text": [
      "Processing: 100%|██████████| 371/371 [21:00<00:00,  3.40s/images]\n",
      "Processing: 100%|██████████| 371/371 [26:47<00:00,  4.33s/images]\n",
      "Processing: 100%|██████████| 371/371 [35:05<00:00,  5.68s/images]\n"
     ]
    }
   ],
   "source": [
    "# YOLOv8 person detection not used as UTK-Face\n",
    "\n",
    "# Loading the FairFace model, the res34_fair_align_multi_7_20190809.pt is used as it detects 7 distinct races as opposed to the other model.\n",
    "model_fair_7 = torchvision.models.resnet34(pretrained=True)\n",
    "model_fair_7.fc = nn.Linear(model_fair_7.fc.in_features, 18)\n",
    "model_fair_7.load_state_dict(torch.load('C:\\\\Users\\\\User\\\\FYP\\\\Testing\\\\res34_fair_align_multi_7_20190809.pt', map_location=torch.device('cpu')))\n",
    "model_fair_7 = model_fair_7.to(\"cpu\")\n",
    "model_fair_7.eval()\n",
    "# Processing the images using the FairFace model\n",
    "EnsambleDict = ensmableProcess(UTK_image_subset, model_fair_7)\n",
    "\n",
    "# Processing the images using the FairFace model\n",
    "FairFaceDict = FairFaceProcess(UTK_image_subset, model_fair_7)\n",
    "\n",
    "# Processing the images using the FairFace model\n",
    "DeepFaceDict = DeepFaceProcess(UTK_image_subset)"
   ]
  },
  {
   "cell_type": "code",
   "execution_count": 43,
   "metadata": {},
   "outputs": [],
   "source": [
    "final_result_list = []\n",
    "# Forming the final result list\n",
    "for index, image_data in enumerate(UTK_random_images):\n",
    "    final_result_list.append({\"image_info\":image_data, \"deepface\":DeepFaceDict[index][1], \"fairface\":FairFaceDict[index][1], \"ensamble\":EnsambleDict[index][1]})"
   ]
  },
  {
   "cell_type": "code",
   "execution_count": 57,
   "metadata": {},
   "outputs": [],
   "source": [
    "# changing gender labels used for the sake of comparison wiht the UTK-Face dataset\n",
    "for data in DeepFaceDict:\n",
    "    if DeepFaceDict[data][1][\"gender\"] == \"male\":\n",
    "       DeepFaceDict[data][1][\"gender\"] = \"man\"\n",
    "    else:\n",
    "        DeepFaceDict[data][1][\"gender\"] = \"woman\""
   ]
  },
  {
   "cell_type": "code",
   "execution_count": 59,
   "metadata": {},
   "outputs": [],
   "source": [
    "# Counting the number of correct predictions for each model\n",
    "\n",
    "deepFaceGenderCorrectCount = 0\n",
    "deepFaceRaceCorrectCount = 0\n",
    "deepFaceAgeCorrectCount = 0\n",
    "\n",
    "fairFaceGenderCorrectCount = 0\n",
    "fairFaceRaceCorrectCount = 0\n",
    "fairFaceAgeCorrectCount = 0\n",
    "\n",
    "ensambleGenderCorrectCount = 0\n",
    "ensambleRaceCorrectCount = 0\n",
    "ensambleAgeCorrectCount = 0\n",
    "\n",
    "for result in final_result_list:\n",
    "    true_gender = result[\"image_info\"][\"gender\"]\n",
    "    true_age = result[\"image_info\"][\"age\"]\n",
    "    true_race = result[\"image_info\"][\"race\"]\n",
    "\n",
    "    deepface_gender = result[\"deepface\"][\"gender\"]\n",
    "    deepface_age = result[\"deepface\"][\"age\"]\n",
    "    deepface_race = result[\"deepface\"][\"race\"]\n",
    "\n",
    "    fairface_gender = result[\"fairface\"][\"gender\"]\n",
    "    fairface_age = result[\"fairface\"][\"age\"]\n",
    "    fairface_race = result[\"fairface\"][\"race\"]\n",
    "\n",
    "    ensamble_gender = result[\"ensamble\"][\"gender\"]\n",
    "    ensamble_age = result[\"ensamble\"][\"age\"]\n",
    "    ensamble_race = result[\"ensamble\"][\"race\"]\n",
    "\n",
    "    if true_gender.lower() == deepface_gender.lower():\n",
    "        deepFaceGenderCorrectCount += 1\n",
    "\n",
    "    if true_race.lower() == deepface_race.lower():\n",
    "        deepFaceRaceCorrectCount += 1\n",
    "    elif true_race.lower() == \"other\" and deepface_race in [\"latino\", \"middle eastern\"]:\n",
    "        deepFaceRaceCorrectCount += 1\n",
    "\n",
    "    # +6 so that the max range is included i.e., deepface_age = 15 range = 10-20 as otherwise it would be 10-19 \n",
    "    if int(true_age) in range(deepface_age-5, deepface_age+6):\n",
    "        deepFaceAgeCorrectCount += 1\n",
    "\n",
    "    if true_gender.lower() == fairface_gender.lower():\n",
    "        fairFaceGenderCorrectCount += 1\n",
    "\n",
    "    #-----------------------------------------------------\n",
    "    \n",
    "    if true_race.lower() == fairface_race.lower():\n",
    "        fairFaceRaceCorrectCount += 1\n",
    "    elif true_race.lower() == \"other\" and fairface_race in [\"latino\", \"middle eastern\"]:\n",
    "        deepFaceRaceCorrectCount += 1\n",
    "\n",
    "    if fairface_age == \"70+\" and int(true_age) > 70:\n",
    "        fairFaceAgeCorrectCount += 1\n",
    "    elif fairface_age != \"70+\" and int(true_age) in range(int(fairface_age.split(\"-\")[0]), int(fairface_age.split(\"-\")[1])):\n",
    "        fairFaceAgeCorrectCount += 1\n",
    "    \n",
    "    #-----------------------------------------------------\n",
    "    \n",
    "    if true_gender.lower() == ensamble_gender.lower():\n",
    "        ensambleGenderCorrectCount += 1\n",
    "\n",
    "    if true_race.lower() == ensamble_race.lower():\n",
    "        ensambleRaceCorrectCount += 1\n",
    "    elif true_race.lower() == \"other\" and ensamble_race in [\"latino\", \"middle eastern\"]:\n",
    "        ensambleRaceCorrectCount += 1\n",
    "\n",
    "    if fairface_age == \"70+\" and int(true_age) > 70:\n",
    "        ensambleAgeCorrectCount += 1\n",
    "    elif fairface_age != \"70+\" and int(true_age) in range(int(fairface_age.split(\"-\")[0]), int(fairface_age.split(\"-\")[1])):\n",
    "        ensambleAgeCorrectCount += 1"
   ]
  },
  {
   "cell_type": "markdown",
   "metadata": {},
   "source": [
    "### Comaprison Info Graphs"
   ]
  },
  {
   "cell_type": "code",
   "execution_count": 60,
   "metadata": {},
   "outputs": [
    {
     "data": {
      "image/png": "[encoded data removed]",
      "text/plain": [
       "<Figure size 640x480 with 1 Axes>"
      ]
     },
     "metadata": {},
     "output_type": "display_data"
    },
    {
     "data": {
      "image/png": "[encoded data removed]",
      "text/plain": [
       "<Figure size 640x480 with 1 Axes>"
      ]
     },
     "metadata": {},
     "output_type": "display_data"
    },
    {
     "data": {
      "image/png": "[encoded data removed]",
      "text/plain": [
       "<Figure size 640x480 with 1 Axes>"
      ]
     },
     "metadata": {},
     "output_type": "display_data"
    }
   ],
   "source": [
    "from collections import Counter\n",
    "import matplotlib.pyplot as plt\n",
    "\n",
    "# This function outputs the info regarding the images present in the dataset/subset\n",
    "# Counting the number of each label present in the dataset subset\n",
    "def datasetInfo(data, num_of_images):\n",
    "    ages = [item[\"age\"] for item in data]\n",
    "    genders = [item[\"gender\"] for item in data]\n",
    "    races = [item[\"race\"] for item in data]\n",
    "    age_counts = Counter(ages)\n",
    "    gender_counts = Counter(genders)\n",
    "    race_counts = Counter(races)\n",
    "\n",
    "    # Sort age counts by age\n",
    "    sorted_age_counts = dict(sorted(age_counts.items()))\n",
    "\n",
    "    # Plotting the bar graph\n",
    "    plt.bar(sorted_age_counts.keys(), sorted_age_counts.values())\n",
    "    plt.xlabel('Age')\n",
    "    plt.ylabel('Count')\n",
    "    plt.title('Age Subset ('+str(num_of_images)+') Distribution')\n",
    "    plt.xticks(np.arange(0, int(max(ages)), 5))\n",
    "    plt.show()\n",
    "\n",
    "    # Plotting the bar graph\n",
    "    plt.bar(gender_counts.keys(), gender_counts.values())\n",
    "    plt.xlabel('Gender')\n",
    "    plt.ylabel('Count')\n",
    "    plt.title('Gender Subset ('+str(num_of_images)+') Distribution')\n",
    "    plt.show()\n",
    "\n",
    "    # Plotting the bar graph\n",
    "    plt.bar(race_counts.keys(), race_counts.values())\n",
    "    plt.xlabel('Race')\n",
    "    plt.ylabel('Count')\n",
    "    plt.title('Race Subset ('+str(num_of_images)+') Distribution')\n",
    "    plt.show()\n",
    "\n",
    "datasetInfo(UTK_random_images, num_elements_to_select)"
   ]
  },
  {
   "cell_type": "code",
   "execution_count": 61,
   "metadata": {},
   "outputs": [
    {
     "data": {
      "image/png": "[encoded data removed]",
      "text/plain": [
       "<Figure size 640x480 with 1 Axes>"
      ]
     },
     "metadata": {},
     "output_type": "display_data"
    }
   ],
   "source": [
    "import matplotlib.pyplot as plt\n",
    "import numpy as np\n",
    "\n",
    "# This outputs the info on how each of the models performed on the dataset/subset\n",
    "\n",
    "classes = ['DeepFace', 'FairFace', 'Ensamble']\n",
    "\n",
    "gender_values = [deepFaceGenderCorrectCount, fairFaceGenderCorrectCount, ensambleGenderCorrectCount]\n",
    "race_values = [deepFaceRaceCorrectCount, fairFaceRaceCorrectCount, ensambleRaceCorrectCount]\n",
    "age_values = [deepFaceAgeCorrectCount, fairFaceAgeCorrectCount, ensambleAgeCorrectCount]\n",
    "\n",
    "# Bar width\n",
    "bar_width = 0.25\n",
    "\n",
    "# Set positions for bars on X-axis\n",
    "r1 = np.arange(len(classes))\n",
    "r2 = [x + bar_width for x in r1]\n",
    "r3 = [x + bar_width for x in r2]\n",
    "\n",
    "# Create bar chart\n",
    "plt.bar(r1, gender_values, width=bar_width, label='Gender Count')\n",
    "plt.bar(r2, race_values, width=bar_width, label='Race Count')\n",
    "plt.bar(r3, age_values, width=bar_width, label='Age Count')\n",
    "\n",
    "# Display the numbers on top of each bar\n",
    "for i, value in enumerate(gender_values):\n",
    "    plt.text(r1[i], value + 0.1, str(value), ha='center', va='bottom')\n",
    "\n",
    "for i, value in enumerate(race_values):\n",
    "    plt.text(r2[i], value + 0.1, str(value), ha='center', va='bottom')\n",
    "\n",
    "for i, value in enumerate(age_values):\n",
    "    plt.text(r3[i], value + 0.1, str(value), ha='center', va='bottom')\n",
    "\n",
    "# Set labels and title\n",
    "plt.xlabel('Models')\n",
    "plt.ylabel('Correct Predictions')\n",
    "plt.title('Model Performance - '+str(num_elements_to_select)+' Randomly Selected UTK Images')\n",
    "\n",
    "# Set x-axis ticks and labels\n",
    "plt.xticks([r + bar_width for r in range(len(classes))], classes)\n",
    "\n",
    "# Add legend\n",
    "plt.legend()\n",
    "\n",
    "# Show the plot\n",
    "plt.show()"
   ]
  },
  {
   "cell_type": "markdown",
   "metadata": {},
   "source": [
    "# Old Unused Functions"
   ]
  },
  {
   "cell_type": "code",
   "execution_count": 151,
   "metadata": {},
   "outputs": [],
   "source": [
    "# def SaveMetricsCSVOld(sub_folder_path, metric_dict):\n",
    "#     \"\"\" \n",
    "#     Description:\n",
    "#     This function serves to save the dominant values per image resultant from the DeepFaceProcess function to a CSV file. (Used only in DeepFaceProcess function)\n",
    "    \n",
    "#     Parameters:\n",
    "#     sub_folder_path (str) - Path to the folder in which the images are stored.\n",
    "#     metric_dict (dict) - Dictionary containing the dominant values per image resultant from the DeepFaceProcess fucntion.\n",
    "\n",
    "#     Returns:\n",
    "#     None.\n",
    "#     \"\"\"\n",
    "#     # Specifying the CSV file path\n",
    "#     csv_file_path = Path(os.path.join(sub_folder_path, 'output_data.csv'))\n",
    "\n",
    "#     # Opening the CSV file for writing\n",
    "#     with open(csv_file_path, mode='w', newline='') as file:\n",
    "#         fieldNames = [\"Image_No\"]\n",
    "        \n",
    "#         # Getting the additional fields from the dictionary and adding them to the fieldnames list\n",
    "#         additionalFields = list(metric_dict[0][1].keys())\n",
    "#         fieldNames.extend(additionalFields)\n",
    "#         writer = csv.DictWriter(file, fieldnames=fieldNames)\n",
    "\n",
    "#         # Writing the header row\n",
    "#         writer.writeheader()\n",
    "\n",
    "#         # Writing the image properties to the CSV file\n",
    "#         for image_name, properties in metric_dict.items():\n",
    "#             tmp = {'Image_No': image_name}\n",
    "#             tmp.update({key: properties[1][key] for key in additionalFields})\n",
    "#             writer.writerow(tmp)"
   ]
  },
  {
   "cell_type": "code",
   "execution_count": null,
   "metadata": {},
   "outputs": [],
   "source": [
    "# def LoadMetricCSVFromFolderOld(csv_file_path):\n",
    "#     \"\"\" \n",
    "#     Description:\n",
    "#     This function is used to load the image metrics (if saved) from the DeepFaceProcess function, so as to avoid running it multiple times for the same images.\n",
    "\n",
    "#     Parameters:\n",
    "#     csv_file_path (str) - Path to the file containing the metrics.\n",
    "\n",
    "#     Returns:\n",
    "#     image_list (list) - List containing the loaded images.\n",
    "#     \"\"\"\n",
    "\n",
    "#     data_dict = {}\n",
    "\n",
    "#     with open(csv_file_path+\"\\\\output_data.csv\", mode='r', newline='') as file:\n",
    "#         reader = csv.DictReader(file)\n",
    "#         header = reader.fieldnames\n",
    "\n",
    "#         for row in reader:\n",
    "#             image_no = int(row['Image_No'])\n",
    "            \n",
    "#             image = cv2.cvtColor(cv2.imread(csv_file_path+\"\\\\\"+str(image_no)+\".jpg\"), cv2.COLOR_BGR2RGB)\n",
    "#             tmp = {key: row[key] for key in header}\n",
    "            \n",
    "#             # Removing the 'Image_No' key as we dont want it saved in the dictionary\n",
    "#             tmp.pop('Image_No', None)\n",
    "\n",
    "#             data_dict[image_no] = [image,tmp]\n",
    "\n",
    "#     return data_dict"
   ]
  }
 ],
 "metadata": {
  "kernelspec": {
   "display_name": "ComputerVision",
   "language": "python",
   "name": "python3"
  },
  "language_info": {
   "codemirror_mode": {
    "name": "ipython",
    "version": 3
   },
   "file_extension": ".py",
   "mimetype": "text/x-python",
   "name": "python",
   "nbconvert_exporter": "python",
   "pygments_lexer": "ipython3",
   "version": "3.9.16"
  }
 },
 "nbformat": 4,
 "nbformat_minor": 2
}
