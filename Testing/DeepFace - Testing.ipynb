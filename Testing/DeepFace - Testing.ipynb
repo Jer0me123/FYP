{
 "cells": [
  {
   "cell_type": "markdown",
   "metadata": {},
   "source": [
    "# FairFace - Pipeline"
   ]
  },
  {
   "cell_type": "markdown",
   "metadata": {},
   "source": [
    "### Required Libraries"
   ]
  },
  {
   "cell_type": "code",
   "execution_count": 1,
   "metadata": {},
   "outputs": [],
   "source": [
    "# pip install dlib"
   ]
  },
  {
   "cell_type": "code",
   "execution_count": 322,
   "metadata": {},
   "outputs": [],
   "source": [
    "import numpy as np\n",
    "import cv2\n",
    "import os\n",
    "import csv\n",
    "import tensorflow\n",
    "from matplotlib import pyplot as plt\n",
    "from deepface import DeepFace\n",
    "from pathlib import Path\n",
    "from tqdm import tqdm\n",
    "import plotly.express as px\n",
    "from ultralytics import YOLO\n",
    "import torch\n",
    "import torch.nn as nn\n",
    "import math\n",
    "# import pandas\n",
    "# import pandas as pd\n",
    "import torchvision\n",
    "# from torchvision import datasets, models, transforms\n",
    "from torchvision import transforms\n",
    "import dlib\n",
    "import random\n",
    "import statistics\n",
    "import ast"
   ]
  },
  {
   "cell_type": "code",
   "execution_count": 270,
   "metadata": {},
   "outputs": [],
   "source": [
    "def CreateDirectories(directory_path):\n",
    "    \"\"\" \n",
    "    Description:\n",
    "    This function is used to create the required directories.\n",
    "\n",
    "    Parameters:\n",
    "    directory_path (str) - Text denoting the directory path.\n",
    "\n",
    "    Returns:\n",
    "    None\n",
    "    \"\"\"\n",
    "        \n",
    "    # Splitting the directory path into its components\n",
    "    path_components = []\n",
    "    while True:\n",
    "        directory_path, component = os.path.split(directory_path)\n",
    "        if component:\n",
    "            # Adding the directories to the list\n",
    "            path_components.insert(0, component)\n",
    "        else:\n",
    "            # Adding the first directory\n",
    "            path_components.insert(0, directory_path)\n",
    "            break\n",
    "    \n",
    "    tmp_path = \"\"\n",
    "    for component in path_components:\n",
    "        tmp_path = Path(os.path.join(tmp_path, component))\n",
    "        if not tmp_path.exists():\n",
    "            tmp_path.mkdir()"
   ]
  },
  {
   "cell_type": "code",
   "execution_count": 9,
   "metadata": {},
   "outputs": [],
   "source": [
    "def LoadImagesFromFolder(folder_path):\n",
    "    \"\"\" \n",
    "    Description:\n",
    "    This function is used to load images from the specified folder, mainly to avoid repeatedly going through the process of retrieving the same images. \n",
    "    However it can be used to load other images (GenerativeImages).\n",
    "\n",
    "    Parameters:\n",
    "    folder_path (str) - Path to the folder in which the images are stored.\n",
    "\n",
    "    Returns:\n",
    "    image_list (list) - List containing the loaded images.\n",
    "    \"\"\"\n",
    "\n",
    "    # Initialising an empty list to store the loaded images\n",
    "    image_list = []\n",
    "\n",
    "    # Retrieving the list of files in the folder\n",
    "    list_of_files = os.listdir(folder_path)\n",
    "    \n",
    "    # Filtering out non-image files (e.g., folders, etc.)\n",
    "    image_files = [file for file in list_of_files if file.lower().endswith(('.jpg', '.jpeg', '.png', '.gif', '.bmp'))]\n",
    "\n",
    "    # Sorting the image files in ascending order\n",
    "    list_of_files = sorted(image_files, key=lambda x: int(x.split('.')[0]))\n",
    "\n",
    "    # Looping through the files in the folder\n",
    "    for file_no in range(len(list_of_files)):\n",
    "        try:\n",
    "            filename = str(list_of_files[file_no])\n",
    "\n",
    "            if filename in list_of_files:\n",
    "                # Constructing the full path to the image file\n",
    "                image_path = os.path.join(folder_path, filename)\n",
    "\n",
    "                # Loading the image using cv2 in BGR format\n",
    "                image_bgr = cv2.imread(image_path)\n",
    "\n",
    "                if image_bgr is not None:\n",
    "                    # Converting BGR to RGB format\n",
    "                    image_rgb = cv2.cvtColor(image_bgr, cv2.COLOR_BGR2RGB)\n",
    "\n",
    "                    # Appending the RGB image to the list\n",
    "                    image_list.append(image_rgb)\n",
    "        except:\n",
    "            pass\n",
    "    \n",
    "    return image_list"
   ]
  },
  {
   "cell_type": "code",
   "execution_count": 96,
   "metadata": {},
   "outputs": [],
   "source": [
    "def LoadMetricCSVFromFolder(csv_file_path):\n",
    "    \"\"\" \n",
    "    Description:\n",
    "    This function is used to load the image metrics (if saved) from the FairFaceProcess/DeepFaceProcess/EnsambleProcess functions,\n",
    "    so as to avoid running them multiple times on the same images.\n",
    "\n",
    "    Parameters:\n",
    "    csv_file_path (str) - Path to the file containing the metrics.\n",
    "\n",
    "    Returns:\n",
    "    data_dict (dict) - Dictionary containing the image and its metrics.\n",
    "    \"\"\"\n",
    "\n",
    "    data_dict = {}\n",
    "\n",
    "    with open(csv_file_path+\"\\\\output_data.csv\", mode='r', newline='') as file:\n",
    "        reader = csv.DictReader(file)\n",
    "        header = reader.fieldnames\n",
    "\n",
    "        image_data = []\n",
    "        # Looping through the rows in the csv file\n",
    "        for index, row in enumerate(reader):\n",
    "            image_no = int(row['Image_No'])\n",
    "            \n",
    "            face_image = cv2.cvtColor(cv2.imread(csv_file_path+\"\\\\\"+str(image_no)+\".jpg\"), cv2.COLOR_BGR2RGB)\n",
    "\n",
    "            # tmp = {key: row[key] for key in header if row[key] != \"\"}\n",
    "\n",
    "            tmp = {key: float(row[key]) if row[key].replace('.', '', 1).isdigit() else row[key] for key in header if row[key] != \"\"}\n",
    "\n",
    "            # Removing the 'Image_No' key as we dont want it saved in the dictionary\n",
    "            tmp.pop('Image_No', None)\n",
    "            \n",
    "            # Adding the relevant data to the dictionary, this is done as the data is stored across two lines in the csv file\n",
    "            if index % 2 == 0:\n",
    "                image_data.append(face_image)\n",
    "                image_data.append(tmp)\n",
    "            else:\n",
    "                for key in tmp:\n",
    "                    # Checking if the entry is of the form of a dictionary if so converting the string to a dictionary using eval\n",
    "                    if isinstance(ast.literal_eval(str(tmp[key])), dict):\n",
    "                        tmp[key] = eval(tmp[key])\n",
    "                image_data.append(tmp)\n",
    "                data_dict[image_no] = image_data\n",
    "                image_data = []\n",
    "\n",
    "    return data_dict"
   ]
  },
  {
   "cell_type": "code",
   "execution_count": 105,
   "metadata": {},
   "outputs": [],
   "source": [
    "def SaveMetricsCSV(sub_folder_path, metric_dict):\n",
    "    \"\"\" \n",
    "    Description:\n",
    "    This function serves to save the resultant metrics from the FairFaceProcess/DeepFaceProcess/EnsambleProcess functions. \n",
    "    \n",
    "    Parameters:\n",
    "    sub_folder_path (str) - Path to the folder in which the images are stored.\n",
    "    metric_dict (dict) - Dictionary containing the dominant values per image resultant from the functions.\n",
    "\n",
    "    Returns:\n",
    "    None.\n",
    "    \"\"\"\n",
    "    # Specifying the CSV file path\n",
    "    csv_file_path = Path(os.path.join(sub_folder_path, 'output_data.csv'))\n",
    "\n",
    "    # Open the CSV file in write mode\n",
    "    with open(csv_file_path, 'w', newline='') as csv_file:\n",
    "        fieldNames = [\"Image_No\"]\n",
    "\n",
    "        # Getting the additional fields from the dictionary and adding them to the fieldnames list\n",
    "        additionalFields = list(metric_dict[0][1].keys())\n",
    "        fieldNames.extend(additionalFields)\n",
    "        writer = csv.DictWriter(csv_file, fieldnames=fieldNames)\n",
    "\n",
    "        # Writing the header row\n",
    "        writer.writeheader()\n",
    "\n",
    "        # Write each row for the given structure\n",
    "        for image_name, (_, dict1, dict2) in metric_dict.items():\n",
    "            # This list contains the image labels\n",
    "            label_row = {'Image_No': image_name}\n",
    "            # This list containst the confidence scores associated with the labels\n",
    "            confidence_score_row = {'Image_No': image_name}\n",
    "\n",
    "            # Writing the image properties for each row\n",
    "            for key in additionalFields:\n",
    "                # Adding the value where it is present otherwise adding an empty string\n",
    "                if key in dict1:\n",
    "                    label_row.update({key:dict1[key]})\n",
    "                else:\n",
    "                    label_row.update({key:\"\"})\n",
    "\n",
    "                if key in dict2:\n",
    "                    confidence_score_row.update({key:dict2[key]})\n",
    "                else:\n",
    "                    confidence_score_row.update({key:\"\"})\n",
    "\n",
    "            writer.writerow(label_row)\n",
    "            writer.writerow(confidence_score_row)"
   ]
  },
  {
   "cell_type": "code",
   "execution_count": 110,
   "metadata": {},
   "outputs": [],
   "source": [
    "def FindObjWithLargestArea(objs):\n",
    "    \"\"\" \n",
    "    Description:\n",
    "    This function serves to detect the object (face) with the largest area in the image. (Usable only with the DeepFace function)\n",
    "    \n",
    "    Parameters:\n",
    "    objs (dict) - Dictionary containing the information from the DeepFace.analyze function relevant to the image.\n",
    "\n",
    "    Returns:\n",
    "    objectIndex (int) - Index of the object taking up the largest area.\n",
    "    \"\"\"\n",
    "    largestArea = 0\n",
    "    objectIndex = 0\n",
    "\n",
    "    for index, obj in enumerate(objs):\n",
    "        if obj['region']['w'] * obj['region']['h'] > largestArea:\n",
    "            largestArea = obj['region']['w'] * obj['region']['h']\n",
    "            objectIndex = index\n",
    "    return objectIndex"
   ]
  },
  {
   "cell_type": "code",
   "execution_count": 113,
   "metadata": {},
   "outputs": [],
   "source": [
    "def YOLODetectPerson(images, confidence_threshold=0.5):\n",
    "    \"\"\" \n",
    "    Description:\n",
    "    This function serves to detect an entire person in an image.\n",
    "    \n",
    "    Parameters:\n",
    "    model - YOLO model used to detect the person in the image.\n",
    "    images (list) - List containing the images to be processed.\n",
    "    confidence_threshold (float) - Confidence threshold to filter out predictions below the threshold.\n",
    "\n",
    "    Returns:\n",
    "    cropped_images (list) - List containing the cropped images.\n",
    "    dist_between_centers (list) - List containing the distance between the centers of the image and the center of the bounding box in each image.\n",
    "    space_takenup (list) - List containing the percentage of the image taken up by the bounding box in each image.\n",
    "    \"\"\"\n",
    "    \n",
    "    cropped_images = []\n",
    "    dist_between_centers = []\n",
    "    space_takenup = []\n",
    "\n",
    "    # Loading the YOLO model. This is downloaded automatically when run for the first time.\n",
    "    model = YOLO('yolov8n.pt')\n",
    "\n",
    "    for input_image in images:\n",
    "        # Making predictions\n",
    "        predictions = model.predict(input_image, classes=0)\n",
    "\n",
    "        # Extracting the bounding box coordinates, prediction confidance, prediction class\n",
    "        boxes = predictions[0].boxes.xyxy  \n",
    "        scores = predictions[0].boxes.conf\n",
    "        classes = predictions[0].boxes.cls\n",
    "\n",
    "        # Filtering out predictions below the confidence threshold\n",
    "        filtered_indices = torch.where(scores > confidence_threshold)[0]\n",
    "        filtered_boxes = boxes[filtered_indices]\n",
    "        filtered_classes = classes[filtered_indices]\n",
    "\n",
    "        # Finding the area of the image and its center\n",
    "        area_of_image = input_image.shape[0] * input_image.shape[1]\n",
    "        image_center_x = input_image.shape[1] // 2\n",
    "        image_center_y = input_image.shape[0] // 2\n",
    "\n",
    "\n",
    "        for box, class_id in zip(filtered_boxes, filtered_classes):\n",
    "            box = box.cpu().numpy().astype(int)\n",
    "            class_id = int(class_id.cpu().numpy())\n",
    "\n",
    "            # Crop the image based on the bounding box\n",
    "            cropped_image = input_image[box[1]:box[3], box[0]:box[2]]\n",
    "            cropped_images.append(cropped_image)\n",
    "\n",
    "            area_of_cropped_image = cropped_image.shape[0] * cropped_image.shape[1]\n",
    "            space_takenup.append(area_of_cropped_image/area_of_image * 100)\n",
    "\n",
    "            # Determining the center of the bounding box\n",
    "            center_x = (box[0] + box[2]) // 2\n",
    "            center_y = (box[1] + box[3]) // 2\n",
    "\n",
    "            distance_between_centers = math.dist([center_x, center_y], [image_center_x, image_center_y])\n",
    "            dist_between_centers.append(distance_between_centers)\n",
    "\n",
    "    return cropped_images, dist_between_centers, space_takenup"
   ]
  },
  {
   "cell_type": "markdown",
   "metadata": {},
   "source": [
    "### FairFace Model\n",
    "\n",
    "link: https://github.com/dchen236/FairFace"
   ]
  },
  {
   "cell_type": "code",
   "execution_count": 114,
   "metadata": {},
   "outputs": [],
   "source": [
    "def FairFaceProcess(listOfImages, fairFaceModel):\n",
    "    \"\"\" \n",
    "    Description:\n",
    "    This function serves to determine the properties of the primary detected face in an image. \n",
    "    For each image passed it will only consider the most prominent face, this is done as each \n",
    "    image is initially being processed by YOLOv8 to detect/crop individual people and then said images are fed to this function.\n",
    "    \n",
    "    Parameters:\n",
    "    listOfImages (list) - List containing the images to be processed. \n",
    "    fairFaceModel - FairFace model used to determine the properties of the face in the image.\n",
    "\n",
    "    Returns:\n",
    "    FairFaceDict (dict) - Dictionary containing the information relevant to each image.\n",
    "    \"\"\"\n",
    "    tensorflow.keras.utils.disable_interactive_logging()\n",
    "    FairFaceDict = {}\n",
    "\n",
    "    # Create a tqdm progress bar\n",
    "    progress_bar = tqdm(total=len(listOfImages), desc=\"Processing\", unit=\"images\")\n",
    "\n",
    "    # Transformation process used to convert images to the expected input format of the fairface model.\n",
    "    trans = transforms.Compose([\n",
    "    transforms.ToPILImage(),\n",
    "    transforms.Resize((224, 224)),\n",
    "    transforms.ToTensor(),\n",
    "    transforms.Normalize(mean=[0.485, 0.456, 0.406], std=[0.229, 0.224, 0.225])\n",
    "    ])\n",
    "\n",
    "    for image_index, image in enumerate(listOfImages):\n",
    "        # These mappings hold the index associated with each label, e.g., man confidence value is stored at index 1 of the gender array.\n",
    "        # The same applies to the other mappings. These values are then replaced with the confidence associated with each label.\n",
    "        # The model distinguishes betwen east and southest asian, but these were combined together for the sake of consistency.\n",
    "        gender_mapping = {\"man\":0,\"woman\":1}\n",
    "        race_mapping = {\"white\":0,\"black\":1,\"latino hispanic\":2,\"asian\":3,\"indian\":4,\"middle eastern\":5}\n",
    "        age_mapping = {\"0-2\":0,\"3-9\":1,\"10-19\":2,\"20-29\":3,\"30-39\":4,\"40-49\":5,\"50-59\":6,\"60-69\":7,\"70+\":8}\n",
    "\n",
    "        # Using the mtcnn detector to detect faces in the image\n",
    "        objs = DeepFace.analyze(image, enforce_detection=False,  detector_backend=\"mtcnn\", silent=True)\n",
    "            \n",
    "        # Using the index of the primary face (takes up most area) in the image,\n",
    "        # This is done in the case that their are still multiple faces in the image.\n",
    "        index =  FindObjWithLargestArea(objs)\n",
    "\n",
    "        # Cropping the image to only include the face\n",
    "        img_area = objs[index]['region']\n",
    "        x = img_area['x']\n",
    "        y = img_area['y']\n",
    "        width = img_area['x'] + img_area['w']\n",
    "        height = img_area['y'] + img_area['h']\n",
    "        faceImg = image[y:height, x:width]\n",
    "\n",
    "        # Transforming the image to the expected input format of the fairface model\n",
    "        transformed_image = trans(faceImg)\n",
    "        transformed_image = transformed_image.view(1, 3, 224, 224) \n",
    "        transformed_image = transformed_image.to(\"cpu\")\n",
    "\n",
    "        outputs = fairFaceModel(transformed_image)\n",
    "        outputs = outputs.cpu().detach().numpy()\n",
    "        outputs = np.squeeze(outputs)\n",
    "\n",
    "        # Retrieving the confidence values for each label\n",
    "        gender_outputs = outputs[7:9]\n",
    "        age_outputs = outputs[9:18]\n",
    "\n",
    "        # This array has probabilities for east asian and southeast asian, so we need to combine them\n",
    "        race_outputs = outputs[:7]\n",
    "        # Their values are stored in index 3 and 4, so we will take the average of these two values and store at index 3\n",
    "        race_outputs[3] = np.mean(race_outputs[3:5])\n",
    "        # Now we remove the extra value at index 4\n",
    "        race_outputs = np.delete(race_outputs, 4)\n",
    "\n",
    "        # Calculating the confidence values for each label\n",
    "        race_score = np.exp(race_outputs) / np.sum(np.exp(race_outputs))\n",
    "        gender_score = np.exp(gender_outputs) / np.sum(np.exp(gender_outputs))\n",
    "        age_score = np.exp(age_outputs) / np.sum(np.exp(age_outputs))\n",
    "\n",
    "        # Setting the appropriate scores for each category\n",
    "        for gender in [\"man\", \"woman\"]:\n",
    "            gender_mapping[gender] = gender_score[gender_mapping[gender]]*100\n",
    "\n",
    "        for race in [\"white\", \"black\", \"latino hispanic\", \"asian\", \"indian\", \"middle eastern\"]:\n",
    "            race_mapping[race] = race_score[race_mapping[race]]*100\n",
    "\n",
    "        for age_range in [\"0-2\",\"3-9\",\"10-19\",\"20-29\",\"30-39\",\"40-49\",\"50-59\",\"60-69\",\"70+\"]:\n",
    "            age_mapping[age_range] = age_score[age_mapping[age_range]]*100\n",
    "\n",
    "        # Determing the label with the highest confidence value\n",
    "        gender_label = max(gender_mapping, key=gender_mapping.get)\n",
    "        race_label = max(race_mapping, key=race_mapping.get)\n",
    "        age_label = max(age_mapping, key=age_mapping.get)\n",
    "\n",
    "        ImageInfo = {\"age\":age_label, \"gender\":gender_label, \"race\":race_label}\n",
    "        imageConfidenceData = {\"race\":race_mapping, \"gender\":gender_mapping, \"age\":age_mapping}\n",
    "        FairFaceDict[image_index] = [faceImg, ImageInfo, imageConfidenceData]\n",
    "\n",
    "        # Updating the progress bar\n",
    "        progress_bar.update(1)\n",
    "    return FairFaceDict\n"
   ]
  },
  {
   "cell_type": "markdown",
   "metadata": {},
   "source": [
    "# Testing Pipeline with FairFace Model"
   ]
  },
  {
   "cell_type": "code",
   "execution_count": 336,
   "metadata": {},
   "outputs": [
    {
     "name": "stdout",
     "output_type": "stream",
     "text": [
      "\n",
      "0: 640x480 1 person, 240.1ms\n",
      "Speed: 9.0ms preprocess, 240.1ms inference, 3.0ms postprocess per image at shape (1, 3, 640, 480)\n",
      "\n",
      "0: 384x640 1 person, 256.1ms\n",
      "Speed: 11.0ms preprocess, 256.1ms inference, 2.0ms postprocess per image at shape (1, 3, 384, 640)\n",
      "\n",
      "0: 640x448 1 person, 246.1ms\n",
      "Speed: 11.0ms preprocess, 246.1ms inference, 2.0ms postprocess per image at shape (1, 3, 640, 448)\n",
      "\n",
      "0: 640x448 1 person, 265.1ms\n",
      "Speed: 11.0ms preprocess, 265.1ms inference, 4.0ms postprocess per image at shape (1, 3, 640, 448)\n",
      "\n",
      "0: 640x448 1 person, 271.1ms\n",
      "Speed: 12.0ms preprocess, 271.1ms inference, 3.0ms postprocess per image at shape (1, 3, 640, 448)\n",
      "\n",
      "0: 640x448 1 person, 282.1ms\n",
      "Speed: 14.0ms preprocess, 282.1ms inference, 3.0ms postprocess per image at shape (1, 3, 640, 448)\n",
      "\n",
      "0: 640x480 1 person, 358.1ms\n",
      "Speed: 11.0ms preprocess, 358.1ms inference, 3.0ms postprocess per image at shape (1, 3, 640, 480)\n",
      "\n",
      "0: 448x640 1 person, 263.0ms\n",
      "Speed: 12.0ms preprocess, 263.0ms inference, 2.0ms postprocess per image at shape (1, 3, 448, 640)\n",
      "\n",
      "0: 576x640 2 persons, 353.1ms\n",
      "Speed: 8.0ms preprocess, 353.1ms inference, 5.0ms postprocess per image at shape (1, 3, 576, 640)\n",
      "\n",
      "0: 448x640 1 person, 273.1ms\n",
      "Speed: 13.0ms preprocess, 273.1ms inference, 4.0ms postprocess per image at shape (1, 3, 448, 640)\n",
      "\n",
      "0: 640x448 1 person, 250.1ms\n",
      "Speed: 12.0ms preprocess, 250.1ms inference, 2.0ms postprocess per image at shape (1, 3, 640, 448)\n",
      "\n",
      "0: 640x640 1 person, 298.1ms\n",
      "Speed: 8.0ms preprocess, 298.1ms inference, 5.0ms postprocess per image at shape (1, 3, 640, 640)\n",
      "\n",
      "0: 640x608 1 person, 353.1ms\n",
      "Speed: 8.0ms preprocess, 353.1ms inference, 6.0ms postprocess per image at shape (1, 3, 640, 608)\n",
      "\n",
      "0: 448x640 1 person, 266.1ms\n",
      "Speed: 11.0ms preprocess, 266.1ms inference, 2.0ms postprocess per image at shape (1, 3, 448, 640)\n",
      "\n",
      "0: 640x480 1 person, 257.8ms\n",
      "Speed: 12.0ms preprocess, 257.8ms inference, 3.0ms postprocess per image at shape (1, 3, 640, 480)\n",
      "\n",
      "0: 352x640 1 person, 327.1ms\n",
      "Speed: 11.0ms preprocess, 327.1ms inference, 2.0ms postprocess per image at shape (1, 3, 352, 640)\n",
      "\n",
      "0: 576x640 1 person, 371.1ms\n",
      "Speed: 8.0ms preprocess, 371.1ms inference, 4.0ms postprocess per image at shape (1, 3, 576, 640)\n",
      "\n",
      "0: 640x480 1 person, 265.1ms\n",
      "Speed: 11.0ms preprocess, 265.1ms inference, 3.0ms postprocess per image at shape (1, 3, 640, 480)\n",
      "\n",
      "0: 640x480 1 person, 258.1ms\n",
      "Speed: 11.0ms preprocess, 258.1ms inference, 3.0ms postprocess per image at shape (1, 3, 640, 480)\n",
      "\n",
      "0: 640x448 1 person, 265.1ms\n",
      "Speed: 11.0ms preprocess, 265.1ms inference, 2.0ms postprocess per image at shape (1, 3, 640, 448)\n",
      "\n",
      "0: 544x640 1 person, 269.1ms\n",
      "Speed: 9.0ms preprocess, 269.1ms inference, 4.0ms postprocess per image at shape (1, 3, 544, 640)\n",
      "\n",
      "0: 640x448 1 person, 261.1ms\n",
      "Speed: 10.0ms preprocess, 261.1ms inference, 3.0ms postprocess per image at shape (1, 3, 640, 448)\n",
      "\n",
      "0: 640x640 1 person, 316.1ms\n",
      "Speed: 9.0ms preprocess, 316.1ms inference, 19.0ms postprocess per image at shape (1, 3, 640, 640)\n",
      "\n",
      "0: 640x448 1 person, 246.1ms\n",
      "Speed: 10.0ms preprocess, 246.1ms inference, 3.0ms postprocess per image at shape (1, 3, 640, 448)\n",
      "\n",
      "0: 640x448 1 person, 252.1ms\n",
      "Speed: 11.0ms preprocess, 252.1ms inference, 2.0ms postprocess per image at shape (1, 3, 640, 448)\n",
      "\n",
      "0: 640x448 1 person, 236.1ms\n",
      "Speed: 11.0ms preprocess, 236.1ms inference, 2.0ms postprocess per image at shape (1, 3, 640, 448)\n",
      "\n",
      "0: 640x512 1 person, 251.1ms\n",
      "Speed: 11.0ms preprocess, 251.1ms inference, 4.0ms postprocess per image at shape (1, 3, 640, 512)\n",
      "\n",
      "0: 640x480 1 person, 259.1ms\n",
      "Speed: 11.0ms preprocess, 259.1ms inference, 4.0ms postprocess per image at shape (1, 3, 640, 480)\n",
      "\n",
      "0: 480x640 1 person, 259.1ms\n",
      "Speed: 12.0ms preprocess, 259.1ms inference, 4.0ms postprocess per image at shape (1, 3, 480, 640)\n",
      "\n",
      "0: 512x640 1 person, 317.1ms\n",
      "Speed: 11.0ms preprocess, 317.1ms inference, 3.0ms postprocess per image at shape (1, 3, 512, 640)\n",
      "\n",
      "0: 640x544 1 person, 345.1ms\n",
      "Speed: 8.0ms preprocess, 345.1ms inference, 4.0ms postprocess per image at shape (1, 3, 640, 544)\n",
      "\n",
      "0: 640x480 1 person, 276.1ms\n",
      "Speed: 16.0ms preprocess, 276.1ms inference, 4.0ms postprocess per image at shape (1, 3, 640, 480)\n",
      "\n",
      "0: 448x640 1 person, 254.1ms\n",
      "Speed: 11.0ms preprocess, 254.1ms inference, 3.0ms postprocess per image at shape (1, 3, 448, 640)\n",
      "\n",
      "0: 640x448 1 person, 245.1ms\n",
      "Speed: 10.0ms preprocess, 245.1ms inference, 3.0ms postprocess per image at shape (1, 3, 640, 448)\n",
      "\n",
      "0: 640x416 1 person, 295.1ms\n",
      "Speed: 11.0ms preprocess, 295.1ms inference, 3.0ms postprocess per image at shape (1, 3, 640, 416)\n",
      "\n",
      "0: 448x640 1 person, 238.1ms\n",
      "Speed: 11.0ms preprocess, 238.1ms inference, 3.0ms postprocess per image at shape (1, 3, 448, 640)\n",
      "\n",
      "0: 640x448 1 person, 251.1ms\n",
      "Speed: 11.0ms preprocess, 251.1ms inference, 3.0ms postprocess per image at shape (1, 3, 640, 448)\n",
      "\n",
      "0: 608x640 1 person, 353.1ms\n",
      "Speed: 8.0ms preprocess, 353.1ms inference, 5.0ms postprocess per image at shape (1, 3, 608, 640)\n",
      "\n",
      "0: 640x416 1 person, 262.1ms\n",
      "Speed: 11.0ms preprocess, 262.1ms inference, 2.0ms postprocess per image at shape (1, 3, 640, 416)\n",
      "\n",
      "0: 480x640 1 person, 268.1ms\n",
      "Speed: 12.0ms preprocess, 268.1ms inference, 3.0ms postprocess per image at shape (1, 3, 480, 640)\n",
      "\n",
      "0: 448x640 1 person, 242.1ms\n",
      "Speed: 11.0ms preprocess, 242.1ms inference, 2.0ms postprocess per image at shape (1, 3, 448, 640)\n",
      "\n",
      "0: 384x640 1 person, 305.1ms\n",
      "Speed: 10.0ms preprocess, 305.1ms inference, 1.0ms postprocess per image at shape (1, 3, 384, 640)\n",
      "\n",
      "0: 640x352 1 person, 320.1ms\n",
      "Speed: 10.0ms preprocess, 320.1ms inference, 2.2ms postprocess per image at shape (1, 3, 640, 352)\n",
      "\n",
      "0: 640x448 1 person, 235.1ms\n",
      "Speed: 12.0ms preprocess, 235.1ms inference, 2.0ms postprocess per image at shape (1, 3, 640, 448)\n",
      "\n",
      "0: 480x640 1 person, 265.1ms\n",
      "Speed: 12.0ms preprocess, 265.1ms inference, 3.0ms postprocess per image at shape (1, 3, 480, 640)\n",
      "\n",
      "0: 608x640 1 person, 298.1ms\n",
      "Speed: 7.0ms preprocess, 298.1ms inference, 5.0ms postprocess per image at shape (1, 3, 608, 640)\n",
      "\n",
      "0: 448x640 1 person, 253.1ms\n",
      "Speed: 10.0ms preprocess, 253.1ms inference, 2.0ms postprocess per image at shape (1, 3, 448, 640)\n",
      "\n",
      "0: 640x416 1 person, 233.1ms\n",
      "Speed: 10.0ms preprocess, 233.1ms inference, 3.0ms postprocess per image at shape (1, 3, 640, 416)\n",
      "\n",
      "0: 640x448 1 person, 310.1ms\n",
      "Speed: 11.0ms preprocess, 310.1ms inference, 2.0ms postprocess per image at shape (1, 3, 640, 448)\n",
      "\n",
      "0: 448x640 1 person, 260.1ms\n",
      "Speed: 11.0ms preprocess, 260.1ms inference, 3.0ms postprocess per image at shape (1, 3, 448, 640)\n",
      "\n",
      "0: 448x640 1 person, 225.1ms\n",
      "Speed: 11.0ms preprocess, 225.1ms inference, 3.0ms postprocess per image at shape (1, 3, 448, 640)\n",
      "\n",
      "0: 640x448 1 person, 231.0ms\n",
      "Speed: 11.0ms preprocess, 231.0ms inference, 4.0ms postprocess per image at shape (1, 3, 640, 448)\n",
      "\n",
      "0: 480x640 1 person, 273.1ms\n",
      "Speed: 13.0ms preprocess, 273.1ms inference, 3.0ms postprocess per image at shape (1, 3, 480, 640)\n",
      "\n",
      "0: 640x480 1 person, 278.1ms\n",
      "Speed: 12.0ms preprocess, 278.1ms inference, 3.0ms postprocess per image at shape (1, 3, 640, 480)\n",
      "\n",
      "0: 640x448 1 person, 247.1ms\n",
      "Speed: 12.0ms preprocess, 247.1ms inference, 2.0ms postprocess per image at shape (1, 3, 640, 448)\n",
      "\n",
      "0: 480x640 1 person, 278.1ms\n",
      "Speed: 11.0ms preprocess, 278.1ms inference, 4.0ms postprocess per image at shape (1, 3, 480, 640)\n",
      "\n",
      "0: 640x480 1 person, 260.1ms\n",
      "Speed: 12.0ms preprocess, 260.1ms inference, 3.0ms postprocess per image at shape (1, 3, 640, 480)\n",
      "\n",
      "0: 640x448 1 person, 234.1ms\n",
      "Speed: 10.0ms preprocess, 234.1ms inference, 2.0ms postprocess per image at shape (1, 3, 640, 448)\n",
      "\n",
      "0: 416x640 1 person, 331.1ms\n",
      "Speed: 10.0ms preprocess, 331.1ms inference, 2.0ms postprocess per image at shape (1, 3, 416, 640)\n",
      "\n",
      "0: 640x448 1 person, 236.1ms\n",
      "Speed: 10.0ms preprocess, 236.1ms inference, 3.0ms postprocess per image at shape (1, 3, 640, 448)\n",
      "\n",
      "0: 640x640 1 person, 289.1ms\n",
      "Speed: 8.0ms preprocess, 289.1ms inference, 5.0ms postprocess per image at shape (1, 3, 640, 640)\n",
      "\n",
      "0: 640x640 1 person, 411.1ms\n",
      "Speed: 10.0ms preprocess, 411.1ms inference, 7.0ms postprocess per image at shape (1, 3, 640, 640)\n",
      "\n",
      "0: 576x640 1 person, 350.1ms\n",
      "Speed: 8.0ms preprocess, 350.1ms inference, 5.0ms postprocess per image at shape (1, 3, 576, 640)\n",
      "\n",
      "0: 640x448 1 person, 241.1ms\n",
      "Speed: 11.0ms preprocess, 241.1ms inference, 3.0ms postprocess per image at shape (1, 3, 640, 448)\n",
      "\n",
      "0: 608x640 1 person, 278.1ms\n",
      "Speed: 6.0ms preprocess, 278.1ms inference, 5.0ms postprocess per image at shape (1, 3, 608, 640)\n",
      "\n",
      "0: 448x640 1 person, 250.1ms\n",
      "Speed: 12.0ms preprocess, 250.1ms inference, 3.0ms postprocess per image at shape (1, 3, 448, 640)\n",
      "\n",
      "0: 640x448 1 person, 236.1ms\n",
      "Speed: 12.0ms preprocess, 236.1ms inference, 3.0ms postprocess per image at shape (1, 3, 640, 448)\n",
      "\n",
      "0: 640x480 1 person, 256.1ms\n",
      "Speed: 11.0ms preprocess, 256.1ms inference, 3.0ms postprocess per image at shape (1, 3, 640, 480)\n",
      "\n",
      "0: 448x640 1 person, 231.1ms\n",
      "Speed: 10.0ms preprocess, 231.1ms inference, 2.0ms postprocess per image at shape (1, 3, 448, 640)\n",
      "\n",
      "0: 640x448 1 person, 229.1ms\n",
      "Speed: 10.0ms preprocess, 229.1ms inference, 2.0ms postprocess per image at shape (1, 3, 640, 448)\n",
      "\n",
      "0: 640x448 1 person, 223.0ms\n",
      "Speed: 11.0ms preprocess, 223.0ms inference, 3.0ms postprocess per image at shape (1, 3, 640, 448)\n",
      "\n",
      "0: 640x576 1 person, 329.1ms\n",
      "Speed: 9.0ms preprocess, 329.1ms inference, 5.0ms postprocess per image at shape (1, 3, 640, 576)\n",
      "\n",
      "0: 448x640 1 person, 227.1ms\n",
      "Speed: 10.0ms preprocess, 227.1ms inference, 2.0ms postprocess per image at shape (1, 3, 448, 640)\n",
      "\n",
      "0: 640x640 1 person, 280.1ms\n",
      "Speed: 9.0ms preprocess, 280.1ms inference, 5.0ms postprocess per image at shape (1, 3, 640, 640)\n",
      "\n",
      "0: 640x640 1 person, 272.1ms\n",
      "Speed: 7.0ms preprocess, 272.1ms inference, 5.0ms postprocess per image at shape (1, 3, 640, 640)\n",
      "\n",
      "0: 448x640 1 person, 235.1ms\n",
      "Speed: 11.0ms preprocess, 235.1ms inference, 3.0ms postprocess per image at shape (1, 3, 448, 640)\n",
      "\n",
      "0: 480x640 1 person, 253.1ms\n",
      "Speed: 12.0ms preprocess, 253.1ms inference, 3.0ms postprocess per image at shape (1, 3, 480, 640)\n",
      "\n",
      "0: 512x640 1 person, 308.1ms\n",
      "Speed: 11.0ms preprocess, 308.1ms inference, 3.0ms postprocess per image at shape (1, 3, 512, 640)\n",
      "\n",
      "0: 448x640 1 person, 232.1ms\n",
      "Speed: 11.0ms preprocess, 232.1ms inference, 3.0ms postprocess per image at shape (1, 3, 448, 640)\n",
      "\n",
      "0: 640x448 1 person, 249.1ms\n",
      "Speed: 10.0ms preprocess, 249.1ms inference, 3.0ms postprocess per image at shape (1, 3, 640, 448)\n",
      "\n",
      "0: 640x448 1 person, 243.1ms\n",
      "Speed: 11.0ms preprocess, 243.1ms inference, 3.0ms postprocess per image at shape (1, 3, 640, 448)\n",
      "\n",
      "0: 416x640 1 person, 231.1ms\n",
      "Speed: 10.0ms preprocess, 231.1ms inference, 3.0ms postprocess per image at shape (1, 3, 416, 640)\n",
      "\n",
      "0: 640x512 1 person, 344.1ms\n",
      "Speed: 53.0ms preprocess, 344.1ms inference, 3.0ms postprocess per image at shape (1, 3, 640, 512)\n",
      "\n",
      "0: 448x640 1 person, 229.1ms\n",
      "Speed: 11.0ms preprocess, 229.1ms inference, 3.0ms postprocess per image at shape (1, 3, 448, 640)\n",
      "\n",
      "0: 640x448 1 person, 244.1ms\n",
      "Speed: 11.0ms preprocess, 244.1ms inference, 3.0ms postprocess per image at shape (1, 3, 640, 448)\n",
      "\n",
      "0: 640x448 1 person, 241.1ms\n",
      "Speed: 12.0ms preprocess, 241.1ms inference, 3.0ms postprocess per image at shape (1, 3, 640, 448)\n",
      "\n",
      "0: 640x640 1 person, 283.1ms\n",
      "Speed: 9.0ms preprocess, 283.1ms inference, 5.0ms postprocess per image at shape (1, 3, 640, 640)\n",
      "\n",
      "0: 640x448 1 person, 235.1ms\n",
      "Speed: 11.0ms preprocess, 235.1ms inference, 3.0ms postprocess per image at shape (1, 3, 640, 448)\n",
      "\n",
      "0: 544x640 1 person, 322.1ms\n",
      "Speed: 9.0ms preprocess, 322.1ms inference, 4.0ms postprocess per image at shape (1, 3, 544, 640)\n",
      "\n",
      "0: 480x640 1 person, 251.1ms\n",
      "Speed: 11.0ms preprocess, 251.1ms inference, 3.0ms postprocess per image at shape (1, 3, 480, 640)\n",
      "\n",
      "0: 448x640 1 person, 242.1ms\n",
      "Speed: 11.0ms preprocess, 242.1ms inference, 3.0ms postprocess per image at shape (1, 3, 448, 640)\n",
      "\n",
      "0: 448x640 1 person, 239.1ms\n",
      "Speed: 11.0ms preprocess, 239.1ms inference, 2.0ms postprocess per image at shape (1, 3, 448, 640)\n",
      "\n",
      "0: 448x640 1 person, 237.0ms\n",
      "Speed: 12.0ms preprocess, 237.0ms inference, 3.0ms postprocess per image at shape (1, 3, 448, 640)\n",
      "\n",
      "0: 640x448 1 person, 270.1ms\n",
      "Speed: 11.0ms preprocess, 270.1ms inference, 2.0ms postprocess per image at shape (1, 3, 640, 448)\n",
      "\n",
      "0: 448x640 1 person, 238.1ms\n",
      "Speed: 10.0ms preprocess, 238.1ms inference, 2.0ms postprocess per image at shape (1, 3, 448, 640)\n",
      "\n",
      "0: 384x640 1 person, 328.1ms\n",
      "Speed: 11.0ms preprocess, 328.1ms inference, 1.0ms postprocess per image at shape (1, 3, 384, 640)\n",
      "\n",
      "0: 640x448 1 person, 265.1ms\n",
      "Speed: 13.0ms preprocess, 265.1ms inference, 3.0ms postprocess per image at shape (1, 3, 640, 448)\n"
     ]
    },
    {
     "name": "stderr",
     "output_type": "stream",
     "text": [
      "Processing: 100%|██████████| 97/97 [12:02<00:00,  7.44s/images]\n"
     ]
    }
   ],
   "source": [
    "# Loading the images to be processed\n",
    "list_of_images = LoadImagesFromFolder(\"C:\\\\Users\\\\User\\\\FYP\\\\DownloadedImages\\\\LAION-400M-GoogleForm-Images\\\\Doctor-97\")\n",
    "\n",
    "# Setting the human detection confidence threshold\n",
    "confidence_threshold = 0.5\n",
    "# Retrieving the images of people detected in the images, the distance between the person and image center and the space taken up by the person\n",
    "people_images, dist_bet_centers, space_taken_up = YOLODetectPerson(list_of_images, confidence_threshold)\n",
    "\n",
    "# Loading the FairFace model, the res34_fair_align_multi_7_20190809.pt is used as it detects 7 distinct races as opposed to the other model.\n",
    "model_fair_7 = torchvision.models.resnet34(pretrained=True)\n",
    "model_fair_7.fc = nn.Linear(model_fair_7.fc.in_features, 18)\n",
    "model_fair_7.load_state_dict(torch.load('res34_fair_align_multi_7_20190809.pt', map_location=torch.device('cpu')))\n",
    "model_fair_7 = model_fair_7.to(\"cpu\")\n",
    "model_fair_7.eval()\n",
    "# Processing the images using the FairFace model\n",
    "FairFaceDict = FairFaceProcess(people_images, model_fair_7)\n",
    "# Adding the distance between centers and space taken up by the person to the dictionary so that it contains all relevant information.\n",
    "for index in FairFaceDict.keys():\n",
    "    tmp = {\"center_dist\":dist_bet_centers[index], \"space\": space_taken_up[index]}\n",
    "    FairFaceDict[index][1].update(tmp)\n",
    "\n",
    "# Saving the metrics to disk\n",
    "directory_path = \"C:\\\\Users\\\\User\\\\FYP\\\\DownloadedImages\\\\LAION-400M-GoogleForm-Images\\\\Doctor-97\\\\FairFaceImagesMetrics\"\n",
    "save_metrics = False\n",
    "if save_metrics == True:\n",
    "    CreateDirectories(directory_path)\n",
    "\n",
    "    # Saving the general info metrics to csv file\n",
    "    SaveMetricsCSV(directory_path, FairFaceDict)\n",
    "\n",
    "    # Saving the cropped images used by the DeepFace API to disk\n",
    "    for imgIndex in range(len(FairFaceDict.items())):\n",
    "        save_path = os.path.join(directory_path,str(imgIndex)+\".jpg\")\n",
    "        cv2.imwrite(save_path, cv2.cvtColor(FairFaceDict[imgIndex][0], cv2.COLOR_BGR2RGB))"
   ]
  },
  {
   "cell_type": "markdown",
   "metadata": {},
   "source": [
    "# Metric Display"
   ]
  },
  {
   "cell_type": "code",
   "execution_count": 168,
   "metadata": {},
   "outputs": [],
   "source": [
    "def MetricGenderDisplay(data, specific_race=None, specific_emotion=None, specific_age=None):\n",
    "    \"\"\" \n",
    "    Description:\n",
    "    This function serves to display a bargraph regarding the gender metrics in relation to the FairFace data passed. \n",
    "    \n",
    "    Parameters:\n",
    "    data (dict) - Dictionary containing the information relevant to each image. \n",
    "    specific_race (str) - Specific race to be considered, if any. Valid values [\"white\", \"black\", \"latino hispanic\", \"asian\", \"indian\", \"middle eastern\"]\n",
    "    specific_age (int) - Specific age to be considered, if any. Valid values [\"0-2\",\"3-9\",\"10-19\",\"20-29\",\"30-39\",\"40-49\",\"50-59\",\"60-69\",\"70+\"]\n",
    "\n",
    "    Returns:\n",
    "    None.\n",
    "    \"\"\"\n",
    "    \n",
    "    # Gender labels - assumes only two genders\n",
    "    genders = ['Male', 'Female']\n",
    "    count = [0, 0]\n",
    "    \n",
    "    # Looping through the instances in the data\n",
    "    for instance in data:\n",
    "        \n",
    "        # Enforcing race constraints \n",
    "        if specific_race != None:\n",
    "            if data[instance][1][\"race\"].lower() != specific_race.lower():\n",
    "                continue\n",
    "          \n",
    "        # Enforcing emotion constraints \n",
    "        if specific_emotion != None:\n",
    "            if data[instance][1][\"emotion\"].lower() != specific_emotion.lower():\n",
    "                continue\n",
    "        \n",
    "        # Enforcing age constraints \n",
    "        if specific_age != None:\n",
    "            if data[instance][1][\"age\"] != specific_age:\n",
    "                continue\n",
    "        \n",
    "        # Retrieving instance gender\n",
    "        mGender = data[instance][1][\"gender\"].lower()\n",
    "        \n",
    "        # Incrementing counters\n",
    "        if mGender == \"male\" or mGender == \"man\":\n",
    "            count[0]+=1\n",
    "        elif mGender == \"female\"  or mGender == \"woman\":\n",
    "            count[1]+=1\n",
    "        else:\n",
    "            print(\"Invalid Gender Detected: \",mGender)\n",
    "    \n",
    "    # Creating bar chart\n",
    "    plt.bar(genders, count)\n",
    "\n",
    "    # Adding labels and title\n",
    "    plt.xlabel('Gender')\n",
    "    plt.ylabel('Count')\n",
    "    plt.title('Male vs. Female Distribution')\n",
    "\n",
    "    # Adding annotations with values above each bar\n",
    "    for i, value in enumerate(count):\n",
    "        # Add text label at calculated position\n",
    "        plt.text(i, value, str(value), ha='center', va='bottom')\n",
    "\n",
    "    # Showing the plot\n",
    "    plt.show()"
   ]
  },
  {
   "cell_type": "code",
   "execution_count": 185,
   "metadata": {},
   "outputs": [],
   "source": [
    "def MetricRaceDisplay(data, specific_gender=None, specific_emotion=None, specific_age=None):\n",
    "    \"\"\" \n",
    "    Description:\n",
    "    This function serves to display a bargraph regarding the race metrics in relation to the DeepFace data passed. \n",
    "    \n",
    "    Parameters:\n",
    "    data (dict) - Dictionary containing the information relevant to each image.\n",
    "    specific_gender (str) - Specific gender to be considered, if any. Valid values [\"male\", \"female\"]\n",
    "    specific_emotion (str) - Specific emotion to be considered, if any. Valid values [\"angry\", \"fear\", \"neutral\", \"sad\", \"disgust\", \"happy\", \"surprise\"]\n",
    "    specific_age (int) - Specific age to be considered, if any.\n",
    "\n",
    "    Returns:\n",
    "    None.\n",
    "    \"\"\"\n",
    "    \n",
    "    # Race labels - assumes races detected by DeepFace\n",
    "    races = [\"asian\", \"white\", \"middle eastern\", \"indian\", \"latino\", \"black\", \"latino hispanic\"]\n",
    "    count = [0,0,0,0,0,0,0] \n",
    "\n",
    "    # Looping through the instances in the data\n",
    "    for instance in data:\n",
    "        \n",
    "        # Enforcing gender constraints \n",
    "        if specific_gender != None:\n",
    "            if data[instance][1][\"gender\"].lower() != specific_gender.lower():\n",
    "                continue\n",
    "                \n",
    "        # Enforcing emotion constraints \n",
    "        if specific_emotion != None:\n",
    "            if data[instance][1][\"emotion\"].lower() != specific_emotion.lower():\n",
    "                continue\n",
    "                \n",
    "        # Enforcing age constraints         \n",
    "        if specific_age != None:\n",
    "            if data[instance][1][\"age\"] != specific_age:\n",
    "                continue\n",
    "        \n",
    "        # Retrieving instance race\n",
    "        mRace = data[instance][1][\"race\"].lower()\n",
    "        \n",
    "        # Incrementing counters\n",
    "        if mRace == \"asian\":\n",
    "            count[0]+=1\n",
    "        elif mRace == \"white\":\n",
    "            count[1]+=1\n",
    "        elif mRace == \"middle eastern\":\n",
    "            count[2]+=1\n",
    "        elif mRace == \"indian\":\n",
    "            count[3]+=1\n",
    "        elif mRace == \"latino\":\n",
    "            count[4]+=1\n",
    "        elif mRace == \"black\":\n",
    "            count[5]+=1\n",
    "        elif mRace == \"latino hispanic\":\n",
    "            count[6]+=1    \n",
    "        else:\n",
    "            print(\"Invalid Race Detected: \", mRace)\n",
    "\n",
    "    # Creating bar chart\n",
    "    plt.bar(races, count)\n",
    "\n",
    "    # Adding labels and title\n",
    "    plt.xlabel('Races')\n",
    "    plt.ylabel('Count')\n",
    "    plt.title('Race Distribution')\n",
    "\n",
    "    # Adding annotations with values above each bar\n",
    "    for i, value in enumerate(count):\n",
    "        # Add text label at calculated position\n",
    "        plt.text(i, value, str(value), ha='center', va='bottom')\n",
    "\n",
    "    # Showing the plot\n",
    "    plt.show()"
   ]
  },
  {
   "cell_type": "code",
   "execution_count": 196,
   "metadata": {},
   "outputs": [],
   "source": [
    "def MetricAgeDisplay(data, specific_gender=None, specific_race=None, specific_emotion=None):\n",
    "    \"\"\" \n",
    "    Description:\n",
    "    This function serves to display a bargraph regarding the age metrics in relation to the DeepFace data passed. \n",
    "    \n",
    "    Parameters:\n",
    "    data (dict) - Dictionary containing the information relevant to each image.\n",
    "    specific_gender (str) - Specific gender to be considered, if any. Valid values [\"male\", \"female\"]\n",
    "    specific_race (str) - Specific race to be considered, if any. Valid values [\"asian\", \"white\", \"middle eastern\", \"indian\", \"latino\", \"black\", \"latino hispanic\"]\n",
    "    specific_emotion (str) - Specific emotion to be considered, if any. Valid values [\"angry\", \"fear\", \"neutral\", \"sad\", \"disgust\", \"happy\", \"surprise\"]\n",
    "\n",
    "    Returns:\n",
    "    None.\n",
    "    \"\"\"\n",
    "    \n",
    "    # Age group labels seperated in intervals of ten\n",
    "    age_groups = [\"0-2\",\"3-9\",\"10-19\",\"20-29\",\"30-39\",\"40-49\",\"50-59\",\"60-69\",\"70+\"]\n",
    "    count = [0,0,0,0,0,0,0,0,0] \n",
    "    \n",
    "    # Looping through the instances in the data\n",
    "    for instance in data:\n",
    "        \n",
    "        # Enforcing gender constraints \n",
    "        if specific_gender != None:\n",
    "            if data[instance][1][\"gender\"].lower() != specific_gender.lower():\n",
    "                continue\n",
    "                \n",
    "        # Enforcing race constraints          \n",
    "        if specific_race != None:\n",
    "            if data[instance][1][\"race\"].lower() != specific_race.lower():\n",
    "                continue\n",
    "                \n",
    "        # Enforcing emotion constraints         \n",
    "        if specific_emotion != None:\n",
    "            if data[instance][1][\"emotion\"].lower() != specific_emotion.lower():\n",
    "                continue\n",
    "    \n",
    "        # Retrieving instance age\n",
    "        mAge = data[instance][1][\"age\"]\n",
    "        \n",
    "        # Incrementing counters\n",
    "        for index, age_range in enumerate(age_groups):\n",
    "            if mAge == age_range:\n",
    "                count[index]+=1\n",
    "                break\n",
    "\n",
    "    # Creating bar chart\n",
    "    plt.bar(age_groups, count)\n",
    "    \n",
    "    # Adding labels and title\n",
    "    plt.xlabel('Age Group')\n",
    "    plt.ylabel('Count')\n",
    "    plt.title('Age Group Distribution')\n",
    "    \n",
    "    # Adding annotations with values above each bar\n",
    "    for i, value in enumerate(count):\n",
    "        # Add text label at calculated position\n",
    "        plt.text(i, value, str(value), ha='center', va='bottom')\n",
    "\n",
    "    # Showing the plot\n",
    "    plt.show()"
   ]
  },
  {
   "cell_type": "code",
   "execution_count": 205,
   "metadata": {},
   "outputs": [],
   "source": [
    "def ScatterPlotDisplay2D(data, x_axis_label, y_axis_label, specific_gender=None, specific_race=None, specific_emotion=None):\n",
    "    \"\"\" \n",
    "    Description:\n",
    "    This function serves to display a 2D scatter plot in relation to the DeepFace data passed.\n",
    "    x_axis_label/y_axis_label = \"age\"/\"race\"/\"emotion\"/\"gender\"\n",
    "    specific_age is not included as each data point only has a singular age \n",
    "    \n",
    "    Parameters:\n",
    "    data (dict) - Dictionary containing the information relevant to each image.\n",
    "    x_axis_label (str) - Specific parameter to plot along the x-axis. Valid values [\"age\", \"gender\", \"race\", \"emotion\"]\n",
    "    y_axis_label (str) - Specific parameter to plot along the y-axis. Valid values [\"age\", \"gender\", \"race\", \"emotion\"]\n",
    "    specific_gender (str) - Specific gender to be considered, if any.  Valid values [\"male\", \"female\"]\n",
    "    specific_race (str) - Specific race to be considered, if any. Valid values [\"asian\", \"white\", \"middle eastern\", \"indian\", \"latino\", \"black\", \"latino hispanic\"]\n",
    "    specific_age (int) - Specific age to be considered, if any.\n",
    "\n",
    "    Returns:\n",
    "    None.\n",
    "    \"\"\"\n",
    "    \n",
    "    x_values = []\n",
    "    y_values = []\n",
    "    colors = []\n",
    "\n",
    "    for instance in data:\n",
    "        if x_axis_label.lower() == \"age\":\n",
    "            x_values.append(data[instance][2][x_axis_label])\n",
    "        elif x_axis_label.lower() == \"gender\":\n",
    "            x_values.append(data[instance][2][x_axis_label][specific_gender.lower()])\n",
    "        elif x_axis_label.lower() == \"race\":\n",
    "            x_values.append(data[instance][2][x_axis_label][specific_race.lower()])\n",
    "        elif x_axis_label.lower() == \"emotion\":\n",
    "            x_values.append(data[instance][2][x_axis_label][specific_emotion.lower()])\n",
    "\n",
    "        if y_axis_label.lower() == \"age\":\n",
    "            y_values.append(data[instance][2][y_axis_label])\n",
    "        elif y_axis_label.lower() == \"gender\":\n",
    "            y_values.append(data[instance][2][y_axis_label][specific_gender.lower()])\n",
    "        elif y_axis_label.lower() == \"race\":\n",
    "            y_values.append(data[instance][2][y_axis_label][specific_race.lower()])\n",
    "        elif y_axis_label.lower() == \"emotion\":\n",
    "            y_values.append(data[instance][2][y_axis_label][specific_emotion.lower()])\n",
    "\n",
    "        colors.append(\"blue\")\n",
    "\n",
    "    plt.scatter(x_values, y_values, c=colors, s=8)\n",
    "    \n",
    "    # Add labels and title\n",
    "    x_axis_text = x_axis_label.capitalize()\n",
    "    if x_axis_label.lower() == \"gender\":\n",
    "        x_axis_text += \" (\"+ specific_gender +\") confidence score\"\n",
    "    elif x_axis_label.lower() == \"race\":\n",
    "        x_axis_text += \" (\"+ specific_race +\") confidence score\"\n",
    "    elif x_axis_label.lower() == \"emotion\":\n",
    "        x_axis_text += \" (\"+ specific_emotion +\") confidence score\"\n",
    "    \n",
    "    y_axis_text = y_axis_label.capitalize()\n",
    "    if y_axis_label.lower() == \"gender\":\n",
    "        y_axis_text += \" (\"+ specific_gender +\") confidence score\"\n",
    "    elif y_axis_label.lower() == \"race\":\n",
    "        y_axis_text += \" (\"+ specific_race +\") confidence score\"\n",
    "    elif y_axis_label.lower() == \"emotion\":\n",
    "        y_axis_text += \" (\"+ specific_emotion +\") confidence score\"\n",
    "\n",
    "    plt.xlabel(x_axis_text)\n",
    "    plt.ylabel(y_axis_text)\n",
    "    plt.title('Scatter Plot of Demographics')\n",
    "\n",
    "    # Show the plot\n",
    "    plt.show()"
   ]
  },
  {
   "cell_type": "code",
   "execution_count": 251,
   "metadata": {},
   "outputs": [],
   "source": [
    "def ScatterPlotDisplay3D(data, specific_gender=None, specific_race=None, specific_age=None):\n",
    "    \"\"\" \n",
    "    Description:\n",
    "    This function serves to display a 3D scatter plot in relation to the DeepFace data passed. The x-axis (gender), y-axis (race), z-axis (age)\n",
    "    \n",
    "    Parameters:\n",
    "    data (dict) - Dictionary containing the information relevant to each image.\n",
    "    specific_gender (str) - Specific gender to be considered, if any. Valid values [\"male\", \"female\"]\n",
    "    specific_race (str) - Specific race to be considered, if any. Valid values [\"asian\", \"white\", \"middle eastern\", \"indian\", \"latino\", \"black\", \"latino hispanic\"]\n",
    "\n",
    "    Returns:\n",
    "    None.\n",
    "    \"\"\"\n",
    "\n",
    "    x_values = []\n",
    "    y_values = []\n",
    "    z_values = []\n",
    "    colors = []\n",
    "\n",
    "    for instance in data:\n",
    "        x_values.append(data[instance][2][\"gender\"][specific_gender.lower()])\n",
    "        y_values.append(data[instance][2][\"race\"][specific_race.lower()])\n",
    "        z_values.append(data[instance][2][\"age\"][specific_age.lower()])\n",
    "        colors.append(\"blue\")\n",
    "\n",
    "    # Create the 3D scatter plot with interactivity \n",
    "    fig = px.scatter_3d(x=x_values, y=y_values, z=z_values) \n",
    "    \n",
    "    # Add labels and title\n",
    "    x_axis_text = \"Gender (\"+specific_gender+\") confidence score\"\n",
    "    y_axis_text = \"Race (\"+specific_race+\") confidence score\"\n",
    "    z_axis_text = \"Age (\"+specific_age+\") confidence score\"\n",
    "\n",
    "    fig.update_layout(scene = {\n",
    "                    \"xaxis_title\":x_axis_text,\n",
    "                    \"yaxis_title\":y_axis_text,\n",
    "                    \"zaxis_title\":z_axis_text},\n",
    "                    margin={\"r\":20, \"b\":10, \"l\":10, \"t\":10})\n",
    "\n",
    "    # Show the interactive plot\n",
    "    fig.show()"
   ]
  },
  {
   "cell_type": "code",
   "execution_count": 332,
   "metadata": {},
   "outputs": [],
   "source": [
    "def MetricCenterDistanceDisplay(data, category, type):\n",
    "    \"\"\" \n",
    "    Description:\n",
    "    This function serves to plot a graph showcasing the area taken up by the person in the image or their distance from the center.\n",
    "    \n",
    "    Parameters:\n",
    "    data (dict) - Dictionary containing the information relevant to each image.\n",
    "    distance_val_list (list) - List containing the distance between the centers of the image and the center of the bounding box in each image.\n",
    "    area_val_list (list) - List containing the percentage of the image taken up by the bounding box in each image.\n",
    "    category (str) - Specific parameter to plot along the x-axis. Valid values [\"age\", \"gender\", \"race\", \"emotion\"]\n",
    "    type (str) - Specific parameter to plot along the y-axis. Valid values [\"distance\", \"area\"]\n",
    "\n",
    "    Returns:\n",
    "    None.\n",
    "    \"\"\"\n",
    "\n",
    "    # Checking if the category is valid\n",
    "    if category not in ['age', 'gender', 'race']:\n",
    "        raise ValueError(\"Invalid value for category. It should be 'age', 'gender' or 'race'.\")\n",
    "    \n",
    "    # Checking if the type is valid\n",
    "    if type not in ['distance', 'area']:\n",
    "        raise ValueError(\"Invalid value for category. It should be 'distance', 'area'.\")\n",
    "    \n",
    "    # Assigning the correct list based on the type\n",
    "    if type == 'distance':\n",
    "        cat_value = \"center_dist\"  \n",
    "        yLabel = 'Distance From Center'\n",
    "    else:\n",
    "        cat_value = \"space\"  \n",
    "        yLabel = 'Person Area'\n",
    "\n",
    "    tmp = {}\n",
    "    for index in data:\n",
    "        if data[index][1][category] in tmp:\n",
    "            tmp[data[index][1][category]].append(float(data[index][1][cat_value]))\n",
    "        else:\n",
    "            tmp[data[index][1][category]] = [float(data[index][1][cat_value])]\n",
    "\n",
    "    # Iterating through key-value pairs\n",
    "    for key, values in tmp.items():\n",
    "        tmp[key] = statistics.median(values)\n",
    "    tmp = dict(sorted(tmp.items()))\n",
    "    \n",
    "    # Plotting the line\n",
    "    plt.plot(list(tmp.keys()),list(tmp.values()), color='red', marker='o', linestyle='solid')\n",
    "\n",
    "    # Adding labels and title\n",
    "    plt.ylabel(yLabel)\n",
    "    plt.xlabel(category.capitalize())\n",
    "    plt.title('Median '+yLabel+' - '+category.capitalize())\n",
    "\n",
    "    # Show the plot\n",
    "    plt.show()"
   ]
  },
  {
   "cell_type": "code",
   "execution_count": 337,
   "metadata": {},
   "outputs": [
    {
     "data": {
      "image/png": "[encoded data removed]",
      "text/plain": [
       "<Figure size 640x480 with 1 Axes>"
      ]
     },
     "metadata": {},
     "output_type": "display_data"
    },
    {
     "data": {
      "image/png": "[encoded data removed]",
      "text/plain": [
       "<Figure size 640x480 with 1 Axes>"
      ]
     },
     "metadata": {},
     "output_type": "display_data"
    },
    {
     "data": {
      "image/png": "[encoded data removed]",
      "text/plain": [
       "<Figure size 640x480 with 1 Axes>"
      ]
     },
     "metadata": {},
     "output_type": "display_data"
    },
    {
     "data": {
      "image/png": "[encoded data removed]",
      "text/plain": [
       "<Figure size 640x480 with 1 Axes>"
      ]
     },
     "metadata": {},
     "output_type": "display_data"
    },
    {
     "data": {
      "application/vnd.plotly.v1+json": {
       "config": {
        "plotlyServerURL": "https://plot.ly"
       },
       "data": [
        {
         "hovertemplate": "x=%{x}<br>y=%{y}<br>z=%{z}<extra></extra>",
         "legendgroup": "",
         "marker": {
          "color": "#636efa",
          "symbol": "circle"
         },
         "mode": "markers",
         "name": "",
         "scene": "scene",
         "showlegend": false,
         "type": "scatter3d",
         "x": [
          0.14463876141235232,
          99.99654293060303,
          1.5362337231636047,
          0.0002704752205318073,
          99.99272227287292,
          0.08473547641187906,
          0.00003692079815209581,
          0.4848842974752188,
          0.28729462064802647,
          0.009646298713050783,
          0.028089320403523743,
          99.99995827674866,
          99.785715341568,
          99.99957084655762,
          0.10548928985372186,
          89.59169387817383,
          1.6205843538045883,
          0.00004991389914721367,
          45.50910294055939,
          15.35370796918869,
          0.002651046816026792,
          9.689594805240631,
          0.006636030593654141,
          99.97541904449463,
          99.93659853935242,
          0.006557346932822838,
          0.010420427861390635,
          99.99995827674866,
          99.95765089988708,
          0.003978668610216118,
          99.97249245643616,
          0.0098667289421428,
          0.1274937647394836,
          39.03738856315613,
          0.4334196913987398,
          3.175244480371475,
          0.004686111060436815,
          10.140767693519592,
          59.36010479927063,
          74.09863471984863,
          63.653165102005005,
          99.96039271354675,
          0.06335338694043458,
          99.99727010726929,
          99.99608993530273,
          72.9157030582428,
          99.99701380729675,
          99.9176561832428,
          42.6904171705246,
          99.99167919158936,
          99.99899864196777,
          19.410011172294617,
          0.07374624256044626,
          0.03121236222796142,
          8.788852393627167,
          0.13754012761637568,
          31.110462546348572,
          0.020669653895311058,
          0.0036366433050716296,
          65.68800806999207,
          0.0016929934645304456,
          99.74780082702637,
          13.13411295413971,
          0.18858370603993535,
          0.003989557808381505,
          99.71106052398682,
          0.008450690802419558,
          0.004178627568762749,
          82.31539130210876,
          42.10399389266968,
          46.520429849624634,
          0.024299863434862345,
          54.014986753463745,
          10.16598492860794,
          0.058915402041748166,
          0.04949921276420355,
          0.001741474807204213,
          0.2604373963549733,
          0.0026916472052107565,
          0.009486838825978339,
          99.89235401153564,
          99.99958276748657,
          0.00008318155551023665,
          0.001167397294921102,
          91.31629467010498,
          0.006655477045569569,
          0.44414764270186424,
          71.36236429214478,
          0.19560449291020632,
          17.772410809993744,
          99.9906063079834,
          20.833231508731842,
          0.2419817727059126,
          0.0056676610256545246,
          33.84648263454437,
          99.981689453125,
          0.08595378021709621
         ],
         "y": [
          0.5646760109812021,
          71.26235961914062,
          54.412657022476196,
          99.97143745422363,
          95.67259550094604,
          2.8299666941165924,
          76.09881162643433,
          2.7137737721204758,
          92.0514702796936,
          90.81648588180542,
          0.12272401945665479,
          89.11241888999939,
          33.57901573181152,
          99.96939301490784,
          99.99522566795349,
          37.95963227748871,
          79.52331304550171,
          91.27163290977478,
          69.45686936378479,
          59.25010442733765,
          99.80805516242981,
          11.758745461702347,
          93.95615458488464,
          3.0954211950302124,
          6.9963239133358,
          99.99915957450867,
          92.47303605079651,
          37.04293370246887,
          98.11857342720032,
          6.400645524263382,
          25.871247053146362,
          99.96010661125183,
          76.76475644111633,
          3.055698424577713,
          3.4092653542757034,
          36.06842756271362,
          0.3982068505138159,
          8.076367527246475,
          65.22466540336609,
          34.160229563713074,
          47.76566922664642,
          5.273232236504555,
          70.60621380805969,
          86.35271787643433,
          5.760651454329491,
          29.31252121925354,
          53.380852937698364,
          98.62985014915466,
          68.89927387237549,
          0.000022149841072405252,
          98.70264530181885,
          52.866071462631226,
          97.24950790405273,
          4.731371998786926,
          99.97901916503906,
          97.30618000030518,
          52.65187621116638,
          98.17861318588257,
          13.070817291736603,
          40.510326623916626,
          99.91304874420166,
          1.3611064292490482,
          99.97133016586304,
          99.51955676078796,
          94.72091794013977,
          97.2585380077362,
          99.98640418052673,
          83.11921954154968,
          0.21236382890492678,
          99.17235970497131,
          64.79408144950867,
          92.44284629821777,
          38.94776999950409,
          35.29854118824005,
          65.32673239707947,
          98.57789874076843,
          0.01785586791811511,
          99.00000095367432,
          99.94059801101685,
          64.11327719688416,
          41.05493128299713,
          38.92141878604889,
          80.71170449256897,
          99.91514682769775,
          30.564701557159424,
          0.08406412089243531,
          98.83983731269836,
          24.44392740726471,
          99.90331530570984,
          61.60135269165039,
          50.18271207809448,
          47.678494453430176,
          97.3146140575409,
          99.98705983161926,
          13.481031358242035,
          4.588953405618668,
          0.058916950365528464
         ],
         "z": [
          1.8714874982833862,
          0.15682425582781434,
          27.184879779815674,
          24.921776354312897,
          0.3607920603826642,
          8.481453359127045,
          1.0014887899160385,
          12.963700294494629,
          2.7261530980467796,
          10.126390308141708,
          41.725438833236694,
          0.025609106523916125,
          0.8667277172207832,
          5.509096756577492,
          12.296092510223389,
          30.92491328716278,
          18.93295645713806,
          1.127636805176735,
          24.648331105709076,
          1.920090802013874,
          2.8006872162222862,
          2.1552052348852158,
          3.052223287522793,
          24.780048429965973,
          0.11285175569355488,
          0.9323910810053349,
          2.8290534391999245,
          7.275555282831192,
          19.23510730266571,
          1.2767648324370384,
          4.5413099229335785,
          17.99997389316559,
          0.46357368119060993,
          45.64816653728485,
          2.4018563330173492,
          5.3308360278606415,
          7.148268073797226,
          12.968666851520538,
          3.067840449512005,
          7.60144367814064,
          0.011134194937767461,
          0.017603427113499492,
          1.0141167789697647,
          4.402355849742889,
          3.989740088582039,
          12.366989254951477,
          0.35740367602556944,
          0.23512726183980703,
          8.081777393817902,
          0.3613701555877924,
          0.30347523279488087,
          0.4303455352783203,
          3.266356885433197,
          9.535881131887436,
          65.71992635726929,
          1.1451204307377338,
          7.983206212520599,
          2.044105716049671,
          6.251167505979538,
          1.2951424345374107,
          0.4307991359382868,
          1.7197782173752785,
          0.07769788498990238,
          16.733533143997192,
          1.5308769419789314,
          0.45270086266100407,
          6.69211819767952,
          9.145131707191467,
          29.849210381507874,
          6.335233151912689,
          4.927157238125801,
          3.8291841745376587,
          6.19160383939743,
          2.742002345621586,
          4.172059148550034,
          0.21044891327619553,
          1.6752282157540321,
          7.870161533355713,
          0.37080079782754183,
          1.4651590958237648,
          15.46221673488617,
          0.3258045297116041,
          2.4083485826849937,
          0.6931559182703495,
          0.46884333714842796,
          5.762928351759911,
          0.530649721622467,
          2.7259068563580513,
          3.6801576614379883,
          12.105050683021545,
          0.04972259630449116,
          4.299556463956833,
          0.9308936074376106,
          4.851885512471199,
          10.019920021295547,
          4.989588260650635,
          2.7853619307279587
         ]
        }
       ],
       "layout": {
        "legend": {
         "tracegroupgap": 0
        },
        "margin": {
         "b": 10,
         "l": 10,
         "r": 20,
         "t": 10
        },
        "scene": {
         "domain": {
          "x": [
           0,
           1
          ],
          "y": [
           0,
           1
          ]
         },
         "xaxis": {
          "title": {
           "text": "Gender (man) confidence score"
          }
         },
         "yaxis": {
          "title": {
           "text": "Race (white) confidence score"
          }
         },
         "zaxis": {
          "title": {
           "text": "Age (10-19) confidence score"
          }
         }
        },
        "template": {
         "data": {
          "bar": [
           {
            "error_x": {
             "color": "#2a3f5f"
            },
            "error_y": {
             "color": "#2a3f5f"
            },
            "marker": {
             "line": {
              "color": "#E5ECF6",
              "width": 0.5
             },
             "pattern": {
              "fillmode": "overlay",
              "size": 10,
              "solidity": 0.2
             }
            },
            "type": "bar"
           }
          ],
          "barpolar": [
           {
            "marker": {
             "line": {
              "color": "#E5ECF6",
              "width": 0.5
             },
             "pattern": {
              "fillmode": "overlay",
              "size": 10,
              "solidity": 0.2
             }
            },
            "type": "barpolar"
           }
          ],
          "carpet": [
           {
            "aaxis": {
             "endlinecolor": "#2a3f5f",
             "gridcolor": "white",
             "linecolor": "white",
             "minorgridcolor": "white",
             "startlinecolor": "#2a3f5f"
            },
            "baxis": {
             "endlinecolor": "#2a3f5f",
             "gridcolor": "white",
             "linecolor": "white",
             "minorgridcolor": "white",
             "startlinecolor": "#2a3f5f"
            },
            "type": "carpet"
           }
          ],
          "choropleth": [
           {
            "colorbar": {
             "outlinewidth": 0,
             "ticks": ""
            },
            "type": "choropleth"
           }
          ],
          "contour": [
           {
            "colorbar": {
             "outlinewidth": 0,
             "ticks": ""
            },
            "colorscale": [
             [
              0,
              "#0d0887"
             ],
             [
              0.1111111111111111,
              "#46039f"
             ],
             [
              0.2222222222222222,
              "#7201a8"
             ],
             [
              0.3333333333333333,
              "#9c179e"
             ],
             [
              0.4444444444444444,
              "#bd3786"
             ],
             [
              0.5555555555555556,
              "#d8576b"
             ],
             [
              0.6666666666666666,
              "#ed7953"
             ],
             [
              0.7777777777777778,
              "#fb9f3a"
             ],
             [
              0.8888888888888888,
              "#fdca26"
             ],
             [
              1,
              "#f0f921"
             ]
            ],
            "type": "contour"
           }
          ],
          "contourcarpet": [
           {
            "colorbar": {
             "outlinewidth": 0,
             "ticks": ""
            },
            "type": "contourcarpet"
           }
          ],
          "heatmap": [
           {
            "colorbar": {
             "outlinewidth": 0,
             "ticks": ""
            },
            "colorscale": [
             [
              0,
              "#0d0887"
             ],
             [
              0.1111111111111111,
              "#46039f"
             ],
             [
              0.2222222222222222,
              "#7201a8"
             ],
             [
              0.3333333333333333,
              "#9c179e"
             ],
             [
              0.4444444444444444,
              "#bd3786"
             ],
             [
              0.5555555555555556,
              "#d8576b"
             ],
             [
              0.6666666666666666,
              "#ed7953"
             ],
             [
              0.7777777777777778,
              "#fb9f3a"
             ],
             [
              0.8888888888888888,
              "#fdca26"
             ],
             [
              1,
              "#f0f921"
             ]
            ],
            "type": "heatmap"
           }
          ],
          "heatmapgl": [
           {
            "colorbar": {
             "outlinewidth": 0,
             "ticks": ""
            },
            "colorscale": [
             [
              0,
              "#0d0887"
             ],
             [
              0.1111111111111111,
              "#46039f"
             ],
             [
              0.2222222222222222,
              "#7201a8"
             ],
             [
              0.3333333333333333,
              "#9c179e"
             ],
             [
              0.4444444444444444,
              "#bd3786"
             ],
             [
              0.5555555555555556,
              "#d8576b"
             ],
             [
              0.6666666666666666,
              "#ed7953"
             ],
             [
              0.7777777777777778,
              "#fb9f3a"
             ],
             [
              0.8888888888888888,
              "#fdca26"
             ],
             [
              1,
              "#f0f921"
             ]
            ],
            "type": "heatmapgl"
           }
          ],
          "histogram": [
           {
            "marker": {
             "pattern": {
              "fillmode": "overlay",
              "size": 10,
              "solidity": 0.2
             }
            },
            "type": "histogram"
           }
          ],
          "histogram2d": [
           {
            "colorbar": {
             "outlinewidth": 0,
             "ticks": ""
            },
            "colorscale": [
             [
              0,
              "#0d0887"
             ],
             [
              0.1111111111111111,
              "#46039f"
             ],
             [
              0.2222222222222222,
              "#7201a8"
             ],
             [
              0.3333333333333333,
              "#9c179e"
             ],
             [
              0.4444444444444444,
              "#bd3786"
             ],
             [
              0.5555555555555556,
              "#d8576b"
             ],
             [
              0.6666666666666666,
              "#ed7953"
             ],
             [
              0.7777777777777778,
              "#fb9f3a"
             ],
             [
              0.8888888888888888,
              "#fdca26"
             ],
             [
              1,
              "#f0f921"
             ]
            ],
            "type": "histogram2d"
           }
          ],
          "histogram2dcontour": [
           {
            "colorbar": {
             "outlinewidth": 0,
             "ticks": ""
            },
            "colorscale": [
             [
              0,
              "#0d0887"
             ],
             [
              0.1111111111111111,
              "#46039f"
             ],
             [
              0.2222222222222222,
              "#7201a8"
             ],
             [
              0.3333333333333333,
              "#9c179e"
             ],
             [
              0.4444444444444444,
              "#bd3786"
             ],
             [
              0.5555555555555556,
              "#d8576b"
             ],
             [
              0.6666666666666666,
              "#ed7953"
             ],
             [
              0.7777777777777778,
              "#fb9f3a"
             ],
             [
              0.8888888888888888,
              "#fdca26"
             ],
             [
              1,
              "#f0f921"
             ]
            ],
            "type": "histogram2dcontour"
           }
          ],
          "mesh3d": [
           {
            "colorbar": {
             "outlinewidth": 0,
             "ticks": ""
            },
            "type": "mesh3d"
           }
          ],
          "parcoords": [
           {
            "line": {
             "colorbar": {
              "outlinewidth": 0,
              "ticks": ""
             }
            },
            "type": "parcoords"
           }
          ],
          "pie": [
           {
            "automargin": true,
            "type": "pie"
           }
          ],
          "scatter": [
           {
            "fillpattern": {
             "fillmode": "overlay",
             "size": 10,
             "solidity": 0.2
            },
            "type": "scatter"
           }
          ],
          "scatter3d": [
           {
            "line": {
             "colorbar": {
              "outlinewidth": 0,
              "ticks": ""
             }
            },
            "marker": {
             "colorbar": {
              "outlinewidth": 0,
              "ticks": ""
             }
            },
            "type": "scatter3d"
           }
          ],
          "scattercarpet": [
           {
            "marker": {
             "colorbar": {
              "outlinewidth": 0,
              "ticks": ""
             }
            },
            "type": "scattercarpet"
           }
          ],
          "scattergeo": [
           {
            "marker": {
             "colorbar": {
              "outlinewidth": 0,
              "ticks": ""
             }
            },
            "type": "scattergeo"
           }
          ],
          "scattergl": [
           {
            "marker": {
             "colorbar": {
              "outlinewidth": 0,
              "ticks": ""
             }
            },
            "type": "scattergl"
           }
          ],
          "scattermapbox": [
           {
            "marker": {
             "colorbar": {
              "outlinewidth": 0,
              "ticks": ""
             }
            },
            "type": "scattermapbox"
           }
          ],
          "scatterpolar": [
           {
            "marker": {
             "colorbar": {
              "outlinewidth": 0,
              "ticks": ""
             }
            },
            "type": "scatterpolar"
           }
          ],
          "scatterpolargl": [
           {
            "marker": {
             "colorbar": {
              "outlinewidth": 0,
              "ticks": ""
             }
            },
            "type": "scatterpolargl"
           }
          ],
          "scatterternary": [
           {
            "marker": {
             "colorbar": {
              "outlinewidth": 0,
              "ticks": ""
             }
            },
            "type": "scatterternary"
           }
          ],
          "surface": [
           {
            "colorbar": {
             "outlinewidth": 0,
             "ticks": ""
            },
            "colorscale": [
             [
              0,
              "#0d0887"
             ],
             [
              0.1111111111111111,
              "#46039f"
             ],
             [
              0.2222222222222222,
              "#7201a8"
             ],
             [
              0.3333333333333333,
              "#9c179e"
             ],
             [
              0.4444444444444444,
              "#bd3786"
             ],
             [
              0.5555555555555556,
              "#d8576b"
             ],
             [
              0.6666666666666666,
              "#ed7953"
             ],
             [
              0.7777777777777778,
              "#fb9f3a"
             ],
             [
              0.8888888888888888,
              "#fdca26"
             ],
             [
              1,
              "#f0f921"
             ]
            ],
            "type": "surface"
           }
          ],
          "table": [
           {
            "cells": {
             "fill": {
              "color": "#EBF0F8"
             },
             "line": {
              "color": "white"
             }
            },
            "header": {
             "fill": {
              "color": "#C8D4E3"
             },
             "line": {
              "color": "white"
             }
            },
            "type": "table"
           }
          ]
         },
         "layout": {
          "annotationdefaults": {
           "arrowcolor": "#2a3f5f",
           "arrowhead": 0,
           "arrowwidth": 1
          },
          "autotypenumbers": "strict",
          "coloraxis": {
           "colorbar": {
            "outlinewidth": 0,
            "ticks": ""
           }
          },
          "colorscale": {
           "diverging": [
            [
             0,
             "#8e0152"
            ],
            [
             0.1,
             "#c51b7d"
            ],
            [
             0.2,
             "#de77ae"
            ],
            [
             0.3,
             "#f1b6da"
            ],
            [
             0.4,
             "#fde0ef"
            ],
            [
             0.5,
             "#f7f7f7"
            ],
            [
             0.6,
             "#e6f5d0"
            ],
            [
             0.7,
             "#b8e186"
            ],
            [
             0.8,
             "#7fbc41"
            ],
            [
             0.9,
             "#4d9221"
            ],
            [
             1,
             "#276419"
            ]
           ],
           "sequential": [
            [
             0,
             "#0d0887"
            ],
            [
             0.1111111111111111,
             "#46039f"
            ],
            [
             0.2222222222222222,
             "#7201a8"
            ],
            [
             0.3333333333333333,
             "#9c179e"
            ],
            [
             0.4444444444444444,
             "#bd3786"
            ],
            [
             0.5555555555555556,
             "#d8576b"
            ],
            [
             0.6666666666666666,
             "#ed7953"
            ],
            [
             0.7777777777777778,
             "#fb9f3a"
            ],
            [
             0.8888888888888888,
             "#fdca26"
            ],
            [
             1,
             "#f0f921"
            ]
           ],
           "sequentialminus": [
            [
             0,
             "#0d0887"
            ],
            [
             0.1111111111111111,
             "#46039f"
            ],
            [
             0.2222222222222222,
             "#7201a8"
            ],
            [
             0.3333333333333333,
             "#9c179e"
            ],
            [
             0.4444444444444444,
             "#bd3786"
            ],
            [
             0.5555555555555556,
             "#d8576b"
            ],
            [
             0.6666666666666666,
             "#ed7953"
            ],
            [
             0.7777777777777778,
             "#fb9f3a"
            ],
            [
             0.8888888888888888,
             "#fdca26"
            ],
            [
             1,
             "#f0f921"
            ]
           ]
          },
          "colorway": [
           "#636efa",
           "#EF553B",
           "#00cc96",
           "#ab63fa",
           "#FFA15A",
           "#19d3f3",
           "#FF6692",
           "#B6E880",
           "#FF97FF",
           "#FECB52"
          ],
          "font": {
           "color": "#2a3f5f"
          },
          "geo": {
           "bgcolor": "white",
           "lakecolor": "white",
           "landcolor": "#E5ECF6",
           "showlakes": true,
           "showland": true,
           "subunitcolor": "white"
          },
          "hoverlabel": {
           "align": "left"
          },
          "hovermode": "closest",
          "mapbox": {
           "style": "light"
          },
          "paper_bgcolor": "white",
          "plot_bgcolor": "#E5ECF6",
          "polar": {
           "angularaxis": {
            "gridcolor": "white",
            "linecolor": "white",
            "ticks": ""
           },
           "bgcolor": "#E5ECF6",
           "radialaxis": {
            "gridcolor": "white",
            "linecolor": "white",
            "ticks": ""
           }
          },
          "scene": {
           "xaxis": {
            "backgroundcolor": "#E5ECF6",
            "gridcolor": "white",
            "gridwidth": 2,
            "linecolor": "white",
            "showbackground": true,
            "ticks": "",
            "zerolinecolor": "white"
           },
           "yaxis": {
            "backgroundcolor": "#E5ECF6",
            "gridcolor": "white",
            "gridwidth": 2,
            "linecolor": "white",
            "showbackground": true,
            "ticks": "",
            "zerolinecolor": "white"
           },
           "zaxis": {
            "backgroundcolor": "#E5ECF6",
            "gridcolor": "white",
            "gridwidth": 2,
            "linecolor": "white",
            "showbackground": true,
            "ticks": "",
            "zerolinecolor": "white"
           }
          },
          "shapedefaults": {
           "line": {
            "color": "#2a3f5f"
           }
          },
          "ternary": {
           "aaxis": {
            "gridcolor": "white",
            "linecolor": "white",
            "ticks": ""
           },
           "baxis": {
            "gridcolor": "white",
            "linecolor": "white",
            "ticks": ""
           },
           "bgcolor": "#E5ECF6",
           "caxis": {
            "gridcolor": "white",
            "linecolor": "white",
            "ticks": ""
           }
          },
          "title": {
           "x": 0.05
          },
          "xaxis": {
           "automargin": true,
           "gridcolor": "white",
           "linecolor": "white",
           "ticks": "",
           "title": {
            "standoff": 15
           },
           "zerolinecolor": "white",
           "zerolinewidth": 2
          },
          "yaxis": {
           "automargin": true,
           "gridcolor": "white",
           "linecolor": "white",
           "ticks": "",
           "title": {
            "standoff": 15
           },
           "zerolinecolor": "white",
           "zerolinewidth": 2
          }
         }
        }
       }
      }
     },
     "metadata": {},
     "output_type": "display_data"
    },
    {
     "data": {
      "image/png": "[encoded data removed]",
      "text/plain": [
       "<Figure size 640x480 with 1 Axes>"
      ]
     },
     "metadata": {},
     "output_type": "display_data"
    }
   ],
   "source": [
    "MetricGenderDisplay(FairFaceDict, specific_race=None, specific_age=None)\n",
    "MetricRaceDisplay(FairFaceDict, specific_gender=None, specific_age=None)\n",
    "MetricAgeDisplay(FairFaceDict, specific_gender=None, specific_race=None)\n",
    "ScatterPlotDisplay2D(FairFaceDict, x_axis_label=\"race\", y_axis_label=\"gender\", specific_gender=\"man\", specific_race=\"white\")\n",
    "ScatterPlotDisplay3D(FairFaceDict, specific_gender=\"man\", specific_race=\"white\", specific_age=\"10-19\")\n",
    "MetricCenterDistanceDisplay(FairFaceDict, category='gender', type='area') "
   ]
  },
  {
   "cell_type": "code",
   "execution_count": 338,
   "metadata": {},
   "outputs": [],
   "source": [
    "def ShannonSimpsonMetrics(data):\n",
    "    prob_gender = {\"man\": 0, \"woman\": 0}\n",
    "    prob_race = {\"asian\": 0, \"white\": 0, \"middle eastern\": 0, \"indian\": 0, \"latino hispanic\": 0, \"black\": 0}\n",
    "    prob_age = {\"0-2\":0,\"3-9\":0,\"10-19\":0,\"20-29\":0,\"30-39\":0,\"40-49\":0,\"50-59\":0,\"60-69\":0,\"70+\":0}\n",
    "    dict_list = [prob_gender, prob_race, prob_age]\n",
    "\n",
    "    # Working out the number of each metric present across the set of images\n",
    "    for index in range(len(data)):\n",
    "        prob_gender[data[index][1][\"gender\"]] += 1\n",
    "\n",
    "        prob_race[data[index][1][\"race\"]] += 1\n",
    "\n",
    "        prob_age[data[index][1][\"age\"]] += 1\n",
    "\n",
    "    # Working out the probability that each metric is present across the set of images\n",
    "    for dict in dict_list:\n",
    "        for item in dict:\n",
    "            dict[item] /= len(data)\n",
    "\n",
    "    # Working out the shannon entropy for each metric\n",
    "    shannonEntropy = {\"gender\":0, \"race\":0, \"age\":0}\n",
    "    for index, dict in enumerate(dict_list):\n",
    "        shannon_val = 0\n",
    "        for item in dict:\n",
    "            # Ignoring 0 values as ln(0) is undefined \n",
    "            if dict[item] != 0:\n",
    "                shannon_val += dict[item]*math.log(dict[item])\n",
    "        shannon_val = -shannon_val\n",
    "        shannonEntropy[list(shannonEntropy.keys())[index]] = shannon_val\n",
    "\n",
    "    simpsonIndex = {\"gender\":0, \"race\":0, \"age\":0}\n",
    "    for index, dict in enumerate(dict_list):\n",
    "        simpson_val = 0\n",
    "        for item in dict:\n",
    "            simpson_val += dict[item]**2\n",
    "        simpson_val = 1/simpson_val\n",
    "        simpsonIndex[list(simpsonIndex.keys())[index]] = simpson_val\n",
    "\n",
    "    shannonEvenness = shannonEntropy.copy()\n",
    "    gender_count = sum(1 for value in prob_gender.values() if value > 0)\n",
    "    race_count = sum(1 for value in prob_race.values() if value > 0)\n",
    "    age_count = sum(1 for value in prob_age.values() if value > 0)\n",
    "\n",
    "    if shannonEvenness[\"gender\"] != 0:\n",
    "        shannonEvenness[\"gender\"] /= math.log(gender_count)\n",
    "\n",
    "    if shannonEvenness[\"race\"] != 0:\n",
    "        shannonEvenness[\"race\"] /= math.log(race_count)\n",
    "\n",
    "    if shannonEvenness[\"age\"] != 0:\n",
    "        shannonEvenness[\"age\"] /= math.log(age_count)\n",
    "\n",
    "    simposonEvenness = simpsonIndex.copy()\n",
    "    simposonEvenness[\"gender\"] /= gender_count\n",
    "    simposonEvenness[\"race\"] /= race_count\n",
    "    simposonEvenness[\"age\"] /= age_count\n",
    "\n",
    "    return {\"ShannonEntropy\":shannonEntropy, \"SimpsonIndex\":simpsonIndex, \"ShannonEvenness\":shannonEvenness, \"SimpsonEvenness\":simposonEvenness}\n"
   ]
  },
  {
   "cell_type": "code",
   "execution_count": 339,
   "metadata": {},
   "outputs": [
    {
     "data": {
      "text/plain": [
       "{'ShannonEntropy': {'gender': 0.6411721448599514,\n",
       "  'race': 1.085178673476813,\n",
       "  'age': 0.8781615859361744},\n",
       " 'SimpsonIndex': {'gender': 1.8146576663452267,\n",
       "  'race': 2.0441016728220722,\n",
       "  'age': 1.635494524595863},\n",
       " 'ShannonEvenness': {'gender': 0.925015873745592,\n",
       "  'race': 0.6056497493741955,\n",
       "  'age': 0.45128578334539143},\n",
       " 'SimpsonEvenness': {'gender': 0.9073288331726134,\n",
       "  'race': 0.34068361213701204,\n",
       "  'age': 0.23364207494226613}}"
      ]
     },
     "execution_count": 339,
     "metadata": {},
     "output_type": "execute_result"
    }
   ],
   "source": [
    "ShannonSimpsonMetrics(FairFaceDict)"
   ]
  },
  {
   "cell_type": "code",
   "execution_count": 265,
   "metadata": {},
   "outputs": [],
   "source": [
    "def CorrelationMetric(data):\n",
    "    correlation_gender = {\"man\": 0, \"woman\": 0}\n",
    "    correlation_race = {\"asian\": 0, \"white\": 0, \"middle eastern\": 0, \"indian\": 0, \"latino hispanic\": 0, \"black\": 0}\n",
    "    correlation_age = {\"0-2\":0,\"3-9\":0,\"10-19\":0,\"20-29\":0,\"30-39\":0,\"40-49\":0,\"50-59\":0,\"60-69\":0,\"70+\":0}\n",
    "    count = len(data)\n",
    "    dict_list = [correlation_gender, correlation_race, correlation_age]\n",
    "\n",
    "    # Working out the number of each metric present across the set of images\n",
    "    for index in range(len(data)):\n",
    "        correlation_gender[data[index][1][\"gender\"]] += 1\n",
    "\n",
    "        correlation_race[data[index][1][\"race\"]] += 1\n",
    "\n",
    "        correlation_age[data[index][1][\"age\"]] += 1\n",
    "\n",
    "    for dict in dict_list:\n",
    "        for item in dict:\n",
    "            # Divide all values in the dictionary by count\n",
    "            dict[item] /= count\n",
    "            if dict[item] > 1/len(dict):\n",
    "                print(item, \"is positively correlated with the image type. \",dict[item], \" > \", 1/len(dict))"
   ]
  },
  {
   "cell_type": "code",
   "execution_count": 340,
   "metadata": {},
   "outputs": [
    {
     "name": "stdout",
     "output_type": "stream",
     "text": [
      "woman is positively correlated with the image type.  0.6597938144329897  >  0.5\n",
      "white is positively correlated with the image type.  0.6804123711340206  >  0.16666666666666666\n",
      "20-29 is positively correlated with the image type.  0.7731958762886598  >  0.1111111111111111\n"
     ]
    }
   ],
   "source": [
    "CorrelationMetric(FairFaceDict)"
   ]
  },
  {
   "cell_type": "markdown",
   "metadata": {},
   "source": [
    "### DeepFace Model"
   ]
  },
  {
   "cell_type": "code",
   "execution_count": 267,
   "metadata": {},
   "outputs": [],
   "source": [
    "# Function copied from FYP - Pipeline.ipynb\n",
    "def DeepFaceProcess(listOfImages):\n",
    "    \"\"\" \n",
    "    Description:\n",
    "    This function serves to determine the properties of the primary detected face in an image. \n",
    "    For each image passed it will only consider the most prominent face, this is done as each \n",
    "    image is initially being processed by YOLOv8 to detect/crop individual people and then said images are fed to this function.\n",
    "    \n",
    "    Parameters:\n",
    "    listOfImages (list) - List containing the images to be processed. \n",
    "\n",
    "    Returns:\n",
    "    DeepFaceDict (dict) - Dictionary containing the information relevant to each image.\n",
    "    \"\"\"\n",
    "        \n",
    "    tensorflow.keras.utils.disable_interactive_logging()\n",
    "    DeepFaceDict = {}\n",
    "    counter = 0\n",
    "    \n",
    "    # Create a tqdm progress bar\n",
    "    progress_bar = tqdm(total=len(listOfImages), desc=\"Processing\", unit=\"images\")\n",
    "    \n",
    "    for image in listOfImages:\n",
    "        try:\n",
    "            # Retrieving the age/gender/race/emotion of the image\n",
    "            # Note: enforce_detection=False used so that images where the face isn't fully visible are still considered\n",
    "            # Note: silent=True used to remove in built progress bar\n",
    "            image =  image[:,:,:3]\n",
    "\n",
    "            objs = DeepFace.analyze(image, actions = ['age', 'gender', 'race', 'emotion'], enforce_detection=False,  detector_backend=\"mtcnn\", silent=True)\n",
    "            \n",
    "            # Using the index of the primary face (takes up most area) in the image\n",
    "            index =  FindObjWithLargestArea(objs)\n",
    "            \n",
    "            # Replacing the dictionary keys to keep in line with the rest of the naming conventions (Man -> male/Woman-> female)\n",
    "            objs[index][\"gender\"][\"male\"] = objs[index][\"gender\"][\"Man\"]\n",
    "            del objs[index][\"gender\"][\"Man\"]\n",
    "\n",
    "            objs[index][\"gender\"][\"female\"] = objs[index][\"gender\"][\"Woman\"]\n",
    "            del objs[index][\"gender\"][\"Woman\"]\n",
    "\n",
    "            # Replacing the labels to keep in line with the rest of the naming conventions\n",
    "            if objs[index]['dominant_gender'] == \"Man\":\n",
    "                objs[index]['dominant_gender'] = \"male\"\n",
    "            elif objs[index]['dominant_gender'] == \"Woman\":\n",
    "                objs[index]['dominant_gender'] = \"female\"\n",
    "            \n",
    "            ImageInfo = {'age':objs[index]['age'], 'gender':objs[index]['dominant_gender'], 'race':objs[index]['dominant_race'], 'emotion':objs[index]['dominant_emotion']}\n",
    "\n",
    "            # Cropping the image to only include the face\n",
    "            objs[index]['region']\n",
    "            x = objs[index]['region']['x']\n",
    "            y = objs[index]['region']['y']\n",
    "            width = objs[index]['region']['x'] + objs[index]['region']['w']\n",
    "            height = objs[index]['region']['y'] + objs[index]['region']['h']\n",
    "            croppedImg = image[y:height, x:width]\n",
    "            \n",
    "            # Storing the images in a dictionary, ImageInfo contains the general info, objs contains the full detailed info (percentages of each class)\n",
    "            DeepFaceDict[counter] = [croppedImg, ImageInfo, objs[index]]\n",
    "            counter+=1\n",
    "        except Exception as error:\n",
    "            counter-=1\n",
    "            plt.imshow(image[:,:,:3])\n",
    "            plt.show()\n",
    "            print(\"Error: \",error)\n",
    "            \n",
    "        # Update the progress bar\n",
    "        progress_bar.update(1)\n",
    "    return DeepFaceDict"
   ]
  },
  {
   "cell_type": "markdown",
   "metadata": {},
   "source": [
    "### Ensamble Model"
   ]
  },
  {
   "cell_type": "code",
   "execution_count": 306,
   "metadata": {},
   "outputs": [],
   "source": [
    "# This function expectes the images to contain the face only and not the entire image\n",
    "def ensmableProcess(listOfImages, fairFaceModel):\n",
    "    tensorflow.keras.utils.disable_interactive_logging()\n",
    "    EnsambleDict = {}\n",
    "    no_of_models = 2\n",
    "\n",
    "    # Create a tqdm progress bar\n",
    "    progress_bar = tqdm(total=len(listOfImages), desc=\"Processing\", unit=\"images\")\n",
    "\n",
    "    # Transformation process used to convert images to the expected input format of the fairface model.\n",
    "    trans = transforms.Compose([\n",
    "    transforms.ToPILImage(),\n",
    "    transforms.Resize((224, 224)),\n",
    "    transforms.ToTensor(),\n",
    "    transforms.Normalize(mean=[0.485, 0.456, 0.406], std=[0.229, 0.224, 0.225])\n",
    "    ])\n",
    "\n",
    "    for image_index, image in enumerate(listOfImages):\n",
    "\n",
    "        final_gender_mapping = {}\n",
    "        final_race_mapping = {}\n",
    "        # final_age_mapping = {}\n",
    "\n",
    "        # ResNet mappings\n",
    "        gender_mapping = {\"man\":0,\"woman\":1}\n",
    "        race_mapping = {\"white\":0,\"black\":1,\"latino hispanic\":2,\"asian\":3,\"indian\":4,\"middle eastern\":5}\n",
    "        age_mapping = {\"0-2\":0,\"3-9\":1,\"10-19\":2,\"20-29\":3,\"30-39\":4,\"40-49\":5,\"50-59\":6,\"60-69\":7,\"70+\":8}\n",
    "\n",
    "        # processing the image and getting the cropped version generated via mtcnn\n",
    "        objs = DeepFace.analyze(image, actions = ['age', 'gender', 'race'], enforce_detection=False,  detector_backend=\"mtcnn\", silent=True)\n",
    "\n",
    "        # Using the index of the primary face (takes up most area) in the image\n",
    "        index =  FindObjWithLargestArea(objs)\n",
    "\n",
    "        # Cropping the image to only include the face\n",
    "        img_area = objs[index]['region']\n",
    "        x = img_area['x']\n",
    "        y = img_area['y']\n",
    "        width = img_area['x'] + img_area['w']\n",
    "        height = img_area['y'] + img_area['h']\n",
    "        faceImg = image[y:height, x:width]\n",
    "\n",
    "        # Converting the cropped image to tensor and reshaping it to match the ResNet model input\n",
    "        transformed_image = trans(faceImg)\n",
    "        transformed_image = transformed_image.view(1, 3, 224, 224) \n",
    "        transformed_image = transformed_image.to(\"cpu\")\n",
    "\n",
    "        outputs = fairFaceModel(transformed_image)\n",
    "        outputs = outputs.cpu().detach().numpy()\n",
    "        outputs = np.squeeze(outputs)\n",
    "\n",
    "        gender_outputs = outputs[7:9]\n",
    "        age_outputs = outputs[9:18]\n",
    "\n",
    "        # This array has probabilities for east asian and southeast asian, so we need to combine them\n",
    "        race_outputs = outputs[:7]\n",
    "        # Their values are stored in index 3 and 4, so we will take the average of these two values and store at index 3\n",
    "        race_outputs[3] = np.mean(race_outputs[3:5])\n",
    "        # Now we remove the extra value at index 4\n",
    "        race_outputs = np.delete(race_outputs, 4)\n",
    "\n",
    "        gender_score = np.exp(gender_outputs) / np.sum(np.exp(gender_outputs))\n",
    "        age_score = np.exp(age_outputs) / np.sum(np.exp(age_outputs))\n",
    "        race_score = np.exp(race_outputs) / np.sum(np.exp(race_outputs))\n",
    "\n",
    "        # Setting the appropriate scores for each category\n",
    "        for gender in [\"man\", \"woman\"]:\n",
    "            # * 100 to convert the score to a percentage to match DeepFace model output\n",
    "            gender_mapping[gender] = gender_score[gender_mapping[gender]]*100\n",
    "\n",
    "        for race in [\"white\", \"black\", \"latino hispanic\", \"asian\", \"indian\", \"middle eastern\"]:\n",
    "            race_mapping[race] = race_score[race_mapping[race]]*100\n",
    "\n",
    "        for age_range in [\"0-2\",\"3-9\",\"10-19\",\"20-29\",\"30-39\",\"40-49\",\"50-59\",\"60-69\",\"70+\"]:\n",
    "            age_mapping[age_range] = age_score[age_mapping[age_range]]*100\n",
    "\n",
    "        # Ensabling the results from the ResNet model and the DeepFace model\n",
    "        final_gender_mapping[\"man\"] = (objs[0][\"gender\"][\"Man\"] + gender_mapping[\"man\"])/no_of_models\n",
    "        final_gender_mapping[\"woman\"] = (objs[0][\"gender\"][\"Woman\"] + gender_mapping[\"woman\"])/no_of_models\n",
    "\n",
    "        for race in [\"white\", \"black\", \"latino hispanic\", \"asian\", \"indian\", \"middle eastern\"]:\n",
    "            final_race_mapping[race] = (objs[0][\"race\"][race] + race_mapping[race])/no_of_models\n",
    "\n",
    "        # Determing the final results from the ensamble techniuqe\n",
    "        final_gender = max(final_gender_mapping, key=final_gender_mapping.get)\n",
    "        final_race = max(final_race_mapping, key=final_race_mapping.get)\n",
    "        final_age = max(age_mapping, key=age_mapping.get)\n",
    "\n",
    "        # Converting the age to a sufficient range (Assuming 100 is the max age)\n",
    "        if final_age == \"70+\":\n",
    "            final_age = \"70-100\"\n",
    "        \n",
    "        # Calculating the mean of the age range\n",
    "        age_mean = np.mean([int(value) for value in final_age.split(\"-\")])\n",
    "\n",
    "        # Calculating the mean of the model ages\n",
    "        ensamble_age = np.mean([age_mean, objs[0][\"age\"]])\n",
    "\n",
    "        age_ranges = [(0, 2), (3, 9), (10, 19), (20, 29), (30, 39), (40, 49), (50, 59), (60, 69), (70, 100)]\n",
    "\n",
    "        # Determining the final age range based on the mean of the model ages\n",
    "        for range_start, range_end in age_ranges:\n",
    "            if ensamble_age >= range_start and ensamble_age <= range_end:\n",
    "                if ensamble_age >= 70:\n",
    "                    final_age = \"70+\"\n",
    "                else:\n",
    "                    final_age = f\"{range_start}-{range_end}\"\n",
    "                break\n",
    "        \n",
    "        ImageInfo = {\"age\":final_age, \"gender\":final_gender, \"race\":final_race}\n",
    "        imageConfidenceData = {\"race\":final_race_mapping, \"gender\":final_gender_mapping, \"age\":age_mapping}\n",
    "        EnsambleDict[image_index] = [faceImg, ImageInfo, imageConfidenceData]\n",
    "\n",
    "        # Update the progress bar\n",
    "        progress_bar.update(1)\n",
    "\n",
    "    return EnsambleDict"
   ]
  },
  {
   "cell_type": "code",
   "execution_count": 330,
   "metadata": {},
   "outputs": [
    {
     "name": "stdout",
     "output_type": "stream",
     "text": [
      "\n",
      "0: 640x480 1 person, 490.7ms\n",
      "Speed: 43.0ms preprocess, 490.7ms inference, 22.0ms postprocess per image at shape (1, 3, 640, 480)\n",
      "\n",
      "0: 384x640 1 person, 404.1ms\n",
      "Speed: 11.0ms preprocess, 404.1ms inference, 5.0ms postprocess per image at shape (1, 3, 384, 640)\n",
      "\n",
      "0: 640x448 1 person, 290.1ms\n",
      "Speed: 11.0ms preprocess, 290.1ms inference, 6.0ms postprocess per image at shape (1, 3, 640, 448)\n",
      "\n",
      "0: 640x448 1 person, 246.1ms\n",
      "Speed: 11.0ms preprocess, 246.1ms inference, 2.0ms postprocess per image at shape (1, 3, 640, 448)\n",
      "\n",
      "0: 640x448 1 person, 245.1ms\n",
      "Speed: 11.0ms preprocess, 245.1ms inference, 2.0ms postprocess per image at shape (1, 3, 640, 448)\n",
      "\n",
      "0: 640x448 1 person, 254.1ms\n",
      "Speed: 12.0ms preprocess, 254.1ms inference, 2.0ms postprocess per image at shape (1, 3, 640, 448)\n",
      "\n",
      "0: 640x480 1 person, 264.1ms\n",
      "Speed: 11.0ms preprocess, 264.1ms inference, 4.0ms postprocess per image at shape (1, 3, 640, 480)\n",
      "\n",
      "0: 448x640 1 person, 282.9ms\n",
      "Speed: 12.0ms preprocess, 282.9ms inference, 2.0ms postprocess per image at shape (1, 3, 448, 640)\n",
      "\n",
      "0: 576x640 2 persons, 773.2ms\n",
      "Speed: 8.0ms preprocess, 773.2ms inference, 8.0ms postprocess per image at shape (1, 3, 576, 640)\n",
      "\n",
      "0: 448x640 1 person, 257.1ms\n",
      "Speed: 12.0ms preprocess, 257.1ms inference, 3.0ms postprocess per image at shape (1, 3, 448, 640)\n",
      "\n",
      "0: 640x448 1 person, 249.1ms\n",
      "Speed: 11.0ms preprocess, 249.1ms inference, 3.0ms postprocess per image at shape (1, 3, 640, 448)\n",
      "\n",
      "0: 640x640 1 person, 319.1ms\n",
      "Speed: 9.0ms preprocess, 319.1ms inference, 9.0ms postprocess per image at shape (1, 3, 640, 640)\n",
      "\n",
      "0: 640x608 1 person, 492.1ms\n",
      "Speed: 8.0ms preprocess, 492.1ms inference, 7.0ms postprocess per image at shape (1, 3, 640, 608)\n",
      "\n",
      "0: 448x640 1 person, 294.8ms\n",
      "Speed: 12.0ms preprocess, 294.8ms inference, 2.0ms postprocess per image at shape (1, 3, 448, 640)\n",
      "\n",
      "0: 640x480 1 person, 306.1ms\n",
      "Speed: 12.0ms preprocess, 306.1ms inference, 5.0ms postprocess per image at shape (1, 3, 640, 480)\n",
      "\n",
      "0: 352x640 1 person, 521.1ms\n",
      "Speed: 12.0ms preprocess, 521.1ms inference, 4.0ms postprocess per image at shape (1, 3, 352, 640)\n",
      "\n",
      "0: 576x640 1 person, 276.1ms\n",
      "Speed: 9.0ms preprocess, 276.1ms inference, 5.0ms postprocess per image at shape (1, 3, 576, 640)\n",
      "\n",
      "0: 640x480 1 person, 246.1ms\n",
      "Speed: 11.0ms preprocess, 246.1ms inference, 3.0ms postprocess per image at shape (1, 3, 640, 480)\n",
      "\n",
      "0: 640x480 1 person, 244.1ms\n",
      "Speed: 11.0ms preprocess, 244.1ms inference, 3.0ms postprocess per image at shape (1, 3, 640, 480)\n",
      "\n",
      "0: 640x448 1 person, 336.1ms\n",
      "Speed: 11.0ms preprocess, 336.1ms inference, 3.0ms postprocess per image at shape (1, 3, 640, 448)\n",
      "\n",
      "0: 544x640 1 person, 326.0ms\n",
      "Speed: 10.0ms preprocess, 326.0ms inference, 11.0ms postprocess per image at shape (1, 3, 544, 640)\n",
      "\n",
      "0: 640x448 1 person, 244.1ms\n",
      "Speed: 10.0ms preprocess, 244.1ms inference, 3.0ms postprocess per image at shape (1, 3, 640, 448)\n",
      "\n",
      "0: 640x640 1 person, 272.1ms\n",
      "Speed: 8.0ms preprocess, 272.1ms inference, 6.0ms postprocess per image at shape (1, 3, 640, 640)\n",
      "\n",
      "0: 640x448 1 person, 243.0ms\n",
      "Speed: 12.0ms preprocess, 243.0ms inference, 3.0ms postprocess per image at shape (1, 3, 640, 448)\n",
      "\n",
      "0: 640x448 1 person, 249.1ms\n",
      "Speed: 12.0ms preprocess, 249.1ms inference, 3.0ms postprocess per image at shape (1, 3, 640, 448)\n",
      "\n",
      "0: 640x448 1 person, 246.1ms\n",
      "Speed: 10.0ms preprocess, 246.1ms inference, 3.0ms postprocess per image at shape (1, 3, 640, 448)\n",
      "\n",
      "0: 640x512 1 person, 316.8ms\n",
      "Speed: 11.0ms preprocess, 316.8ms inference, 5.0ms postprocess per image at shape (1, 3, 640, 512)\n",
      "\n",
      "0: 640x480 1 person, 275.1ms\n",
      "Speed: 11.0ms preprocess, 275.1ms inference, 4.0ms postprocess per image at shape (1, 3, 640, 480)\n",
      "\n",
      "0: 480x640 1 person, 285.3ms\n",
      "Speed: 11.0ms preprocess, 285.3ms inference, 3.0ms postprocess per image at shape (1, 3, 480, 640)\n",
      "\n",
      "0: 512x640 1 person, 395.0ms\n",
      "Speed: 11.0ms preprocess, 395.0ms inference, 3.0ms postprocess per image at shape (1, 3, 512, 640)\n",
      "\n",
      "0: 640x544 1 person, 415.1ms\n",
      "Speed: 9.0ms preprocess, 415.1ms inference, 3.0ms postprocess per image at shape (1, 3, 640, 544)\n",
      "\n",
      "0: 640x480 1 person, 251.1ms\n",
      "Speed: 11.0ms preprocess, 251.1ms inference, 3.0ms postprocess per image at shape (1, 3, 640, 480)\n",
      "\n",
      "0: 448x640 1 person, 252.1ms\n",
      "Speed: 11.0ms preprocess, 252.1ms inference, 3.0ms postprocess per image at shape (1, 3, 448, 640)\n",
      "\n",
      "0: 640x448 1 person, 245.1ms\n",
      "Speed: 11.0ms preprocess, 245.1ms inference, 2.0ms postprocess per image at shape (1, 3, 640, 448)\n",
      "\n",
      "0: 640x416 1 person, 373.9ms\n",
      "Speed: 10.0ms preprocess, 373.9ms inference, 5.0ms postprocess per image at shape (1, 3, 640, 416)\n",
      "\n",
      "0: 448x640 1 person, 252.1ms\n",
      "Speed: 12.0ms preprocess, 252.1ms inference, 2.0ms postprocess per image at shape (1, 3, 448, 640)\n",
      "\n",
      "0: 640x448 1 person, 246.1ms\n",
      "Speed: 10.0ms preprocess, 246.1ms inference, 2.0ms postprocess per image at shape (1, 3, 640, 448)\n",
      "\n",
      "0: 608x640 1 person, 409.1ms\n",
      "Speed: 8.0ms preprocess, 409.1ms inference, 4.0ms postprocess per image at shape (1, 3, 608, 640)\n",
      "\n",
      "0: 640x416 1 person, 245.1ms\n",
      "Speed: 10.0ms preprocess, 245.1ms inference, 3.0ms postprocess per image at shape (1, 3, 640, 416)\n",
      "\n",
      "0: 480x640 1 person, 247.1ms\n",
      "Speed: 12.0ms preprocess, 247.1ms inference, 3.0ms postprocess per image at shape (1, 3, 480, 640)\n",
      "\n",
      "0: 448x640 1 person, 244.1ms\n",
      "Speed: 11.0ms preprocess, 244.1ms inference, 2.0ms postprocess per image at shape (1, 3, 448, 640)\n",
      "\n",
      "0: 384x640 1 person, 307.2ms\n",
      "Speed: 10.0ms preprocess, 307.2ms inference, 1.0ms postprocess per image at shape (1, 3, 384, 640)\n",
      "\n",
      "0: 640x352 1 person, 383.1ms\n",
      "Speed: 10.0ms preprocess, 383.1ms inference, 2.0ms postprocess per image at shape (1, 3, 640, 352)\n",
      "\n",
      "0: 640x448 1 person, 251.1ms\n",
      "Speed: 12.0ms preprocess, 251.1ms inference, 3.0ms postprocess per image at shape (1, 3, 640, 448)\n",
      "\n",
      "0: 480x640 1 person, 257.1ms\n",
      "Speed: 11.0ms preprocess, 257.1ms inference, 4.0ms postprocess per image at shape (1, 3, 480, 640)\n",
      "\n",
      "0: 608x640 1 person, 303.1ms\n",
      "Speed: 8.0ms preprocess, 303.1ms inference, 5.0ms postprocess per image at shape (1, 3, 608, 640)\n",
      "\n",
      "0: 448x640 1 person, 243.1ms\n",
      "Speed: 11.0ms preprocess, 243.1ms inference, 3.0ms postprocess per image at shape (1, 3, 448, 640)\n",
      "\n",
      "0: 640x416 1 person, 240.1ms\n",
      "Speed: 63.0ms preprocess, 240.1ms inference, 2.0ms postprocess per image at shape (1, 3, 640, 416)\n",
      "\n",
      "0: 640x448 1 person, 248.1ms\n",
      "Speed: 11.0ms preprocess, 248.1ms inference, 2.0ms postprocess per image at shape (1, 3, 640, 448)\n",
      "\n",
      "0: 448x640 1 person, 234.1ms\n",
      "Speed: 11.0ms preprocess, 234.1ms inference, 3.0ms postprocess per image at shape (1, 3, 448, 640)\n",
      "\n",
      "0: 448x640 1 person, 249.1ms\n",
      "Speed: 12.0ms preprocess, 249.1ms inference, 3.0ms postprocess per image at shape (1, 3, 448, 640)\n",
      "\n",
      "0: 640x448 1 person, 249.1ms\n",
      "Speed: 11.0ms preprocess, 249.1ms inference, 3.0ms postprocess per image at shape (1, 3, 640, 448)\n",
      "\n",
      "0: 480x640 1 person, 236.1ms\n",
      "Speed: 11.0ms preprocess, 236.1ms inference, 3.0ms postprocess per image at shape (1, 3, 480, 640)\n",
      "\n",
      "0: 640x480 1 person, 241.1ms\n",
      "Speed: 12.0ms preprocess, 241.1ms inference, 3.0ms postprocess per image at shape (1, 3, 640, 480)\n",
      "\n",
      "0: 640x448 1 person, 234.1ms\n",
      "Speed: 11.0ms preprocess, 234.1ms inference, 3.0ms postprocess per image at shape (1, 3, 640, 448)\n",
      "\n",
      "0: 480x640 1 person, 256.1ms\n",
      "Speed: 11.0ms preprocess, 256.1ms inference, 3.0ms postprocess per image at shape (1, 3, 480, 640)\n",
      "\n",
      "0: 640x480 1 person, 255.1ms\n",
      "Speed: 12.0ms preprocess, 255.1ms inference, 3.0ms postprocess per image at shape (1, 3, 640, 480)\n",
      "\n",
      "0: 640x448 1 person, 246.1ms\n",
      "Speed: 10.0ms preprocess, 246.1ms inference, 3.0ms postprocess per image at shape (1, 3, 640, 448)\n",
      "\n",
      "0: 416x640 1 person, 341.1ms\n",
      "Speed: 11.0ms preprocess, 341.1ms inference, 2.0ms postprocess per image at shape (1, 3, 416, 640)\n",
      "\n",
      "0: 640x448 1 person, 241.1ms\n",
      "Speed: 11.0ms preprocess, 241.1ms inference, 3.0ms postprocess per image at shape (1, 3, 640, 448)\n",
      "\n",
      "0: 640x640 1 person, 283.1ms\n",
      "Speed: 8.0ms preprocess, 283.1ms inference, 6.0ms postprocess per image at shape (1, 3, 640, 640)\n",
      "\n",
      "0: 640x640 1 person, 280.1ms\n",
      "Speed: 7.0ms preprocess, 280.1ms inference, 5.0ms postprocess per image at shape (1, 3, 640, 640)\n",
      "\n",
      "0: 576x640 1 person, 492.1ms\n",
      "Speed: 8.0ms preprocess, 492.1ms inference, 5.0ms postprocess per image at shape (1, 3, 576, 640)\n",
      "\n",
      "0: 640x448 1 person, 236.1ms\n",
      "Speed: 10.0ms preprocess, 236.1ms inference, 2.0ms postprocess per image at shape (1, 3, 640, 448)\n",
      "\n",
      "0: 608x640 1 person, 275.1ms\n",
      "Speed: 8.0ms preprocess, 275.1ms inference, 5.0ms postprocess per image at shape (1, 3, 608, 640)\n",
      "\n",
      "0: 448x640 1 person, 254.1ms\n",
      "Speed: 12.0ms preprocess, 254.1ms inference, 2.0ms postprocess per image at shape (1, 3, 448, 640)\n",
      "\n",
      "0: 640x448 1 person, 249.1ms\n",
      "Speed: 11.0ms preprocess, 249.1ms inference, 3.0ms postprocess per image at shape (1, 3, 640, 448)\n",
      "\n",
      "0: 640x480 1 person, 270.1ms\n",
      "Speed: 11.0ms preprocess, 270.1ms inference, 3.0ms postprocess per image at shape (1, 3, 640, 480)\n",
      "\n",
      "0: 448x640 1 person, 260.1ms\n",
      "Speed: 10.0ms preprocess, 260.1ms inference, 3.0ms postprocess per image at shape (1, 3, 448, 640)\n",
      "\n",
      "0: 640x448 1 person, 264.1ms\n",
      "Speed: 11.0ms preprocess, 264.1ms inference, 3.0ms postprocess per image at shape (1, 3, 640, 448)\n",
      "\n",
      "0: 640x448 1 person, 258.1ms\n",
      "Speed: 11.0ms preprocess, 258.1ms inference, 3.0ms postprocess per image at shape (1, 3, 640, 448)\n",
      "\n",
      "0: 640x576 1 person, 371.1ms\n",
      "Speed: 8.0ms preprocess, 371.1ms inference, 5.0ms postprocess per image at shape (1, 3, 640, 576)\n",
      "\n",
      "0: 448x640 1 person, 257.1ms\n",
      "Speed: 11.0ms preprocess, 257.1ms inference, 3.0ms postprocess per image at shape (1, 3, 448, 640)\n",
      "\n",
      "0: 640x640 1 person, 325.1ms\n",
      "Speed: 9.0ms preprocess, 325.1ms inference, 6.0ms postprocess per image at shape (1, 3, 640, 640)\n",
      "\n",
      "0: 640x640 1 person, 438.1ms\n",
      "Speed: 8.0ms preprocess, 438.1ms inference, 5.0ms postprocess per image at shape (1, 3, 640, 640)\n",
      "\n",
      "0: 448x640 1 person, 256.1ms\n",
      "Speed: 11.0ms preprocess, 256.1ms inference, 2.0ms postprocess per image at shape (1, 3, 448, 640)\n",
      "\n",
      "0: 480x640 1 person, 266.1ms\n",
      "Speed: 11.0ms preprocess, 266.1ms inference, 4.0ms postprocess per image at shape (1, 3, 480, 640)\n",
      "\n",
      "0: 512x640 1 person, 316.1ms\n",
      "Speed: 13.0ms preprocess, 316.1ms inference, 3.0ms postprocess per image at shape (1, 3, 512, 640)\n",
      "\n",
      "0: 448x640 1 person, 240.1ms\n",
      "Speed: 11.0ms preprocess, 240.1ms inference, 3.0ms postprocess per image at shape (1, 3, 448, 640)\n",
      "\n",
      "0: 640x448 1 person, 251.1ms\n",
      "Speed: 10.0ms preprocess, 251.1ms inference, 4.0ms postprocess per image at shape (1, 3, 640, 448)\n",
      "\n",
      "0: 640x448 1 person, 242.1ms\n",
      "Speed: 10.0ms preprocess, 242.1ms inference, 3.0ms postprocess per image at shape (1, 3, 640, 448)\n",
      "\n",
      "0: 416x640 1 person, 254.1ms\n",
      "Speed: 11.0ms preprocess, 254.1ms inference, 2.0ms postprocess per image at shape (1, 3, 416, 640)\n",
      "\n",
      "0: 640x512 1 person, 291.1ms\n",
      "Speed: 10.0ms preprocess, 291.1ms inference, 3.0ms postprocess per image at shape (1, 3, 640, 512)\n",
      "\n",
      "0: 448x640 1 person, 260.1ms\n",
      "Speed: 11.0ms preprocess, 260.1ms inference, 4.0ms postprocess per image at shape (1, 3, 448, 640)\n",
      "\n",
      "0: 640x448 1 person, 245.1ms\n",
      "Speed: 11.0ms preprocess, 245.1ms inference, 2.0ms postprocess per image at shape (1, 3, 640, 448)\n",
      "\n",
      "0: 640x448 1 person, 245.1ms\n",
      "Speed: 10.0ms preprocess, 245.1ms inference, 2.0ms postprocess per image at shape (1, 3, 640, 448)\n",
      "\n",
      "0: 640x640 1 person, 287.1ms\n",
      "Speed: 7.0ms preprocess, 287.1ms inference, 5.0ms postprocess per image at shape (1, 3, 640, 640)\n",
      "\n",
      "0: 640x448 1 person, 262.1ms\n",
      "Speed: 12.0ms preprocess, 262.1ms inference, 3.0ms postprocess per image at shape (1, 3, 640, 448)\n",
      "\n",
      "0: 544x640 1 person, 385.1ms\n",
      "Speed: 8.0ms preprocess, 385.1ms inference, 4.0ms postprocess per image at shape (1, 3, 544, 640)\n",
      "\n",
      "0: 480x640 1 person, 241.1ms\n",
      "Speed: 12.0ms preprocess, 241.1ms inference, 3.0ms postprocess per image at shape (1, 3, 480, 640)\n",
      "\n",
      "0: 448x640 1 person, 237.1ms\n",
      "Speed: 11.0ms preprocess, 237.1ms inference, 3.0ms postprocess per image at shape (1, 3, 448, 640)\n",
      "\n",
      "0: 448x640 1 person, 237.1ms\n",
      "Speed: 11.0ms preprocess, 237.1ms inference, 3.0ms postprocess per image at shape (1, 3, 448, 640)\n",
      "\n",
      "0: 448x640 1 person, 234.1ms\n",
      "Speed: 12.0ms preprocess, 234.1ms inference, 3.0ms postprocess per image at shape (1, 3, 448, 640)\n",
      "\n",
      "0: 640x448 1 person, 242.1ms\n",
      "Speed: 11.0ms preprocess, 242.1ms inference, 3.0ms postprocess per image at shape (1, 3, 640, 448)\n",
      "\n",
      "0: 448x640 1 person, 249.1ms\n",
      "Speed: 11.0ms preprocess, 249.1ms inference, 3.0ms postprocess per image at shape (1, 3, 448, 640)\n",
      "\n",
      "0: 384x640 1 person, 296.1ms\n",
      "Speed: 10.0ms preprocess, 296.1ms inference, 2.0ms postprocess per image at shape (1, 3, 384, 640)\n",
      "\n",
      "0: 640x448 1 person, 246.1ms\n",
      "Speed: 12.0ms preprocess, 246.1ms inference, 4.0ms postprocess per image at shape (1, 3, 640, 448)\n"
     ]
    },
    {
     "name": "stderr",
     "output_type": "stream",
     "text": [
      "Processing: 100%|██████████| 97/97 [12:14<00:00,  7.57s/images]\n"
     ]
    }
   ],
   "source": [
    "# Loading the images to be processed\n",
    "list_of_images = LoadImagesFromFolder(\"C:\\\\Users\\\\User\\\\FYP\\\\DownloadedImages\\\\LAION-400M-GoogleForm-Images\\\\Doctor-97\")\n",
    "\n",
    "# Setting the human detection confidence threshold\n",
    "confidence_threshold = 0.5\n",
    "# Retrieving the images of people detected in the images, the distance between the person and image center and the space taken up by the person\n",
    "people_images, dist_bet_centers, space_taken_up = YOLODetectPerson(list_of_images, confidence_threshold)\n",
    "\n",
    "# Loading the FairFace model, the res34_fair_align_multi_7_20190809.pt is used as it detects 7 distinct races as opposed to the other model.\n",
    "model_fair_7 = torchvision.models.resnet34(pretrained=True)\n",
    "model_fair_7.fc = nn.Linear(model_fair_7.fc.in_features, 18)\n",
    "model_fair_7.load_state_dict(torch.load('res34_fair_align_multi_7_20190809.pt', map_location=torch.device('cpu')))\n",
    "model_fair_7 = model_fair_7.to(\"cpu\")\n",
    "model_fair_7.eval()\n",
    "\n",
    "# Processing the images using the ensamble model\n",
    "EnsambleDict = ensmableProcess(people_images, model_fair_7)\n",
    "\n",
    "# Adding the distance between centers and space taken up by the person to the dictionary so that it contains all relevant information.\n",
    "for index in EnsambleDict.keys():\n",
    "    tmp = {\"center_dist\":dist_bet_centers[index], \"space\": space_taken_up[index]}\n",
    "    EnsambleDict[index][1].update(tmp)\n",
    "\n",
    "# Saving the metrics to disk\n",
    "directory_path = \"C:\\\\Users\\\\User\\\\FYP\\\\DownloadedImages\\\\TESTING\\\\STUFF\"#\\\\LAION-400M-GoogleForm-Images\\\\Doctor-97\\\\EnsambleImagesMetrics\"\n",
    "save_metrics = False\n",
    "if save_metrics == True:\n",
    "    CreateDirectories(directory_path)\n",
    "\n",
    "    # Saving the general info metrics to csv file\n",
    "    SaveMetricsCSV(directory_path, EnsambleDict)\n",
    "\n",
    "    # Saving the cropped images used by the DeepFace API to disk\n",
    "    for imgIndex in range(len(EnsambleDict.items())):\n",
    "        save_path = os.path.join(directory_path,str(imgIndex)+\".jpg\")\n",
    "        cv2.imwrite(save_path, cv2.cvtColor(EnsambleDict[imgIndex][0], cv2.COLOR_BGR2RGB))"
   ]
  },
  {
   "cell_type": "code",
   "execution_count": 331,
   "metadata": {},
   "outputs": [
    {
     "data": {
      "image/png": "[encoded data removed]",
      "text/plain": [
       "<Figure size 640x480 with 1 Axes>"
      ]
     },
     "metadata": {},
     "output_type": "display_data"
    },
    {
     "data": {
      "image/png": "[encoded data removed]",
      "text/plain": [
       "<Figure size 640x480 with 1 Axes>"
      ]
     },
     "metadata": {},
     "output_type": "display_data"
    },
    {
     "data": {
      "image/png": "[encoded data removed]",
      "text/plain": [
       "<Figure size 640x480 with 1 Axes>"
      ]
     },
     "metadata": {},
     "output_type": "display_data"
    },
    {
     "data": {
      "image/png": "[encoded data removed]",
      "text/plain": [
       "<Figure size 640x480 with 1 Axes>"
      ]
     },
     "metadata": {},
     "output_type": "display_data"
    },
    {
     "data": {
      "application/vnd.plotly.v1+json": {
       "config": {
        "plotlyServerURL": "https://plot.ly"
       },
       "data": [
        {
         "hovertemplate": "x=%{x}<br>y=%{y}<br>z=%{z}<extra></extra>",
         "legendgroup": "",
         "marker": {
          "color": "#636efa",
          "symbol": "circle"
         },
         "mode": "markers",
         "name": "",
         "scene": "scene",
         "showlegend": false,
         "type": "scatter3d",
         "x": [
          0.6697400414850563,
          99.99703764915466,
          0.784634446608834,
          0.0009946990076059592,
          99.99286830425262,
          30.78853861661628,
          0.000026760790206026286,
          49.09662927966565,
          0.17069470486603677,
          0.1290465981583111,
          49.12264825688908,
          99.86470937728882,
          99.889275431633,
          99.89799857139587,
          0.06324694768409245,
          91.97567701339722,
          2.5795431807637215,
          0.000025245603496593105,
          72.62353450059891,
          52.92322859168053,
          0.001335479469588563,
          54.19184938073158,
          0.0033620371624465406,
          99.95074570178986,
          99.9665230512619,
          0.004502915908233263,
          45.13096588161716,
          99.99909102916718,
          98.68759512901306,
          12.875828176220239,
          99.97991025447845,
          0.30414437387662474,
          0.07936796027934179,
          69.34719979763031,
          1.4463759260252118,
          51.32017321884632,
          0.002362786604237499,
          5.0812026602216065,
          75.72770714759827,
          84.17447507381439,
          81.53605163097382,
          99.31890666484833,
          0.034932579001178965,
          99.99696612358093,
          99.9951183795929,
          84.44808721542358,
          99.9955028295517,
          99.94876980781555,
          65.89711457490921,
          99.98432695865631,
          99.99862909317017,
          52.173565328121185,
          0.10373957338742912,
          0.015622355363120732,
          53.655245155096054,
          0.10066164541058242,
          62.88144737482071,
          0.010511465586660051,
          5.300946168608789,
          80.67953586578369,
          0.0011840988463518443,
          99.86223876476288,
          28.44063490629196,
          0.12330239696893841,
          0.0028263516469451133,
          99.78272914886475,
          42.74637338712637,
          0.002137257729373232,
          91.09115898609161,
          70.18009424209595,
          69.55419480800629,
          0.012538286000562948,
          72.40548431873322,
          16.79789051413536,
          41.999770296388306,
          0.028087752070860006,
          0.02720521615628968,
          0.8224760298617184,
          0.034773645074892556,
          0.004758408407212755,
          99.93891716003418,
          99.99976754188538,
          0.000045042102669867745,
          0.009138448740486638,
          91.18269085884094,
          0.00936393735173624,
          0.22959948546485975,
          68.49730610847473,
          1.3087298371829093,
          50.242628902196884,
          99.9948501586914,
          50.60224607586861,
          0.1652103936066851,
          19.395544754661387,
          64.23868089914322,
          99.89746510982513,
          49.95837405731436
         ],
         "y": [
          1.455293572378985,
          47.63322100043297,
          27.70182843001188,
          99.46737891654251,
          74.74045753479004,
          10.486969519971977,
          52.89760259964428,
          10.952713154256344,
          94.19092833995819,
          57.29344643530804,
          0.06136266876253238,
          86.37098274407069,
          41.0176619887352,
          99.77848529815674,
          96.2463860215219,
          42.59515545459624,
          62.94768027233795,
          82.53242231647899,
          61.330753564834595,
          51.52086913585663,
          99.9035716056552,
          5.988194268262799,
          78.81146967411041,
          20.657449609621704,
          27.61797569692135,
          99.99952018260956,
          95.76529261641352,
          50.94941258430481,
          98.7866908149364,
          4.057636950165033,
          27.662951019683778,
          83.22465023462809,
          71.95545136928558,
          7.016249328160293,
          1.7656504933256656,
          27.229327357397846,
          0.21064042011857964,
          12.162556871771812,
          80.83102703094482,
          39.88374024629593,
          63.635264337062836,
          9.337295670645343,
          85.27716994285583,
          73.12061845591778,
          13.01043163985014,
          63.592031598091125,
          76.3366848230362,
          82.53928024913998,
          78.33944857120514,
          0.000011074920536202626,
          82.38744139671326,
          40.16777575016022,
          98.13629686832428,
          17.98660010099411,
          99.98893141746521,
          97.18846082687378,
          73.77812564373016,
          99.03004170170604,
          10.605263710021973,
          63.81061673164368,
          86.11123263835907,
          8.071000616055573,
          99.63183698929382,
          98.5538362019131,
          82.57201733726959,
          98.39269815465386,
          76.7977742189679,
          73.33058416843414,
          0.10651457168642176,
          67.32534915208817,
          81.76046308061018,
          96.04141118288183,
          61.7837989556892,
          43.08290630578995,
          60.70280838247789,
          99.28676187992096,
          1.4324143492558505,
          99.12277159826584,
          86.17629110813141,
          68.84342949311679,
          60.46611993773631,
          31.278713792562485,
          68.08298528194427,
          99.9040603605799,
          65.25248289108276,
          0.042479697049202514,
          96.10433578491211,
          42.54131466150284,
          77.8422862291336,
          67.75331497192383,
          73.52065434630504,
          70.20242490548955,
          79.55938279628754,
          86.99199712294731,
          52.92537183346079,
          19.799094274640083,
          1.4533827983541414
         ],
         "z": [
          1.8714874982833862,
          0.15682425582781434,
          27.184879779815674,
          24.921776354312897,
          0.3607920603826642,
          8.481453359127045,
          1.0014887899160385,
          12.963700294494629,
          2.7261530980467796,
          10.126390308141708,
          41.725438833236694,
          0.025609106523916125,
          0.8667277172207832,
          5.509096756577492,
          12.296092510223389,
          30.92491328716278,
          18.93295645713806,
          1.127636805176735,
          24.648331105709076,
          1.920090802013874,
          2.8006872162222862,
          2.1552052348852158,
          3.052223287522793,
          24.780048429965973,
          0.11285175569355488,
          0.9323910810053349,
          2.8290534391999245,
          7.275555282831192,
          19.23510730266571,
          1.2767648324370384,
          4.5413099229335785,
          17.99997389316559,
          0.46357368119060993,
          45.64816653728485,
          2.4018563330173492,
          5.3308360278606415,
          7.148268073797226,
          12.968666851520538,
          3.067840449512005,
          7.60144367814064,
          0.011134194937767461,
          0.017603427113499492,
          1.0141167789697647,
          4.402355849742889,
          3.989740088582039,
          12.366989254951477,
          0.35740367602556944,
          0.23512726183980703,
          8.081777393817902,
          0.3613701555877924,
          0.30347523279488087,
          0.4303455352783203,
          3.266356885433197,
          9.535881131887436,
          65.71992635726929,
          1.1451204307377338,
          7.983206212520599,
          2.044105716049671,
          6.251167505979538,
          1.2951424345374107,
          0.4307991359382868,
          1.7197782173752785,
          0.07769788498990238,
          16.733533143997192,
          1.5308769419789314,
          0.45270086266100407,
          6.69211819767952,
          9.145131707191467,
          29.849210381507874,
          6.335233151912689,
          4.927157238125801,
          3.8291841745376587,
          6.19160383939743,
          2.742002345621586,
          4.172059148550034,
          0.21044891327619553,
          1.6752282157540321,
          7.870161533355713,
          0.37080079782754183,
          1.4651590958237648,
          15.46221673488617,
          0.3258045297116041,
          2.4083485826849937,
          0.6931559182703495,
          0.46884333714842796,
          5.762928351759911,
          0.530649721622467,
          2.7259068563580513,
          3.6801576614379883,
          12.105050683021545,
          0.04972259630449116,
          4.299556463956833,
          0.9308936074376106,
          4.851885512471199,
          10.019920021295547,
          4.989588260650635,
          2.7853619307279587
         ]
        }
       ],
       "layout": {
        "legend": {
         "tracegroupgap": 0
        },
        "margin": {
         "b": 10,
         "l": 10,
         "r": 20,
         "t": 10
        },
        "scene": {
         "domain": {
          "x": [
           0,
           1
          ],
          "y": [
           0,
           1
          ]
         },
         "xaxis": {
          "title": {
           "text": "Gender (man) confidence score"
          }
         },
         "yaxis": {
          "title": {
           "text": "Race (white) confidence score"
          }
         },
         "zaxis": {
          "title": {
           "text": "Age (10-19) confidence score"
          }
         }
        },
        "template": {
         "data": {
          "bar": [
           {
            "error_x": {
             "color": "#2a3f5f"
            },
            "error_y": {
             "color": "#2a3f5f"
            },
            "marker": {
             "line": {
              "color": "#E5ECF6",
              "width": 0.5
             },
             "pattern": {
              "fillmode": "overlay",
              "size": 10,
              "solidity": 0.2
             }
            },
            "type": "bar"
           }
          ],
          "barpolar": [
           {
            "marker": {
             "line": {
              "color": "#E5ECF6",
              "width": 0.5
             },
             "pattern": {
              "fillmode": "overlay",
              "size": 10,
              "solidity": 0.2
             }
            },
            "type": "barpolar"
           }
          ],
          "carpet": [
           {
            "aaxis": {
             "endlinecolor": "#2a3f5f",
             "gridcolor": "white",
             "linecolor": "white",
             "minorgridcolor": "white",
             "startlinecolor": "#2a3f5f"
            },
            "baxis": {
             "endlinecolor": "#2a3f5f",
             "gridcolor": "white",
             "linecolor": "white",
             "minorgridcolor": "white",
             "startlinecolor": "#2a3f5f"
            },
            "type": "carpet"
           }
          ],
          "choropleth": [
           {
            "colorbar": {
             "outlinewidth": 0,
             "ticks": ""
            },
            "type": "choropleth"
           }
          ],
          "contour": [
           {
            "colorbar": {
             "outlinewidth": 0,
             "ticks": ""
            },
            "colorscale": [
             [
              0,
              "#0d0887"
             ],
             [
              0.1111111111111111,
              "#46039f"
             ],
             [
              0.2222222222222222,
              "#7201a8"
             ],
             [
              0.3333333333333333,
              "#9c179e"
             ],
             [
              0.4444444444444444,
              "#bd3786"
             ],
             [
              0.5555555555555556,
              "#d8576b"
             ],
             [
              0.6666666666666666,
              "#ed7953"
             ],
             [
              0.7777777777777778,
              "#fb9f3a"
             ],
             [
              0.8888888888888888,
              "#fdca26"
             ],
             [
              1,
              "#f0f921"
             ]
            ],
            "type": "contour"
           }
          ],
          "contourcarpet": [
           {
            "colorbar": {
             "outlinewidth": 0,
             "ticks": ""
            },
            "type": "contourcarpet"
           }
          ],
          "heatmap": [
           {
            "colorbar": {
             "outlinewidth": 0,
             "ticks": ""
            },
            "colorscale": [
             [
              0,
              "#0d0887"
             ],
             [
              0.1111111111111111,
              "#46039f"
             ],
             [
              0.2222222222222222,
              "#7201a8"
             ],
             [
              0.3333333333333333,
              "#9c179e"
             ],
             [
              0.4444444444444444,
              "#bd3786"
             ],
             [
              0.5555555555555556,
              "#d8576b"
             ],
             [
              0.6666666666666666,
              "#ed7953"
             ],
             [
              0.7777777777777778,
              "#fb9f3a"
             ],
             [
              0.8888888888888888,
              "#fdca26"
             ],
             [
              1,
              "#f0f921"
             ]
            ],
            "type": "heatmap"
           }
          ],
          "heatmapgl": [
           {
            "colorbar": {
             "outlinewidth": 0,
             "ticks": ""
            },
            "colorscale": [
             [
              0,
              "#0d0887"
             ],
             [
              0.1111111111111111,
              "#46039f"
             ],
             [
              0.2222222222222222,
              "#7201a8"
             ],
             [
              0.3333333333333333,
              "#9c179e"
             ],
             [
              0.4444444444444444,
              "#bd3786"
             ],
             [
              0.5555555555555556,
              "#d8576b"
             ],
             [
              0.6666666666666666,
              "#ed7953"
             ],
             [
              0.7777777777777778,
              "#fb9f3a"
             ],
             [
              0.8888888888888888,
              "#fdca26"
             ],
             [
              1,
              "#f0f921"
             ]
            ],
            "type": "heatmapgl"
           }
          ],
          "histogram": [
           {
            "marker": {
             "pattern": {
              "fillmode": "overlay",
              "size": 10,
              "solidity": 0.2
             }
            },
            "type": "histogram"
           }
          ],
          "histogram2d": [
           {
            "colorbar": {
             "outlinewidth": 0,
             "ticks": ""
            },
            "colorscale": [
             [
              0,
              "#0d0887"
             ],
             [
              0.1111111111111111,
              "#46039f"
             ],
             [
              0.2222222222222222,
              "#7201a8"
             ],
             [
              0.3333333333333333,
              "#9c179e"
             ],
             [
              0.4444444444444444,
              "#bd3786"
             ],
             [
              0.5555555555555556,
              "#d8576b"
             ],
             [
              0.6666666666666666,
              "#ed7953"
             ],
             [
              0.7777777777777778,
              "#fb9f3a"
             ],
             [
              0.8888888888888888,
              "#fdca26"
             ],
             [
              1,
              "#f0f921"
             ]
            ],
            "type": "histogram2d"
           }
          ],
          "histogram2dcontour": [
           {
            "colorbar": {
             "outlinewidth": 0,
             "ticks": ""
            },
            "colorscale": [
             [
              0,
              "#0d0887"
             ],
             [
              0.1111111111111111,
              "#46039f"
             ],
             [
              0.2222222222222222,
              "#7201a8"
             ],
             [
              0.3333333333333333,
              "#9c179e"
             ],
             [
              0.4444444444444444,
              "#bd3786"
             ],
             [
              0.5555555555555556,
              "#d8576b"
             ],
             [
              0.6666666666666666,
              "#ed7953"
             ],
             [
              0.7777777777777778,
              "#fb9f3a"
             ],
             [
              0.8888888888888888,
              "#fdca26"
             ],
             [
              1,
              "#f0f921"
             ]
            ],
            "type": "histogram2dcontour"
           }
          ],
          "mesh3d": [
           {
            "colorbar": {
             "outlinewidth": 0,
             "ticks": ""
            },
            "type": "mesh3d"
           }
          ],
          "parcoords": [
           {
            "line": {
             "colorbar": {
              "outlinewidth": 0,
              "ticks": ""
             }
            },
            "type": "parcoords"
           }
          ],
          "pie": [
           {
            "automargin": true,
            "type": "pie"
           }
          ],
          "scatter": [
           {
            "fillpattern": {
             "fillmode": "overlay",
             "size": 10,
             "solidity": 0.2
            },
            "type": "scatter"
           }
          ],
          "scatter3d": [
           {
            "line": {
             "colorbar": {
              "outlinewidth": 0,
              "ticks": ""
             }
            },
            "marker": {
             "colorbar": {
              "outlinewidth": 0,
              "ticks": ""
             }
            },
            "type": "scatter3d"
           }
          ],
          "scattercarpet": [
           {
            "marker": {
             "colorbar": {
              "outlinewidth": 0,
              "ticks": ""
             }
            },
            "type": "scattercarpet"
           }
          ],
          "scattergeo": [
           {
            "marker": {
             "colorbar": {
              "outlinewidth": 0,
              "ticks": ""
             }
            },
            "type": "scattergeo"
           }
          ],
          "scattergl": [
           {
            "marker": {
             "colorbar": {
              "outlinewidth": 0,
              "ticks": ""
             }
            },
            "type": "scattergl"
           }
          ],
          "scattermapbox": [
           {
            "marker": {
             "colorbar": {
              "outlinewidth": 0,
              "ticks": ""
             }
            },
            "type": "scattermapbox"
           }
          ],
          "scatterpolar": [
           {
            "marker": {
             "colorbar": {
              "outlinewidth": 0,
              "ticks": ""
             }
            },
            "type": "scatterpolar"
           }
          ],
          "scatterpolargl": [
           {
            "marker": {
             "colorbar": {
              "outlinewidth": 0,
              "ticks": ""
             }
            },
            "type": "scatterpolargl"
           }
          ],
          "scatterternary": [
           {
            "marker": {
             "colorbar": {
              "outlinewidth": 0,
              "ticks": ""
             }
            },
            "type": "scatterternary"
           }
          ],
          "surface": [
           {
            "colorbar": {
             "outlinewidth": 0,
             "ticks": ""
            },
            "colorscale": [
             [
              0,
              "#0d0887"
             ],
             [
              0.1111111111111111,
              "#46039f"
             ],
             [
              0.2222222222222222,
              "#7201a8"
             ],
             [
              0.3333333333333333,
              "#9c179e"
             ],
             [
              0.4444444444444444,
              "#bd3786"
             ],
             [
              0.5555555555555556,
              "#d8576b"
             ],
             [
              0.6666666666666666,
              "#ed7953"
             ],
             [
              0.7777777777777778,
              "#fb9f3a"
             ],
             [
              0.8888888888888888,
              "#fdca26"
             ],
             [
              1,
              "#f0f921"
             ]
            ],
            "type": "surface"
           }
          ],
          "table": [
           {
            "cells": {
             "fill": {
              "color": "#EBF0F8"
             },
             "line": {
              "color": "white"
             }
            },
            "header": {
             "fill": {
              "color": "#C8D4E3"
             },
             "line": {
              "color": "white"
             }
            },
            "type": "table"
           }
          ]
         },
         "layout": {
          "annotationdefaults": {
           "arrowcolor": "#2a3f5f",
           "arrowhead": 0,
           "arrowwidth": 1
          },
          "autotypenumbers": "strict",
          "coloraxis": {
           "colorbar": {
            "outlinewidth": 0,
            "ticks": ""
           }
          },
          "colorscale": {
           "diverging": [
            [
             0,
             "#8e0152"
            ],
            [
             0.1,
             "#c51b7d"
            ],
            [
             0.2,
             "#de77ae"
            ],
            [
             0.3,
             "#f1b6da"
            ],
            [
             0.4,
             "#fde0ef"
            ],
            [
             0.5,
             "#f7f7f7"
            ],
            [
             0.6,
             "#e6f5d0"
            ],
            [
             0.7,
             "#b8e186"
            ],
            [
             0.8,
             "#7fbc41"
            ],
            [
             0.9,
             "#4d9221"
            ],
            [
             1,
             "#276419"
            ]
           ],
           "sequential": [
            [
             0,
             "#0d0887"
            ],
            [
             0.1111111111111111,
             "#46039f"
            ],
            [
             0.2222222222222222,
             "#7201a8"
            ],
            [
             0.3333333333333333,
             "#9c179e"
            ],
            [
             0.4444444444444444,
             "#bd3786"
            ],
            [
             0.5555555555555556,
             "#d8576b"
            ],
            [
             0.6666666666666666,
             "#ed7953"
            ],
            [
             0.7777777777777778,
             "#fb9f3a"
            ],
            [
             0.8888888888888888,
             "#fdca26"
            ],
            [
             1,
             "#f0f921"
            ]
           ],
           "sequentialminus": [
            [
             0,
             "#0d0887"
            ],
            [
             0.1111111111111111,
             "#46039f"
            ],
            [
             0.2222222222222222,
             "#7201a8"
            ],
            [
             0.3333333333333333,
             "#9c179e"
            ],
            [
             0.4444444444444444,
             "#bd3786"
            ],
            [
             0.5555555555555556,
             "#d8576b"
            ],
            [
             0.6666666666666666,
             "#ed7953"
            ],
            [
             0.7777777777777778,
             "#fb9f3a"
            ],
            [
             0.8888888888888888,
             "#fdca26"
            ],
            [
             1,
             "#f0f921"
            ]
           ]
          },
          "colorway": [
           "#636efa",
           "#EF553B",
           "#00cc96",
           "#ab63fa",
           "#FFA15A",
           "#19d3f3",
           "#FF6692",
           "#B6E880",
           "#FF97FF",
           "#FECB52"
          ],
          "font": {
           "color": "#2a3f5f"
          },
          "geo": {
           "bgcolor": "white",
           "lakecolor": "white",
           "landcolor": "#E5ECF6",
           "showlakes": true,
           "showland": true,
           "subunitcolor": "white"
          },
          "hoverlabel": {
           "align": "left"
          },
          "hovermode": "closest",
          "mapbox": {
           "style": "light"
          },
          "paper_bgcolor": "white",
          "plot_bgcolor": "#E5ECF6",
          "polar": {
           "angularaxis": {
            "gridcolor": "white",
            "linecolor": "white",
            "ticks": ""
           },
           "bgcolor": "#E5ECF6",
           "radialaxis": {
            "gridcolor": "white",
            "linecolor": "white",
            "ticks": ""
           }
          },
          "scene": {
           "xaxis": {
            "backgroundcolor": "#E5ECF6",
            "gridcolor": "white",
            "gridwidth": 2,
            "linecolor": "white",
            "showbackground": true,
            "ticks": "",
            "zerolinecolor": "white"
           },
           "yaxis": {
            "backgroundcolor": "#E5ECF6",
            "gridcolor": "white",
            "gridwidth": 2,
            "linecolor": "white",
            "showbackground": true,
            "ticks": "",
            "zerolinecolor": "white"
           },
           "zaxis": {
            "backgroundcolor": "#E5ECF6",
            "gridcolor": "white",
            "gridwidth": 2,
            "linecolor": "white",
            "showbackground": true,
            "ticks": "",
            "zerolinecolor": "white"
           }
          },
          "shapedefaults": {
           "line": {
            "color": "#2a3f5f"
           }
          },
          "ternary": {
           "aaxis": {
            "gridcolor": "white",
            "linecolor": "white",
            "ticks": ""
           },
           "baxis": {
            "gridcolor": "white",
            "linecolor": "white",
            "ticks": ""
           },
           "bgcolor": "#E5ECF6",
           "caxis": {
            "gridcolor": "white",
            "linecolor": "white",
            "ticks": ""
           }
          },
          "title": {
           "x": 0.05
          },
          "xaxis": {
           "automargin": true,
           "gridcolor": "white",
           "linecolor": "white",
           "ticks": "",
           "title": {
            "standoff": 15
           },
           "zerolinecolor": "white",
           "zerolinewidth": 2
          },
          "yaxis": {
           "automargin": true,
           "gridcolor": "white",
           "linecolor": "white",
           "ticks": "",
           "title": {
            "standoff": 15
           },
           "zerolinecolor": "white",
           "zerolinewidth": 2
          }
         }
        }
       }
      }
     },
     "metadata": {},
     "output_type": "display_data"
    },
    {
     "data": {
      "image/png": "[encoded data removed]",
      "text/plain": [
       "<Figure size 640x480 with 1 Axes>"
      ]
     },
     "metadata": {},
     "output_type": "display_data"
    }
   ],
   "source": [
    "MetricGenderDisplay(EnsambleDict, specific_race=None, specific_emotion=None, specific_age=None)\n",
    "MetricRaceDisplay(EnsambleDict, specific_gender=None, specific_emotion=None, specific_age=None)\n",
    "MetricAgeDisplay(EnsambleDict, specific_gender=None, specific_emotion=None, specific_race=None)\n",
    "ScatterPlotDisplay2D(EnsambleDict, x_axis_label=\"race\", y_axis_label=\"gender\", specific_gender=\"man\", specific_race=\"latino hispanic\", specific_emotion=None)\n",
    "ScatterPlotDisplay3D(EnsambleDict, specific_gender=\"man\", specific_race=\"white\", specific_age=\"10-19\")\n",
    "MetricCenterDistanceDisplay(EnsambleDict, category='race', type='distance') "
   ]
  },
  {
   "cell_type": "code",
   "execution_count": 334,
   "metadata": {},
   "outputs": [
    {
     "data": {
      "text/plain": [
       "{'ShannonEntropy': {'gender': 0.6926688387943101,\n",
       "  'race': 1.01034051594637,\n",
       "  'age': 0.9667151172880438},\n",
       " 'SimpsonIndex': {'gender': 1.9980887661923976,\n",
       "  'race': 1.892016891212548,\n",
       "  'age': 2.0811767308117672},\n",
       " 'ShannonEvenness': {'gender': 0.999309898706868,\n",
       "  'race': 0.563881778384939,\n",
       "  'age': 0.5395339798061927},\n",
       " 'SimpsonEvenness': {'gender': 0.9990443830961988,\n",
       "  'race': 0.31533614853542463,\n",
       "  'age': 0.3468627884686279}}"
      ]
     },
     "execution_count": 334,
     "metadata": {},
     "output_type": "execute_result"
    }
   ],
   "source": [
    "ShannonSimpsonMetrics(EnsambleDict)"
   ]
  },
  {
   "cell_type": "code",
   "execution_count": 335,
   "metadata": {},
   "outputs": [
    {
     "name": "stdout",
     "output_type": "stream",
     "text": [
      "woman is positively correlated with the image type.  0.5154639175257731  >  0.5\n",
      "white is positively correlated with the image type.  0.711340206185567  >  0.16666666666666666\n",
      "20-29 is positively correlated with the image type.  0.6391752577319587  >  0.1111111111111111\n",
      "30-39 is positively correlated with the image type.  0.25773195876288657  >  0.1111111111111111\n"
     ]
    }
   ],
   "source": [
    "CorrelationMetric(EnsambleDict)"
   ]
  },
  {
   "cell_type": "markdown",
   "metadata": {},
   "source": [
    "## Comparing DeepFace / FairFace model\n",
    "\n",
    "The dataset used for comparison is the UTK-Face dataset as none of the models were trained on it. link: https://susanqq.github.io/UTKFace/"
   ]
  },
  {
   "cell_type": "code",
   "execution_count": 313,
   "metadata": {},
   "outputs": [],
   "source": [
    "# Loads the UTK-Face dataset part 1\n",
    "UTK_dataset_path = \"C:\\\\Users\\\\User\\\\FYP\\\\Datasets\\\\UTK-Face\\\\part1\"\n",
    "file_list = os.listdir(UTK_dataset_path)\n",
    "UTK_loaded_images = []\n",
    "\n",
    "for image_name in file_list:\n",
    "\n",
    "    image_path = os.path.join(UTK_dataset_path, image_name)\n",
    "    # loading the image\n",
    "    image = dlib.load_rgb_image(image_path)\n",
    "\n",
    "    image_info = image_name.split(\"_\")\n",
    "\n",
    "    # Converting from 0 -> man and 1 -> woman\n",
    "    image_info[1] = \"man\" if image_info[1] == \"0\" else \"woman\"\n",
    "\n",
    "    # Converting from 0 -> white, 1 -> black, 2 -> asian, 3-> indian and 4-> other (Hispanic, Latino, Middle Eastern)\n",
    "    if image_info[2] == \"0\":\n",
    "        image_info[2] = \"white\"\n",
    "    elif image_info[2] == \"1\":\n",
    "        image_info[2] = \"black\"\n",
    "    elif image_info[2] == \"2\":\n",
    "        image_info[2] = \"asian\"\n",
    "    elif image_info[2] == \"3\":\n",
    "        image_info[2] = \"indian\"\n",
    "    else:\n",
    "        image_info[2] = \"other\"\n",
    "\n",
    "    image_data = {\"image\":image, \"age\":image_info[0], \"gender\":image_info[1], \"race\":image_info[2]}\n",
    "    UTK_loaded_images.append(image_data)"
   ]
  },
  {
   "cell_type": "code",
   "execution_count": 314,
   "metadata": {},
   "outputs": [],
   "source": [
    "# Randomly selecting images from the UTK dataset to process\n",
    "num_elements_to_select = 371\n",
    "\n",
    "# Randomly select elements without replacement\n",
    "UTK_random_images = random.sample(UTK_loaded_images, num_elements_to_select)"
   ]
  },
  {
   "cell_type": "code",
   "execution_count": 315,
   "metadata": {},
   "outputs": [],
   "source": [
    "UTK_image_subset = []\n",
    "# Retrieving the images only\n",
    "for image in UTK_random_images:\n",
    "    UTK_image_subset.append(image[\"image\"])"
   ]
  },
  {
   "cell_type": "code",
   "execution_count": 316,
   "metadata": {},
   "outputs": [
    {
     "name": "stderr",
     "output_type": "stream",
     "text": [
      "Processing: 100%|██████████| 371/371 [17:42<00:00,  2.86s/images]\n",
      "Processing: 100%|██████████| 371/371 [28:16<00:00,  4.57s/images]\n",
      "Processing: 100%|██████████| 371/371 [39:40<00:00,  6.42s/images]\n"
     ]
    }
   ],
   "source": [
    "# YOLOv8 person detection not used as UTK-Face\n",
    "\n",
    "# Loading the FairFace model, the res34_fair_align_multi_7_20190809.pt is used as it detects 7 distinct races as opposed to the other model.\n",
    "model_fair_7 = torchvision.models.resnet34(pretrained=True)\n",
    "model_fair_7.fc = nn.Linear(model_fair_7.fc.in_features, 18)\n",
    "model_fair_7.load_state_dict(torch.load('res34_fair_align_multi_7_20190809.pt', map_location=torch.device('cpu')))\n",
    "model_fair_7 = model_fair_7.to(\"cpu\")\n",
    "model_fair_7.eval()\n",
    "# Processing the images using the FairFace model\n",
    "EnsambleDict = ensmableProcess(UTK_image_subset, model_fair_7)\n",
    "\n",
    "# Processing the images using the FairFace model\n",
    "FairFaceDict = FairFaceProcess(UTK_image_subset, model_fair_7)\n",
    "\n",
    "# Processing the images using the FairFace model\n",
    "DeepFaceDict = DeepFaceProcess(UTK_image_subset)"
   ]
  },
  {
   "cell_type": "code",
   "execution_count": 317,
   "metadata": {},
   "outputs": [],
   "source": [
    "final_result_list = []\n",
    "# Forming the final result list\n",
    "for index, image_data in enumerate(UTK_random_images):\n",
    "    final_result_list.append({\"image_info\":image_data, \"deepface\":DeepFaceDict[index][1], \"fairface\":FairFaceDict[index][1], \"ensamble\":EnsambleDict[index][1]})"
   ]
  },
  {
   "cell_type": "code",
   "execution_count": 318,
   "metadata": {},
   "outputs": [],
   "source": [
    "# changing gender labels used for the sake of comparison wiht the UTK-Face dataset\n",
    "for data in DeepFaceDict:\n",
    "    if DeepFaceDict[data][1][\"gender\"] == \"male\":\n",
    "       DeepFaceDict[data][1][\"gender\"] = \"man\"\n",
    "    else:\n",
    "        DeepFaceDict[data][1][\"gender\"] = \"woman\""
   ]
  },
  {
   "cell_type": "code",
   "execution_count": 319,
   "metadata": {},
   "outputs": [],
   "source": [
    "# Counting the number of correct predictions for each model\n",
    "\n",
    "deepFaceGenderCorrectCount = 0\n",
    "deepFaceRaceCorrectCount = 0\n",
    "deepFaceAgeCorrectCount = 0\n",
    "\n",
    "fairFaceGenderCorrectCount = 0\n",
    "fairFaceRaceCorrectCount = 0\n",
    "fairFaceAgeCorrectCount = 0\n",
    "\n",
    "ensambleGenderCorrectCount = 0\n",
    "ensambleRaceCorrectCount = 0\n",
    "ensambleAgeCorrectCount = 0\n",
    "\n",
    "for result in final_result_list:\n",
    "    true_gender = result[\"image_info\"][\"gender\"]\n",
    "    true_age = result[\"image_info\"][\"age\"]\n",
    "    true_race = result[\"image_info\"][\"race\"]\n",
    "\n",
    "    deepface_gender = result[\"deepface\"][\"gender\"]\n",
    "    deepface_age = result[\"deepface\"][\"age\"]\n",
    "    deepface_race = result[\"deepface\"][\"race\"]\n",
    "\n",
    "    fairface_gender = result[\"fairface\"][\"gender\"]\n",
    "    fairface_age = result[\"fairface\"][\"age\"]\n",
    "    fairface_race = result[\"fairface\"][\"race\"]\n",
    "\n",
    "    ensamble_gender = result[\"ensamble\"][\"gender\"]\n",
    "    ensamble_age = result[\"ensamble\"][\"age\"]\n",
    "    ensamble_race = result[\"ensamble\"][\"race\"]\n",
    "\n",
    "    if true_gender.lower() == deepface_gender.lower():\n",
    "        deepFaceGenderCorrectCount += 1\n",
    "\n",
    "    if true_race.lower() == deepface_race.lower():\n",
    "        deepFaceRaceCorrectCount += 1\n",
    "    elif true_race.lower() == \"other\" and deepface_race in [\"latino\", \"middle eastern\"]:\n",
    "        deepFaceRaceCorrectCount += 1\n",
    "\n",
    "    # +6 so that the max range is included i.e., deepface_age = 15 range = 10-20 as otherwise it would be 10-19 \n",
    "    if int(true_age) in range(deepface_age-5, deepface_age+6):\n",
    "        deepFaceAgeCorrectCount += 1\n",
    "\n",
    "    #-----------------------------------------------------\n",
    "\n",
    "    if true_gender.lower() == fairface_gender.lower():\n",
    "        fairFaceGenderCorrectCount += 1\n",
    "\n",
    "    if true_race.lower() == fairface_race.lower():\n",
    "        fairFaceRaceCorrectCount += 1\n",
    "    elif true_race.lower() == \"other\" and fairface_race in [\"latino hispanic\", \"middle eastern\"]:# could be latino hispanic\n",
    "        fairFaceRaceCorrectCount += 1\n",
    "\n",
    "    if fairface_age == \"70+\" and int(true_age) >= 70:\n",
    "        fairFaceAgeCorrectCount += 1\n",
    "    elif fairface_age != \"70+\" and int(true_age) in range(int(fairface_age.split(\"-\")[0]), int(fairface_age.split(\"-\")[1])):\n",
    "        fairFaceAgeCorrectCount += 1\n",
    "    \n",
    "    #-----------------------------------------------------\n",
    "    \n",
    "    if true_gender.lower() == ensamble_gender.lower():\n",
    "        ensambleGenderCorrectCount += 1\n",
    "\n",
    "    if true_race.lower() == ensamble_race.lower():\n",
    "        ensambleRaceCorrectCount += 1\n",
    "    elif true_race.lower() == \"other\" and ensamble_race in [\"latino hispanic\", \"middle eastern\"]:\n",
    "        ensambleRaceCorrectCount += 1\n",
    "\n",
    "    if ensamble_age == \"70+\" and int(true_age) > 70:\n",
    "        ensambleAgeCorrectCount += 1\n",
    "    elif ensamble_age != \"70+\" and int(true_age) >= int(ensamble_age.split(\"-\")[0]) and int(true_age) <= int(ensamble_age.split(\"-\")[1]):\n",
    "        ensambleAgeCorrectCount += 1"
   ]
  },
  {
   "cell_type": "markdown",
   "metadata": {},
   "source": [
    "### Comaprison Info Graphs"
   ]
  },
  {
   "cell_type": "code",
   "execution_count": 320,
   "metadata": {},
   "outputs": [
    {
     "data": {
      "image/png": "[encoded data removed]",
      "text/plain": [
       "<Figure size 640x480 with 1 Axes>"
      ]
     },
     "metadata": {},
     "output_type": "display_data"
    },
    {
     "data": {
      "image/png": "[encoded data removed]",
      "text/plain": [
       "<Figure size 640x480 with 1 Axes>"
      ]
     },
     "metadata": {},
     "output_type": "display_data"
    },
    {
     "data": {
      "image/png": "[encoded data removed]",
      "text/plain": [
       "<Figure size 640x480 with 1 Axes>"
      ]
     },
     "metadata": {},
     "output_type": "display_data"
    }
   ],
   "source": [
    "from collections import Counter\n",
    "import matplotlib.pyplot as plt\n",
    "\n",
    "# This function outputs the info regarding the images present in the dataset/subset\n",
    "# Counting the number of each label present in the dataset subset\n",
    "def datasetInfo(data, num_of_images):\n",
    "    ages = [item[\"age\"] for item in data]\n",
    "    genders = [item[\"gender\"] for item in data]\n",
    "    races = [item[\"race\"] for item in data]\n",
    "    age_counts = Counter(ages)\n",
    "    gender_counts = Counter(genders)\n",
    "    race_counts = Counter(races)\n",
    "\n",
    "    # Sort age counts by age\n",
    "    sorted_age_counts = dict(sorted(age_counts.items()))\n",
    "\n",
    "    # Plotting the bar graph\n",
    "    plt.bar(sorted_age_counts.keys(), sorted_age_counts.values())\n",
    "    plt.xlabel('Age')\n",
    "    plt.ylabel('Count')\n",
    "    plt.title('Age Subset ('+str(num_of_images)+') Distribution')\n",
    "    plt.xticks(np.arange(0, int(max(ages)), 5))\n",
    "    plt.show()\n",
    "\n",
    "    # Plotting the bar graph\n",
    "    plt.bar(gender_counts.keys(), gender_counts.values())\n",
    "    plt.xlabel('Gender')\n",
    "    plt.ylabel('Count')\n",
    "    plt.title('Gender Subset ('+str(num_of_images)+') Distribution')\n",
    "    plt.show()\n",
    "\n",
    "    # Plotting the bar graph\n",
    "    plt.bar(race_counts.keys(), race_counts.values())\n",
    "    plt.xlabel('Race')\n",
    "    plt.ylabel('Count')\n",
    "    plt.title('Race Subset ('+str(num_of_images)+') Distribution')\n",
    "    plt.show()\n",
    "\n",
    "datasetInfo(UTK_random_images, num_elements_to_select)"
   ]
  },
  {
   "cell_type": "code",
   "execution_count": 321,
   "metadata": {},
   "outputs": [
    {
     "data": {
      "image/png": "[encoded data removed]",
      "text/plain": [
       "<Figure size 640x480 with 1 Axes>"
      ]
     },
     "metadata": {},
     "output_type": "display_data"
    }
   ],
   "source": [
    "import matplotlib.pyplot as plt\n",
    "import numpy as np\n",
    "\n",
    "# This outputs the info on how each of the models performed on the dataset/subset\n",
    "\n",
    "classes = ['DeepFace', 'FairFace', 'Ensamble']\n",
    "\n",
    "gender_values = [deepFaceGenderCorrectCount, fairFaceGenderCorrectCount, ensambleGenderCorrectCount]\n",
    "race_values = [deepFaceRaceCorrectCount, fairFaceRaceCorrectCount, ensambleRaceCorrectCount]\n",
    "age_values = [deepFaceAgeCorrectCount, fairFaceAgeCorrectCount, ensambleAgeCorrectCount]\n",
    "\n",
    "# Bar width\n",
    "bar_width = 0.25\n",
    "\n",
    "# Set positions for bars on X-axis\n",
    "r1 = np.arange(len(classes))\n",
    "r2 = [x + bar_width for x in r1]\n",
    "r3 = [x + bar_width for x in r2]\n",
    "\n",
    "# Create bar chart\n",
    "plt.bar(r1, gender_values, width=bar_width, label='Gender Count')\n",
    "plt.bar(r2, race_values, width=bar_width, label='Race Count')\n",
    "plt.bar(r3, age_values, width=bar_width, label='Age Count')\n",
    "\n",
    "# Display the numbers on top of each bar\n",
    "for i, value in enumerate(gender_values):\n",
    "    plt.text(r1[i], value + 0.1, str(value), ha='center', va='bottom')\n",
    "\n",
    "for i, value in enumerate(race_values):\n",
    "    plt.text(r2[i], value + 0.1, str(value), ha='center', va='bottom')\n",
    "\n",
    "for i, value in enumerate(age_values):\n",
    "    plt.text(r3[i], value + 0.1, str(value), ha='center', va='bottom')\n",
    "\n",
    "# Set labels and title\n",
    "plt.xlabel('Models')\n",
    "plt.ylabel('Correct Predictions')\n",
    "plt.title('Model Performance - '+str(num_elements_to_select)+' Randomly Selected UTK Images')\n",
    "\n",
    "# Set x-axis ticks and labels\n",
    "plt.xticks([r + bar_width for r in range(len(classes))], classes)\n",
    "\n",
    "# Add legend\n",
    "plt.legend()\n",
    "\n",
    "# Show the plot\n",
    "plt.show()"
   ]
  },
  {
   "cell_type": "markdown",
   "metadata": {},
   "source": [
    "# Old Unused Functions"
   ]
  },
  {
   "cell_type": "code",
   "execution_count": 151,
   "metadata": {},
   "outputs": [],
   "source": [
    "# def SaveMetricsCSVOld(sub_folder_path, metric_dict):\n",
    "#     \"\"\" \n",
    "#     Description:\n",
    "#     This function serves to save the dominant values per image resultant from the DeepFaceProcess function to a CSV file. (Used only in DeepFaceProcess function)\n",
    "    \n",
    "#     Parameters:\n",
    "#     sub_folder_path (str) - Path to the folder in which the images are stored.\n",
    "#     metric_dict (dict) - Dictionary containing the dominant values per image resultant from the DeepFaceProcess fucntion.\n",
    "\n",
    "#     Returns:\n",
    "#     None.\n",
    "#     \"\"\"\n",
    "#     # Specifying the CSV file path\n",
    "#     csv_file_path = Path(os.path.join(sub_folder_path, 'output_data.csv'))\n",
    "\n",
    "#     # Opening the CSV file for writing\n",
    "#     with open(csv_file_path, mode='w', newline='') as file:\n",
    "#         fieldNames = [\"Image_No\"]\n",
    "        \n",
    "#         # Getting the additional fields from the dictionary and adding them to the fieldnames list\n",
    "#         additionalFields = list(metric_dict[0][1].keys())\n",
    "#         fieldNames.extend(additionalFields)\n",
    "#         writer = csv.DictWriter(file, fieldnames=fieldNames)\n",
    "\n",
    "#         # Writing the header row\n",
    "#         writer.writeheader()\n",
    "\n",
    "#         # Writing the image properties to the CSV file\n",
    "#         for image_name, properties in metric_dict.items():\n",
    "#             tmp = {'Image_No': image_name}\n",
    "#             tmp.update({key: properties[1][key] for key in additionalFields})\n",
    "#             writer.writerow(tmp)"
   ]
  },
  {
   "cell_type": "code",
   "execution_count": null,
   "metadata": {},
   "outputs": [],
   "source": [
    "# def LoadMetricCSVFromFolderOld(csv_file_path):\n",
    "#     \"\"\" \n",
    "#     Description:\n",
    "#     This function is used to load the image metrics (if saved) from the DeepFaceProcess function, so as to avoid running it multiple times for the same images.\n",
    "\n",
    "#     Parameters:\n",
    "#     csv_file_path (str) - Path to the file containing the metrics.\n",
    "\n",
    "#     Returns:\n",
    "#     image_list (list) - List containing the loaded images.\n",
    "#     \"\"\"\n",
    "\n",
    "#     data_dict = {}\n",
    "\n",
    "#     with open(csv_file_path+\"\\\\output_data.csv\", mode='r', newline='') as file:\n",
    "#         reader = csv.DictReader(file)\n",
    "#         header = reader.fieldnames\n",
    "\n",
    "#         for row in reader:\n",
    "#             image_no = int(row['Image_No'])\n",
    "            \n",
    "#             image = cv2.cvtColor(cv2.imread(csv_file_path+\"\\\\\"+str(image_no)+\".jpg\"), cv2.COLOR_BGR2RGB)\n",
    "#             tmp = {key: row[key] for key in header}\n",
    "            \n",
    "#             # Removing the 'Image_No' key as we dont want it saved in the dictionary\n",
    "#             tmp.pop('Image_No', None)\n",
    "\n",
    "#             data_dict[image_no] = [image,tmp]\n",
    "\n",
    "#     return data_dict"
   ]
  }
 ],
 "metadata": {
  "kernelspec": {
   "display_name": "ComputerVision",
   "language": "python",
   "name": "python3"
  },
  "language_info": {
   "codemirror_mode": {
    "name": "ipython",
    "version": 3
   },
   "file_extension": ".py",
   "mimetype": "text/x-python",
   "name": "python",
   "nbconvert_exporter": "python",
   "pygments_lexer": "ipython3",
   "version": "3.9.16"
  }
 },
 "nbformat": 4,
 "nbformat_minor": 2
}
