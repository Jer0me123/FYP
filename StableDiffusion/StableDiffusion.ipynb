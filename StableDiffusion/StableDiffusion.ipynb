{
 "cells": [
  {
   "cell_type": "markdown",
   "metadata": {},
   "source": [
    "VideoTutorial: https://www.youtube.com/watch?v=onmqbI5XPH8&ab_channel=KevinStratvert\n",
    "\n",
    "Currently using this model 512-base-ema.ckpt (https://huggingface.co/stabilityai/stable-diffusion-2-base) other models exist but not being used such as: https://huggingface.co/runwayml/stable-diffusion-v1-5."
   ]
  },
  {
   "cell_type": "code",
   "execution_count": null,
   "metadata": {},
   "outputs": [],
   "source": []
  }
 ],
 "metadata": {
  "kernelspec": {
   "display_name": "ComputerVision",
   "language": "python",
   "name": "python3"
  },
  "language_info": {
   "codemirror_mode": {
    "name": "ipython",
    "version": 3
   },
   "file_extension": ".py",
   "mimetype": "text/x-python",
   "name": "python",
   "nbconvert_exporter": "python",
   "pygments_lexer": "ipython3",
   "version": "3.9.16"
  }
 },
 "nbformat": 4,
 "nbformat_minor": 2
}
