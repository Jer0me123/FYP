{
 "cells": [
  {
   "cell_type": "markdown",
   "metadata": {},
   "source": [
    "VideoTutorial: https://www.youtube.com/watch?v=onmqbI5XPH8&ab_channel=KevinStratvert\n",
    "\n",
    "Currently using this model :https://huggingface.co/runwayml/stable-diffusion-v1-5 unsure if it is the correct model as this model https://huggingface.co/stabilityai/stable-diffusion-2-base also exists and many others."
   ]
  },
  {
   "cell_type": "code",
   "execution_count": null,
   "metadata": {},
   "outputs": [],
   "source": []
  }
 ],
 "metadata": {
  "kernelspec": {
   "display_name": "ComputerVision",
   "language": "python",
   "name": "python3"
  },
  "language_info": {
   "codemirror_mode": {
    "name": "ipython",
    "version": 3
   },
   "file_extension": ".py",
   "mimetype": "text/x-python",
   "name": "python",
   "nbconvert_exporter": "python",
   "pygments_lexer": "ipython3",
   "version": "3.9.16"
  }
 },
 "nbformat": 4,
 "nbformat_minor": 2
}
